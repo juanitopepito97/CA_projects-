{
 "cells": [
  {
   "cell_type": "markdown",
   "metadata": {},
   "source": [
    "# Integrated CA ML for Business and Data Visualisation"
   ]
  },
  {
   "cell_type": "code",
   "execution_count": 21,
   "metadata": {},
   "outputs": [],
   "source": [
    "#!pip install jupyter_dash\n",
    "#!pip install dash"
   ]
  },
  {
   "cell_type": "code",
   "execution_count": 22,
   "metadata": {},
   "outputs": [],
   "source": [
    "#General\n",
    "import warnings\n",
    "warnings.filterwarnings('ignore')\n",
    "import pandas as pd\n",
    "import numpy as np\n",
    "from sklearn.model_selection import train_test_split\n",
    "\n",
    "# Visualization\n",
    "import matplotlib.pyplot as plt\n",
    "import seaborn as sns\n",
    "import plotly.express as px\n",
    "import plotly.figure_factory as ff\n",
    "import plotly.graph_objects as go\n",
    "from jupyter_dash import JupyterDash\n",
    "import dash_core_components as dcc\n",
    "import dash_html_components as html\n",
    "from dash.dependencies import Input, Output\n",
    "\n",
    "\n",
    "# Time Series\n",
    "from statsmodels.graphics.tsaplots import plot_acf, plot_pacf\n",
    "from statsmodels.tsa.stattools import adfuller\n",
    "import statsmodels.tsa.api as sm\n",
    "from statsmodels.tsa.statespace.sarimax import SARIMAX\n",
    "from sklearn.metrics import mean_absolute_error, mean_squared_error\n",
    "\n",
    "# Text Analytics\n",
    "import sklearn.feature_extraction.text as sk_txt\n",
    "from sklearn.naive_bayes import MultinomialNB\n",
    "from sklearn.metrics import classification_report"
   ]
  },
  {
   "cell_type": "code",
   "execution_count": 23,
   "metadata": {},
   "outputs": [],
   "source": [
    "df = pd.read_csv('FACEBOOK_REVIEWS.csv')"
   ]
  },
  {
   "cell_type": "markdown",
   "metadata": {},
   "source": [
    "# Data Pre-Processing"
   ]
  },
  {
   "cell_type": "code",
   "execution_count": 24,
   "metadata": {},
   "outputs": [
    {
     "data": {
      "text/html": [
       "<div>\n",
       "<style scoped>\n",
       "    .dataframe tbody tr th:only-of-type {\n",
       "        vertical-align: middle;\n",
       "    }\n",
       "\n",
       "    .dataframe tbody tr th {\n",
       "        vertical-align: top;\n",
       "    }\n",
       "\n",
       "    .dataframe thead th {\n",
       "        text-align: right;\n",
       "    }\n",
       "</style>\n",
       "<table border=\"1\" class=\"dataframe\">\n",
       "  <thead>\n",
       "    <tr style=\"text-align: right;\">\n",
       "      <th></th>\n",
       "      <th>Unnamed: 0</th>\n",
       "      <th>review_id</th>\n",
       "      <th>pseudo_author_id</th>\n",
       "      <th>author_name</th>\n",
       "      <th>review_text</th>\n",
       "      <th>review_rating</th>\n",
       "      <th>review_likes</th>\n",
       "      <th>author_app_version</th>\n",
       "      <th>review_timestamp</th>\n",
       "    </tr>\n",
       "  </thead>\n",
       "  <tbody>\n",
       "    <tr>\n",
       "      <th>0</th>\n",
       "      <td>0</td>\n",
       "      <td>baecdfaa-fdcf-4ec2-8795-f9e1d0885c3a</td>\n",
       "      <td>167801889669597203549</td>\n",
       "      <td>Om******hy</td>\n",
       "      <td>bad app</td>\n",
       "      <td>1</td>\n",
       "      <td>0</td>\n",
       "      <td>318.0.0.39.154</td>\n",
       "      <td>2021-05-19 20:00:27</td>\n",
       "    </tr>\n",
       "    <tr>\n",
       "      <th>1</th>\n",
       "      <td>1</td>\n",
       "      <td>12e913d6-105e-4f0c-bb22-4f6a0561cb18</td>\n",
       "      <td>318460545610239421517</td>\n",
       "      <td>Sa****************ol</td>\n",
       "      <td>Really really annoying app ... like if its not...</td>\n",
       "      <td>1</td>\n",
       "      <td>0</td>\n",
       "      <td>317.0.0.51.119</td>\n",
       "      <td>2021-05-19 20:00:29</td>\n",
       "    </tr>\n",
       "    <tr>\n",
       "      <th>2</th>\n",
       "      <td>2</td>\n",
       "      <td>7db12237-0f42-4ef7-873b-99495d575331</td>\n",
       "      <td>530587565711923101092</td>\n",
       "      <td>Ca*********04</td>\n",
       "      <td>Cunsurinimo</td>\n",
       "      <td>1</td>\n",
       "      <td>0</td>\n",
       "      <td>293.0.0.43.120</td>\n",
       "      <td>2021-05-19 20:00:29</td>\n",
       "    </tr>\n",
       "    <tr>\n",
       "      <th>3</th>\n",
       "      <td>3</td>\n",
       "      <td>6d48f3e8-54c4-417a-83c9-6b198ef7c516</td>\n",
       "      <td>413352731163292273792</td>\n",
       "      <td>Ar**************07</td>\n",
       "      <td>Bad experience</td>\n",
       "      <td>1</td>\n",
       "      <td>0</td>\n",
       "      <td>318.0.0.39.154</td>\n",
       "      <td>2021-05-19 20:00:30</td>\n",
       "    </tr>\n",
       "    <tr>\n",
       "      <th>4</th>\n",
       "      <td>4</td>\n",
       "      <td>c4430a84-d74b-4e24-8ed6-1e28110a355b</td>\n",
       "      <td>972610065867074567951</td>\n",
       "      <td>Ab***********kh</td>\n",
       "      <td>Totally pathetic experience too many ads and b...</td>\n",
       "      <td>1</td>\n",
       "      <td>0</td>\n",
       "      <td>308.0.0.42.118</td>\n",
       "      <td>2021-05-19 20:00:30</td>\n",
       "    </tr>\n",
       "  </tbody>\n",
       "</table>\n",
       "</div>"
      ],
      "text/plain": [
       "   Unnamed: 0                             review_id       pseudo_author_id  \\\n",
       "0           0  baecdfaa-fdcf-4ec2-8795-f9e1d0885c3a  167801889669597203549   \n",
       "1           1  12e913d6-105e-4f0c-bb22-4f6a0561cb18  318460545610239421517   \n",
       "2           2  7db12237-0f42-4ef7-873b-99495d575331  530587565711923101092   \n",
       "3           3  6d48f3e8-54c4-417a-83c9-6b198ef7c516  413352731163292273792   \n",
       "4           4  c4430a84-d74b-4e24-8ed6-1e28110a355b  972610065867074567951   \n",
       "\n",
       "            author_name                                        review_text  \\\n",
       "0            Om******hy                                            bad app   \n",
       "1  Sa****************ol  Really really annoying app ... like if its not...   \n",
       "2         Ca*********04                                        Cunsurinimo   \n",
       "3    Ar**************07                                     Bad experience   \n",
       "4       Ab***********kh  Totally pathetic experience too many ads and b...   \n",
       "\n",
       "   review_rating  review_likes author_app_version     review_timestamp  \n",
       "0              1             0     318.0.0.39.154  2021-05-19 20:00:27  \n",
       "1              1             0     317.0.0.51.119  2021-05-19 20:00:29  \n",
       "2              1             0     293.0.0.43.120  2021-05-19 20:00:29  \n",
       "3              1             0     318.0.0.39.154  2021-05-19 20:00:30  \n",
       "4              1             0     308.0.0.42.118  2021-05-19 20:00:30  "
      ]
     },
     "execution_count": 24,
     "metadata": {},
     "output_type": "execute_result"
    }
   ],
   "source": [
    "df.head()"
   ]
  },
  {
   "cell_type": "code",
   "execution_count": 25,
   "metadata": {},
   "outputs": [
    {
     "name": "stdout",
     "output_type": "stream",
     "text": [
      "<class 'pandas.core.frame.DataFrame'>\n",
      "RangeIndex: 2994736 entries, 0 to 2994735\n",
      "Data columns (total 9 columns):\n",
      " #   Column              Dtype \n",
      "---  ------              ----- \n",
      " 0   Unnamed: 0          int64 \n",
      " 1   review_id           object\n",
      " 2   pseudo_author_id    object\n",
      " 3   author_name         object\n",
      " 4   review_text         object\n",
      " 5   review_rating       int64 \n",
      " 6   review_likes        int64 \n",
      " 7   author_app_version  object\n",
      " 8   review_timestamp    object\n",
      "dtypes: int64(3), object(6)\n",
      "memory usage: 205.6+ MB\n"
     ]
    }
   ],
   "source": [
    "df.info()"
   ]
  },
  {
   "cell_type": "code",
   "execution_count": 26,
   "metadata": {},
   "outputs": [
    {
     "data": {
      "text/plain": [
       "Index(['Unnamed: 0', 'review_id', 'pseudo_author_id', 'author_name',\n",
       "       'review_text', 'review_rating', 'review_likes', 'author_app_version',\n",
       "       'review_timestamp'],\n",
       "      dtype='object')"
      ]
     },
     "execution_count": 26,
     "metadata": {},
     "output_type": "execute_result"
    }
   ],
   "source": [
    "df.columns"
   ]
  },
  {
   "cell_type": "code",
   "execution_count": 27,
   "metadata": {},
   "outputs": [],
   "source": [
    "df.drop(['Unnamed: 0'], axis=1, inplace=True)"
   ]
  },
  {
   "cell_type": "code",
   "execution_count": 28,
   "metadata": {},
   "outputs": [],
   "source": [
    "df['review_timestamp'] = pd.to_datetime(df['review_timestamp'])"
   ]
  },
  {
   "cell_type": "code",
   "execution_count": 29,
   "metadata": {},
   "outputs": [
    {
     "data": {
      "text/plain": [
       "(Timestamp('2021-05-19 20:00:27'), Timestamp('2023-11-13 23:23:21'))"
      ]
     },
     "execution_count": 29,
     "metadata": {},
     "output_type": "execute_result"
    }
   ],
   "source": [
    "df['review_timestamp'].min(), df['review_timestamp'].max()"
   ]
  },
  {
   "cell_type": "code",
   "execution_count": 30,
   "metadata": {},
   "outputs": [
    {
     "data": {
      "text/plain": [
       "review_id                  0\n",
       "pseudo_author_id           0\n",
       "author_name                0\n",
       "review_text              450\n",
       "review_rating              0\n",
       "review_likes               0\n",
       "author_app_version    652863\n",
       "review_timestamp           0\n",
       "dtype: int64"
      ]
     },
     "execution_count": 30,
     "metadata": {},
     "output_type": "execute_result"
    }
   ],
   "source": [
    "df.isna().sum()"
   ]
  },
  {
   "cell_type": "code",
   "execution_count": 31,
   "metadata": {},
   "outputs": [
    {
     "data": {
      "text/plain": [
       "review_id             0\n",
       "pseudo_author_id      0\n",
       "author_name           0\n",
       "review_text           0\n",
       "review_rating         0\n",
       "review_likes          0\n",
       "author_app_version    0\n",
       "review_timestamp      0\n",
       "dtype: int64"
      ]
     },
     "execution_count": 31,
     "metadata": {},
     "output_type": "execute_result"
    }
   ],
   "source": [
    "df.dropna(inplace=True)\n",
    "df.isna().sum()"
   ]
  },
  {
   "cell_type": "code",
   "execution_count": 32,
   "metadata": {},
   "outputs": [
    {
     "name": "stdout",
     "output_type": "stream",
     "text": [
      "<class 'pandas.core.frame.DataFrame'>\n",
      "Index: 2341493 entries, 0 to 2994735\n",
      "Data columns (total 8 columns):\n",
      " #   Column              Dtype         \n",
      "---  ------              -----         \n",
      " 0   review_id           object        \n",
      " 1   pseudo_author_id    object        \n",
      " 2   author_name         object        \n",
      " 3   review_text         object        \n",
      " 4   review_rating       int64         \n",
      " 5   review_likes        int64         \n",
      " 6   author_app_version  object        \n",
      " 7   review_timestamp    datetime64[ns]\n",
      "dtypes: datetime64[ns](1), int64(2), object(5)\n",
      "memory usage: 160.8+ MB\n"
     ]
    }
   ],
   "source": [
    "df.info()"
   ]
  },
  {
   "cell_type": "markdown",
   "metadata": {},
   "source": [
    "## Data Visualisation Part 1"
   ]
  },
  {
   "cell_type": "code",
   "execution_count": 33,
   "metadata": {},
   "outputs": [
    {
     "data": {
      "text/html": [
       "<div>\n",
       "<style scoped>\n",
       "    .dataframe tbody tr th:only-of-type {\n",
       "        vertical-align: middle;\n",
       "    }\n",
       "\n",
       "    .dataframe tbody tr th {\n",
       "        vertical-align: top;\n",
       "    }\n",
       "\n",
       "    .dataframe thead th {\n",
       "        text-align: right;\n",
       "    }\n",
       "</style>\n",
       "<table border=\"1\" class=\"dataframe\">\n",
       "  <thead>\n",
       "    <tr style=\"text-align: right;\">\n",
       "      <th></th>\n",
       "      <th>review_rating</th>\n",
       "      <th>review_likes</th>\n",
       "      <th>review_timestamp</th>\n",
       "    </tr>\n",
       "  </thead>\n",
       "  <tbody>\n",
       "    <tr>\n",
       "      <th>count</th>\n",
       "      <td>2.341493e+06</td>\n",
       "      <td>2.341493e+06</td>\n",
       "      <td>2341493</td>\n",
       "    </tr>\n",
       "    <tr>\n",
       "      <th>mean</th>\n",
       "      <td>2.937783e+00</td>\n",
       "      <td>3.510604e+00</td>\n",
       "      <td>2022-04-28 22:59:44.241313536</td>\n",
       "    </tr>\n",
       "    <tr>\n",
       "      <th>min</th>\n",
       "      <td>1.000000e+00</td>\n",
       "      <td>0.000000e+00</td>\n",
       "      <td>2021-05-19 20:00:27</td>\n",
       "    </tr>\n",
       "    <tr>\n",
       "      <th>25%</th>\n",
       "      <td>1.000000e+00</td>\n",
       "      <td>0.000000e+00</td>\n",
       "      <td>2021-07-16 10:22:16</td>\n",
       "    </tr>\n",
       "    <tr>\n",
       "      <th>50%</th>\n",
       "      <td>3.000000e+00</td>\n",
       "      <td>0.000000e+00</td>\n",
       "      <td>2022-02-25 19:34:50</td>\n",
       "    </tr>\n",
       "    <tr>\n",
       "      <th>75%</th>\n",
       "      <td>5.000000e+00</td>\n",
       "      <td>0.000000e+00</td>\n",
       "      <td>2022-12-23 00:22:33</td>\n",
       "    </tr>\n",
       "    <tr>\n",
       "      <th>max</th>\n",
       "      <td>5.000000e+00</td>\n",
       "      <td>8.418000e+04</td>\n",
       "      <td>2023-11-13 23:23:21</td>\n",
       "    </tr>\n",
       "    <tr>\n",
       "      <th>std</th>\n",
       "      <td>1.882540e+00</td>\n",
       "      <td>2.209054e+02</td>\n",
       "      <td>NaN</td>\n",
       "    </tr>\n",
       "  </tbody>\n",
       "</table>\n",
       "</div>"
      ],
      "text/plain": [
       "       review_rating  review_likes               review_timestamp\n",
       "count   2.341493e+06  2.341493e+06                        2341493\n",
       "mean    2.937783e+00  3.510604e+00  2022-04-28 22:59:44.241313536\n",
       "min     1.000000e+00  0.000000e+00            2021-05-19 20:00:27\n",
       "25%     1.000000e+00  0.000000e+00            2021-07-16 10:22:16\n",
       "50%     3.000000e+00  0.000000e+00            2022-02-25 19:34:50\n",
       "75%     5.000000e+00  0.000000e+00            2022-12-23 00:22:33\n",
       "max     5.000000e+00  8.418000e+04            2023-11-13 23:23:21\n",
       "std     1.882540e+00  2.209054e+02                            NaN"
      ]
     },
     "execution_count": 33,
     "metadata": {},
     "output_type": "execute_result"
    }
   ],
   "source": [
    "df.describe()"
   ]
  },
  {
   "cell_type": "markdown",
   "metadata": {},
   "source": [
    "#### Histplot with the count of review ratings "
   ]
  },
  {
   "cell_type": "code",
   "execution_count": 34,
   "metadata": {},
   "outputs": [
    {
     "data": {
      "image/png": "[encoded data removed]",
      "text/plain": [
       "<Figure size 640x480 with 1 Axes>"
      ]
     },
     "metadata": {},
     "output_type": "display_data"
    }
   ],
   "source": [
    "sns.set_style(\"white\") \n",
    "sns.set_palette('deep') \n",
    "bins = list(set(df['review_rating'].unique()))\n",
    "ax = sns.histplot(df['review_rating'], bins=5, kde=False)\n",
    "plt.ticklabel_format(style='plain', axis='y')\n",
    "ax.set_xticks(bins)\n",
    "plt.show()"
   ]
  },
  {
   "cell_type": "markdown",
   "metadata": {},
   "source": [
    "#### Bar Chart with count of review ratings per year"
   ]
  },
  {
   "cell_type": "code",
   "execution_count": 35,
   "metadata": {},
   "outputs": [],
   "source": [
    "df['Year'] = df['review_timestamp'].dt.year\n",
    "year = df.groupby(['Year','review_rating']).review_rating.value_counts().reset_index()"
   ]
  },
  {
   "cell_type": "code",
   "execution_count": 36,
   "metadata": {},
   "outputs": [
    {
     "data": {
      "application/vnd.plotly.v1+json": {
       "config": {
        "plotlyServerURL": "https://plot.ly"
       },
       "data": [
        {
         "alignmentgroup": "True",
         "hovertemplate": "Year=%{x}<br>count=%{y:,.0f}<br>review_rating=%{marker.color}<extra></extra>",
         "legendgroup": "",
         "marker": {
          "color": [
           1,
           2,
           3,
           4,
           5,
           1,
           2,
           3,
           4,
           5,
           1,
           2,
           3,
           4,
           5
          ],
          "coloraxis": "coloraxis",
          "pattern": {
           "shape": ""
          }
         },
         "name": "",
         "offsetgroup": "",
         "orientation": "v",
         "showlegend": false,
         "textposition": "auto",
         "type": "bar",
         "x": [
          2021,
          2021,
          2021,
          2021,
          2021,
          2022,
          2022,
          2022,
          2022,
          2022,
          2023,
          2023,
          2023,
          2023,
          2023
         ],
         "xaxis": "x",
         "y": [
          586641,
          28351,
          33330,
          44449,
          350315,
          193654,
          36009,
          41331,
          52117,
          400859,
          277126,
          24852,
          26796,
          31866,
          213797
         ],
         "yaxis": "y"
        }
       ],
       "layout": {
        "barmode": "relative",
        "coloraxis": {
         "colorbar": {
          "title": {
           "text": "review_rating"
          }
         },
         "colorscale": [
          [
           0,
           "#0d0887"
          ],
          [
           0.1111111111111111,
           "#46039f"
          ],
          [
           0.2222222222222222,
           "#7201a8"
          ],
          [
           0.3333333333333333,
           "#9c179e"
          ],
          [
           0.4444444444444444,
           "#bd3786"
          ],
          [
           0.5555555555555556,
           "#d8576b"
          ],
          [
           0.6666666666666666,
           "#ed7953"
          ],
          [
           0.7777777777777778,
           "#fb9f3a"
          ],
          [
           0.8888888888888888,
           "#fdca26"
          ],
          [
           1,
           "#f0f921"
          ]
         ]
        },
        "legend": {
         "tracegroupgap": 0
        },
        "margin": {
         "t": 60
        },
        "template": {
         "data": {
          "bar": [
           {
            "error_x": {
             "color": "#2a3f5f"
            },
            "error_y": {
             "color": "#2a3f5f"
            },
            "marker": {
             "line": {
              "color": "#E5ECF6",
              "width": 0.5
             },
             "pattern": {
              "fillmode": "overlay",
              "size": 10,
              "solidity": 0.2
             }
            },
            "type": "bar"
           }
          ],
          "barpolar": [
           {
            "marker": {
             "line": {
              "color": "#E5ECF6",
              "width": 0.5
             },
             "pattern": {
              "fillmode": "overlay",
              "size": 10,
              "solidity": 0.2
             }
            },
            "type": "barpolar"
           }
          ],
          "carpet": [
           {
            "aaxis": {
             "endlinecolor": "#2a3f5f",
             "gridcolor": "white",
             "linecolor": "white",
             "minorgridcolor": "white",
             "startlinecolor": "#2a3f5f"
            },
            "baxis": {
             "endlinecolor": "#2a3f5f",
             "gridcolor": "white",
             "linecolor": "white",
             "minorgridcolor": "white",
             "startlinecolor": "#2a3f5f"
            },
            "type": "carpet"
           }
          ],
          "choropleth": [
           {
            "colorbar": {
             "outlinewidth": 0,
             "ticks": ""
            },
            "type": "choropleth"
           }
          ],
          "contour": [
           {
            "colorbar": {
             "outlinewidth": 0,
             "ticks": ""
            },
            "colorscale": [
             [
              0,
              "#0d0887"
             ],
             [
              0.1111111111111111,
              "#46039f"
             ],
             [
              0.2222222222222222,
              "#7201a8"
             ],
             [
              0.3333333333333333,
              "#9c179e"
             ],
             [
              0.4444444444444444,
              "#bd3786"
             ],
             [
              0.5555555555555556,
              "#d8576b"
             ],
             [
              0.6666666666666666,
              "#ed7953"
             ],
             [
              0.7777777777777778,
              "#fb9f3a"
             ],
             [
              0.8888888888888888,
              "#fdca26"
             ],
             [
              1,
              "#f0f921"
             ]
            ],
            "type": "contour"
           }
          ],
          "contourcarpet": [
           {
            "colorbar": {
             "outlinewidth": 0,
             "ticks": ""
            },
            "type": "contourcarpet"
           }
          ],
          "heatmap": [
           {
            "colorbar": {
             "outlinewidth": 0,
             "ticks": ""
            },
            "colorscale": [
             [
              0,
              "#0d0887"
             ],
             [
              0.1111111111111111,
              "#46039f"
             ],
             [
              0.2222222222222222,
              "#7201a8"
             ],
             [
              0.3333333333333333,
              "#9c179e"
             ],
             [
              0.4444444444444444,
              "#bd3786"
             ],
             [
              0.5555555555555556,
              "#d8576b"
             ],
             [
              0.6666666666666666,
              "#ed7953"
             ],
             [
              0.7777777777777778,
              "#fb9f3a"
             ],
             [
              0.8888888888888888,
              "#fdca26"
             ],
             [
              1,
              "#f0f921"
             ]
            ],
            "type": "heatmap"
           }
          ],
          "heatmapgl": [
           {
            "colorbar": {
             "outlinewidth": 0,
             "ticks": ""
            },
            "colorscale": [
             [
              0,
              "#0d0887"
             ],
             [
              0.1111111111111111,
              "#46039f"
             ],
             [
              0.2222222222222222,
              "#7201a8"
             ],
             [
              0.3333333333333333,
              "#9c179e"
             ],
             [
              0.4444444444444444,
              "#bd3786"
             ],
             [
              0.5555555555555556,
              "#d8576b"
             ],
             [
              0.6666666666666666,
              "#ed7953"
             ],
             [
              0.7777777777777778,
              "#fb9f3a"
             ],
             [
              0.8888888888888888,
              "#fdca26"
             ],
             [
              1,
              "#f0f921"
             ]
            ],
            "type": "heatmapgl"
           }
          ],
          "histogram": [
           {
            "marker": {
             "pattern": {
              "fillmode": "overlay",
              "size": 10,
              "solidity": 0.2
             }
            },
            "type": "histogram"
           }
          ],
          "histogram2d": [
           {
            "colorbar": {
             "outlinewidth": 0,
             "ticks": ""
            },
            "colorscale": [
             [
              0,
              "#0d0887"
             ],
             [
              0.1111111111111111,
              "#46039f"
             ],
             [
              0.2222222222222222,
              "#7201a8"
             ],
             [
              0.3333333333333333,
              "#9c179e"
             ],
             [
              0.4444444444444444,
              "#bd3786"
             ],
             [
              0.5555555555555556,
              "#d8576b"
             ],
             [
              0.6666666666666666,
              "#ed7953"
             ],
             [
              0.7777777777777778,
              "#fb9f3a"
             ],
             [
              0.8888888888888888,
              "#fdca26"
             ],
             [
              1,
              "#f0f921"
             ]
            ],
            "type": "histogram2d"
           }
          ],
          "histogram2dcontour": [
           {
            "colorbar": {
             "outlinewidth": 0,
             "ticks": ""
            },
            "colorscale": [
             [
              0,
              "#0d0887"
             ],
             [
              0.1111111111111111,
              "#46039f"
             ],
             [
              0.2222222222222222,
              "#7201a8"
             ],
             [
              0.3333333333333333,
              "#9c179e"
             ],
             [
              0.4444444444444444,
              "#bd3786"
             ],
             [
              0.5555555555555556,
              "#d8576b"
             ],
             [
              0.6666666666666666,
              "#ed7953"
             ],
             [
              0.7777777777777778,
              "#fb9f3a"
             ],
             [
              0.8888888888888888,
              "#fdca26"
             ],
             [
              1,
              "#f0f921"
             ]
            ],
            "type": "histogram2dcontour"
           }
          ],
          "mesh3d": [
           {
            "colorbar": {
             "outlinewidth": 0,
             "ticks": ""
            },
            "type": "mesh3d"
           }
          ],
          "parcoords": [
           {
            "line": {
             "colorbar": {
              "outlinewidth": 0,
              "ticks": ""
             }
            },
            "type": "parcoords"
           }
          ],
          "pie": [
           {
            "automargin": true,
            "type": "pie"
           }
          ],
          "scatter": [
           {
            "fillpattern": {
             "fillmode": "overlay",
             "size": 10,
             "solidity": 0.2
            },
            "type": "scatter"
           }
          ],
          "scatter3d": [
           {
            "line": {
             "colorbar": {
              "outlinewidth": 0,
              "ticks": ""
             }
            },
            "marker": {
             "colorbar": {
              "outlinewidth": 0,
              "ticks": ""
             }
            },
            "type": "scatter3d"
           }
          ],
          "scattercarpet": [
           {
            "marker": {
             "colorbar": {
              "outlinewidth": 0,
              "ticks": ""
             }
            },
            "type": "scattercarpet"
           }
          ],
          "scattergeo": [
           {
            "marker": {
             "colorbar": {
              "outlinewidth": 0,
              "ticks": ""
             }
            },
            "type": "scattergeo"
           }
          ],
          "scattergl": [
           {
            "marker": {
             "colorbar": {
              "outlinewidth": 0,
              "ticks": ""
             }
            },
            "type": "scattergl"
           }
          ],
          "scattermapbox": [
           {
            "marker": {
             "colorbar": {
              "outlinewidth": 0,
              "ticks": ""
             }
            },
            "type": "scattermapbox"
           }
          ],
          "scatterpolar": [
           {
            "marker": {
             "colorbar": {
              "outlinewidth": 0,
              "ticks": ""
             }
            },
            "type": "scatterpolar"
           }
          ],
          "scatterpolargl": [
           {
            "marker": {
             "colorbar": {
              "outlinewidth": 0,
              "ticks": ""
             }
            },
            "type": "scatterpolargl"
           }
          ],
          "scatterternary": [
           {
            "marker": {
             "colorbar": {
              "outlinewidth": 0,
              "ticks": ""
             }
            },
            "type": "scatterternary"
           }
          ],
          "surface": [
           {
            "colorbar": {
             "outlinewidth": 0,
             "ticks": ""
            },
            "colorscale": [
             [
              0,
              "#0d0887"
             ],
             [
              0.1111111111111111,
              "#46039f"
             ],
             [
              0.2222222222222222,
              "#7201a8"
             ],
             [
              0.3333333333333333,
              "#9c179e"
             ],
             [
              0.4444444444444444,
              "#bd3786"
             ],
             [
              0.5555555555555556,
              "#d8576b"
             ],
             [
              0.6666666666666666,
              "#ed7953"
             ],
             [
              0.7777777777777778,
              "#fb9f3a"
             ],
             [
              0.8888888888888888,
              "#fdca26"
             ],
             [
              1,
              "#f0f921"
             ]
            ],
            "type": "surface"
           }
          ],
          "table": [
           {
            "cells": {
             "fill": {
              "color": "#EBF0F8"
             },
             "line": {
              "color": "white"
             }
            },
            "header": {
             "fill": {
              "color": "#C8D4E3"
             },
             "line": {
              "color": "white"
             }
            },
            "type": "table"
           }
          ]
         },
         "layout": {
          "annotationdefaults": {
           "arrowcolor": "#2a3f5f",
           "arrowhead": 0,
           "arrowwidth": 1
          },
          "autotypenumbers": "strict",
          "coloraxis": {
           "colorbar": {
            "outlinewidth": 0,
            "ticks": ""
           }
          },
          "colorscale": {
           "diverging": [
            [
             0,
             "#8e0152"
            ],
            [
             0.1,
             "#c51b7d"
            ],
            [
             0.2,
             "#de77ae"
            ],
            [
             0.3,
             "#f1b6da"
            ],
            [
             0.4,
             "#fde0ef"
            ],
            [
             0.5,
             "#f7f7f7"
            ],
            [
             0.6,
             "#e6f5d0"
            ],
            [
             0.7,
             "#b8e186"
            ],
            [
             0.8,
             "#7fbc41"
            ],
            [
             0.9,
             "#4d9221"
            ],
            [
             1,
             "#276419"
            ]
           ],
           "sequential": [
            [
             0,
             "#0d0887"
            ],
            [
             0.1111111111111111,
             "#46039f"
            ],
            [
             0.2222222222222222,
             "#7201a8"
            ],
            [
             0.3333333333333333,
             "#9c179e"
            ],
            [
             0.4444444444444444,
             "#bd3786"
            ],
            [
             0.5555555555555556,
             "#d8576b"
            ],
            [
             0.6666666666666666,
             "#ed7953"
            ],
            [
             0.7777777777777778,
             "#fb9f3a"
            ],
            [
             0.8888888888888888,
             "#fdca26"
            ],
            [
             1,
             "#f0f921"
            ]
           ],
           "sequentialminus": [
            [
             0,
             "#0d0887"
            ],
            [
             0.1111111111111111,
             "#46039f"
            ],
            [
             0.2222222222222222,
             "#7201a8"
            ],
            [
             0.3333333333333333,
             "#9c179e"
            ],
            [
             0.4444444444444444,
             "#bd3786"
            ],
            [
             0.5555555555555556,
             "#d8576b"
            ],
            [
             0.6666666666666666,
             "#ed7953"
            ],
            [
             0.7777777777777778,
             "#fb9f3a"
            ],
            [
             0.8888888888888888,
             "#fdca26"
            ],
            [
             1,
             "#f0f921"
            ]
           ]
          },
          "colorway": [
           "#636efa",
           "#EF553B",
           "#00cc96",
           "#ab63fa",
           "#FFA15A",
           "#19d3f3",
           "#FF6692",
           "#B6E880",
           "#FF97FF",
           "#FECB52"
          ],
          "font": {
           "color": "#2a3f5f"
          },
          "geo": {
           "bgcolor": "white",
           "lakecolor": "white",
           "landcolor": "#E5ECF6",
           "showlakes": true,
           "showland": true,
           "subunitcolor": "white"
          },
          "hoverlabel": {
           "align": "left"
          },
          "hovermode": "closest",
          "mapbox": {
           "style": "light"
          },
          "paper_bgcolor": "white",
          "plot_bgcolor": "#E5ECF6",
          "polar": {
           "angularaxis": {
            "gridcolor": "white",
            "linecolor": "white",
            "ticks": ""
           },
           "bgcolor": "#E5ECF6",
           "radialaxis": {
            "gridcolor": "white",
            "linecolor": "white",
            "ticks": ""
           }
          },
          "scene": {
           "xaxis": {
            "backgroundcolor": "#E5ECF6",
            "gridcolor": "white",
            "gridwidth": 2,
            "linecolor": "white",
            "showbackground": true,
            "ticks": "",
            "zerolinecolor": "white"
           },
           "yaxis": {
            "backgroundcolor": "#E5ECF6",
            "gridcolor": "white",
            "gridwidth": 2,
            "linecolor": "white",
            "showbackground": true,
            "ticks": "",
            "zerolinecolor": "white"
           },
           "zaxis": {
            "backgroundcolor": "#E5ECF6",
            "gridcolor": "white",
            "gridwidth": 2,
            "linecolor": "white",
            "showbackground": true,
            "ticks": "",
            "zerolinecolor": "white"
           }
          },
          "shapedefaults": {
           "line": {
            "color": "#2a3f5f"
           }
          },
          "ternary": {
           "aaxis": {
            "gridcolor": "white",
            "linecolor": "white",
            "ticks": ""
           },
           "baxis": {
            "gridcolor": "white",
            "linecolor": "white",
            "ticks": ""
           },
           "bgcolor": "#E5ECF6",
           "caxis": {
            "gridcolor": "white",
            "linecolor": "white",
            "ticks": ""
           }
          },
          "title": {
           "x": 0.05
          },
          "xaxis": {
           "automargin": true,
           "gridcolor": "white",
           "linecolor": "white",
           "ticks": "",
           "title": {
            "standoff": 15
           },
           "zerolinecolor": "white",
           "zerolinewidth": 2
          },
          "yaxis": {
           "automargin": true,
           "gridcolor": "white",
           "linecolor": "white",
           "ticks": "",
           "title": {
            "standoff": 15
           },
           "zerolinecolor": "white",
           "zerolinewidth": 2
          }
         }
        },
        "xaxis": {
         "anchor": "y",
         "domain": [
          0,
          1
         ],
         "title": {
          "text": "Year"
         }
        },
        "yaxis": {
         "anchor": "x",
         "domain": [
          0,
          1
         ],
         "title": {
          "text": "count"
         }
        }
       }
      }
     },
     "metadata": {},
     "output_type": "display_data"
    }
   ],
   "source": [
    "fig = px.bar(year,\n",
    "            x= 'Year',\n",
    "            y= 'count',\n",
    "            color = 'review_rating',\n",
    "            hover_data = {\n",
    "                'count': ':,.0f'\n",
    "            })\n",
    "fig.show()"
   ]
  },
  {
   "cell_type": "markdown",
   "metadata": {},
   "source": [
    "#### Scatterplot and Trendline with count of review likes by review rating"
   ]
  },
  {
   "cell_type": "code",
   "execution_count": 37,
   "metadata": {},
   "outputs": [],
   "source": [
    "likes = df.groupby('review_rating')['review_likes'].sum().reset_index()"
   ]
  },
  {
   "cell_type": "code",
   "execution_count": 38,
   "metadata": {},
   "outputs": [
    {
     "data": {
      "application/vnd.plotly.v1+json": {
       "config": {
        "plotlyServerURL": "https://plot.ly"
       },
       "data": [
        {
         "hovertemplate": "Rating=%{x:,.f}<br>review_likes=%{y}<extra></extra>",
         "legendgroup": "",
         "marker": {
          "color": "#636efa",
          "symbol": "circle"
         },
         "mode": "markers",
         "name": "",
         "orientation": "v",
         "showlegend": false,
         "type": "scatter",
         "x": [
          1,
          2,
          3,
          4,
          5
         ],
         "xaxis": "x",
         "y": [
          4960030,
          1254542,
          917024,
          560277,
          528181
         ],
         "yaxis": "y"
        },
        {
         "hovertemplate": "<b>OLS trendline</b><br>review_likes = -955796 * review_rating + 4.5114e+06<br>R<sup>2</sup>=0.648101<br><br>Rating=%{x:,.f}<br>review_likes=%{y} <b>(trend)</b><extra></extra>",
         "legendgroup": "",
         "marker": {
          "color": "#636efa",
          "symbol": "circle"
         },
         "mode": "lines",
         "name": "",
         "showlegend": false,
         "type": "scatter",
         "x": [
          1,
          2,
          3,
          4,
          5
         ],
         "xaxis": "x",
         "y": [
          3555603.3999999976,
          2599807.0999999978,
          1644010.799999998,
          688214.4999999981,
          -267581.8000000017
         ],
         "yaxis": "y"
        }
       ],
       "layout": {
        "legend": {
         "tracegroupgap": 0
        },
        "margin": {
         "t": 60
        },
        "template": {
         "data": {
          "bar": [
           {
            "error_x": {
             "color": "#2a3f5f"
            },
            "error_y": {
             "color": "#2a3f5f"
            },
            "marker": {
             "line": {
              "color": "#E5ECF6",
              "width": 0.5
             },
             "pattern": {
              "fillmode": "overlay",
              "size": 10,
              "solidity": 0.2
             }
            },
            "type": "bar"
           }
          ],
          "barpolar": [
           {
            "marker": {
             "line": {
              "color": "#E5ECF6",
              "width": 0.5
             },
             "pattern": {
              "fillmode": "overlay",
              "size": 10,
              "solidity": 0.2
             }
            },
            "type": "barpolar"
           }
          ],
          "carpet": [
           {
            "aaxis": {
             "endlinecolor": "#2a3f5f",
             "gridcolor": "white",
             "linecolor": "white",
             "minorgridcolor": "white",
             "startlinecolor": "#2a3f5f"
            },
            "baxis": {
             "endlinecolor": "#2a3f5f",
             "gridcolor": "white",
             "linecolor": "white",
             "minorgridcolor": "white",
             "startlinecolor": "#2a3f5f"
            },
            "type": "carpet"
           }
          ],
          "choropleth": [
           {
            "colorbar": {
             "outlinewidth": 0,
             "ticks": ""
            },
            "type": "choropleth"
           }
          ],
          "contour": [
           {
            "colorbar": {
             "outlinewidth": 0,
             "ticks": ""
            },
            "colorscale": [
             [
              0,
              "#0d0887"
             ],
             [
              0.1111111111111111,
              "#46039f"
             ],
             [
              0.2222222222222222,
              "#7201a8"
             ],
             [
              0.3333333333333333,
              "#9c179e"
             ],
             [
              0.4444444444444444,
              "#bd3786"
             ],
             [
              0.5555555555555556,
              "#d8576b"
             ],
             [
              0.6666666666666666,
              "#ed7953"
             ],
             [
              0.7777777777777778,
              "#fb9f3a"
             ],
             [
              0.8888888888888888,
              "#fdca26"
             ],
             [
              1,
              "#f0f921"
             ]
            ],
            "type": "contour"
           }
          ],
          "contourcarpet": [
           {
            "colorbar": {
             "outlinewidth": 0,
             "ticks": ""
            },
            "type": "contourcarpet"
           }
          ],
          "heatmap": [
           {
            "colorbar": {
             "outlinewidth": 0,
             "ticks": ""
            },
            "colorscale": [
             [
              0,
              "#0d0887"
             ],
             [
              0.1111111111111111,
              "#46039f"
             ],
             [
              0.2222222222222222,
              "#7201a8"
             ],
             [
              0.3333333333333333,
              "#9c179e"
             ],
             [
              0.4444444444444444,
              "#bd3786"
             ],
             [
              0.5555555555555556,
              "#d8576b"
             ],
             [
              0.6666666666666666,
              "#ed7953"
             ],
             [
              0.7777777777777778,
              "#fb9f3a"
             ],
             [
              0.8888888888888888,
              "#fdca26"
             ],
             [
              1,
              "#f0f921"
             ]
            ],
            "type": "heatmap"
           }
          ],
          "heatmapgl": [
           {
            "colorbar": {
             "outlinewidth": 0,
             "ticks": ""
            },
            "colorscale": [
             [
              0,
              "#0d0887"
             ],
             [
              0.1111111111111111,
              "#46039f"
             ],
             [
              0.2222222222222222,
              "#7201a8"
             ],
             [
              0.3333333333333333,
              "#9c179e"
             ],
             [
              0.4444444444444444,
              "#bd3786"
             ],
             [
              0.5555555555555556,
              "#d8576b"
             ],
             [
              0.6666666666666666,
              "#ed7953"
             ],
             [
              0.7777777777777778,
              "#fb9f3a"
             ],
             [
              0.8888888888888888,
              "#fdca26"
             ],
             [
              1,
              "#f0f921"
             ]
            ],
            "type": "heatmapgl"
           }
          ],
          "histogram": [
           {
            "marker": {
             "pattern": {
              "fillmode": "overlay",
              "size": 10,
              "solidity": 0.2
             }
            },
            "type": "histogram"
           }
          ],
          "histogram2d": [
           {
            "colorbar": {
             "outlinewidth": 0,
             "ticks": ""
            },
            "colorscale": [
             [
              0,
              "#0d0887"
             ],
             [
              0.1111111111111111,
              "#46039f"
             ],
             [
              0.2222222222222222,
              "#7201a8"
             ],
             [
              0.3333333333333333,
              "#9c179e"
             ],
             [
              0.4444444444444444,
              "#bd3786"
             ],
             [
              0.5555555555555556,
              "#d8576b"
             ],
             [
              0.6666666666666666,
              "#ed7953"
             ],
             [
              0.7777777777777778,
              "#fb9f3a"
             ],
             [
              0.8888888888888888,
              "#fdca26"
             ],
             [
              1,
              "#f0f921"
             ]
            ],
            "type": "histogram2d"
           }
          ],
          "histogram2dcontour": [
           {
            "colorbar": {
             "outlinewidth": 0,
             "ticks": ""
            },
            "colorscale": [
             [
              0,
              "#0d0887"
             ],
             [
              0.1111111111111111,
              "#46039f"
             ],
             [
              0.2222222222222222,
              "#7201a8"
             ],
             [
              0.3333333333333333,
              "#9c179e"
             ],
             [
              0.4444444444444444,
              "#bd3786"
             ],
             [
              0.5555555555555556,
              "#d8576b"
             ],
             [
              0.6666666666666666,
              "#ed7953"
             ],
             [
              0.7777777777777778,
              "#fb9f3a"
             ],
             [
              0.8888888888888888,
              "#fdca26"
             ],
             [
              1,
              "#f0f921"
             ]
            ],
            "type": "histogram2dcontour"
           }
          ],
          "mesh3d": [
           {
            "colorbar": {
             "outlinewidth": 0,
             "ticks": ""
            },
            "type": "mesh3d"
           }
          ],
          "parcoords": [
           {
            "line": {
             "colorbar": {
              "outlinewidth": 0,
              "ticks": ""
             }
            },
            "type": "parcoords"
           }
          ],
          "pie": [
           {
            "automargin": true,
            "type": "pie"
           }
          ],
          "scatter": [
           {
            "fillpattern": {
             "fillmode": "overlay",
             "size": 10,
             "solidity": 0.2
            },
            "type": "scatter"
           }
          ],
          "scatter3d": [
           {
            "line": {
             "colorbar": {
              "outlinewidth": 0,
              "ticks": ""
             }
            },
            "marker": {
             "colorbar": {
              "outlinewidth": 0,
              "ticks": ""
             }
            },
            "type": "scatter3d"
           }
          ],
          "scattercarpet": [
           {
            "marker": {
             "colorbar": {
              "outlinewidth": 0,
              "ticks": ""
             }
            },
            "type": "scattercarpet"
           }
          ],
          "scattergeo": [
           {
            "marker": {
             "colorbar": {
              "outlinewidth": 0,
              "ticks": ""
             }
            },
            "type": "scattergeo"
           }
          ],
          "scattergl": [
           {
            "marker": {
             "colorbar": {
              "outlinewidth": 0,
              "ticks": ""
             }
            },
            "type": "scattergl"
           }
          ],
          "scattermapbox": [
           {
            "marker": {
             "colorbar": {
              "outlinewidth": 0,
              "ticks": ""
             }
            },
            "type": "scattermapbox"
           }
          ],
          "scatterpolar": [
           {
            "marker": {
             "colorbar": {
              "outlinewidth": 0,
              "ticks": ""
             }
            },
            "type": "scatterpolar"
           }
          ],
          "scatterpolargl": [
           {
            "marker": {
             "colorbar": {
              "outlinewidth": 0,
              "ticks": ""
             }
            },
            "type": "scatterpolargl"
           }
          ],
          "scatterternary": [
           {
            "marker": {
             "colorbar": {
              "outlinewidth": 0,
              "ticks": ""
             }
            },
            "type": "scatterternary"
           }
          ],
          "surface": [
           {
            "colorbar": {
             "outlinewidth": 0,
             "ticks": ""
            },
            "colorscale": [
             [
              0,
              "#0d0887"
             ],
             [
              0.1111111111111111,
              "#46039f"
             ],
             [
              0.2222222222222222,
              "#7201a8"
             ],
             [
              0.3333333333333333,
              "#9c179e"
             ],
             [
              0.4444444444444444,
              "#bd3786"
             ],
             [
              0.5555555555555556,
              "#d8576b"
             ],
             [
              0.6666666666666666,
              "#ed7953"
             ],
             [
              0.7777777777777778,
              "#fb9f3a"
             ],
             [
              0.8888888888888888,
              "#fdca26"
             ],
             [
              1,
              "#f0f921"
             ]
            ],
            "type": "surface"
           }
          ],
          "table": [
           {
            "cells": {
             "fill": {
              "color": "#EBF0F8"
             },
             "line": {
              "color": "white"
             }
            },
            "header": {
             "fill": {
              "color": "#C8D4E3"
             },
             "line": {
              "color": "white"
             }
            },
            "type": "table"
           }
          ]
         },
         "layout": {
          "annotationdefaults": {
           "arrowcolor": "#2a3f5f",
           "arrowhead": 0,
           "arrowwidth": 1
          },
          "autotypenumbers": "strict",
          "coloraxis": {
           "colorbar": {
            "outlinewidth": 0,
            "ticks": ""
           }
          },
          "colorscale": {
           "diverging": [
            [
             0,
             "#8e0152"
            ],
            [
             0.1,
             "#c51b7d"
            ],
            [
             0.2,
             "#de77ae"
            ],
            [
             0.3,
             "#f1b6da"
            ],
            [
             0.4,
             "#fde0ef"
            ],
            [
             0.5,
             "#f7f7f7"
            ],
            [
             0.6,
             "#e6f5d0"
            ],
            [
             0.7,
             "#b8e186"
            ],
            [
             0.8,
             "#7fbc41"
            ],
            [
             0.9,
             "#4d9221"
            ],
            [
             1,
             "#276419"
            ]
           ],
           "sequential": [
            [
             0,
             "#0d0887"
            ],
            [
             0.1111111111111111,
             "#46039f"
            ],
            [
             0.2222222222222222,
             "#7201a8"
            ],
            [
             0.3333333333333333,
             "#9c179e"
            ],
            [
             0.4444444444444444,
             "#bd3786"
            ],
            [
             0.5555555555555556,
             "#d8576b"
            ],
            [
             0.6666666666666666,
             "#ed7953"
            ],
            [
             0.7777777777777778,
             "#fb9f3a"
            ],
            [
             0.8888888888888888,
             "#fdca26"
            ],
            [
             1,
             "#f0f921"
            ]
           ],
           "sequentialminus": [
            [
             0,
             "#0d0887"
            ],
            [
             0.1111111111111111,
             "#46039f"
            ],
            [
             0.2222222222222222,
             "#7201a8"
            ],
            [
             0.3333333333333333,
             "#9c179e"
            ],
            [
             0.4444444444444444,
             "#bd3786"
            ],
            [
             0.5555555555555556,
             "#d8576b"
            ],
            [
             0.6666666666666666,
             "#ed7953"
            ],
            [
             0.7777777777777778,
             "#fb9f3a"
            ],
            [
             0.8888888888888888,
             "#fdca26"
            ],
            [
             1,
             "#f0f921"
            ]
           ]
          },
          "colorway": [
           "#636efa",
           "#EF553B",
           "#00cc96",
           "#ab63fa",
           "#FFA15A",
           "#19d3f3",
           "#FF6692",
           "#B6E880",
           "#FF97FF",
           "#FECB52"
          ],
          "font": {
           "color": "#2a3f5f"
          },
          "geo": {
           "bgcolor": "white",
           "lakecolor": "white",
           "landcolor": "#E5ECF6",
           "showlakes": true,
           "showland": true,
           "subunitcolor": "white"
          },
          "hoverlabel": {
           "align": "left"
          },
          "hovermode": "closest",
          "mapbox": {
           "style": "light"
          },
          "paper_bgcolor": "white",
          "plot_bgcolor": "#E5ECF6",
          "polar": {
           "angularaxis": {
            "gridcolor": "white",
            "linecolor": "white",
            "ticks": ""
           },
           "bgcolor": "#E5ECF6",
           "radialaxis": {
            "gridcolor": "white",
            "linecolor": "white",
            "ticks": ""
           }
          },
          "scene": {
           "xaxis": {
            "backgroundcolor": "#E5ECF6",
            "gridcolor": "white",
            "gridwidth": 2,
            "linecolor": "white",
            "showbackground": true,
            "ticks": "",
            "zerolinecolor": "white"
           },
           "yaxis": {
            "backgroundcolor": "#E5ECF6",
            "gridcolor": "white",
            "gridwidth": 2,
            "linecolor": "white",
            "showbackground": true,
            "ticks": "",
            "zerolinecolor": "white"
           },
           "zaxis": {
            "backgroundcolor": "#E5ECF6",
            "gridcolor": "white",
            "gridwidth": 2,
            "linecolor": "white",
            "showbackground": true,
            "ticks": "",
            "zerolinecolor": "white"
           }
          },
          "shapedefaults": {
           "line": {
            "color": "#2a3f5f"
           }
          },
          "ternary": {
           "aaxis": {
            "gridcolor": "white",
            "linecolor": "white",
            "ticks": ""
           },
           "baxis": {
            "gridcolor": "white",
            "linecolor": "white",
            "ticks": ""
           },
           "bgcolor": "#E5ECF6",
           "caxis": {
            "gridcolor": "white",
            "linecolor": "white",
            "ticks": ""
           }
          },
          "title": {
           "x": 0.05
          },
          "xaxis": {
           "automargin": true,
           "gridcolor": "white",
           "linecolor": "white",
           "ticks": "",
           "title": {
            "standoff": 15
           },
           "zerolinecolor": "white",
           "zerolinewidth": 2
          },
          "yaxis": {
           "automargin": true,
           "gridcolor": "white",
           "linecolor": "white",
           "ticks": "",
           "title": {
            "standoff": 15
           },
           "zerolinecolor": "white",
           "zerolinewidth": 2
          }
         }
        },
        "xaxis": {
         "anchor": "y",
         "domain": [
          0,
          1
         ],
         "title": {
          "text": "Rating"
         }
        },
        "yaxis": {
         "anchor": "x",
         "domain": [
          0,
          1
         ],
         "title": {
          "text": "review_likes"
         }
        }
       }
      }
     },
     "metadata": {},
     "output_type": "display_data"
    }
   ],
   "source": [
    "fig = px.scatter(likes,\n",
    "         x='review_rating',\n",
    "         y='review_likes',\n",
    "         hover_data={\n",
    "            'review_rating': ':,.f'\n",
    "         },\n",
    "         labels={\n",
    "            'review_rating': 'Rating'\n",
    "         },\n",
    "         trendline='ols')\n",
    "fig.show()"
   ]
  },
  {
   "cell_type": "markdown",
   "metadata": {},
   "source": [
    "### Feature Creation for Time Series Analysis"
   ]
  },
  {
   "cell_type": "code",
   "execution_count": 39,
   "metadata": {},
   "outputs": [],
   "source": [
    "df['year'] = df['review_timestamp'].dt.year\n",
    "df_2022_23 = df[(df['year'] == 2022) | (df['year'] == 2023)]\n"
   ]
  },
  {
   "cell_type": "code",
   "execution_count": 40,
   "metadata": {},
   "outputs": [],
   "source": [
    "df_2022_23['week'] = df_2022_23['review_timestamp'].dt.isocalendar().week\n"
   ]
  },
  {
   "cell_type": "code",
   "execution_count": 41,
   "metadata": {},
   "outputs": [
    {
     "data": {
      "text/plain": [
       "1299162   2022-01-01\n",
       "1299163   2022-01-01\n",
       "1299165   2022-01-01\n",
       "1299168   2022-01-01\n",
       "1299169   2022-01-01\n",
       "             ...    \n",
       "2994731   2023-11-13\n",
       "2994732   2023-11-13\n",
       "2994733   2023-11-13\n",
       "2994734   2023-11-13\n",
       "2994735   2023-11-13\n",
       "Name: date, Length: 1298407, dtype: datetime64[ns]"
      ]
     },
     "execution_count": 41,
     "metadata": {},
     "output_type": "execute_result"
    }
   ],
   "source": [
    "df_2022_23['date']= df_2022_23['review_timestamp'].dt.date\n",
    "df_2022_23['date'] = pd.to_datetime(df_2022_23['date'])\n",
    "df_2022_23['date'] "
   ]
  },
  {
   "cell_type": "code",
   "execution_count": 42,
   "metadata": {},
   "outputs": [
    {
     "data": {
      "text/html": [
       "<div>\n",
       "<style scoped>\n",
       "    .dataframe tbody tr th:only-of-type {\n",
       "        vertical-align: middle;\n",
       "    }\n",
       "\n",
       "    .dataframe tbody tr th {\n",
       "        vertical-align: top;\n",
       "    }\n",
       "\n",
       "    .dataframe thead th {\n",
       "        text-align: right;\n",
       "    }\n",
       "</style>\n",
       "<table border=\"1\" class=\"dataframe\">\n",
       "  <thead>\n",
       "    <tr style=\"text-align: right;\">\n",
       "      <th></th>\n",
       "      <th>date</th>\n",
       "      <th>unique_reviews</th>\n",
       "    </tr>\n",
       "  </thead>\n",
       "  <tbody>\n",
       "    <tr>\n",
       "      <th>0</th>\n",
       "      <td>2022-01-01</td>\n",
       "      <td>2029</td>\n",
       "    </tr>\n",
       "    <tr>\n",
       "      <th>1</th>\n",
       "      <td>2022-01-02</td>\n",
       "      <td>2208</td>\n",
       "    </tr>\n",
       "    <tr>\n",
       "      <th>2</th>\n",
       "      <td>2022-01-03</td>\n",
       "      <td>2013</td>\n",
       "    </tr>\n",
       "    <tr>\n",
       "      <th>3</th>\n",
       "      <td>2022-01-04</td>\n",
       "      <td>2081</td>\n",
       "    </tr>\n",
       "    <tr>\n",
       "      <th>4</th>\n",
       "      <td>2022-01-05</td>\n",
       "      <td>2234</td>\n",
       "    </tr>\n",
       "    <tr>\n",
       "      <th>...</th>\n",
       "      <td>...</td>\n",
       "      <td>...</td>\n",
       "    </tr>\n",
       "    <tr>\n",
       "      <th>677</th>\n",
       "      <td>2023-11-09</td>\n",
       "      <td>3204</td>\n",
       "    </tr>\n",
       "    <tr>\n",
       "      <th>678</th>\n",
       "      <td>2023-11-10</td>\n",
       "      <td>2501</td>\n",
       "    </tr>\n",
       "    <tr>\n",
       "      <th>679</th>\n",
       "      <td>2023-11-11</td>\n",
       "      <td>2146</td>\n",
       "    </tr>\n",
       "    <tr>\n",
       "      <th>680</th>\n",
       "      <td>2023-11-12</td>\n",
       "      <td>2207</td>\n",
       "    </tr>\n",
       "    <tr>\n",
       "      <th>681</th>\n",
       "      <td>2023-11-13</td>\n",
       "      <td>3834</td>\n",
       "    </tr>\n",
       "  </tbody>\n",
       "</table>\n",
       "<p>682 rows × 2 columns</p>\n",
       "</div>"
      ],
      "text/plain": [
       "          date  unique_reviews\n",
       "0   2022-01-01            2029\n",
       "1   2022-01-02            2208\n",
       "2   2022-01-03            2013\n",
       "3   2022-01-04            2081\n",
       "4   2022-01-05            2234\n",
       "..         ...             ...\n",
       "677 2023-11-09            3204\n",
       "678 2023-11-10            2501\n",
       "679 2023-11-11            2146\n",
       "680 2023-11-12            2207\n",
       "681 2023-11-13            3834\n",
       "\n",
       "[682 rows x 2 columns]"
      ]
     },
     "execution_count": 42,
     "metadata": {},
     "output_type": "execute_result"
    }
   ],
   "source": [
    "unique_reviews_per_day = df_2022_23.groupby(['date'])['review_id'].nunique().reset_index(name='unique_reviews')\n",
    "unique_reviews_per_day"
   ]
  },
  {
   "cell_type": "code",
   "execution_count": 43,
   "metadata": {},
   "outputs": [
    {
     "data": {
      "text/plain": [
       "<Axes: xlabel='date'>"
      ]
     },
     "execution_count": 43,
     "metadata": {},
     "output_type": "execute_result"
    },
    {
     "data": {
      "image/png": "[encoded data removed]",
      "text/plain": [
       "<Figure size 640x480 with 1 Axes>"
      ]
     },
     "metadata": {},
     "output_type": "display_data"
    }
   ],
   "source": [
    "unique_reviews_per_day.plot(x=\"date\", y=\"unique_reviews\")"
   ]
  },
  {
   "cell_type": "code",
   "execution_count": 44,
   "metadata": {},
   "outputs": [
    {
     "data": {
      "text/plain": [
       "(-4.5579996063746,\n",
       " 0.00015426138921788662,\n",
       " 12,\n",
       " 669,\n",
       " {'1%': -3.4401625092086467,\n",
       "  '5%': -2.865869922737958,\n",
       "  '10%': -2.5690758278089465},\n",
       " 10148.473746315094)"
      ]
     },
     "execution_count": 44,
     "metadata": {},
     "output_type": "execute_result"
    }
   ],
   "source": [
    "adfuller(unique_reviews_per_day['unique_reviews'])"
   ]
  },
  {
   "cell_type": "code",
   "execution_count": 45,
   "metadata": {},
   "outputs": [
    {
     "data": {
      "image/png": "[encoded data removed]",
      "text/plain": [
       "<Figure size 640x480 with 1 Axes>"
      ]
     },
     "execution_count": 45,
     "metadata": {},
     "output_type": "execute_result"
    },
    {
     "data": {
      "image/png": "[encoded data removed]",
      "text/plain": [
       "<Figure size 640x480 with 1 Axes>"
      ]
     },
     "metadata": {},
     "output_type": "display_data"
    }
   ],
   "source": [
    "plot_acf(unique_reviews_per_day[\"unique_reviews\"].dropna(),lags=20)\n",
    "# q = has a significant coefficient until lag 10"
   ]
  },
  {
   "cell_type": "code",
   "execution_count": 46,
   "metadata": {},
   "outputs": [
    {
     "data": {
      "image/png": "[encoded data removed]",
      "text/plain": [
       "<Figure size 640x480 with 1 Axes>"
      ]
     },
     "execution_count": 46,
     "metadata": {},
     "output_type": "execute_result"
    },
    {
     "data": {
      "image/png": "[encoded data removed]",
      "text/plain": [
       "<Figure size 640x480 with 1 Axes>"
      ]
     },
     "metadata": {},
     "output_type": "display_data"
    }
   ],
   "source": [
    "plot_pacf(unique_reviews_per_day[\"unique_reviews\"].dropna(),lags=10)\n",
    "# p = 1 has a significant correlation with the previous value"
   ]
  },
  {
   "cell_type": "code",
   "execution_count": 47,
   "metadata": {},
   "outputs": [
    {
     "name": "stdout",
     "output_type": "stream",
     "text": [
      "1 0 5\n",
      "1 0 6\n",
      "1 0 7\n",
      "1 0 8\n",
      "1 0 9\n",
      "1 1 5\n",
      "1 1 6\n",
      "1 1 7\n",
      "1 1 8\n",
      "1 1 9\n",
      "1 2 5\n",
      "1 2 6\n",
      "1 2 7\n",
      "1 2 8\n",
      "1 2 9\n",
      "1 3 5\n",
      "1 3 6\n",
      "1 3 7\n",
      "1 3 8\n",
      "1 3 9\n",
      "1 4 5\n",
      "1 4 6\n",
      "1 4 7\n",
      "1 4 8\n",
      "1 4 9\n"
     ]
    }
   ],
   "source": [
    "from statsmodels.tsa.arima.model import ARIMA\n",
    "aicVals = []\n",
    "for p in range(0,1):\n",
    "    p = 1\n",
    "    for d in range(5):\n",
    "        for q in range(1,5):\n",
    "            print(p, d, q)\n",
    "            \n",
    "            try:\n",
    "                aic = ARIMA(unique_reviews_per_day[\"unique_reviews\"], order=(p, d, q)).fit().aic\n",
    "                aicVals.append([aic, p, d, q])\n",
    "            except np.linalg.LinAlgError:\n",
    "                print(f\"Unable to fit model for order=({p}, {d}, {q})\")"
   ]
  },
  {
   "cell_type": "code",
   "execution_count": 48,
   "metadata": {},
   "outputs": [],
   "source": [
    "model = ARIMA(unique_reviews_per_day[\"unique_reviews\"], order=(1, 0, 5)).fit()"
   ]
  },
  {
   "cell_type": "code",
   "execution_count": 49,
   "metadata": {},
   "outputs": [
    {
     "data": {
      "text/html": [
       "<table class=\"simpletable\">\n",
       "<caption>SARIMAX Results</caption>\n",
       "<tr>\n",
       "  <th>Dep. Variable:</th>    <td>unique_reviews</td>  <th>  No. Observations:  </th>    <td>682</td>   \n",
       "</tr>\n",
       "<tr>\n",
       "  <th>Model:</th>            <td>ARIMA(1, 0, 5)</td>  <th>  Log Likelihood     </th> <td>-5246.367</td>\n",
       "</tr>\n",
       "<tr>\n",
       "  <th>Date:</th>            <td>Sat, 25 Nov 2023</td> <th>  AIC                </th> <td>10508.734</td>\n",
       "</tr>\n",
       "<tr>\n",
       "  <th>Time:</th>                <td>22:38:30</td>     <th>  BIC                </th> <td>10544.934</td>\n",
       "</tr>\n",
       "<tr>\n",
       "  <th>Sample:</th>                  <td>0</td>        <th>  HQIC               </th> <td>10522.744</td>\n",
       "</tr>\n",
       "<tr>\n",
       "  <th></th>                      <td> - 682</td>      <th>                     </th>     <td> </td>    \n",
       "</tr>\n",
       "<tr>\n",
       "  <th>Covariance Type:</th>        <td>opg</td>       <th>                     </th>     <td> </td>    \n",
       "</tr>\n",
       "</table>\n",
       "<table class=\"simpletable\">\n",
       "<tr>\n",
       "     <td></td>       <th>coef</th>     <th>std err</th>      <th>z</th>      <th>P>|z|</th>  <th>[0.025</th>    <th>0.975]</th>  \n",
       "</tr>\n",
       "<tr>\n",
       "  <th>const</th>  <td> 1903.8226</td> <td>  485.010</td> <td>    3.925</td> <td> 0.000</td> <td>  953.221</td> <td> 2854.424</td>\n",
       "</tr>\n",
       "<tr>\n",
       "  <th>ar.L1</th>  <td>    0.9198</td> <td>    0.010</td> <td>   88.201</td> <td> 0.000</td> <td>    0.899</td> <td>    0.940</td>\n",
       "</tr>\n",
       "<tr>\n",
       "  <th>ma.L1</th>  <td>    0.0601</td> <td>    0.026</td> <td>    2.315</td> <td> 0.021</td> <td>    0.009</td> <td>    0.111</td>\n",
       "</tr>\n",
       "<tr>\n",
       "  <th>ma.L2</th>  <td>   -0.0547</td> <td>    0.017</td> <td>   -3.272</td> <td> 0.001</td> <td>   -0.088</td> <td>   -0.022</td>\n",
       "</tr>\n",
       "<tr>\n",
       "  <th>ma.L3</th>  <td>   -0.0274</td> <td>    0.028</td> <td>   -0.967</td> <td> 0.334</td> <td>   -0.083</td> <td>    0.028</td>\n",
       "</tr>\n",
       "<tr>\n",
       "  <th>ma.L4</th>  <td>    0.0026</td> <td>    0.019</td> <td>    0.140</td> <td> 0.889</td> <td>   -0.034</td> <td>    0.040</td>\n",
       "</tr>\n",
       "<tr>\n",
       "  <th>ma.L5</th>  <td>    0.0642</td> <td>    0.025</td> <td>    2.550</td> <td> 0.011</td> <td>    0.015</td> <td>    0.114</td>\n",
       "</tr>\n",
       "<tr>\n",
       "  <th>sigma2</th> <td> 2.887e+05</td> <td> 3861.931</td> <td>   74.768</td> <td> 0.000</td> <td> 2.81e+05</td> <td> 2.96e+05</td>\n",
       "</tr>\n",
       "</table>\n",
       "<table class=\"simpletable\">\n",
       "<tr>\n",
       "  <th>Ljung-Box (L1) (Q):</th>     <td>0.11</td>  <th>  Jarque-Bera (JB):  </th> <td>521341.78</td>\n",
       "</tr>\n",
       "<tr>\n",
       "  <th>Prob(Q):</th>                <td>0.74</td>  <th>  Prob(JB):          </th>   <td>0.00</td>   \n",
       "</tr>\n",
       "<tr>\n",
       "  <th>Heteroskedasticity (H):</th> <td>12.33</td> <th>  Skew:              </th>   <td>7.91</td>   \n",
       "</tr>\n",
       "<tr>\n",
       "  <th>Prob(H) (two-sided):</th>    <td>0.00</td>  <th>  Kurtosis:          </th>  <td>137.52</td>  \n",
       "</tr>\n",
       "</table><br/><br/>Warnings:<br/>[1] Covariance matrix calculated using the outer product of gradients (complex-step)."
      ],
      "text/latex": [
       "\\begin{center}\n",
       "\\begin{tabular}{lclc}\n",
       "\\toprule\n",
       "\\textbf{Dep. Variable:}          & unique\\_reviews  & \\textbf{  No. Observations:  } &    682      \\\\\n",
       "\\textbf{Model:}                  &  ARIMA(1, 0, 5)  & \\textbf{  Log Likelihood     } & -5246.367   \\\\\n",
       "\\textbf{Date:}                   & Sat, 25 Nov 2023 & \\textbf{  AIC                } & 10508.734   \\\\\n",
       "\\textbf{Time:}                   &     22:38:30     & \\textbf{  BIC                } & 10544.934   \\\\\n",
       "\\textbf{Sample:}                 &        0         & \\textbf{  HQIC               } & 10522.744   \\\\\n",
       "\\textbf{}                        &       - 682      & \\textbf{                     } &             \\\\\n",
       "\\textbf{Covariance Type:}        &       opg        & \\textbf{                     } &             \\\\\n",
       "\\bottomrule\n",
       "\\end{tabular}\n",
       "\\begin{tabular}{lcccccc}\n",
       "                & \\textbf{coef} & \\textbf{std err} & \\textbf{z} & \\textbf{P$> |$z$|$} & \\textbf{[0.025} & \\textbf{0.975]}  \\\\\n",
       "\\midrule\n",
       "\\textbf{const}  &    1903.8226  &      485.010     &     3.925  &         0.000        &      953.221    &     2854.424     \\\\\n",
       "\\textbf{ar.L1}  &       0.9198  &        0.010     &    88.201  &         0.000        &        0.899    &        0.940     \\\\\n",
       "\\textbf{ma.L1}  &       0.0601  &        0.026     &     2.315  &         0.021        &        0.009    &        0.111     \\\\\n",
       "\\textbf{ma.L2}  &      -0.0547  &        0.017     &    -3.272  &         0.001        &       -0.088    &       -0.022     \\\\\n",
       "\\textbf{ma.L3}  &      -0.0274  &        0.028     &    -0.967  &         0.334        &       -0.083    &        0.028     \\\\\n",
       "\\textbf{ma.L4}  &       0.0026  &        0.019     &     0.140  &         0.889        &       -0.034    &        0.040     \\\\\n",
       "\\textbf{ma.L5}  &       0.0642  &        0.025     &     2.550  &         0.011        &        0.015    &        0.114     \\\\\n",
       "\\textbf{sigma2} &    2.887e+05  &     3861.931     &    74.768  &         0.000        &     2.81e+05    &     2.96e+05     \\\\\n",
       "\\bottomrule\n",
       "\\end{tabular}\n",
       "\\begin{tabular}{lclc}\n",
       "\\textbf{Ljung-Box (L1) (Q):}     &  0.11 & \\textbf{  Jarque-Bera (JB):  } & 521341.78  \\\\\n",
       "\\textbf{Prob(Q):}                &  0.74 & \\textbf{  Prob(JB):          } &    0.00    \\\\\n",
       "\\textbf{Heteroskedasticity (H):} & 12.33 & \\textbf{  Skew:              } &    7.91    \\\\\n",
       "\\textbf{Prob(H) (two-sided):}    &  0.00 & \\textbf{  Kurtosis:          } &   137.52   \\\\\n",
       "\\bottomrule\n",
       "\\end{tabular}\n",
       "%\\caption{SARIMAX Results}\n",
       "\\end{center}\n",
       "\n",
       "Warnings: \\newline\n",
       " [1] Covariance matrix calculated using the outer product of gradients (complex-step)."
      ],
      "text/plain": [
       "<class 'statsmodels.iolib.summary.Summary'>\n",
       "\"\"\"\n",
       "                               SARIMAX Results                                \n",
       "==============================================================================\n",
       "Dep. Variable:         unique_reviews   No. Observations:                  682\n",
       "Model:                 ARIMA(1, 0, 5)   Log Likelihood               -5246.367\n",
       "Date:                Sat, 25 Nov 2023   AIC                          10508.734\n",
       "Time:                        22:38:30   BIC                          10544.934\n",
       "Sample:                             0   HQIC                         10522.744\n",
       "                                - 682                                         \n",
       "Covariance Type:                  opg                                         \n",
       "==============================================================================\n",
       "                 coef    std err          z      P>|z|      [0.025      0.975]\n",
       "------------------------------------------------------------------------------\n",
       "const       1903.8226    485.010      3.925      0.000     953.221    2854.424\n",
       "ar.L1          0.9198      0.010     88.201      0.000       0.899       0.940\n",
       "ma.L1          0.0601      0.026      2.315      0.021       0.009       0.111\n",
       "ma.L2         -0.0547      0.017     -3.272      0.001      -0.088      -0.022\n",
       "ma.L3         -0.0274      0.028     -0.967      0.334      -0.083       0.028\n",
       "ma.L4          0.0026      0.019      0.140      0.889      -0.034       0.040\n",
       "ma.L5          0.0642      0.025      2.550      0.011       0.015       0.114\n",
       "sigma2      2.887e+05   3861.931     74.768      0.000    2.81e+05    2.96e+05\n",
       "===================================================================================\n",
       "Ljung-Box (L1) (Q):                   0.11   Jarque-Bera (JB):            521341.78\n",
       "Prob(Q):                              0.74   Prob(JB):                         0.00\n",
       "Heteroskedasticity (H):              12.33   Skew:                             7.91\n",
       "Prob(H) (two-sided):                  0.00   Kurtosis:                       137.52\n",
       "===================================================================================\n",
       "\n",
       "Warnings:\n",
       "[1] Covariance matrix calculated using the outer product of gradients (complex-step).\n",
       "\"\"\""
      ]
     },
     "execution_count": 49,
     "metadata": {},
     "output_type": "execute_result"
    }
   ],
   "source": [
    "model.summary()"
   ]
  },
  {
   "cell_type": "code",
   "execution_count": 50,
   "metadata": {},
   "outputs": [],
   "source": [
    "model = ARIMA(unique_reviews_per_day[\"unique_reviews\"], order=(1, 0, 2)).fit()"
   ]
  },
  {
   "cell_type": "code",
   "execution_count": 51,
   "metadata": {},
   "outputs": [
    {
     "data": {
      "text/html": [
       "<table class=\"simpletable\">\n",
       "<caption>SARIMAX Results</caption>\n",
       "<tr>\n",
       "  <th>Dep. Variable:</th>    <td>unique_reviews</td>  <th>  No. Observations:  </th>    <td>682</td>   \n",
       "</tr>\n",
       "<tr>\n",
       "  <th>Model:</th>            <td>ARIMA(1, 0, 2)</td>  <th>  Log Likelihood     </th> <td>-5248.061</td>\n",
       "</tr>\n",
       "<tr>\n",
       "  <th>Date:</th>            <td>Sat, 25 Nov 2023</td> <th>  AIC                </th> <td>10506.122</td>\n",
       "</tr>\n",
       "<tr>\n",
       "  <th>Time:</th>                <td>22:38:31</td>     <th>  BIC                </th> <td>10528.747</td>\n",
       "</tr>\n",
       "<tr>\n",
       "  <th>Sample:</th>                  <td>0</td>        <th>  HQIC               </th> <td>10514.878</td>\n",
       "</tr>\n",
       "<tr>\n",
       "  <th></th>                      <td> - 682</td>      <th>                     </th>     <td> </td>    \n",
       "</tr>\n",
       "<tr>\n",
       "  <th>Covariance Type:</th>        <td>opg</td>       <th>                     </th>     <td> </td>    \n",
       "</tr>\n",
       "</table>\n",
       "<table class=\"simpletable\">\n",
       "<tr>\n",
       "     <td></td>       <th>coef</th>     <th>std err</th>      <th>z</th>      <th>P>|z|</th>  <th>[0.025</th>    <th>0.975]</th>  \n",
       "</tr>\n",
       "<tr>\n",
       "  <th>const</th>  <td> 1903.8227</td> <td>  469.494</td> <td>    4.055</td> <td> 0.000</td> <td>  983.632</td> <td> 2824.013</td>\n",
       "</tr>\n",
       "<tr>\n",
       "  <th>ar.L1</th>  <td>    0.9218</td> <td>    0.010</td> <td>   89.634</td> <td> 0.000</td> <td>    0.902</td> <td>    0.942</td>\n",
       "</tr>\n",
       "<tr>\n",
       "  <th>ma.L1</th>  <td>    0.0774</td> <td>    0.023</td> <td>    3.386</td> <td> 0.001</td> <td>    0.033</td> <td>    0.122</td>\n",
       "</tr>\n",
       "<tr>\n",
       "  <th>ma.L2</th>  <td>   -0.0635</td> <td>    0.018</td> <td>   -3.607</td> <td> 0.000</td> <td>   -0.098</td> <td>   -0.029</td>\n",
       "</tr>\n",
       "<tr>\n",
       "  <th>sigma2</th> <td> 2.853e+05</td> <td> 3424.831</td> <td>   83.295</td> <td> 0.000</td> <td> 2.79e+05</td> <td> 2.92e+05</td>\n",
       "</tr>\n",
       "</table>\n",
       "<table class=\"simpletable\">\n",
       "<tr>\n",
       "  <th>Ljung-Box (L1) (Q):</th>     <td>0.01</td>  <th>  Jarque-Bera (JB):  </th> <td>546961.68</td>\n",
       "</tr>\n",
       "<tr>\n",
       "  <th>Prob(Q):</th>                <td>0.92</td>  <th>  Prob(JB):          </th>   <td>0.00</td>   \n",
       "</tr>\n",
       "<tr>\n",
       "  <th>Heteroskedasticity (H):</th> <td>12.41</td> <th>  Skew:              </th>   <td>8.03</td>   \n",
       "</tr>\n",
       "<tr>\n",
       "  <th>Prob(H) (two-sided):</th>    <td>0.00</td>  <th>  Kurtosis:          </th>  <td>140.80</td>  \n",
       "</tr>\n",
       "</table><br/><br/>Warnings:<br/>[1] Covariance matrix calculated using the outer product of gradients (complex-step)."
      ],
      "text/latex": [
       "\\begin{center}\n",
       "\\begin{tabular}{lclc}\n",
       "\\toprule\n",
       "\\textbf{Dep. Variable:}          & unique\\_reviews  & \\textbf{  No. Observations:  } &    682      \\\\\n",
       "\\textbf{Model:}                  &  ARIMA(1, 0, 2)  & \\textbf{  Log Likelihood     } & -5248.061   \\\\\n",
       "\\textbf{Date:}                   & Sat, 25 Nov 2023 & \\textbf{  AIC                } & 10506.122   \\\\\n",
       "\\textbf{Time:}                   &     22:38:31     & \\textbf{  BIC                } & 10528.747   \\\\\n",
       "\\textbf{Sample:}                 &        0         & \\textbf{  HQIC               } & 10514.878   \\\\\n",
       "\\textbf{}                        &       - 682      & \\textbf{                     } &             \\\\\n",
       "\\textbf{Covariance Type:}        &       opg        & \\textbf{                     } &             \\\\\n",
       "\\bottomrule\n",
       "\\end{tabular}\n",
       "\\begin{tabular}{lcccccc}\n",
       "                & \\textbf{coef} & \\textbf{std err} & \\textbf{z} & \\textbf{P$> |$z$|$} & \\textbf{[0.025} & \\textbf{0.975]}  \\\\\n",
       "\\midrule\n",
       "\\textbf{const}  &    1903.8227  &      469.494     &     4.055  &         0.000        &      983.632    &     2824.013     \\\\\n",
       "\\textbf{ar.L1}  &       0.9218  &        0.010     &    89.634  &         0.000        &        0.902    &        0.942     \\\\\n",
       "\\textbf{ma.L1}  &       0.0774  &        0.023     &     3.386  &         0.001        &        0.033    &        0.122     \\\\\n",
       "\\textbf{ma.L2}  &      -0.0635  &        0.018     &    -3.607  &         0.000        &       -0.098    &       -0.029     \\\\\n",
       "\\textbf{sigma2} &    2.853e+05  &     3424.831     &    83.295  &         0.000        &     2.79e+05    &     2.92e+05     \\\\\n",
       "\\bottomrule\n",
       "\\end{tabular}\n",
       "\\begin{tabular}{lclc}\n",
       "\\textbf{Ljung-Box (L1) (Q):}     &  0.01 & \\textbf{  Jarque-Bera (JB):  } & 546961.68  \\\\\n",
       "\\textbf{Prob(Q):}                &  0.92 & \\textbf{  Prob(JB):          } &    0.00    \\\\\n",
       "\\textbf{Heteroskedasticity (H):} & 12.41 & \\textbf{  Skew:              } &    8.03    \\\\\n",
       "\\textbf{Prob(H) (two-sided):}    &  0.00 & \\textbf{  Kurtosis:          } &   140.80   \\\\\n",
       "\\bottomrule\n",
       "\\end{tabular}\n",
       "%\\caption{SARIMAX Results}\n",
       "\\end{center}\n",
       "\n",
       "Warnings: \\newline\n",
       " [1] Covariance matrix calculated using the outer product of gradients (complex-step)."
      ],
      "text/plain": [
       "<class 'statsmodels.iolib.summary.Summary'>\n",
       "\"\"\"\n",
       "                               SARIMAX Results                                \n",
       "==============================================================================\n",
       "Dep. Variable:         unique_reviews   No. Observations:                  682\n",
       "Model:                 ARIMA(1, 0, 2)   Log Likelihood               -5248.061\n",
       "Date:                Sat, 25 Nov 2023   AIC                          10506.122\n",
       "Time:                        22:38:31   BIC                          10528.747\n",
       "Sample:                             0   HQIC                         10514.878\n",
       "                                - 682                                         \n",
       "Covariance Type:                  opg                                         \n",
       "==============================================================================\n",
       "                 coef    std err          z      P>|z|      [0.025      0.975]\n",
       "------------------------------------------------------------------------------\n",
       "const       1903.8227    469.494      4.055      0.000     983.632    2824.013\n",
       "ar.L1          0.9218      0.010     89.634      0.000       0.902       0.942\n",
       "ma.L1          0.0774      0.023      3.386      0.001       0.033       0.122\n",
       "ma.L2         -0.0635      0.018     -3.607      0.000      -0.098      -0.029\n",
       "sigma2      2.853e+05   3424.831     83.295      0.000    2.79e+05    2.92e+05\n",
       "===================================================================================\n",
       "Ljung-Box (L1) (Q):                   0.01   Jarque-Bera (JB):            546961.68\n",
       "Prob(Q):                              0.92   Prob(JB):                         0.00\n",
       "Heteroskedasticity (H):              12.41   Skew:                             8.03\n",
       "Prob(H) (two-sided):                  0.00   Kurtosis:                       140.80\n",
       "===================================================================================\n",
       "\n",
       "Warnings:\n",
       "[1] Covariance matrix calculated using the outer product of gradients (complex-step).\n",
       "\"\"\""
      ]
     },
     "execution_count": 51,
     "metadata": {},
     "output_type": "execute_result"
    }
   ],
   "source": [
    "model.summary()"
   ]
  },
  {
   "cell_type": "code",
   "execution_count": 52,
   "metadata": {},
   "outputs": [],
   "source": [
    "pred_time = 1 # predict 1 time step into the future\n",
    "result = model.predict(start=unique_reviews_per_day[\"unique_reviews\"].shape[0]-10, end=unique_reviews_per_day[\"unique_reviews\"].shape[0] + pred_time).reset_index(drop=True)"
   ]
  },
  {
   "cell_type": "code",
   "execution_count": 53,
   "metadata": {},
   "outputs": [
    {
     "data": {
      "text/plain": [
       "0     3057.995560\n",
       "1     2476.073399\n",
       "2     2293.961293\n",
       "3     2388.092855\n",
       "4     3184.235493\n",
       "5     3323.214417\n",
       "6     3074.562394\n",
       "7     2417.527762\n",
       "8     2142.499447\n",
       "9     2205.541698\n",
       "10    3805.022703\n",
       "11    3552.989408\n",
       "Name: predicted_mean, dtype: float64"
      ]
     },
     "execution_count": 53,
     "metadata": {},
     "output_type": "execute_result"
    }
   ],
   "source": [
    "result"
   ]
  },
  {
   "cell_type": "code",
   "execution_count": 54,
   "metadata": {},
   "outputs": [
    {
     "data": {
      "text/plain": [
       "0     3057.995560\n",
       "1     2476.073399\n",
       "2     2293.961293\n",
       "3     2388.092855\n",
       "4     3184.235493\n",
       "5     3323.214417\n",
       "6     3074.562394\n",
       "7     2417.527762\n",
       "8     2142.499447\n",
       "9     2205.541698\n",
       "10    3805.022703\n",
       "Name: predicted_mean, dtype: float64"
      ]
     },
     "execution_count": 54,
     "metadata": {},
     "output_type": "execute_result"
    }
   ],
   "source": [
    "predictions = result.iloc[:-1]\n",
    "predictions"
   ]
  },
  {
   "cell_type": "code",
   "execution_count": 55,
   "metadata": {},
   "outputs": [
    {
     "data": {
      "text/html": [
       "<div>\n",
       "<style scoped>\n",
       "    .dataframe tbody tr th:only-of-type {\n",
       "        vertical-align: middle;\n",
       "    }\n",
       "\n",
       "    .dataframe tbody tr th {\n",
       "        vertical-align: top;\n",
       "    }\n",
       "\n",
       "    .dataframe thead th {\n",
       "        text-align: right;\n",
       "    }\n",
       "</style>\n",
       "<table border=\"1\" class=\"dataframe\">\n",
       "  <thead>\n",
       "    <tr style=\"text-align: right;\">\n",
       "      <th></th>\n",
       "      <th>date</th>\n",
       "      <th>unique_reviews</th>\n",
       "    </tr>\n",
       "  </thead>\n",
       "  <tbody>\n",
       "    <tr>\n",
       "      <th>0</th>\n",
       "      <td>2023-11-03</td>\n",
       "      <td>3123</td>\n",
       "    </tr>\n",
       "    <tr>\n",
       "      <th>1</th>\n",
       "      <td>2023-11-04</td>\n",
       "      <td>2577</td>\n",
       "    </tr>\n",
       "    <tr>\n",
       "      <th>2</th>\n",
       "      <td>2023-11-05</td>\n",
       "      <td>2308</td>\n",
       "    </tr>\n",
       "    <tr>\n",
       "      <th>3</th>\n",
       "      <td>2023-11-06</td>\n",
       "      <td>2408</td>\n",
       "    </tr>\n",
       "    <tr>\n",
       "      <th>4</th>\n",
       "      <td>2023-11-07</td>\n",
       "      <td>3230</td>\n",
       "    </tr>\n",
       "    <tr>\n",
       "      <th>5</th>\n",
       "      <td>2023-11-08</td>\n",
       "      <td>3477</td>\n",
       "    </tr>\n",
       "    <tr>\n",
       "      <th>6</th>\n",
       "      <td>2023-11-09</td>\n",
       "      <td>3204</td>\n",
       "    </tr>\n",
       "    <tr>\n",
       "      <th>7</th>\n",
       "      <td>2023-11-10</td>\n",
       "      <td>2501</td>\n",
       "    </tr>\n",
       "    <tr>\n",
       "      <th>8</th>\n",
       "      <td>2023-11-11</td>\n",
       "      <td>2146</td>\n",
       "    </tr>\n",
       "    <tr>\n",
       "      <th>9</th>\n",
       "      <td>2023-11-12</td>\n",
       "      <td>2207</td>\n",
       "    </tr>\n",
       "    <tr>\n",
       "      <th>10</th>\n",
       "      <td>2023-11-13</td>\n",
       "      <td>3834</td>\n",
       "    </tr>\n",
       "  </tbody>\n",
       "</table>\n",
       "</div>"
      ],
      "text/plain": [
       "         date  unique_reviews\n",
       "0  2023-11-03            3123\n",
       "1  2023-11-04            2577\n",
       "2  2023-11-05            2308\n",
       "3  2023-11-06            2408\n",
       "4  2023-11-07            3230\n",
       "5  2023-11-08            3477\n",
       "6  2023-11-09            3204\n",
       "7  2023-11-10            2501\n",
       "8  2023-11-11            2146\n",
       "9  2023-11-12            2207\n",
       "10 2023-11-13            3834"
      ]
     },
     "execution_count": 55,
     "metadata": {},
     "output_type": "execute_result"
    }
   ],
   "source": [
    "actual_last10 = unique_reviews_per_day.tail(11).reset_index(drop=True)\n",
    "actual_last10"
   ]
  },
  {
   "cell_type": "code",
   "execution_count": 57,
   "metadata": {},
   "outputs": [
    {
     "name": "stdout",
     "output_type": "stream",
     "text": [
      "Test RMSE: 77.063\n"
     ]
    }
   ],
   "source": [
    "from math import sqrt\n",
    "rmse = sqrt(mean_squared_error(actual_last10['unique_reviews'], predictions))\n",
    "print('Test RMSE: %.3f' % rmse)"
   ]
  },
  {
   "cell_type": "code",
   "execution_count": 58,
   "metadata": {},
   "outputs": [
    {
     "name": "stdout",
     "output_type": "stream",
     "text": [
      "Test R^2: 0.980\n"
     ]
    }
   ],
   "source": [
    "from sklearn.metrics import r2_score\n",
    "# Calculate R^2 score\n",
    "r2 = r2_score(actual_last10['unique_reviews'], predictions)\n",
    "print('Test R^2: %.3f' % r2)"
   ]
  },
  {
   "cell_type": "code",
   "execution_count": 59,
   "metadata": {},
   "outputs": [
    {
     "data": {
      "text/html": [
       "<div>\n",
       "<style scoped>\n",
       "    .dataframe tbody tr th:only-of-type {\n",
       "        vertical-align: middle;\n",
       "    }\n",
       "\n",
       "    .dataframe tbody tr th {\n",
       "        vertical-align: top;\n",
       "    }\n",
       "\n",
       "    .dataframe thead th {\n",
       "        text-align: right;\n",
       "    }\n",
       "</style>\n",
       "<table border=\"1\" class=\"dataframe\">\n",
       "  <thead>\n",
       "    <tr style=\"text-align: right;\">\n",
       "      <th></th>\n",
       "      <th>date</th>\n",
       "      <th>unique_reviews</th>\n",
       "    </tr>\n",
       "  </thead>\n",
       "  <tbody>\n",
       "    <tr>\n",
       "      <th>0</th>\n",
       "      <td>2022-01-01</td>\n",
       "      <td>2029</td>\n",
       "    </tr>\n",
       "    <tr>\n",
       "      <th>1</th>\n",
       "      <td>2022-01-02</td>\n",
       "      <td>2208</td>\n",
       "    </tr>\n",
       "    <tr>\n",
       "      <th>2</th>\n",
       "      <td>2022-01-03</td>\n",
       "      <td>2013</td>\n",
       "    </tr>\n",
       "    <tr>\n",
       "      <th>3</th>\n",
       "      <td>2022-01-04</td>\n",
       "      <td>2081</td>\n",
       "    </tr>\n",
       "    <tr>\n",
       "      <th>4</th>\n",
       "      <td>2022-01-05</td>\n",
       "      <td>2234</td>\n",
       "    </tr>\n",
       "    <tr>\n",
       "      <th>...</th>\n",
       "      <td>...</td>\n",
       "      <td>...</td>\n",
       "    </tr>\n",
       "    <tr>\n",
       "      <th>677</th>\n",
       "      <td>2023-11-09</td>\n",
       "      <td>3204</td>\n",
       "    </tr>\n",
       "    <tr>\n",
       "      <th>678</th>\n",
       "      <td>2023-11-10</td>\n",
       "      <td>2501</td>\n",
       "    </tr>\n",
       "    <tr>\n",
       "      <th>679</th>\n",
       "      <td>2023-11-11</td>\n",
       "      <td>2146</td>\n",
       "    </tr>\n",
       "    <tr>\n",
       "      <th>680</th>\n",
       "      <td>2023-11-12</td>\n",
       "      <td>2207</td>\n",
       "    </tr>\n",
       "    <tr>\n",
       "      <th>681</th>\n",
       "      <td>2023-11-13</td>\n",
       "      <td>3834</td>\n",
       "    </tr>\n",
       "  </tbody>\n",
       "</table>\n",
       "<p>682 rows × 2 columns</p>\n",
       "</div>"
      ],
      "text/plain": [
       "          date  unique_reviews\n",
       "0   2022-01-01            2029\n",
       "1   2022-01-02            2208\n",
       "2   2022-01-03            2013\n",
       "3   2022-01-04            2081\n",
       "4   2022-01-05            2234\n",
       "..         ...             ...\n",
       "677 2023-11-09            3204\n",
       "678 2023-11-10            2501\n",
       "679 2023-11-11            2146\n",
       "680 2023-11-12            2207\n",
       "681 2023-11-13            3834\n",
       "\n",
       "[682 rows x 2 columns]"
      ]
     },
     "execution_count": 59,
     "metadata": {},
     "output_type": "execute_result"
    }
   ],
   "source": [
    "unique_reviews_per_day"
   ]
  },
  {
   "cell_type": "code",
   "execution_count": 60,
   "metadata": {},
   "outputs": [],
   "source": [
    "# Split into train and test sets\n",
    "size = int(len(unique_reviews_per_day[\"unique_reviews\"]) * 0.7)\n",
    "train, test = unique_reviews_per_day[\"unique_reviews\"][0:size], unique_reviews_per_day[\"unique_reviews\"][size:len(unique_reviews_per_day)]"
   ]
  },
  {
   "cell_type": "code",
   "execution_count": 61,
   "metadata": {},
   "outputs": [
    {
     "data": {
      "text/plain": [
       "((477,), (205,))"
      ]
     },
     "execution_count": 61,
     "metadata": {},
     "output_type": "execute_result"
    }
   ],
   "source": [
    "train.shape, test.shape"
   ]
  },
  {
   "cell_type": "code",
   "execution_count": 62,
   "metadata": {},
   "outputs": [],
   "source": [
    "model = ARIMA(train, order=(1, 0, 2)).fit()"
   ]
  },
  {
   "cell_type": "code",
   "execution_count": 63,
   "metadata": {},
   "outputs": [
    {
     "name": "stdout",
     "output_type": "stream",
     "text": [
      "Test RMSE: 2394.323\n",
      "Test R^2: -0.001\n"
     ]
    }
   ],
   "source": [
    "# Make predictions\n",
    "predict = model.predict(start=len(train), end=len(train)+len(test)-1, dynamic=False)\n",
    "\n",
    "# Calculate RMSE\n",
    "rmse = sqrt(mean_squared_error(test, predict))\n",
    "print('Test RMSE: %.3f' % rmse)\n",
    "\n",
    "from sklearn.metrics import r2_score\n",
    "# Calculate R^2 score\n",
    "r2 = r2_score(test, predict)\n",
    "print('Test R^2: %.3f' % r2)"
   ]
  },
  {
   "cell_type": "markdown",
   "metadata": {},
   "source": [
    "#### Bad Result fitting the model to the raw training data. data preperation is required to solve this."
   ]
  },
  {
   "cell_type": "code",
   "execution_count": null,
   "metadata": {},
   "outputs": [],
   "source": []
  },
  {
   "cell_type": "code",
   "execution_count": 64,
   "metadata": {},
   "outputs": [
    {
     "data": {
      "text/html": [
       "<div>\n",
       "<style scoped>\n",
       "    .dataframe tbody tr th:only-of-type {\n",
       "        vertical-align: middle;\n",
       "    }\n",
       "\n",
       "    .dataframe tbody tr th {\n",
       "        vertical-align: top;\n",
       "    }\n",
       "\n",
       "    .dataframe thead th {\n",
       "        text-align: right;\n",
       "    }\n",
       "</style>\n",
       "<table border=\"1\" class=\"dataframe\">\n",
       "  <thead>\n",
       "    <tr style=\"text-align: right;\">\n",
       "      <th></th>\n",
       "      <th>date</th>\n",
       "      <th>unique_reviews</th>\n",
       "    </tr>\n",
       "  </thead>\n",
       "  <tbody>\n",
       "    <tr>\n",
       "      <th>0</th>\n",
       "      <td>2022-01-01</td>\n",
       "      <td>2029</td>\n",
       "    </tr>\n",
       "    <tr>\n",
       "      <th>1</th>\n",
       "      <td>2022-01-02</td>\n",
       "      <td>2208</td>\n",
       "    </tr>\n",
       "    <tr>\n",
       "      <th>2</th>\n",
       "      <td>2022-01-03</td>\n",
       "      <td>2013</td>\n",
       "    </tr>\n",
       "    <tr>\n",
       "      <th>3</th>\n",
       "      <td>2022-01-04</td>\n",
       "      <td>2081</td>\n",
       "    </tr>\n",
       "    <tr>\n",
       "      <th>4</th>\n",
       "      <td>2022-01-05</td>\n",
       "      <td>2234</td>\n",
       "    </tr>\n",
       "    <tr>\n",
       "      <th>...</th>\n",
       "      <td>...</td>\n",
       "      <td>...</td>\n",
       "    </tr>\n",
       "    <tr>\n",
       "      <th>676</th>\n",
       "      <td>2023-11-08</td>\n",
       "      <td>3477</td>\n",
       "    </tr>\n",
       "    <tr>\n",
       "      <th>677</th>\n",
       "      <td>2023-11-09</td>\n",
       "      <td>3204</td>\n",
       "    </tr>\n",
       "    <tr>\n",
       "      <th>678</th>\n",
       "      <td>2023-11-10</td>\n",
       "      <td>2501</td>\n",
       "    </tr>\n",
       "    <tr>\n",
       "      <th>679</th>\n",
       "      <td>2023-11-11</td>\n",
       "      <td>2146</td>\n",
       "    </tr>\n",
       "    <tr>\n",
       "      <th>680</th>\n",
       "      <td>2023-11-12</td>\n",
       "      <td>2207</td>\n",
       "    </tr>\n",
       "  </tbody>\n",
       "</table>\n",
       "<p>659 rows × 2 columns</p>\n",
       "</div>"
      ],
      "text/plain": [
       "          date  unique_reviews\n",
       "0   2022-01-01            2029\n",
       "1   2022-01-02            2208\n",
       "2   2022-01-03            2013\n",
       "3   2022-01-04            2081\n",
       "4   2022-01-05            2234\n",
       "..         ...             ...\n",
       "676 2023-11-08            3477\n",
       "677 2023-11-09            3204\n",
       "678 2023-11-10            2501\n",
       "679 2023-11-11            2146\n",
       "680 2023-11-12            2207\n",
       "\n",
       "[659 rows x 2 columns]"
      ]
     },
     "execution_count": 64,
     "metadata": {},
     "output_type": "execute_result"
    }
   ],
   "source": [
    "Q1 = unique_reviews_per_day['unique_reviews'].quantile(0.25)\n",
    "Q3 = unique_reviews_per_day['unique_reviews'].quantile(0.75)\n",
    "IQR = Q3 - Q1\n",
    "\n",
    "# Create a new DataFrame excluding outliers\n",
    "df_clean = unique_reviews_per_day[~((unique_reviews_per_day['unique_reviews'] < (Q1 - 1.5 * IQR)) |(unique_reviews_per_day['unique_reviews'] > (Q3 + 1.5 * IQR)))]\n",
    "df_clean"
   ]
  },
  {
   "cell_type": "code",
   "execution_count": 65,
   "metadata": {},
   "outputs": [
    {
     "data": {
      "text/plain": [
       "<Axes: xlabel='date'>"
      ]
     },
     "execution_count": 65,
     "metadata": {},
     "output_type": "execute_result"
    },
    {
     "data": {
      "image/png": "[encoded data removed]",
      "text/plain": [
       "<Figure size 640x480 with 1 Axes>"
      ]
     },
     "metadata": {},
     "output_type": "display_data"
    }
   ],
   "source": [
    "df_clean.plot(x=\"date\", y=\"unique_reviews\")"
   ]
  },
  {
   "cell_type": "code",
   "execution_count": 66,
   "metadata": {},
   "outputs": [
    {
     "data": {
      "text/plain": [
       "(-2.992460945100666,\n",
       " 0.03560447657612172,\n",
       " 5,\n",
       " 653,\n",
       " {'1%': -3.4404038931945276,\n",
       "  '5%': -2.865976260062519,\n",
       "  '10%': -2.5691324834372633},\n",
       " 8674.567330975071)"
      ]
     },
     "execution_count": 66,
     "metadata": {},
     "output_type": "execute_result"
    }
   ],
   "source": [
    "adfuller(df_clean['unique_reviews'])\n",
    "# p-value < 0.05, so we can reject the null hypothesis that the data is not stationary"
   ]
  },
  {
   "cell_type": "code",
   "execution_count": 68,
   "metadata": {},
   "outputs": [],
   "source": [
    "# Split into train and test sets\n",
    "train_size = int(len(df_clean[\"unique_reviews\"]) * 0.7)\n",
    "train, test = df_clean[\"unique_reviews\"][0:train_size], df_clean[\"unique_reviews\"][train_size:len(df_clean)]"
   ]
  },
  {
   "cell_type": "code",
   "execution_count": 69,
   "metadata": {},
   "outputs": [
    {
     "data": {
      "text/plain": [
       "((461,), (198,))"
      ]
     },
     "execution_count": 69,
     "metadata": {},
     "output_type": "execute_result"
    }
   ],
   "source": [
    "train.shape, test.shape"
   ]
  },
  {
   "cell_type": "code",
   "execution_count": 70,
   "metadata": {},
   "outputs": [
    {
     "data": {
      "text/html": [
       "<table class=\"simpletable\">\n",
       "<caption>SARIMAX Results</caption>\n",
       "<tr>\n",
       "  <th>Dep. Variable:</th>    <td>unique_reviews</td>  <th>  No. Observations:  </th>    <td>461</td>   \n",
       "</tr>\n",
       "<tr>\n",
       "  <th>Model:</th>            <td>ARIMA(2, 1, 1)</td>  <th>  Log Likelihood     </th> <td>-3129.534</td>\n",
       "</tr>\n",
       "<tr>\n",
       "  <th>Date:</th>            <td>Sat, 25 Nov 2023</td> <th>  AIC                </th> <td>6267.068</td> \n",
       "</tr>\n",
       "<tr>\n",
       "  <th>Time:</th>                <td>22:43:45</td>     <th>  BIC                </th> <td>6283.592</td> \n",
       "</tr>\n",
       "<tr>\n",
       "  <th>Sample:</th>                  <td>0</td>        <th>  HQIC               </th> <td>6273.575</td> \n",
       "</tr>\n",
       "<tr>\n",
       "  <th></th>                      <td> - 461</td>      <th>                     </th>     <td> </td>    \n",
       "</tr>\n",
       "<tr>\n",
       "  <th>Covariance Type:</th>        <td>opg</td>       <th>                     </th>     <td> </td>    \n",
       "</tr>\n",
       "</table>\n",
       "<table class=\"simpletable\">\n",
       "<tr>\n",
       "     <td></td>       <th>coef</th>     <th>std err</th>      <th>z</th>      <th>P>|z|</th>  <th>[0.025</th>    <th>0.975]</th>  \n",
       "</tr>\n",
       "<tr>\n",
       "  <th>ar.L1</th>  <td>    0.5928</td> <td>    0.030</td> <td>   19.853</td> <td> 0.000</td> <td>    0.534</td> <td>    0.651</td>\n",
       "</tr>\n",
       "<tr>\n",
       "  <th>ar.L2</th>  <td>    0.1172</td> <td>    0.026</td> <td>    4.518</td> <td> 0.000</td> <td>    0.066</td> <td>    0.168</td>\n",
       "</tr>\n",
       "<tr>\n",
       "  <th>ma.L1</th>  <td>   -0.9553</td> <td>    0.021</td> <td>  -44.567</td> <td> 0.000</td> <td>   -0.997</td> <td>   -0.913</td>\n",
       "</tr>\n",
       "<tr>\n",
       "  <th>sigma2</th> <td>  4.74e+04</td> <td> 1370.824</td> <td>   34.576</td> <td> 0.000</td> <td> 4.47e+04</td> <td> 5.01e+04</td>\n",
       "</tr>\n",
       "</table>\n",
       "<table class=\"simpletable\">\n",
       "<tr>\n",
       "  <th>Ljung-Box (L1) (Q):</th>     <td>0.09</td> <th>  Jarque-Bera (JB):  </th> <td>2900.51</td>\n",
       "</tr>\n",
       "<tr>\n",
       "  <th>Prob(Q):</th>                <td>0.77</td> <th>  Prob(JB):          </th>  <td>0.00</td>  \n",
       "</tr>\n",
       "<tr>\n",
       "  <th>Heteroskedasticity (H):</th> <td>0.98</td> <th>  Skew:              </th>  <td>2.00</td>  \n",
       "</tr>\n",
       "<tr>\n",
       "  <th>Prob(H) (two-sided):</th>    <td>0.89</td> <th>  Kurtosis:          </th>  <td>14.63</td> \n",
       "</tr>\n",
       "</table><br/><br/>Warnings:<br/>[1] Covariance matrix calculated using the outer product of gradients (complex-step)."
      ],
      "text/latex": [
       "\\begin{center}\n",
       "\\begin{tabular}{lclc}\n",
       "\\toprule\n",
       "\\textbf{Dep. Variable:}          & unique\\_reviews  & \\textbf{  No. Observations:  } &    461      \\\\\n",
       "\\textbf{Model:}                  &  ARIMA(2, 1, 1)  & \\textbf{  Log Likelihood     } & -3129.534   \\\\\n",
       "\\textbf{Date:}                   & Sat, 25 Nov 2023 & \\textbf{  AIC                } &  6267.068   \\\\\n",
       "\\textbf{Time:}                   &     22:43:45     & \\textbf{  BIC                } &  6283.592   \\\\\n",
       "\\textbf{Sample:}                 &        0         & \\textbf{  HQIC               } &  6273.575   \\\\\n",
       "\\textbf{}                        &       - 461      & \\textbf{                     } &             \\\\\n",
       "\\textbf{Covariance Type:}        &       opg        & \\textbf{                     } &             \\\\\n",
       "\\bottomrule\n",
       "\\end{tabular}\n",
       "\\begin{tabular}{lcccccc}\n",
       "                & \\textbf{coef} & \\textbf{std err} & \\textbf{z} & \\textbf{P$> |$z$|$} & \\textbf{[0.025} & \\textbf{0.975]}  \\\\\n",
       "\\midrule\n",
       "\\textbf{ar.L1}  &       0.5928  &        0.030     &    19.853  &         0.000        &        0.534    &        0.651     \\\\\n",
       "\\textbf{ar.L2}  &       0.1172  &        0.026     &     4.518  &         0.000        &        0.066    &        0.168     \\\\\n",
       "\\textbf{ma.L1}  &      -0.9553  &        0.021     &   -44.567  &         0.000        &       -0.997    &       -0.913     \\\\\n",
       "\\textbf{sigma2} &     4.74e+04  &     1370.824     &    34.576  &         0.000        &     4.47e+04    &     5.01e+04     \\\\\n",
       "\\bottomrule\n",
       "\\end{tabular}\n",
       "\\begin{tabular}{lclc}\n",
       "\\textbf{Ljung-Box (L1) (Q):}     & 0.09 & \\textbf{  Jarque-Bera (JB):  } & 2900.51  \\\\\n",
       "\\textbf{Prob(Q):}                & 0.77 & \\textbf{  Prob(JB):          } &   0.00   \\\\\n",
       "\\textbf{Heteroskedasticity (H):} & 0.98 & \\textbf{  Skew:              } &   2.00   \\\\\n",
       "\\textbf{Prob(H) (two-sided):}    & 0.89 & \\textbf{  Kurtosis:          } &  14.63   \\\\\n",
       "\\bottomrule\n",
       "\\end{tabular}\n",
       "%\\caption{SARIMAX Results}\n",
       "\\end{center}\n",
       "\n",
       "Warnings: \\newline\n",
       " [1] Covariance matrix calculated using the outer product of gradients (complex-step)."
      ],
      "text/plain": [
       "<class 'statsmodels.iolib.summary.Summary'>\n",
       "\"\"\"\n",
       "                               SARIMAX Results                                \n",
       "==============================================================================\n",
       "Dep. Variable:         unique_reviews   No. Observations:                  461\n",
       "Model:                 ARIMA(2, 1, 1)   Log Likelihood               -3129.534\n",
       "Date:                Sat, 25 Nov 2023   AIC                           6267.068\n",
       "Time:                        22:43:45   BIC                           6283.592\n",
       "Sample:                             0   HQIC                          6273.575\n",
       "                                - 461                                         \n",
       "Covariance Type:                  opg                                         \n",
       "==============================================================================\n",
       "                 coef    std err          z      P>|z|      [0.025      0.975]\n",
       "------------------------------------------------------------------------------\n",
       "ar.L1          0.5928      0.030     19.853      0.000       0.534       0.651\n",
       "ar.L2          0.1172      0.026      4.518      0.000       0.066       0.168\n",
       "ma.L1         -0.9553      0.021    -44.567      0.000      -0.997      -0.913\n",
       "sigma2       4.74e+04   1370.824     34.576      0.000    4.47e+04    5.01e+04\n",
       "===================================================================================\n",
       "Ljung-Box (L1) (Q):                   0.09   Jarque-Bera (JB):              2900.51\n",
       "Prob(Q):                              0.77   Prob(JB):                         0.00\n",
       "Heteroskedasticity (H):               0.98   Skew:                             2.00\n",
       "Prob(H) (two-sided):                  0.89   Kurtosis:                        14.63\n",
       "===================================================================================\n",
       "\n",
       "Warnings:\n",
       "[1] Covariance matrix calculated using the outer product of gradients (complex-step).\n",
       "\"\"\""
      ]
     },
     "execution_count": 70,
     "metadata": {},
     "output_type": "execute_result"
    }
   ],
   "source": [
    "# Fit the model\n",
    "model = ARIMA(train, order=(2, 1, 1)).fit()\n",
    "model.summary()"
   ]
  },
  {
   "cell_type": "code",
   "execution_count": 71,
   "metadata": {},
   "outputs": [
    {
     "name": "stdout",
     "output_type": "stream",
     "text": [
      "Test MAE: 254.83\n",
      "Test RMSE: 422.032\n"
     ]
    }
   ],
   "source": [
    "predictions = model.predict(start=len(train), end=len(train)+len(test)-1, dynamic=False)\n",
    "\n",
    "mae = mean_absolute_error(test, predictions)\n",
    "print('Test MAE: %.2f'% mae)\n",
    "\n",
    "rmse = sqrt(mean_squared_error(test, predictions))\n",
    "print('Test RMSE: %.3f' % rmse)"
   ]
  },
  {
   "cell_type": "code",
   "execution_count": 72,
   "metadata": {},
   "outputs": [
    {
     "name": "stdout",
     "output_type": "stream",
     "text": [
      "Test MAPE: 16.46\n"
     ]
    }
   ],
   "source": [
    "def mean_absolute_percentage_error(y_true, y_pred): \n",
    "    y_true, y_pred = np.array(y_true), np.array(y_pred)\n",
    "    return np.mean(np.abs((y_true - y_pred) / y_true)) * 100\n",
    "\n",
    "mape = mean_absolute_percentage_error(test, predictions)\n",
    "print('Test MAPE: %.2f' % mape)"
   ]
  },
  {
   "cell_type": "markdown",
   "metadata": {},
   "source": [
    "## Text Analytics"
   ]
  },
  {
   "cell_type": "code",
   "execution_count": 73,
   "metadata": {},
   "outputs": [
    {
     "data": {
      "text/html": [
       "<div>\n",
       "<style scoped>\n",
       "    .dataframe tbody tr th:only-of-type {\n",
       "        vertical-align: middle;\n",
       "    }\n",
       "\n",
       "    .dataframe tbody tr th {\n",
       "        vertical-align: top;\n",
       "    }\n",
       "\n",
       "    .dataframe thead th {\n",
       "        text-align: right;\n",
       "    }\n",
       "</style>\n",
       "<table border=\"1\" class=\"dataframe\">\n",
       "  <thead>\n",
       "    <tr style=\"text-align: right;\">\n",
       "      <th></th>\n",
       "      <th>review_id</th>\n",
       "      <th>pseudo_author_id</th>\n",
       "      <th>author_name</th>\n",
       "      <th>review_text</th>\n",
       "      <th>review_rating</th>\n",
       "      <th>review_likes</th>\n",
       "      <th>author_app_version</th>\n",
       "      <th>review_timestamp</th>\n",
       "      <th>Year</th>\n",
       "      <th>year</th>\n",
       "    </tr>\n",
       "  </thead>\n",
       "  <tbody>\n",
       "    <tr>\n",
       "      <th>0</th>\n",
       "      <td>baecdfaa-fdcf-4ec2-8795-f9e1d0885c3a</td>\n",
       "      <td>167801889669597203549</td>\n",
       "      <td>Om******hy</td>\n",
       "      <td>bad app</td>\n",
       "      <td>1</td>\n",
       "      <td>0</td>\n",
       "      <td>318.0.0.39.154</td>\n",
       "      <td>2021-05-19 20:00:27</td>\n",
       "      <td>2021</td>\n",
       "      <td>2021</td>\n",
       "    </tr>\n",
       "    <tr>\n",
       "      <th>1</th>\n",
       "      <td>12e913d6-105e-4f0c-bb22-4f6a0561cb18</td>\n",
       "      <td>318460545610239421517</td>\n",
       "      <td>Sa****************ol</td>\n",
       "      <td>Really really annoying app ... like if its not...</td>\n",
       "      <td>1</td>\n",
       "      <td>0</td>\n",
       "      <td>317.0.0.51.119</td>\n",
       "      <td>2021-05-19 20:00:29</td>\n",
       "      <td>2021</td>\n",
       "      <td>2021</td>\n",
       "    </tr>\n",
       "    <tr>\n",
       "      <th>2</th>\n",
       "      <td>7db12237-0f42-4ef7-873b-99495d575331</td>\n",
       "      <td>530587565711923101092</td>\n",
       "      <td>Ca*********04</td>\n",
       "      <td>Cunsurinimo</td>\n",
       "      <td>1</td>\n",
       "      <td>0</td>\n",
       "      <td>293.0.0.43.120</td>\n",
       "      <td>2021-05-19 20:00:29</td>\n",
       "      <td>2021</td>\n",
       "      <td>2021</td>\n",
       "    </tr>\n",
       "    <tr>\n",
       "      <th>3</th>\n",
       "      <td>6d48f3e8-54c4-417a-83c9-6b198ef7c516</td>\n",
       "      <td>413352731163292273792</td>\n",
       "      <td>Ar**************07</td>\n",
       "      <td>Bad experience</td>\n",
       "      <td>1</td>\n",
       "      <td>0</td>\n",
       "      <td>318.0.0.39.154</td>\n",
       "      <td>2021-05-19 20:00:30</td>\n",
       "      <td>2021</td>\n",
       "      <td>2021</td>\n",
       "    </tr>\n",
       "    <tr>\n",
       "      <th>4</th>\n",
       "      <td>c4430a84-d74b-4e24-8ed6-1e28110a355b</td>\n",
       "      <td>972610065867074567951</td>\n",
       "      <td>Ab***********kh</td>\n",
       "      <td>Totally pathetic experience too many ads and b...</td>\n",
       "      <td>1</td>\n",
       "      <td>0</td>\n",
       "      <td>308.0.0.42.118</td>\n",
       "      <td>2021-05-19 20:00:30</td>\n",
       "      <td>2021</td>\n",
       "      <td>2021</td>\n",
       "    </tr>\n",
       "    <tr>\n",
       "      <th>...</th>\n",
       "      <td>...</td>\n",
       "      <td>...</td>\n",
       "      <td>...</td>\n",
       "      <td>...</td>\n",
       "      <td>...</td>\n",
       "      <td>...</td>\n",
       "      <td>...</td>\n",
       "      <td>...</td>\n",
       "      <td>...</td>\n",
       "      <td>...</td>\n",
       "    </tr>\n",
       "    <tr>\n",
       "      <th>2994731</th>\n",
       "      <td>f01698fa-5056-4199-b88f-d294050062cb</td>\n",
       "      <td>272225995443346295413</td>\n",
       "      <td>Ji**********ur</td>\n",
       "      <td>eed Red; Red raCCC !duxiixiuz En do</td>\n",
       "      <td>1</td>\n",
       "      <td>0</td>\n",
       "      <td>440.0.0.31.105</td>\n",
       "      <td>2023-11-13 23:20:59</td>\n",
       "      <td>2023</td>\n",
       "      <td>2023</td>\n",
       "    </tr>\n",
       "    <tr>\n",
       "      <th>2994732</th>\n",
       "      <td>796fa280-6530-49dc-bc7d-f93ae086b31d</td>\n",
       "      <td>147368069644520083993</td>\n",
       "      <td>A Google user</td>\n",
       "      <td>Not been working all day and no update availab...</td>\n",
       "      <td>1</td>\n",
       "      <td>0</td>\n",
       "      <td>440.0.0.31.105</td>\n",
       "      <td>2023-11-13 23:21:20</td>\n",
       "      <td>2023</td>\n",
       "      <td>2023</td>\n",
       "    </tr>\n",
       "    <tr>\n",
       "      <th>2994733</th>\n",
       "      <td>b31e8e70-4e3b-419b-aa2f-a8a3f5a0bd05</td>\n",
       "      <td>257906640422320735099</td>\n",
       "      <td>Wa***********em</td>\n",
       "      <td>Absolute bias towards Israel</td>\n",
       "      <td>1</td>\n",
       "      <td>0</td>\n",
       "      <td>436.0.0.35.101</td>\n",
       "      <td>2023-11-13 23:21:26</td>\n",
       "      <td>2023</td>\n",
       "      <td>2023</td>\n",
       "    </tr>\n",
       "    <tr>\n",
       "      <th>2994734</th>\n",
       "      <td>a229e971-5a99-47c7-bf07-48ca9c8ed491</td>\n",
       "      <td>180604354313420497079</td>\n",
       "      <td>Na********ed</td>\n",
       "      <td>لا حريه ف التعبر</td>\n",
       "      <td>1</td>\n",
       "      <td>0</td>\n",
       "      <td>438.0.0.33.118</td>\n",
       "      <td>2023-11-13 23:21:31</td>\n",
       "      <td>2023</td>\n",
       "      <td>2023</td>\n",
       "    </tr>\n",
       "    <tr>\n",
       "      <th>2994735</th>\n",
       "      <td>503f5763-d4cb-451d-8c14-74000e7db755</td>\n",
       "      <td>283630924020317250235</td>\n",
       "      <td>Sh********ud</td>\n",
       "      <td>Absolute bias towards Israel</td>\n",
       "      <td>1</td>\n",
       "      <td>0</td>\n",
       "      <td>440.0.0.31.105</td>\n",
       "      <td>2023-11-13 23:23:21</td>\n",
       "      <td>2023</td>\n",
       "      <td>2023</td>\n",
       "    </tr>\n",
       "  </tbody>\n",
       "</table>\n",
       "<p>2341493 rows × 10 columns</p>\n",
       "</div>"
      ],
      "text/plain": [
       "                                    review_id       pseudo_author_id  \\\n",
       "0        baecdfaa-fdcf-4ec2-8795-f9e1d0885c3a  167801889669597203549   \n",
       "1        12e913d6-105e-4f0c-bb22-4f6a0561cb18  318460545610239421517   \n",
       "2        7db12237-0f42-4ef7-873b-99495d575331  530587565711923101092   \n",
       "3        6d48f3e8-54c4-417a-83c9-6b198ef7c516  413352731163292273792   \n",
       "4        c4430a84-d74b-4e24-8ed6-1e28110a355b  972610065867074567951   \n",
       "...                                       ...                    ...   \n",
       "2994731  f01698fa-5056-4199-b88f-d294050062cb  272225995443346295413   \n",
       "2994732  796fa280-6530-49dc-bc7d-f93ae086b31d  147368069644520083993   \n",
       "2994733  b31e8e70-4e3b-419b-aa2f-a8a3f5a0bd05  257906640422320735099   \n",
       "2994734  a229e971-5a99-47c7-bf07-48ca9c8ed491  180604354313420497079   \n",
       "2994735  503f5763-d4cb-451d-8c14-74000e7db755  283630924020317250235   \n",
       "\n",
       "                  author_name  \\\n",
       "0                  Om******hy   \n",
       "1        Sa****************ol   \n",
       "2               Ca*********04   \n",
       "3          Ar**************07   \n",
       "4             Ab***********kh   \n",
       "...                       ...   \n",
       "2994731        Ji**********ur   \n",
       "2994732         A Google user   \n",
       "2994733       Wa***********em   \n",
       "2994734          Na********ed   \n",
       "2994735          Sh********ud   \n",
       "\n",
       "                                               review_text  review_rating  \\\n",
       "0                                                  bad app              1   \n",
       "1        Really really annoying app ... like if its not...              1   \n",
       "2                                              Cunsurinimo              1   \n",
       "3                                           Bad experience              1   \n",
       "4        Totally pathetic experience too many ads and b...              1   \n",
       "...                                                    ...            ...   \n",
       "2994731                eed Red; Red raCCC !duxiixiuz En do              1   \n",
       "2994732  Not been working all day and no update availab...              1   \n",
       "2994733                       Absolute bias towards Israel              1   \n",
       "2994734                                   لا حريه ف التعبر              1   \n",
       "2994735                       Absolute bias towards Israel              1   \n",
       "\n",
       "         review_likes author_app_version    review_timestamp  Year  year  \n",
       "0                   0     318.0.0.39.154 2021-05-19 20:00:27  2021  2021  \n",
       "1                   0     317.0.0.51.119 2021-05-19 20:00:29  2021  2021  \n",
       "2                   0     293.0.0.43.120 2021-05-19 20:00:29  2021  2021  \n",
       "3                   0     318.0.0.39.154 2021-05-19 20:00:30  2021  2021  \n",
       "4                   0     308.0.0.42.118 2021-05-19 20:00:30  2021  2021  \n",
       "...               ...                ...                 ...   ...   ...  \n",
       "2994731             0     440.0.0.31.105 2023-11-13 23:20:59  2023  2023  \n",
       "2994732             0     440.0.0.31.105 2023-11-13 23:21:20  2023  2023  \n",
       "2994733             0     436.0.0.35.101 2023-11-13 23:21:26  2023  2023  \n",
       "2994734             0     438.0.0.33.118 2023-11-13 23:21:31  2023  2023  \n",
       "2994735             0     440.0.0.31.105 2023-11-13 23:23:21  2023  2023  \n",
       "\n",
       "[2341493 rows x 10 columns]"
      ]
     },
     "execution_count": 73,
     "metadata": {},
     "output_type": "execute_result"
    }
   ],
   "source": [
    "df"
   ]
  },
  {
   "cell_type": "code",
   "execution_count": 74,
   "metadata": {},
   "outputs": [],
   "source": [
    "#pip install langdetect\n",
    "#pip install nltk"
   ]
  },
  {
   "cell_type": "code",
   "execution_count": 75,
   "metadata": {},
   "outputs": [],
   "source": [
    "df = df[df['year'] == 2023]"
   ]
  },
  {
   "cell_type": "code",
   "execution_count": 76,
   "metadata": {},
   "outputs": [],
   "source": [
    "df['review_text'] = df['review_text'].dropna()"
   ]
  },
  {
   "cell_type": "code",
   "execution_count": 77,
   "metadata": {},
   "outputs": [],
   "source": [
    "df['review_text'] = df['review_text'].astype(str)"
   ]
  },
  {
   "cell_type": "code",
   "execution_count": 78,
   "metadata": {},
   "outputs": [
    {
     "data": {
      "text/plain": [
       "2264704                                   Wow it is nice app\n",
       "2264708                                            Fahad❤️❤️\n",
       "2264709                                                 Nice\n",
       "2264710                                       Tbeml 5 EDT no\n",
       "2264711    Lecturer in odia aditya jr. and degree college...\n",
       "                                 ...                        \n",
       "2994731                  eed Red; Red raCCC !duxiixiuz En do\n",
       "2994732    Not been working all day and no update availab...\n",
       "2994733                         Absolute bias towards Israel\n",
       "2994734                                     لا حريه ف التعبر\n",
       "2994735                         Absolute bias towards Israel\n",
       "Name: review_text, Length: 574437, dtype: object"
      ]
     },
     "execution_count": 78,
     "metadata": {},
     "output_type": "execute_result"
    }
   ],
   "source": [
    "df['review_text']"
   ]
  },
  {
   "cell_type": "code",
   "execution_count": 83,
   "metadata": {},
   "outputs": [
    {
     "name": "stderr",
     "output_type": "stream",
     "text": [
      "[nltk_data] Downloading package stopwords to\n",
      "[nltk_data]     /Users/johannes/nltk_data...\n",
      "[nltk_data]   Package stopwords is already up-to-date!\n",
      "[nltk_data] Downloading package wordnet to\n",
      "[nltk_data]     /Users/johannes/nltk_data...\n"
     ]
    }
   ],
   "source": [
    "from langdetect import detect\n",
    "from sklearn.feature_extraction.text import CountVectorizer\n",
    "from sklearn.decomposition import LatentDirichletAllocation\n",
    "\n",
    "import nltk\n",
    "from nltk.corpus import stopwords\n",
    "nltk.download('stopwords')\n",
    "nltk.download('wordnet')\n",
    "\n",
    "from nltk.stem.wordnet import WordNetLemmatizer\n",
    "import string\n",
    "\n"
   ]
  },
  {
   "cell_type": "code",
   "execution_count": 84,
   "metadata": {},
   "outputs": [
    {
     "data": {
      "text/plain": [
       "[['wow', 'nice', 'app'],\n",
       " ['fahad❤️❤️'],\n",
       " ['nice'],\n",
       " ['tbeml', '5', 'edt'],\n",
       " ['lecturer',\n",
       "  'odia',\n",
       "  'aditya',\n",
       "  'jr',\n",
       "  'degree',\n",
       "  'college',\n",
       "  'ichchapuram',\n",
       "  '0k'],\n",
       " ['good'],\n",
       " ['want', 'grow', 'account'],\n",
       " [],\n",
       " ['app', 'crash', 'problame'],\n",
       " ['created',\n",
       "  'different',\n",
       "  'account',\n",
       "  'people',\n",
       "  'life',\n",
       "  'want',\n",
       "  'comment',\n",
       "  'stuff',\n",
       "  'said',\n",
       "  'meet',\n",
       "  'community',\n",
       "  'standard',\n",
       "  'whatever',\n",
       "  'looking',\n",
       "  'house',\n",
       "  'rent',\n",
       "  'way',\n",
       "  'facebooks',\n",
       "  'going',\n",
       "  'im',\n",
       "  'going',\n",
       "  'ever',\n",
       "  'facebook',\n",
       "  'turned',\n",
       "  'garbage'],\n",
       " ['pravinthakor'],\n",
       " ['please',\n",
       "  'facebook😥my',\n",
       "  'account',\n",
       "  'hacked',\n",
       "  'someone',\n",
       "  'hacked',\n",
       "  'facebook',\n",
       "  'account',\n",
       "  'changed',\n",
       "  'account',\n",
       "  'numberemail',\n",
       "  'password',\n",
       "  'data',\n",
       "  'date',\n",
       "  'birth',\n",
       "  'please',\n",
       "  'help',\n",
       "  'really',\n",
       "  'need',\n",
       "  'help',\n",
       "  'please'],\n",
       " ['😄😗🤑🤑'],\n",
       " ['s'],\n",
       " ['great'],\n",
       " ['good'],\n",
       " ['ih'],\n",
       " ['best'],\n",
       " ['ok'],\n",
       " ['facbook', 'good', 'place', 'vews', 'com'],\n",
       " ['agli', 'app', '👎👎👎'],\n",
       " ['video',\n",
       "  'stopped',\n",
       "  'playing',\n",
       "  'phone',\n",
       "  'together',\n",
       "  'app',\n",
       "  'sound',\n",
       "  'either',\n",
       "  '🤷🏻\\u200d♀️'],\n",
       " ['nice'],\n",
       " ['op'],\n",
       " ['vca'],\n",
       " ['🥰🥰🥰'],\n",
       " ['today'],\n",
       " ['jjddjjffjfjmmmmmmmmm',\n",
       "  'mnogo',\n",
       "  'bnnn',\n",
       "  'kg',\n",
       "  'ur',\n",
       "  'tri',\n",
       "  'iti',\n",
       "  'c',\n",
       "  'vi',\n",
       "  'cvnl',\n",
       "  'mmdlk',\n",
       "  'de',\n",
       "  'b',\n",
       "  'çcgjjkhi',\n",
       "  'm',\n",
       "  'said',\n",
       "  'app',\n",
       "  'would',\n",
       "  'easy',\n",
       "  'use',\n",
       "  'new',\n",
       "  'house',\n",
       "  'trying',\n",
       "  'call',\n",
       "  'somebody',\n",
       "  'say',\n",
       "  'page',\n",
       "  'like',\n",
       "  'said',\n",
       "  'something',\n",
       "  'cannot',\n",
       "  'way',\n",
       "  'showing',\n",
       "  'clear',\n",
       "  'page',\n",
       "  'number',\n",
       "  'like',\n",
       "  'telephone',\n",
       "  'big',\n",
       "  'telephone',\n",
       "  'like',\n",
       "  'cant',\n",
       "  'anybody',\n",
       "  'show',\n",
       "  'im',\n",
       "  'com'],\n",
       " ['block',\n",
       "  'account',\n",
       "  'tell',\n",
       "  'send',\n",
       "  'authorised',\n",
       "  'document',\n",
       "  'already',\n",
       "  'send',\n",
       "  'india',\n",
       "  'valid',\n",
       "  'ducument',\n",
       "  'adharcard',\n",
       "  'almost',\n",
       "  '8',\n",
       "  'month',\n",
       "  'ago',\n",
       "  'still',\n",
       "  'unlocked',\n",
       "  'account',\n",
       "  'great',\n",
       "  'service',\n",
       "  'wow'],\n",
       " ['good'],\n",
       " ['👌', 'ok'],\n",
       " ['rtv'],\n",
       " ['good'],\n",
       " ['like',\n",
       "  'understand',\n",
       "  'iti',\n",
       "  '82yrsoldi',\n",
       "  'want',\n",
       "  'play',\n",
       "  'protect',\n",
       "  'back',\n",
       "  'cant',\n",
       "  'find',\n",
       "  'understand',\n",
       "  'anything',\n",
       "  'meta',\n",
       "  'thank'],\n",
       " ['nice'],\n",
       " ['im', 'like', 'facebook', 'im', 'fellow', 'thanks', 'im', 'happy'],\n",
       " ['zcychyctt', 'gfc', 'tcyftd', 'gr', 'yv'],\n",
       " ['problem', 'account', 'run', 'please', 'help'],\n",
       " ['amazing',\n",
       "  'actually',\n",
       "  'though',\n",
       "  'cant',\n",
       "  'remember',\n",
       "  'unlock',\n",
       "  'againperhapsdue',\n",
       "  'ageim',\n",
       "  'already',\n",
       "  '69tnx',\n",
       "  'anyway'],\n",
       " ['good', 'app'],\n",
       " ['facebook',\n",
       "  'app',\n",
       "  'अछा',\n",
       "  'हैं',\n",
       "  'बहुत',\n",
       "  'कुछ',\n",
       "  'शिक्षने',\n",
       "  'को',\n",
       "  'मिलता।',\n",
       "  'लेकिन',\n",
       "  'इस',\n",
       "  'मे',\n",
       "  'एक',\n",
       "  'बडी',\n",
       "  'ख़राबी',\n",
       "  'ए',\n",
       "  'हैं',\n",
       "  'की',\n",
       "  'इस',\n",
       "  'facebook',\n",
       "  'company',\n",
       "  'मे',\n",
       "  'दोगलापन',\n",
       "  'बहुत',\n",
       "  'याद।',\n",
       "  'हम',\n",
       "  'भारतीय',\n",
       "  'सनातन',\n",
       "  'धर्म',\n",
       "  'के',\n",
       "  'लोग',\n",
       "  'कोई',\n",
       "  'थोड़ाबहुत',\n",
       "  'गहरा',\n",
       "  'सत्य',\n",
       "  'बात',\n",
       "  'इया',\n",
       "  'थोड़ाबहुत',\n",
       "  'गन्दी',\n",
       "  'बात',\n",
       "  'लिख',\n",
       "  'डाली',\n",
       "  'तो',\n",
       "  'अनर्थ',\n",
       "  'हो',\n",
       "  'जाते',\n",
       "  'और',\n",
       "  'हमारी',\n",
       "  'एकाउंट',\n",
       "  'को',\n",
       "  'कुछ',\n",
       "  'दिन',\n",
       "  'केलिए',\n",
       "  'बन्ध',\n",
       "  'कर',\n",
       "  'देता',\n",
       "  '।',\n",
       "  'लेकिन',\n",
       "  'दूसरे',\n",
       "  'धर्म',\n",
       "  'का',\n",
       "  'कोई',\n",
       "  'हम',\n",
       "  'भारतीय',\n",
       "  'सनातन',\n",
       "  'धर्म',\n",
       "  'को',\n",
       "  'गालीगलौज',\n",
       "  'करे',\n",
       "  'हमारे',\n",
       "  'देवी',\n",
       "  'देवताओ',\n",
       "  'गालीगलौज',\n",
       "  'करे',\n",
       "  'उसके',\n",
       "  'ऊपर',\n",
       "  'कोई',\n",
       "  'करवाई',\n",
       "  'नही',\n",
       "  'करनी।',\n",
       "  'ए',\n",
       "  'हैं',\n",
       "  'facebook',\n",
       "  'company',\n",
       "  'की',\n",
       "  'सबसे',\n",
       "  'बडी',\n",
       "  'ख़राबी।',\n",
       "  'भारतीय',\n",
       "  'सनातन',\n",
       "  'धर्म',\n",
       "  'के',\n",
       "  'लोग',\n",
       "  'को',\n",
       "  'इसे',\n",
       "  'बॉयकॉट',\n",
       "  'करन',\n",
       "  'चाहिए।'],\n",
       " ['ftggdrtkklmjgt', 'ct', 'gghf', 'yy', 'dr', 'b', 'na', 'yioo'],\n",
       " ['nice', 'app'],\n",
       " ['good'],\n",
       " ['bat',\n",
       "  'ayaw',\n",
       "  'ako',\n",
       "  'ipa',\n",
       "  'post',\n",
       "  'share',\n",
       "  'happen',\n",
       "  'account',\n",
       "  'overshare',\n",
       "  '😭',\n",
       "  'pls',\n",
       "  'fix',\n",
       "  'naiinis',\n",
       "  'napo',\n",
       "  'ako'],\n",
       " ['🍒🍒🍒🍒'],\n",
       " ['bring', 'back', 'editing', 'avatarrrr😭😭😭😭😭'],\n",
       " ['guda'],\n",
       " ['facebook',\n",
       "  'updatedtried',\n",
       "  'update',\n",
       "  'phone',\n",
       "  '6',\n",
       "  'time',\n",
       "  '2',\n",
       "  'day',\n",
       "  'noticed',\n",
       "  'done',\n",
       "  '20',\n",
       "  'time',\n",
       "  'last',\n",
       "  '30',\n",
       "  'day',\n",
       "  'that'],\n",
       " ['kashif'],\n",
       " ['good'],\n",
       " ['ripon', 'boddha26gemil'],\n",
       " ['good'],\n",
       " ['super'],\n",
       " ['entertaining', 'app'],\n",
       " ['good'],\n",
       " ['k', 'u', 'gohel'],\n",
       " ['amazing'],\n",
       " ['nice', 'facebook', 'thanks'],\n",
       " ['facebook', 'wonderful', 'app'],\n",
       " ['bakwass'],\n",
       " ['love', 'application'],\n",
       " ['good'],\n",
       " ['ok'],\n",
       " ['disturb', 'phone', 'call'],\n",
       " ['္္န4'],\n",
       " ['good'],\n",
       " ['mdyunus'],\n",
       " ['gg'],\n",
       " ['good'],\n",
       " ['good', 'app'],\n",
       " ['nice'],\n",
       " ['best'],\n",
       " ['gc', 'co'],\n",
       " ['aungaung'],\n",
       " ['facebook', 'locked', 'plz', 'hepl', 'unlock'],\n",
       " ['love', 'much'],\n",
       " ['vedio', 'clip', 'sex', 'shown', 'utubedelet', 'sex', 'vedios', 'u', 'tube'],\n",
       " ['😡'],\n",
       " ['nice'],\n",
       " ['znii'],\n",
       " ['good'],\n",
       " ['good'],\n",
       " ['depand', 'intention'],\n",
       " ['want', 'reface'],\n",
       " ['facebook', 'bahut', 'badhiya', 'chalte', 'hain'],\n",
       " ['facebook',\n",
       "  'keep',\n",
       "  'contact',\n",
       "  'family',\n",
       "  'friend',\n",
       "  'cool',\n",
       "  'cool',\n",
       "  'that',\n",
       "  'im',\n",
       "  'happy',\n",
       "  'remember',\n",
       "  'number',\n",
       "  'tiktok'],\n",
       " ['good'],\n",
       " ['guy',\n",
       "  'take',\n",
       "  'away',\n",
       "  '“relevant',\n",
       "  'comment”',\n",
       "  'filter',\n",
       "  'jump',\n",
       "  'back',\n",
       "  'bandwagon',\n",
       "  'pushing',\n",
       "  'everybody',\n",
       "  'delete',\n",
       "  'facebook',\n",
       "  'look',\n",
       "  'back',\n",
       "  'would',\n",
       "  'click',\n",
       "  '“all',\n",
       "  'comments”',\n",
       "  'see',\n",
       "  'comment',\n",
       "  'ive',\n",
       "  'previously',\n",
       "  'posted',\n",
       "  'talk',\n",
       "  'generic',\n",
       "  'cheap',\n",
       "  'shot',\n",
       "  'towards',\n",
       "  'censorship',\n",
       "  'theyre',\n",
       "  'going',\n",
       "  'fix',\n",
       "  'anything',\n",
       "  'care',\n",
       "  'think',\n",
       "  'theyre',\n",
       "  'giant',\n",
       "  'enough',\n",
       "  'keep',\n",
       "  'propaganda',\n",
       "  'machine',\n",
       "  'functioning',\n",
       "  'need'],\n",
       " ['awesome'],\n",
       " ['super'],\n",
       " ['app', 'really', 'good'],\n",
       " ['super', 'account', 'locked🔐', '😞'],\n",
       " ['good'],\n",
       " ['think',\n",
       "  'facebook',\n",
       "  'voilating',\n",
       "  'privacy',\n",
       "  'user',\n",
       "  'seeing',\n",
       "  'applying',\n",
       "  'called',\n",
       "  'community',\n",
       "  'guideline',\n",
       "  'messenger',\n",
       "  'chat',\n",
       "  'totally',\n",
       "  'unlawful',\n",
       "  'interfere',\n",
       "  'messenger',\n",
       "  'sending',\n",
       "  'threat',\n",
       "  'sexual',\n",
       "  'content',\n",
       "  'thats',\n",
       "  'non',\n",
       "  'facebook',\n",
       "  'headache',\n",
       "  'messenger',\n",
       "  'chat'],\n",
       " ['good', '👍app'],\n",
       " ['lost', 'dark', 'mode', 'uninstalled', 'app', 'together'],\n",
       " ['rana', 'qasir'],\n",
       " ['thank'],\n",
       " ['great', 'apps'],\n",
       " ['good',\n",
       "  'bt',\n",
       "  'fb',\n",
       "  'app',\n",
       "  'updated',\n",
       "  'phne',\n",
       "  'don’t',\n",
       "  'see',\n",
       "  'someone',\n",
       "  'birthday',\n",
       "  'notification',\n",
       "  'do'],\n",
       " ['vg'],\n",
       " ['good', '👍😊'],\n",
       " ['rzszwe'],\n",
       " ['time', 'west'],\n",
       " ['amazing'],\n",
       " ['get', 'code', 'problem'],\n",
       " ['johnn'],\n",
       " ['birthday', 'notification'],\n",
       " ['love', 'app'],\n",
       " ['best', 'app'],\n",
       " ['great'],\n",
       " ['op', 'aap'],\n",
       " ['nice'],\n",
       " ['rakeshrajrakeshrah'],\n",
       " ['bad',\n",
       "  '👎',\n",
       "  'privacy',\n",
       "  'policy',\n",
       "  'everyone',\n",
       "  'hack',\n",
       "  'password',\n",
       "  'change',\n",
       "  'email',\n",
       "  'recommended',\n",
       "  'leave',\n",
       "  'facebook',\n",
       "  'privacy',\n",
       "  'safe',\n",
       "  'today',\n",
       "  'someone',\n",
       "  'easily',\n",
       "  'hack',\n",
       "  'account',\n",
       "  'g',\n",
       "  'mail',\n",
       "  'think',\n",
       "  'twitter',\n",
       "  'better',\n",
       "  'facebook',\n",
       "  'someone',\n",
       "  'need',\n",
       "  'social',\n",
       "  'medium',\n",
       "  'install',\n",
       "  'twitter',\n",
       "  'share',\n",
       "  'privacy',\n",
       "  'install',\n",
       "  'whatsapp',\n",
       "  'delete',\n",
       "  'facebook',\n",
       "  'account',\n",
       "  'safe',\n",
       "  'hope',\n",
       "  'guy',\n",
       "  'understand',\n",
       "  'facebook',\n",
       "  'u',\n",
       "  'something',\n",
       "  'give',\n",
       "  'back',\n",
       "  'privacy',\n",
       "  'account',\n",
       "  'name',\n",
       "  'uzair',\n",
       "  'khan'],\n",
       " ['cannot', 'get', 'facebook', 'account', 'app😢'],\n",
       " ['nice'],\n",
       " ['sing',\n",
       "  'karaoke',\n",
       "  'starmaker',\n",
       "  'advertise',\n",
       "  'collaboration',\n",
       "  'live',\n",
       "  'show',\n",
       "  'facebook',\n",
       "  'make',\n",
       "  'simple',\n",
       "  'instagram',\n",
       "  'messenger',\n",
       "  'one',\n",
       "  'time',\n",
       "  'think',\n",
       "  'thats',\n",
       "  'amazing',\n",
       "  'im',\n",
       "  'eventually',\n",
       "  'trying',\n",
       "  'get',\n",
       "  'podcast',\n",
       "  'theyve',\n",
       "  'taught',\n",
       "  'different',\n",
       "  'thing',\n",
       "  'editing',\n",
       "  'also',\n",
       "  'think',\n",
       "  'awesome',\n",
       "  'theyre',\n",
       "  'willing',\n",
       "  'look',\n",
       "  'people',\n",
       "  'work',\n",
       "  'make',\n",
       "  'creatorsn',\n",
       "  'enough',\n",
       "  'follower',\n",
       "  'show',\n",
       "  'like',\n",
       "  'work',\n",
       "  'posting',\n",
       "  'reel',\n",
       "  'offer',\n",
       "  'plenty',\n",
       "  'effect',\n",
       "  'use',\n",
       "  'analytics'],\n",
       " ['excellet'],\n",
       " ['run', 'poetry'],\n",
       " ['یشین'],\n",
       " ['good'],\n",
       " ['বইছঝণ'],\n",
       " ['like', 'it☺☺☺'],\n",
       " ['testing'],\n",
       " ['app', 'update', 'working', 'properly', 'every', 'uninstall', 'update'],\n",
       " ['updated',\n",
       "  'fb',\n",
       "  'app',\n",
       "  'recently',\n",
       "  'still',\n",
       "  'giving',\n",
       "  'problem',\n",
       "  'im',\n",
       "  'problem',\n",
       "  'uploading',\n",
       "  'video',\n",
       "  'photo',\n",
       "  'etc',\n",
       "  'hope',\n",
       "  'problem',\n",
       "  'soonforward',\n",
       "  'make',\n",
       "  'app',\n",
       "  'much',\n",
       "  'better',\n",
       "  'easy',\n",
       "  'use'],\n",
       " ['great',\n",
       "  'app',\n",
       "  'keep',\n",
       "  'intouch',\n",
       "  'family',\n",
       "  'friend',\n",
       "  'last',\n",
       "  'country',\n",
       "  'ive',\n",
       "  'moved',\n",
       "  'away',\n",
       "  'keep',\n",
       "  'touch',\n",
       "  'family',\n",
       "  'friend',\n",
       "  'make',\n",
       "  'thing',\n",
       "  'easier',\n",
       "  'great',\n",
       "  'us',\n",
       "  'thanks',\n",
       "  'fb💯👍ps',\n",
       "  'ive',\n",
       "  'hacked',\n",
       "  'locked',\n",
       "  'txts',\n",
       "  'phone',\n",
       "  'call',\n",
       "  'nerd',\n",
       "  'pretending',\n",
       "  'asking',\n",
       "  'email',\n",
       "  'password',\n",
       "  'coward',\n",
       "  'ruined',\n",
       "  'people',\n",
       "  'xmas',\n",
       "  'childrens',\n",
       "  'lost',\n",
       "  'number'],\n",
       " ['sumitsk'],\n",
       " ['فخگب'],\n",
       " ['slow', 'loading', 'get', 'facebook', 'much', 'anymore', 'much', 'hassle'],\n",
       " ['nice'],\n",
       " ['babarali786'],\n",
       " ['nice'],\n",
       " ['nirestrict',\n",
       "  'ba',\n",
       "  'naman',\n",
       "  'ako',\n",
       "  'ng',\n",
       "  '29',\n",
       "  'day',\n",
       "  'wala',\n",
       "  'naman',\n",
       "  'akong',\n",
       "  'ginawa'],\n",
       " ['diffecult', 'use', 'application'],\n",
       " ['feel',\n",
       "  'disregarded',\n",
       "  'user',\n",
       "  'prefers',\n",
       "  'textbased',\n",
       "  'content',\n",
       "  'prefers',\n",
       "  'customize',\n",
       "  'newsfeed',\n",
       "  'reel',\n",
       "  'thoroughly',\n",
       "  'organized',\n",
       "  'will',\n",
       "  'find',\n",
       "  'continuing',\n",
       "  'proliferation',\n",
       "  'bot',\n",
       "  'scammer',\n",
       "  'unwanted',\n",
       "  'erotic',\n",
       "  'content',\n",
       "  'disappointing',\n",
       "  'well'],\n",
       " ['option', 'recover', 'profilekindly', 'help'],\n",
       " ['nice', 'aplication'],\n",
       " ['গগ'],\n",
       " ['right', 'way', 'get', 'entertainment'],\n",
       " ['alikhan'],\n",
       " ['working',\n",
       "  'properly',\n",
       "  'please',\n",
       "  'check',\n",
       "  'every',\n",
       "  'system',\n",
       "  'free',\n",
       "  'using',\n",
       "  'it',\n",
       "  'give',\n",
       "  'soo',\n",
       "  'trouble',\n",
       "  'please',\n",
       "  'fix'],\n",
       " ['nice', 'app'],\n",
       " ['worst', 'thing', 'whole', 'universe🥱'],\n",
       " ['by'],\n",
       " ['nice'],\n",
       " ['sorry'],\n",
       " ['cant', 'watch', 'video', 'without', 'ad', 'hectic', 'day'],\n",
       " ['plz'],\n",
       " ['stop', 'real', 'option'],\n",
       " ['supar'],\n",
       " ['good'],\n",
       " ['pp', 'p'],\n",
       " ['سلام'],\n",
       " ['good'],\n",
       " ['hl'],\n",
       " ['download'],\n",
       " ['quick', 'convenient'],\n",
       " ['way',\n",
       "  'many',\n",
       "  'ad',\n",
       "  'care',\n",
       "  'people',\n",
       "  'using',\n",
       "  'profile',\n",
       "  'picture',\n",
       "  'pretending',\n",
       "  'me',\n",
       "  'worst',\n",
       "  'keep',\n",
       "  'finding',\n",
       "  'facebook',\n",
       "  'life',\n",
       "  'people',\n",
       "  'getting',\n",
       "  'killed',\n",
       "  'shot',\n",
       "  'update',\n",
       "  'use',\n",
       "  'instagram',\n",
       "  'theyre',\n",
       "  'better'],\n",
       " ['🥰😍🤩', 'love', 'app', 'much', '🤩😍🥰'],\n",
       " ['disturbing', 'facebook', 'game'],\n",
       " ['cool'],\n",
       " ['useful', 'filter', 'working'],\n",
       " ['facebook', 'supporting', 'killing'],\n",
       " ['good'],\n",
       " ['super', 'good', 'morning'],\n",
       " ['nice', 'application', 'use', '10', 'year'],\n",
       " ['mathi', 'mathi'],\n",
       " ['karafg'],\n",
       " ['arun', 'kumar'],\n",
       " ['mama'],\n",
       " ['nice'],\n",
       " ['लू'],\n",
       " ['ok'],\n",
       " ['ezwa22w'],\n",
       " ['nice'],\n",
       " ['supper'],\n",
       " ['stop', 'working', 'also', 'minimized', 'processing', 'time'],\n",
       " ['super'],\n",
       " ['good'],\n",
       " ['jiabulhaque'],\n",
       " ['ooh', 'ya', 'okk', 'see', 'wo', 'gya', 'yy', 'n'],\n",
       " ['good', 'fast'],\n",
       " ['chunnu', 'kumar', 'nishad'],\n",
       " ['good', 'morning', '🌅🌄🌄🌄🌄🌅'],\n",
       " ['stuff',\n",
       "  'facebook',\n",
       "  'another',\n",
       "  'bunch',\n",
       "  'lying',\n",
       "  'hypocritical',\n",
       "  'nationalist'],\n",
       " ['best'],\n",
       " ['one', 'parent', '❤️', 'disney', 'movie', '🎬', 'faoz', '📱🎆'],\n",
       " ['people', 'run', 'app', 'support', 'pedophilia'],\n",
       " ['good', 'app'],\n",
       " ['app',\n",
       "  'post',\n",
       "  'video',\n",
       "  'picture',\n",
       "  'becomes',\n",
       "  'blur',\n",
       "  'story',\n",
       "  'solve',\n",
       "  'picture',\n",
       "  'post',\n",
       "  'problem'],\n",
       " ['informative', 'emancipative'],\n",
       " ['often', 'stop', 'wkingthis', 'horrible'],\n",
       " ['love', 'appvery', 'good', '❤️❤️'],\n",
       " ['like', '😍', '👍'],\n",
       " ['boot',\n",
       "  'chata',\n",
       "  'massage',\n",
       "  'nahi',\n",
       "  'gya',\n",
       "  'kishise',\n",
       "  'lot',\n",
       "  'massage',\n",
       "  'house',\n",
       "  'boyfriend',\n",
       "  'song',\n",
       "  'dynasty',\n",
       "  'good',\n",
       "  'day',\n",
       "  'massage',\n",
       "  'nahi',\n",
       "  'hai',\n",
       "  'tum',\n",
       "  'send',\n",
       "  'kar',\n",
       "  'rahi',\n",
       "  'massage',\n",
       "  'help',\n",
       "  '❤️❤️',\n",
       "  'love',\n",
       "  'rhethe',\n",
       "  'really',\n",
       "  'want',\n",
       "  'ride',\n",
       "  'love',\n",
       "  'r',\n",
       "  'ride',\n",
       "  'home',\n",
       "  'jagah',\n",
       "  'massage',\n",
       "  'help',\n",
       "  'family',\n",
       "  'na',\n",
       "  'please',\n",
       "  'btao',\n",
       "  'massage',\n",
       "  'nahi',\n",
       "  'aaya',\n",
       "  'really',\n",
       "  'appreciate',\n",
       "  'kya',\n",
       "  'hai',\n",
       "  'aur',\n",
       "  'block',\n",
       "  'cheese',\n",
       "  'expected',\n",
       "  'bro',\n",
       "  'ride',\n",
       "  'home',\n",
       "  'song',\n",
       "  'dynasty',\n",
       "  'bhai',\n",
       "  'nirmal',\n",
       "  'singh'],\n",
       " ['cant',\n",
       "  'access',\n",
       "  'photo',\n",
       "  'granted',\n",
       "  'facebook',\n",
       "  'permission',\n",
       "  'still',\n",
       "  'wont',\n",
       "  'let',\n",
       "  'upload',\n",
       "  'picture',\n",
       "  'see',\n",
       "  'half',\n",
       "  'photo',\n",
       "  'phone'],\n",
       " ['ಪಕು', 'ayh'],\n",
       " ['good'],\n",
       " ['good'],\n",
       " ['like'],\n",
       " ['display',\n",
       "  'new',\n",
       "  'notification',\n",
       "  'like',\n",
       "  'comment',\n",
       "  'sometimes',\n",
       "  'hour',\n",
       "  'later'],\n",
       " ['nice'],\n",
       " ['xx'],\n",
       " ['good'],\n",
       " ['😊'],\n",
       " ['thenk'],\n",
       " ['hero'],\n",
       " ['nice'],\n",
       " ['hot',\n",
       "  'garbage',\n",
       "  'censorship',\n",
       "  'enough',\n",
       "  'make',\n",
       "  'hate',\n",
       "  'it',\n",
       "  'greed',\n",
       "  'set',\n",
       "  'get',\n",
       "  'ad',\n",
       "  'soon',\n",
       "  'click',\n",
       "  'video',\n",
       "  'id',\n",
       "  'give',\n",
       "  'zero',\n",
       "  'star',\n",
       "  'could'],\n",
       " [],\n",
       " ['nice'],\n",
       " ['nice', 'apps'],\n",
       " ['𝑱𝒐𝒔𝒔𝒔'],\n",
       " ['cant', 'comment', 'fb', 'reel', 'pause', 'them', 's22', 'ultra', 'week'],\n",
       " ['good', 'app'],\n",
       " ['amit', 'kumar', 'p'],\n",
       " ['satendsingh', '💯💯💯💥🌠🌉🌆🌏🌙🌧️🌈🌍🌎🌟🌱🖐️🤚✋💖😈✨🌛🌜🤒🤑👿👹😬🤪😜🥰🤩🌠🌆🌉🤑🤒😈🌜🌛😈'],\n",
       " ['নাইস'],\n",
       " ['nice'],\n",
       " [],\n",
       " ['profile'],\n",
       " ['account',\n",
       "  'hacked',\n",
       "  '9',\n",
       "  'month',\n",
       "  'response',\n",
       "  'spend',\n",
       "  '40k',\n",
       "  'account',\n",
       "  'playing',\n",
       "  'free',\n",
       "  'fire'],\n",
       " ['good', 'job'],\n",
       " ['great',\n",
       "  'app',\n",
       "  'suggested',\n",
       "  'improvement',\n",
       "  'app',\n",
       "  'could',\n",
       "  'explore',\n",
       "  'multiple',\n",
       "  'tab',\n",
       "  'like',\n",
       "  'browser',\n",
       "  'enhanced',\n",
       "  'messaging',\n",
       "  'feature'],\n",
       " ['terrible',\n",
       "  'cant',\n",
       "  'post',\n",
       "  'photo',\n",
       "  'wi',\n",
       "  'going',\n",
       "  'many',\n",
       "  'hoop',\n",
       "  'want',\n",
       "  'post',\n",
       "  'photo',\n",
       "  'gallery',\n",
       "  'wo',\n",
       "  'prove',\n",
       "  'phone',\n",
       "  'gallery',\n",
       "  'b',\n",
       "  'protecting',\n",
       "  'myself',\n",
       "  'interfering',\n",
       "  'sharing',\n",
       "  'personal',\n",
       "  'photo',\n",
       "  'pita'],\n",
       " ['bharat', 'mata', 'ki', 'jaijai', 'hind', 'jai', 'bharat'],\n",
       " ['quite',\n",
       "  'possibly',\n",
       "  'worst',\n",
       "  'social',\n",
       "  'medium',\n",
       "  'platform',\n",
       "  'around',\n",
       "  'ban',\n",
       "  'simplest',\n",
       "  'post',\n",
       "  'comment',\n",
       "  'cyber',\n",
       "  'stalk',\n",
       "  'people',\n",
       "  'constantly',\n",
       "  'try',\n",
       "  'ban',\n",
       "  'thing',\n",
       "  'old',\n",
       "  'policy',\n",
       "  'allowed',\n",
       "  'get',\n",
       "  'banned',\n",
       "  'look',\n",
       "  'every',\n",
       "  'reason',\n",
       "  'again',\n",
       "  'think',\n",
       "  'accuse',\n",
       "  'user',\n",
       "  'harasser',\n",
       "  'allow',\n",
       "  'racist',\n",
       "  'sexist',\n",
       "  'violent',\n",
       "  'content',\n",
       "  'bother',\n",
       "  'reporting',\n",
       "  'whats',\n",
       "  'actually',\n",
       "  'offensive',\n",
       "  'never',\n",
       "  'remove',\n",
       "  'it',\n",
       "  'app',\n",
       "  'trash'],\n",
       " ['nice'],\n",
       " ['concerning',\n",
       "  'huge',\n",
       "  'increasement',\n",
       "  'pedophile',\n",
       "  'group',\n",
       "  'platform',\n",
       "  'fb',\n",
       "  'staff',\n",
       "  'said',\n",
       "  'nothing',\n",
       "  'wrong',\n",
       "  'group',\n",
       "  'update',\n",
       "  'funny',\n",
       "  'get',\n",
       "  'banned',\n",
       "  'literally',\n",
       "  'anything',\n",
       "  'cuz',\n",
       "  'algorithm',\n",
       "  'banning',\n",
       "  'pedophile',\n",
       "  'group',\n",
       "  'intact',\n",
       "  'hypocrite',\n",
       "  'update',\n",
       "  'stuff',\n",
       "  'facebook',\n",
       "  'useless'],\n",
       " ['fix',\n",
       "  'dating',\n",
       "  'part',\n",
       "  'facebook',\n",
       "  'going',\n",
       "  '2023',\n",
       "  'original',\n",
       "  'post',\n",
       "  '2020',\n",
       "  'still',\n",
       "  'fixed',\n",
       "  'facebook',\n",
       "  'dating'],\n",
       " ['cant',\n",
       "  'change',\n",
       "  'email',\n",
       "  'like',\n",
       "  'im',\n",
       "  'stuck',\n",
       "  'old',\n",
       "  'one',\n",
       "  'option',\n",
       "  'removal',\n",
       "  'also',\n",
       "  'cant',\n",
       "  'add',\n",
       "  'new',\n",
       "  'email',\n",
       "  'whenever',\n",
       "  'try',\n",
       "  'page',\n",
       "  'found',\n",
       "  'link',\n",
       "  'broken',\n",
       "  'appears',\n",
       "  'please',\n",
       "  'fix',\n",
       "  'bugg',\n",
       "  'soon',\n",
       "  'possible',\n",
       "  'im',\n",
       "  'really',\n",
       "  'frustrated',\n",
       "  'disappointed',\n",
       "  'too'],\n",
       " ['ajitkumat'],\n",
       " ['thank', 'sar'],\n",
       " ['good'],\n",
       " ['suck', 'work', 'son', 'phone'],\n",
       " ['riyaj', 'khan'],\n",
       " ['app',\n",
       "  'updated',\n",
       "  'none',\n",
       "  'group',\n",
       "  'seen',\n",
       "  'group',\n",
       "  'tab',\n",
       "  'want',\n",
       "  'go',\n",
       "  'group',\n",
       "  'page',\n",
       "  'either',\n",
       "  'search',\n",
       "  'group',\n",
       "  'use',\n",
       "  'browser',\n",
       "  'group',\n",
       "  'button',\n",
       "  'display',\n",
       "  'suggestion',\n",
       "  'terrible',\n",
       "  'however',\n",
       "  'give',\n",
       "  'option',\n",
       "  'pin',\n",
       "  'favorite',\n",
       "  'see',\n",
       "  'them'],\n",
       " ['happiness', 'free'],\n",
       " ['good'],\n",
       " ['wow'],\n",
       " ['nice'],\n",
       " ['cannot',\n",
       "  'find',\n",
       "  'way',\n",
       "  'disconnect',\n",
       "  'instagram',\n",
       "  'account',\n",
       "  'facebook',\n",
       "  'account',\n",
       "  'please',\n",
       "  'help'],\n",
       " ['turning',\n",
       "  'big',\n",
       "  'pile',\n",
       "  'know',\n",
       "  'ive',\n",
       "  'never',\n",
       "  'problem',\n",
       "  'posting',\n",
       "  'thing',\n",
       "  'im',\n",
       "  'getting',\n",
       "  'flagged',\n",
       "  'kind',\n",
       "  'stupid',\n",
       "  'stuff',\n",
       "  'plan',\n",
       "  'logging',\n",
       "  'getting',\n",
       "  'back'],\n",
       " ['good'],\n",
       " ['updeted'],\n",
       " ['app',\n",
       "  'worstmy',\n",
       "  'account',\n",
       "  'got',\n",
       "  'erased',\n",
       "  'sudden',\n",
       "  'lost',\n",
       "  'friend',\n",
       "  'chatsi',\n",
       "  'hope',\n",
       "  'u',\n",
       "  'guy',\n",
       "  'fix',\n",
       "  'ok'],\n",
       " ['pintukumar'],\n",
       " ['please',\n",
       "  'fix',\n",
       "  'marketplace',\n",
       "  '😭😭😭',\n",
       "  'search',\n",
       "  'make',\n",
       "  'vehicle',\n",
       "  'cannot',\n",
       "  'move',\n",
       "  'choose',\n",
       "  'option',\n",
       "  'ex',\n",
       "  'honda',\n",
       "  'itll',\n",
       "  'continue',\n",
       "  'click',\n",
       "  'skip',\n",
       "  'see',\n",
       "  'want',\n",
       "  'that'],\n",
       " ['awful'],\n",
       " ['happy', 'new'],\n",
       " ['kokokookgood'],\n",
       " ['tq'],\n",
       " ['good'],\n",
       " ['ok'],\n",
       " ['fix', 'many', 'bug', 'pls', 'fixed'],\n",
       " ['qq'],\n",
       " ['tuntunkolhi'],\n",
       " ['mahad', 'shuceb'],\n",
       " ['good', 'vut', 'ok'],\n",
       " ['ok'],\n",
       " ['excellent'],\n",
       " ['good'],\n",
       " ['need', 'facebook', 'app', 'messenger', 'please'],\n",
       " ['good', 'app'],\n",
       " ['going',\n",
       "  'downhill',\n",
       "  'today',\n",
       "  'keep',\n",
       "  'getting',\n",
       "  'logged',\n",
       "  'out',\n",
       "  'restricted',\n",
       "  'liking',\n",
       "  'post',\n",
       "  'anything',\n",
       "  '48',\n",
       "  'hour',\n",
       "  'got',\n",
       "  '25',\n",
       "  'hour',\n",
       "  'morning',\n",
       "  'saw',\n",
       "  'notification',\n",
       "  'reset',\n",
       "  'back',\n",
       "  '2',\n",
       "  'day',\n",
       "  'restriction',\n",
       "  'lifted',\n",
       "  'violate',\n",
       "  'facebook',\n",
       "  'policy',\n",
       "  'liking',\n",
       "  'post',\n",
       "  'guy',\n",
       "  'turning',\n",
       "  'twitter',\n",
       "  'instagram',\n",
       "  'suck',\n",
       "  'case',\n",
       "  'catch',\n",
       "  'subtext',\n",
       "  'depend',\n",
       "  'guy',\n",
       "  'business',\n",
       "  'spend',\n",
       "  'money',\n",
       "  'advertising'],\n",
       " ['facebook',\n",
       "  'product',\n",
       "  'tag',\n",
       "  'animated',\n",
       "  'gif',\n",
       "  'open',\n",
       "  'samsung',\n",
       "  'note',\n",
       "  '20',\n",
       "  'ultra',\n",
       "  'freeze',\n",
       "  'gif',\n",
       "  'open',\n",
       "  'desktop',\n",
       "  'ipad'],\n",
       " ['promote', 'sexy', 'app', 'ad'],\n",
       " ['good'],\n",
       " ['video',\n",
       "  'pause',\n",
       "  'anymore',\n",
       "  'also',\n",
       "  'sick',\n",
       "  'political',\n",
       "  'agenda',\n",
       "  'stop',\n",
       "  'shoving',\n",
       "  'vaccine',\n",
       "  'throat',\n",
       "  'ill',\n",
       "  'make',\n",
       "  'decision',\n",
       "  'without',\n",
       "  'propaganda'],\n",
       " ['good'],\n",
       " ['l', 'n', 'e'],\n",
       " ['terrible'],\n",
       " ['e111e'],\n",
       " ['know', 'app', 'running', 'slow'],\n",
       " ['dark', 'mode'],\n",
       " ['awesome'],\n",
       " ['awesome', 'great', 'game'],\n",
       " ['nice', 'appp'],\n",
       " ['😘', '😘', '😘'],\n",
       " ['cant', 'comment'],\n",
       " ['excellence', 'facebook'],\n",
       " ['good'],\n",
       " ['ledt',\n",
       "  'following',\n",
       "  'review',\n",
       "  '2018',\n",
       "  'still',\n",
       "  'feel',\n",
       "  'same',\n",
       "  'longer',\n",
       "  'using',\n",
       "  'app',\n",
       "  'terrible',\n",
       "  'new',\n",
       "  'update',\n",
       "  'news',\n",
       "  'feed',\n",
       "  'awful',\n",
       "  'see',\n",
       "  '10',\n",
       "  'post',\n",
       "  'over',\n",
       "  '5',\n",
       "  'day',\n",
       "  'ago',\n",
       "  'even',\n",
       "  'recent',\n",
       "  'still',\n",
       "  'get',\n",
       "  'thing',\n",
       "  '5',\n",
       "  'day',\n",
       "  'ago',\n",
       "  'top',\n",
       "  'content',\n",
       "  'longer',\n",
       "  'post',\n",
       "  'people',\n",
       "  'know',\n",
       "  'random',\n",
       "  'ad',\n",
       "  'page',\n",
       "  'youfacebook',\n",
       "  'selected'],\n",
       " ['wow', 'nice'],\n",
       " ['ସତତସତ'],\n",
       " ['good'],\n",
       " ['disappointed'],\n",
       " ['sahen'],\n",
       " ['n', 'ok'],\n",
       " ['dj'],\n",
       " ['application', 'deserve', 'rated', 'well', '100', 'give', '93'],\n",
       " ['upload', 'photo', 'profile', 'keep', 'failed', 'month'],\n",
       " ['ravan', 'following', 'karo'],\n",
       " ['maleknuristan'],\n",
       " ['unknown', 'error', 'occurred', 'shown', 'please', 'solve', 'problem'],\n",
       " ['ঢ়ঢ়ঢ়ঢ়ভডডঢিগ', 'ইফ'],\n",
       " ['nice'],\n",
       " ['cant', 'find', 'device', 'mirror', 'tv', 'room', 'wifi', 'network'],\n",
       " ['app', 'better', 'good', 'night', 'hahahahhahahahaga'],\n",
       " ['definitely', 'must', 'day'],\n",
       " ['yeah'],\n",
       " ['depak'],\n",
       " ['sanjay'],\n",
       " ['like', 'apple', 'hate', 'galaxy'],\n",
       " ['eyf7'],\n",
       " ['good'],\n",
       " ['never',\n",
       "  'dull',\n",
       "  'moment',\n",
       "  'nonsense',\n",
       "  'drama',\n",
       "  'u',\n",
       "  'spit',\n",
       "  'still',\n",
       "  'amazing'],\n",
       " ['moltivational'],\n",
       " ['sorry', 'po', 'ulet'],\n",
       " ['download'],\n",
       " ['usefull'],\n",
       " ['open'],\n",
       " ['cbhjgj', 'vishal'],\n",
       " ['fix', 'facebook'],\n",
       " ['much', 'feature', 'social', 'money'],\n",
       " ['restarts'],\n",
       " ['eéè8444t', 'y71'],\n",
       " ['cant', 'login', 'facebook', 'account'],\n",
       " ['good', 'app'],\n",
       " ['ok', 'nice'],\n",
       " ['good'],\n",
       " ['something', 'wrong', 'facebook', 'again'],\n",
       " ['facebook',\n",
       "  'operated',\n",
       "  'hypocrite',\n",
       "  'post',\n",
       "  'animal',\n",
       "  'tortured',\n",
       "  'someone',\n",
       "  'make',\n",
       "  'comment',\n",
       "  'done',\n",
       "  'abuser',\n",
       "  'restrict',\n",
       "  'account'],\n",
       " ['used',\n",
       "  'facebook',\n",
       "  'lot',\n",
       "  'last',\n",
       "  '2',\n",
       "  'update',\n",
       "  'facebook',\n",
       "  'open',\n",
       "  'kind',\n",
       "  'way',\n",
       "  'unstalled',\n",
       "  'installed',\n",
       "  'nothing',\n",
       "  'work',\n",
       "  'hope',\n",
       "  'fix',\n",
       "  'problem'],\n",
       " ['happy', 'new', 'year', '2023'],\n",
       " ['used',\n",
       "  'like',\n",
       "  'it',\n",
       "  'cant',\n",
       "  'log',\n",
       "  'let',\n",
       "  'confirm',\n",
       "  'am',\n",
       "  'even',\n",
       "  'emailed',\n",
       "  'them',\n",
       "  'meta',\n",
       "  'suck'],\n",
       " ['ok'],\n",
       " ['app', 'seemingly', 'developed', 'moron'],\n",
       " ['sahil', 'gupt', 'vanshi'],\n",
       " ['like'],\n",
       " ['sunil', 'sahara'],\n",
       " ['good'],\n",
       " ['julfikkar', 'ali', 'golder', 'happy', 'new', 'year', '2023'],\n",
       " ['𝖮𝗆𝗀'],\n",
       " ['bhui'],\n",
       " ['ggg'],\n",
       " ['suck', 'want', 'reset', 'password', 'give'],\n",
       " ['put',\n",
       "  'simply',\n",
       "  'site',\n",
       "  'devolved',\n",
       "  'war',\n",
       "  'zone',\n",
       "  'cannot',\n",
       "  'opinion',\n",
       "  'without',\n",
       "  'somebody',\n",
       "  'insulting',\n",
       "  'it',\n",
       "  'quit',\n",
       "  'uninstalled',\n",
       "  'app',\n",
       "  'never',\n",
       "  'return'],\n",
       " ['nice'],\n",
       " ['facebook', 'update'],\n",
       " ['hlo', 'sir', 'facebook', 'id', 'hacked', 'pls', 'hlp'],\n",
       " ['nice'],\n",
       " ['sorry'],\n",
       " ['nice', 'app'],\n",
       " ['tarak', 'happy', 'new', 'yaar'],\n",
       " ['okkkkkkkk'],\n",
       " ['🤸\\u200d♂️🤸\\u200d♂️🤸\\u200d♂️🤸\\u200d♂️🤸\\u200d♂️🤸\\u200d♂️🤸\\u200d♂️🤸\\u200d♂️🤸\\u200d♂️🤸\\u200d♂️🤸\\u200d♂️🤸\\u200d♂️🤸\\u200d♂️🤸\\u200d♂️🤸\\u200d♂️🤸\\u200d♂️🤸\\u200d♂️🤸\\u200d♂️🤸\\u200d♂️🤸\\u200d♂️🤸\\u200d♂️🤸\\u200d♂️🤸\\u200d♂️🎴🎴🎴🎴🎴🎴🎴🎴🎴🎴🎴🎴🎴🎴🎴🥌🥌🥌🥌🥌🥌🥌🥌🥌🥌🥌🥌🥌🥌🥌🥌🥌🥌🎴🎴🎴🎴🥌🎴🎴🎴🎴🎴🎴🎴🎴🎴🎴🎴🎮🎮🎴🎮🏋️\\u200d♂️🎮🎮🎮🎮🎮🎮🎽🎽⚽️⚽️⚽️♥️🎮🀄🀄🀄🕹🏍🏍🏍🏍🏍🤼\\u200d♀️🏍🏉🎱🎱🎱🏉♣️♣️♥️♥️♥️♣️⛷🥅🤼\\u200d♂️🤸\\u200d♂️🤸\\u200d♂️🤸\\u200d♂️🤸\\u200d♂️🤸\\u200d♂️🚴\\u200d♂️🕹♥️♣️🤾\\u200d♂️♣️🏀🏀♣️🏀🏀🏀🚴\\u200d♂️🏋️\\u200d♂️🏋️\\u200d♂️🤼\\u200d♂️🥌🃏🃏🃏🀄🏍🏍🕹🃏🃏🃏🃏🃏🃏🃏🕹🀄🕹🀄🎮🥌🥌♣️♦️🎴🎴'],\n",
       " ['15year'],\n",
       " ['🍏🍈🍈🍒🍈🍋🥬'],\n",
       " ['sonakshi'],\n",
       " ['stop',\n",
       "  'polluting',\n",
       "  'facebook',\n",
       "  'reel',\n",
       "  'indian',\n",
       "  'content',\n",
       "  'want',\n",
       "  'hormonals',\n",
       "  'dancing',\n",
       "  'around',\n",
       "  'feed',\n",
       "  'showing',\n",
       "  'dirty',\n",
       "  'cow',\n",
       "  'mandirs'],\n",
       " ['cringe'],\n",
       " ['happy', 'platform'],\n",
       " ['app', 'went', 'downhill', 'since', 'video', 'profile', 'option', 'removed'],\n",
       " ['working', 'downloading', 'facebook', 'apps'],\n",
       " ['happen',\n",
       "  'facebook',\n",
       "  'suspending',\n",
       "  'everyone',\n",
       "  'accountstop',\n",
       "  'joke',\n",
       "  'facebook',\n",
       "  'like',\n",
       "  'tik',\n",
       "  'tok',\n",
       "  'also',\n",
       "  'kicked',\n",
       "  'market'],\n",
       " ['mesmerising'],\n",
       " ['thakor', 'tanu'],\n",
       " ['good', '👍🌹🌹🌹🌹🌹🌹🌹🌹🌹🌹🌹🌹🌹🌹🌹🌹🌹🌹🌹🌹🌹🌹🌹🌹🌹🌹🌹🌹🌹🌹🌹🌹🌹🌹🌹🌹🌹🌹🌹🌹🌹🌹🌹🌹🌹🌹🌹🌹🌹🌹🌹🌹🌹'],\n",
       " ['best', 'app'],\n",
       " ['many',\n",
       "  'setting',\n",
       "  'keep',\n",
       "  'shared',\n",
       "  'information',\n",
       "  'safe',\n",
       "  'go',\n",
       "  'individual',\n",
       "  'setting',\n",
       "  'set',\n",
       "  'want',\n",
       "  'contact',\n",
       "  'able',\n",
       "  'see',\n",
       "  'information',\n",
       "  'comment',\n",
       "  'everything',\n",
       "  'else',\n",
       "  'them',\n",
       "  'lot',\n",
       "  'confusing',\n",
       "  'information',\n",
       "  'thats',\n",
       "  'revelant',\n",
       "  'enough',\n",
       "  'secure'],\n",
       " ['keep', 'showing', 'thing', 'again', 'getting', 'tired', 'it'],\n",
       " ['leticia', 'pulga', 'olayao'],\n",
       " ['facebook', 'lite'],\n",
       " ['good', 'thing', 'to', 'help', 'navigate', 'way', 'system'],\n",
       " ['iykyk'],\n",
       " ['aoa', 'apologize', '😔', '9', 'oaoa299oowowlowlolalla2wl'],\n",
       " ['trash', 'app', 'stop', 'collecting', 'data', 'zuk'],\n",
       " ['superb'],\n",
       " ['نسیم', '1'],\n",
       " ['good'],\n",
       " ['nice', 'app'],\n",
       " ['uyyyu', 'dr', 'ki', 'v', 'm'],\n",
       " ['really', 'like', 'app'],\n",
       " ['yadav', 'ji', 'yadav', 'ji'],\n",
       " ['oppp'],\n",
       " ['great', 'app'],\n",
       " ['person',\n",
       "  'place',\n",
       "  'thing',\n",
       "  'subject',\n",
       "  'matter',\n",
       "  'respected',\n",
       "  'documentation',\n",
       "  'commandment',\n",
       "  'choice',\n",
       "  'decision',\n",
       "  'chosen',\n",
       "  'asmanand',\n",
       "  'womanboy',\n",
       "  'girlas',\n",
       "  'namesas',\n",
       "  'phopecty'],\n",
       " ['excellent'],\n",
       " ['good'],\n",
       " ['ok'],\n",
       " ['or'],\n",
       " ['good', 'app'],\n",
       " ['update', '112023'],\n",
       " [],\n",
       " ['wow'],\n",
       " ['rahmatalam'],\n",
       " ['good'],\n",
       " ['shoka', 'marley'],\n",
       " ['app', 'impressed', 'thire', 'user'],\n",
       " ['wow', 'good', 'app', 'mo', 'makert', 'place', 'may', 'see'],\n",
       " ['live'],\n",
       " ['loading', 'worst'],\n",
       " ['useful', 'applicationsatisfying', 'entertaining'],\n",
       " ['good'],\n",
       " ['receive', 'facebook', 'codewhat', 'open', 'account'],\n",
       " ['like'],\n",
       " ['rwmove', '48hr', 'blocking', 'time'],\n",
       " ['ad', 'problem', 'see', 'ad', 'shown'],\n",
       " ['wonderful', 'app', 'world'],\n",
       " ['خوب'],\n",
       " ['facebook', 'kd', 'facebook', 'banti', 'hai', 'banaa', 'facebook', 'id'],\n",
       " ['aungnyi'],\n",
       " ['good'],\n",
       " ['prabhu'],\n",
       " ['let', 'eat', 'grow', 'eat', 'live', 'die'],\n",
       " ['trying',\n",
       "  'reporting',\n",
       "  'racial',\n",
       "  'comment',\n",
       "  'facebook',\n",
       "  'say',\n",
       "  'community',\n",
       "  'standard',\n",
       "  'copy',\n",
       "  'paste',\n",
       "  'comment',\n",
       "  'change',\n",
       "  'black',\n",
       "  'white',\n",
       "  'blocked',\n",
       "  'month'],\n",
       " ['useful', 'app❤'],\n",
       " ['❤️'],\n",
       " ['xggggfgyuyyyy',\n",
       "  'v',\n",
       "  'ccfhjbjvnvv',\n",
       "  'bblkkkk',\n",
       "  'xzxxzzddsz•344♧♧♧',\n",
       "  'पपपपपठधनलनपनपठछठछझघ।',\n",
       "  'फंसष',\n",
       "  'ञ',\n",
       "  'ङध',\n",
       "  'जङ',\n",
       "  'खगघपधधटॅ',\n",
       "  'ठंड',\n",
       "  'च',\n",
       "  'ष।',\n",
       "  'जङचव',\n",
       "  'पङ',\n",
       "  'ख',\n",
       "  'ङ',\n",
       "  'ञ',\n",
       "  'ङ',\n",
       "  'स',\n",
       "  'ङ',\n",
       "  'ङ',\n",
       "  'ङह',\n",
       "  'ङ',\n",
       "  'ङ',\n",
       "  'सबब',\n",
       "  'ट',\n",
       "  'फंस',\n",
       "  'हम',\n",
       "  'सह',\n",
       "  'ठछजगघघढभडड',\n",
       "  'जब',\n",
       "  'डजडब',\n",
       "  'बघेली',\n",
       "  'घ',\n",
       "  'ङङङङङघघ',\n",
       "  'कख',\n",
       "  'ङोर्',\n",
       "  'घर',\n",
       "  'है',\n",
       "  'में',\n",
       "  'ङङ',\n",
       "  'खींचा',\n",
       "  'अअअअअअअअ',\n",
       "  'गठ',\n",
       "  'जझघघघघगघू',\n",
       "  'अआडघ'],\n",
       " ['amazing', 'way', 'describe', 'something'],\n",
       " ['useless',\n",
       "  'appdo',\n",
       "  'really',\n",
       "  'like',\n",
       "  'ban',\n",
       "  'people',\n",
       "  'accountstupid',\n",
       "  'app',\n",
       "  'ever'],\n",
       " ['helllo',\n",
       "  'dear',\n",
       "  'facebook',\n",
       "  'team',\n",
       "  'cant',\n",
       "  'use',\n",
       "  'tirn',\n",
       "  'facebook',\n",
       "  'proffosinal',\n",
       "  'mode',\n",
       "  'therewas',\n",
       "  'showing',\n",
       "  'facebook',\n",
       "  'proffosinal',\n",
       "  'mode',\n",
       "  'facebook',\n",
       "  'account',\n",
       "  'pleese',\n",
       "  'solve',\n",
       "  'problem',\n",
       "  'soon',\n",
       "  'possiblc',\n",
       "  'thank',\n",
       "  'facebook',\n",
       "  'team'],\n",
       " ['worst', 'app', 'recover', 'disabled', 'account'],\n",
       " ['session', 'expired', 'fb', 'responding', 'wait', 'close'],\n",
       " ['glitch', 'app'],\n",
       " ['imc', 'x', 'onا'],\n",
       " ['without', 'valid', 'reason', 'blockedno', 'reason'],\n",
       " ['awww', 'favourite', 'social', 'site😉☮️'],\n",
       " ['story', 'nhi', 'hu', 'rhi'],\n",
       " ['good'],\n",
       " ['vlaohjml👿💨',\n",
       "  '😲😱😂',\n",
       "  '👗👉',\n",
       "  '👕👕👕',\n",
       "  '👠🚧',\n",
       "  '🚧🚧🚧',\n",
       "  'back',\n",
       "  'school',\n",
       "  '\\ufeffgood',\n",
       "  '😊',\n",
       "  'morning',\n",
       "  '☁✨✨☁✨✨☁☁🎈🎈☁🎈🎈☁',\n",
       "  '🎈🎈🎈🎈🎈🎈🎈',\n",
       "  '🎈🎈🎈🎈🎈\\ufeffgood',\n",
       "  '😊',\n",
       "  'morning',\n",
       "  '☁✨✨☁✨✨☁',\n",
       "  '✨✨✨✨✨✨✨',\n",
       "  '✨🏡😑✨✨✨✨✨✨',\n",
       "  '☁✨✨✨✨✨☁',\n",
       "  '☁☁✨😠✨✨☁☁',\n",
       "  '☁☁☁✨☁☁☁',\n",
       "  '🌻',\n",
       "  'sunshine',\n",
       "  '🎈🎈',\n",
       "  '☁🎈🎈🎈',\n",
       "  'w78q',\n",
       "  '🎈🎈☁',\n",
       "  '☁a☁🎈🎈🎈☁☁ll',\n",
       "  '☁☁☁🎈☁☁☁',\n",
       "  '✨✨✨✨j',\n",
       "  '✨✨✨',\n",
       "  '✨✨✨✨✨✨✨',\n",
       "  'x',\n",
       "  '☁✨✨✨✨✨☁',\n",
       "  '☁☁✨✨✨☁☁',\n",
       "  '☁☁☁✨☁☁☁me',\n",
       "  '🌻',\n",
       "  'sunshine'],\n",
       " ['nice', 'facebook'],\n",
       " ['good'],\n",
       " ['good'],\n",
       " ['good', 'like'],\n",
       " ['abhijit', 'sukla', 'baidya'],\n",
       " ['go',\n",
       "  'page',\n",
       "  'start',\n",
       "  'scrolling',\n",
       "  'post',\n",
       "  'app',\n",
       "  'scroll',\n",
       "  'smoothly',\n",
       "  'jam',\n",
       "  'sense',\n",
       "  'kindly',\n",
       "  'fix'],\n",
       " ['used',\n",
       "  'facebook',\n",
       "  'app',\n",
       "  'friend',\n",
       "  'update',\n",
       "  'news',\n",
       "  'online',\n",
       "  'shopping',\n",
       "  'motvational',\n",
       "  'speaker',\n",
       "  'drama',\n",
       "  'movie',\n",
       "  'part',\n",
       "  'season',\n",
       "  'another',\n",
       "  'country',\n",
       "  'news',\n",
       "  'many',\n",
       "  'thing',\n",
       "  'available',\n",
       "  'there'],\n",
       " ['notification', 'send', 'phone'],\n",
       " ['wooow'],\n",
       " ['hph', 'hi', 'kb', 'kiki', 'mb', 'komojm'],\n",
       " ['face', 'app'],\n",
       " ['juhu',\n",
       "  'beach',\n",
       "  'fl',\n",
       "  'bhabhi',\n",
       "  'ke',\n",
       "  'saathiyon',\n",
       "  'bhabhi',\n",
       "  'ki',\n",
       "  'desi',\n",
       "  'bhabhi',\n",
       "  'ki',\n",
       "  'sister',\n",
       "  'post',\n",
       "  'doctoral',\n",
       "  'supervisor',\n",
       "  'scientist',\n",
       "  '🥼',\n",
       "  'husband',\n",
       "  'able',\n",
       "  'willing',\n",
       "  'cute',\n",
       "  'bhabhi',\n",
       "  'ki',\n",
       "  'desi',\n",
       "  'girl',\n",
       "  'pic',\n",
       "  'zone',\n",
       "  'able',\n",
       "  'balram',\n",
       "  'bhai',\n",
       "  '🎂',\n",
       "  'time',\n",
       "  'bhabhi',\n",
       "  'ki',\n",
       "  'desi',\n",
       "  'design',\n",
       "  'good',\n",
       "  'news',\n",
       "  'love',\n",
       "  'know',\n",
       "  'bhabhi',\n",
       "  'copy',\n",
       "  'balram',\n",
       "  'yadav',\n",
       "  'jai',\n",
       "  'mata',\n",
       "  'ji',\n",
       "  'cute',\n",
       "  'little',\n",
       "  'girl',\n",
       "  'family',\n",
       "  'god'],\n",
       " ['facebook', 'updating'],\n",
       " ['ok'],\n",
       " ['thanks', 'great', 'tha', 'car', 'co', 'co', 'co'],\n",
       " ['gh', 'rug', 'guy'],\n",
       " ['add', 'privacy', 'setting', 'able', 'search', 'friend', 'family'],\n",
       " ['working'],\n",
       " ['happened',\n",
       "  'it',\n",
       "  'error',\n",
       "  'message',\n",
       "  'since',\n",
       "  'new',\n",
       "  'year',\n",
       "  'eve',\n",
       "  'lite',\n",
       "  'open',\n",
       "  'instagram',\n",
       "  'messenger',\n",
       "  'btw',\n",
       "  'quick',\n",
       "  'switch',\n",
       "  'account',\n",
       "  'fb',\n",
       "  '👎',\n",
       "  'too'],\n",
       " ['facebook', 'free', 'fire', 'ke', 'liye', 'rkhta', 'hu'],\n",
       " ['2ndbhmmu'],\n",
       " ['learn'],\n",
       " ['nice', 'app', 'world🌏'],\n",
       " ['good'],\n",
       " ['kyawsoe'],\n",
       " ['account', 'professional', 'mode'],\n",
       " ['👍'],\n",
       " ['jishan', 'tdy8te'],\n",
       " ['shahib', 'asasr'],\n",
       " ['myspace', 'better'],\n",
       " ['time', 'waste', 'time', 'pas', 'apps', 'nothingshow', 'dirty', 'reel'],\n",
       " ['mantar', 'khan'],\n",
       " ['anyone',\n",
       "  'post',\n",
       "  'thing',\n",
       "  'sale',\n",
       "  'marketplace',\n",
       "  'ever',\n",
       "  'time',\n",
       "  'try',\n",
       "  'say',\n",
       "  'were',\n",
       "  'trouble',\n",
       "  'completing',\n",
       "  'request',\n",
       "  'issue',\n",
       "  'year',\n",
       "  'dont',\n",
       "  'fix',\n",
       "  'bother',\n",
       "  'trying',\n",
       "  'sell',\n",
       "  'doesnt',\n",
       "  'ever',\n",
       "  'work',\n",
       "  'also',\n",
       "  'censorship',\n",
       "  'broken',\n",
       "  'af',\n",
       "  'fall',\n",
       "  'victim',\n",
       "  'metafacebookinstagram'],\n",
       " ['nice'],\n",
       " ['raju', 'yadav', 'boloidahrvj'],\n",
       " ['helpful'],\n",
       " ['yuyy', 'yy'],\n",
       " ['excellent'],\n",
       " ['good'],\n",
       " ['good'],\n",
       " ['excellent'],\n",
       " ['good', 'hate', 'speech', 'wrong', 'information', 'much', 'facebook', '🤔'],\n",
       " ['nice'],\n",
       " ['promeshod'],\n",
       " ['freezing', 'load', 'correctly', 'month'],\n",
       " ['life'],\n",
       " ['নাই'],\n",
       " ['এটা', 'খুবই', 'ভালো', 'এ্যাপ', 'আমি', 'জানি'],\n",
       " ['good'],\n",
       " ['good', 'app'],\n",
       " ['great', 'better', 'facebook'],\n",
       " ['excellent'],\n",
       " ['excellent', '👌'],\n",
       " ['𝑯𝒖𝒉', '𝑰'],\n",
       " ['amazing', 'nice', 'app'],\n",
       " ['good', 'app'],\n",
       " ['super'],\n",
       " ['facebook', 'se', 'payment', 'nahin', 'milta'],\n",
       " ['good🐶'],\n",
       " ['kmt5842'],\n",
       " ['good'],\n",
       " ['good'],\n",
       " ['reliable'],\n",
       " ['bos'],\n",
       " ['ii'],\n",
       " ['tangina', 'diko', 'makita', 'mga', 'story', '10', 'araw', 'na'],\n",
       " ['make',\n",
       "  'easier',\n",
       "  'navigate',\n",
       "  'comment',\n",
       "  'somebody',\n",
       "  'reply',\n",
       "  'want',\n",
       "  'reply',\n",
       "  'back',\n",
       "  'poorly',\n",
       "  'managed'],\n",
       " ['good'],\n",
       " ['trying',\n",
       "  'numerous',\n",
       "  'time',\n",
       "  'upload',\n",
       "  'photo',\n",
       "  'layout',\n",
       "  'option',\n",
       "  'chooe',\n",
       "  'from',\n",
       "  'tried',\n",
       "  'uninstall',\n",
       "  'install',\n",
       "  'facebook',\n",
       "  'app',\n",
       "  'many',\n",
       "  'many',\n",
       "  'manyyy',\n",
       "  'time',\n",
       "  'still',\n",
       "  'facebook',\n",
       "  'photo',\n",
       "  'layout',\n",
       "  'missing',\n",
       "  'tired',\n",
       "  'this'],\n",
       " ['use', 'ful', 'social', 'networking', 'app'],\n",
       " ['facebook', 'unlock', 'tanveer', 'ali'],\n",
       " ['htegi3t4'],\n",
       " ['good'],\n",
       " ['please', 'reel'],\n",
       " ['super', '🎵'],\n",
       " ['ee2e'],\n",
       " ['nice'],\n",
       " ['app',\n",
       "  'great',\n",
       "  'post',\n",
       "  'share',\n",
       "  'everything',\n",
       "  'except',\n",
       "  'im',\n",
       "  'putting',\n",
       "  'email',\n",
       "  'say',\n",
       "  'reenter',\n",
       "  'additional',\n",
       "  'password',\n",
       "  'again',\n",
       "  'put',\n",
       "  'it',\n",
       "  'know',\n",
       "  'correct',\n",
       "  'keep',\n",
       "  'saying',\n",
       "  'incorrect',\n",
       "  'password',\n",
       "  'please',\n",
       "  'fix',\n",
       "  'this'],\n",
       " ['nice'],\n",
       " ['facebook', 'ek', 'achcha'],\n",
       " ['suresh', 'kumar'],\n",
       " ['good'],\n",
       " ['cant', 'login', 'account', '😡😡🤬🤬🤬🤬🤬🤬🤬🤬🤬🤬🤬🤬🤬🤬🤬🤬'],\n",
       " ['waste'],\n",
       " ['impressive'],\n",
       " ['nice', 'game'],\n",
       " ['good'],\n",
       " ['😕',\n",
       "  'meri',\n",
       "  'facebook',\n",
       "  'app',\n",
       "  'problem',\n",
       "  'hori',\n",
       "  'hai',\n",
       "  'open',\n",
       "  'ni',\n",
       "  'hori',\n",
       "  'kafi',\n",
       "  'time',\n",
       "  'se',\n",
       "  'uninstall',\n",
       "  'krke',\n",
       "  'install',\n",
       "  'krli',\n",
       "  'bhi',\n",
       "  'ni',\n",
       "  'hori'],\n",
       " ['facebook',\n",
       "  'facebook',\n",
       "  'facebook',\n",
       "  'happened',\n",
       "  'mister',\n",
       "  'zuckerberg',\n",
       "  'anyway',\n",
       "  'feeling',\n",
       "  'cant',\n",
       "  'secret',\n",
       "  'conversation',\n",
       "  'andor',\n",
       "  'secret',\n",
       "  'general',\n",
       "  'really',\n",
       "  'eye',\n",
       "  'opening',\n",
       "  'eye',\n",
       "  'opening',\n",
       "  'lost',\n",
       "  'thing',\n",
       "  'beginning',\n",
       "  'timeeven',\n",
       "  'first',\n",
       "  'year',\n",
       "  'im',\n",
       "  'addicted',\n",
       "  'anymore',\n",
       "  'im',\n",
       "  'sure',\n",
       "  'alone',\n",
       "  'feel',\n",
       "  'way'],\n",
       " ['internen'],\n",
       " ['nice'],\n",
       " ['problem', 'video', 'option', 'coming'],\n",
       " ['gusto', 'kopo', 'ito'],\n",
       " ['meta',\n",
       "  'suck',\n",
       "  'stuck',\n",
       "  'opening',\n",
       "  'app',\n",
       "  'nothing',\n",
       "  'happening',\n",
       "  'reverse',\n",
       "  'back',\n",
       "  'previous',\n",
       "  'version',\n",
       "  'stay',\n",
       "  'meta'],\n",
       " ['remove', 'bane', 'tlp'],\n",
       " ['cant', 'find', 'old', 'account'],\n",
       " ['kanchan', 'kumar'],\n",
       " ['хайр'],\n",
       " ['sani', 'kumar'],\n",
       " ['amazing', 'app'],\n",
       " ['feature',\n",
       "  'poor',\n",
       "  'cant',\n",
       "  'login',\n",
       "  'facebook',\n",
       "  'account',\n",
       "  'always',\n",
       "  'distractive',\n",
       "  'ad'],\n",
       " ['supar', 'app'],\n",
       " ['oke'],\n",
       " ['good'],\n",
       " ['bad', 'experience'],\n",
       " ['ujjalkona'],\n",
       " ['shahnwaz'],\n",
       " ['fazal', 'good', 'game', 'first'],\n",
       " ['facebook', 'professional', 'mood', 'request'],\n",
       " ['good'],\n",
       " ['love', 'sharing', 'tik', 'tok', 'vidz', 'friend', 'lol'],\n",
       " ['gorgeous'],\n",
       " ['mi', 'www', 'q', 'qq', 'q', 'reip', 'bl'],\n",
       " ['fb', 'radyed'],\n",
       " ['unable',\n",
       "  'login',\n",
       "  'fb',\n",
       "  'account',\n",
       "  'since',\n",
       "  '1',\n",
       "  'month',\n",
       "  'always',\n",
       "  'said',\n",
       "  'notification',\n",
       "  'send',\n",
       "  'another',\n",
       "  'login',\n",
       "  'device'],\n",
       " ['w'],\n",
       " ['op'],\n",
       " ['otp', 'aa', 'nahi', 'raha', 'hai😭😭😭😭'],\n",
       " ['like',\n",
       "  'personally',\n",
       "  'identifiable',\n",
       "  'information',\n",
       "  'much',\n",
       "  'get',\n",
       "  'right',\n",
       "  'away',\n",
       "  'phone',\n",
       "  '📱'],\n",
       " ['working'],\n",
       " ['one',\n",
       "  'friend',\n",
       "  'post',\n",
       "  '5',\n",
       "  'suggestion',\n",
       "  'also',\n",
       "  'alot',\n",
       "  'ad',\n",
       "  'totally',\n",
       "  'boring',\n",
       "  'use',\n",
       "  'facebook',\n",
       "  'there',\n",
       "  'option',\n",
       "  'close',\n",
       "  'suggestion',\n",
       "  'ad',\n",
       "  'useless'],\n",
       " ['used', 'love', 'fb', 'ad', 'over', 'recommend'],\n",
       " ['app', 'good'],\n",
       " ['good'],\n",
       " ['nice'],\n",
       " ['standar',\n",
       "  'komunitasnya',\n",
       "  'ga',\n",
       "  'berguna',\n",
       "  'lebih',\n",
       "  'baik',\n",
       "  'hapus',\n",
       "  'saja',\n",
       "  'itu',\n",
       "  'standar',\n",
       "  'komunitasnya',\n",
       "  'ga',\n",
       "  'adil'],\n",
       " ['star', 'ht'],\n",
       " ['okay'],\n",
       " ['99mk949'],\n",
       " ['4yg'],\n",
       " ['nice'],\n",
       " ['oliver'],\n",
       " ['nice'],\n",
       " ['great'],\n",
       " ['prince', 'gupta', 'sahu', 'ji', 'bahuara', 'boy', 'ji'],\n",
       " ['wonderfull', 'game'],\n",
       " ['ok'],\n",
       " ['💛🤎🤍💙❣️'],\n",
       " ['best'],\n",
       " ['اچھا'],\n",
       " ['mast', 'hai', 'fake', 'id', 'jyada', 'hai'],\n",
       " ['🎖️', '🎖️', '🍧🍧🍦', '🍧'],\n",
       " ['jonsan', 'soreng'],\n",
       " ['good'],\n",
       " ['gbj'],\n",
       " ['good', 'app'],\n",
       " ['ok'],\n",
       " ['good'],\n",
       " ['raj', 'singh9'],\n",
       " ['im',\n",
       "  'getting',\n",
       "  'notification',\n",
       "  'people',\n",
       "  'mention',\n",
       "  'comment',\n",
       "  'me',\n",
       "  'make',\n",
       "  'seem',\n",
       "  'rude'],\n",
       " ['good'],\n",
       " ['nhi', 'cal', 'rha', 'hai'],\n",
       " ['good'],\n",
       " ['app',\n",
       "  'cool',\n",
       "  'always',\n",
       "  'updated',\n",
       "  'it',\n",
       "  'find',\n",
       "  'intresting',\n",
       "  'option',\n",
       "  'never',\n",
       "  'beat',\n",
       "  'desktop',\n",
       "  'laptop',\n",
       "  'princeelfati'],\n",
       " ['good', 'app', 'exellent', 'work'],\n",
       " ['hang', 'time', 'log'],\n",
       " ['nice', 'appp'],\n",
       " ['smart'],\n",
       " ['शिवा', 'कुमार'],\n",
       " ['useless', 'service'],\n",
       " ['rg8bjy6', 'aani'],\n",
       " ['please',\n",
       "  'improve',\n",
       "  'interface',\n",
       "  'neither',\n",
       "  'soothing',\n",
       "  'comfortable',\n",
       "  'take',\n",
       "  'inspiration',\n",
       "  'twitter',\n",
       "  '😂',\n",
       "  'interface',\n",
       "  'least',\n",
       "  'work',\n",
       "  'text'],\n",
       " ['appstore', 'work'],\n",
       " ['best', 'app'],\n",
       " ['excellent'],\n",
       " ['gaming'],\n",
       " ['app'],\n",
       " ['vaki'],\n",
       " ['help', 'code', 'please'],\n",
       " ['good', 'easy', 'use'],\n",
       " ['aa', 'aa', 'aa', 'nn', 'nñiiiiiand', 'jjjqjmi', 'mumm', 'yny6'],\n",
       " ['nice'],\n",
       " ['bad', 'app'],\n",
       " ['good'],\n",
       " ['receive',\n",
       "  'two',\n",
       "  'factor',\n",
       "  'authentication',\n",
       "  'code',\n",
       "  'mobile',\n",
       "  'network',\n",
       "  'provider',\n",
       "  'scom',\n",
       "  'pakistan',\n",
       "  'kindly',\n",
       "  'fix',\n",
       "  'problem'],\n",
       " ['sir',\n",
       "  'facebook',\n",
       "  'account',\n",
       "  'professional',\n",
       "  'mode',\n",
       "  'showing',\n",
       "  'please',\n",
       "  'solve',\n",
       "  'problem',\n",
       "  '🙏',\n",
       "  'thank',\n",
       "  'you'],\n",
       " ['would',\n",
       "  'pleasure',\n",
       "  'awful',\n",
       "  'thing',\n",
       "  'rooted',\n",
       "  'phone',\n",
       "  'tab',\n",
       "  'people',\n",
       "  'choice'],\n",
       " ['afghan'],\n",
       " ['god', 'boy'],\n",
       " ['problem'],\n",
       " ['facebook', 'batter', 'account', 'like'],\n",
       " ['facebook', 'becoming', 'oppressor', 'leave', 'soon', 'willing', 'change'],\n",
       " ['mast', 'app', 'par', 'hek', 'acount', 'save', 'kro'],\n",
       " ['nice'],\n",
       " ['yashboy'],\n",
       " ['mucho', 'find', 'birthday'],\n",
       " ['thankyou', 'people'],\n",
       " ['send', 'code', 'btch'],\n",
       " ['facebook', 'woke', 'opinion', 'checker', 'way', 'offon', 'fact'],\n",
       " ['ok'],\n",
       " ['besst'],\n",
       " ['nice', 'aap'],\n",
       " ['good', 'past'],\n",
       " ['good'],\n",
       " ['app', 'good', 'world', 'wide', 'area', 'app', 'easy'],\n",
       " ['facebook', 'pin', 'post'],\n",
       " ['sup'],\n",
       " ['please', 'solve', 'trouble', 'loading', 'problem'],\n",
       " ['app',\n",
       "  'good',\n",
       "  'long',\n",
       "  'time',\n",
       "  'ago',\n",
       "  'suck',\n",
       "  'hate',\n",
       "  'facebook',\n",
       "  'wish',\n",
       "  'would',\n",
       "  'leave',\n",
       "  'get',\n",
       "  'phone',\n",
       "  'cant',\n",
       "  'even',\n",
       "  'unstall',\n",
       "  'ive',\n",
       "  'tired',\n",
       "  'still',\n",
       "  'manage',\n",
       "  'stay',\n",
       "  'phone',\n",
       "  'app',\n",
       "  'worst',\n",
       "  'cant',\n",
       "  'say',\n",
       "  'anything',\n",
       "  'without',\n",
       "  'begin',\n",
       "  'banned',\n",
       "  '30',\n",
       "  'day',\n",
       "  'nothing',\n",
       "  'boo',\n",
       "  'could',\n",
       "  'give',\n",
       "  'zero',\n",
       "  'star',\n",
       "  'would',\n",
       "  'id',\n",
       "  'like',\n",
       "  'know',\n",
       "  'blocked',\n",
       "  'commenting',\n",
       "  'page',\n",
       "  'ridiculous',\n",
       "  'site',\n",
       "  'getting',\n",
       "  'worse',\n",
       "  'pissing',\n",
       "  '🖕😡😡😡😡😡😡😡😡😡'],\n",
       " ['superb', 'thanks'],\n",
       " ['bad', 'time', 'popups', 'ad'],\n",
       " ['code', 'receive', 'time', 'please', 'sand', 'code', 'quickly'],\n",
       " ['cant',\n",
       "  'delete',\n",
       "  'sick',\n",
       "  'fb',\n",
       "  'shoved',\n",
       "  'everyones',\n",
       "  'throat',\n",
       "  'without',\n",
       "  'choice',\n",
       "  'thank',\n",
       "  'you',\n",
       "  'wish',\n",
       "  'could',\n",
       "  'delete',\n",
       "  'cant',\n",
       "  'something',\n",
       "  'paid',\n",
       "  'for',\n",
       "  '🤔'],\n",
       " ['rip'],\n",
       " ['nic'],\n",
       " ['ok'],\n",
       " ['nice'],\n",
       " ['sumitt'],\n",
       " ['hmmu'],\n",
       " ['nice'],\n",
       " ['good', 'app', 'need', 'update'],\n",
       " ['karnojit', 'nascar'],\n",
       " ['sahabde'],\n",
       " ['facebook',\n",
       "  'account',\n",
       "  'reel',\n",
       "  'pause',\n",
       "  'big',\n",
       "  'issue',\n",
       "  'app',\n",
       "  'please',\n",
       "  'help'],\n",
       " ['plees'],\n",
       " ['shivam'],\n",
       " ['🇪🇭🇪🇭🇪🇭🇪🇭🇪🇭🇪🇭🇪🇭🇪🇭🇪🇭🇪🇭🇪🇭🇪🇭🇪🇭🇪🇭🇪🇭🇪🇭🇪🇭🇪🇭🇪🇭🇪🇭🇪🇭🇪🇭🇪🇭🇪🇭🇪🇭🇪🇭🇪🇭🇪🇭🇪🇬🇪🇬🇪🇬🇪🇬🇪🇬🇪🇬🇪🇬🇪🇬🇪🇬🇪🇬✨🇪🇬🇪🇬🇪🇬🇪🇬🇪🇬🇪🇬🇪🇬🇪🇬🇪🇬🇪🇬🇪🇬🇪🇬🇪🇬🇪🇬🇪🇬🇪🇬🇪🇬🇪🇬🇪🇬🇪🇬🇪🇬🇪🇬🇪🇬🇪🇭🇪🇭🇪🇭🇪🇭🇪🇭🇪🇭🇪🇭🇪🇭🇪🇭🇪🇭🇪🇭🇪🇭🇪🇭🇪🇭🇪🇭🇪🇭🇪🇭🇪🇭🇪🇭🇪🇭🇪🇭🇪🇭🇪🇭🇪🇭🇪🇭🇪🇭🇪🇭🇪🇭🇪🇭🇪🇭🇪🇭🇪🇭🇪🇭🇪🇭🇪🇭🇪🇭🇪🇭🇪🇭🇪🇭🇪🇭🇪🇭🇪🇭🇪🇭🇪🇭🇪🇭🇪🇭🇪🇭🇪🇭🇪🇭🇪🇭🇪🇭🇪🇭🇪🇭🇪🇭🇪🇭🇪🇭🇪🇭🇪🇭🇪🇭🇪🇭🇪🇭🇪🇭🇪🇭🇪'],\n",
       " ['fazil', 'ali', 'jafari'],\n",
       " ['op'],\n",
       " ['what', 'man', 'faccbook'],\n",
       " ['cant', 'log', 'log', 'easily', 'want', 'change', 'password'],\n",
       " ['ndi', 'makita', 'mga', 'search'],\n",
       " ['bubuu', 'high', 'asf', 'also', 'good👍👍👍👍👍👍👍👍👍pppp👍'],\n",
       " ['w', 'een', 'u', 'happy', 'new'],\n",
       " ['waste', 'time', 'waste', 'everything'],\n",
       " ['zuckerberg', '🥜'],\n",
       " ['good', 'experience'],\n",
       " ['ad',\n",
       "  'hidden',\n",
       "  'keep',\n",
       "  'appearing',\n",
       "  'every',\n",
       "  'damn',\n",
       "  'time',\n",
       "  'cant',\n",
       "  'repeating',\n",
       "  'action',\n",
       "  'always',\n",
       "  'keep',\n",
       "  'defaulting',\n",
       "  'work',\n",
       "  'im'],\n",
       " ['good'],\n",
       " ['facebook',\n",
       "  'give',\n",
       "  'bad',\n",
       "  'service',\n",
       "  'problem',\n",
       "  'facebook',\n",
       "  'cant',\n",
       "  'fixed',\n",
       "  'problem',\n",
       "  'reason',\n",
       "  'cant',\n",
       "  'use',\n",
       "  'facebook'],\n",
       " ['qasim', 'soleimane'],\n",
       " ['koe', 'kisi', 'ka', 'nahi', 'hy', 'sub', 'kuch', 'paraya', 'hy'],\n",
       " ['keep', 'logging', 'every', 'use', 'irritating'],\n",
       " ['recently',\n",
       "  'new',\n",
       "  'update',\n",
       "  'cant',\n",
       "  'set',\n",
       "  'high',\n",
       "  'quality',\n",
       "  'upload',\n",
       "  'app',\n",
       "  'disappointing'],\n",
       " ['lgbal', 'iqbal', 'khan'],\n",
       " ['unit'],\n",
       " ['pushing',\n",
       "  'messenger',\n",
       "  'notification',\n",
       "  'continuously',\n",
       "  'cannot',\n",
       "  'disabled',\n",
       "  'much',\n",
       "  'annoying'],\n",
       " ['🥰'],\n",
       " ['please'],\n",
       " ['l', 'एमएम'],\n",
       " ['good'],\n",
       " ['parta',\n",
       "  'facebook',\n",
       "  'working',\n",
       "  'like',\n",
       "  'reel',\n",
       "  'dating',\n",
       "  'notification',\n",
       "  'etc'],\n",
       " ['بجد', 'بشع', 'اوي', 'كل', 'ما', 'اعمل', 'حساب', 'مبيردش', 'يدخلني'],\n",
       " ['terter'],\n",
       " ['nice', '👍'],\n",
       " ['⁹gr4o', 'ok', 'ok'],\n",
       " ['gg'],\n",
       " ['good', 'apk😊'],\n",
       " ['helpful'],\n",
       " [],\n",
       " ['id', 'hack', 'ha', 'ya', 'chal', 'nahe', 'rahe'],\n",
       " ['good'],\n",
       " ['good', 'facebook', 'platform', 'good', 'facebook', 'platform'],\n",
       " ['lost', 'dating', 'info', 'wont', 'update'],\n",
       " ['4', 'u', 'ykn', 'ku', 'ng', 'nv'],\n",
       " ['email'],\n",
       " ['yar', 'bohot', 'problem', 'chal', 'raha', 'hen', 'yar'],\n",
       " ['hasta', 'la', 'fecha', 'de', 'hoy', 'fb', 'e', 'muy', 'buena', 'app'],\n",
       " ['bery', 'good', 'ap'],\n",
       " ['shiva', 'banjare143'],\n",
       " ['good'],\n",
       " ['yhehenw', 'qjajan'],\n",
       " ['euta',\n",
       "  'gf',\n",
       "  'melaide',\n",
       "  'aba',\n",
       "  'euta',\n",
       "  'euta',\n",
       "  'sablai',\n",
       "  'mero',\n",
       "  'frnd',\n",
       "  'haru',\n",
       "  'sab',\n",
       "  'lai'],\n",
       " ['rauakumar'],\n",
       " ['great', 'service', 'still', 'need', 'lot', 'update', 'adjustment'],\n",
       " ['good', 'app'],\n",
       " ['nice', 'work'],\n",
       " ['suggested',\n",
       "  'you',\n",
       "  'content',\n",
       "  'running',\n",
       "  'rampant',\n",
       "  'facebook',\n",
       "  'one',\n",
       "  'page',\n",
       "  '810',\n",
       "  'recent',\n",
       "  'page',\n",
       "  'pull',\n",
       "  'up',\n",
       "  'thats',\n",
       "  'unacceptable'],\n",
       " ['saasd', 'sd', 'szdsdd', 'sa', 'ad', 'xfß', 'ad', 's'],\n",
       " ['good'],\n",
       " ['decent'],\n",
       " ['awesome', 'app'],\n",
       " ['good', 'apl'],\n",
       " ['sufiyankhan'],\n",
       " ['nice'],\n",
       " ['please', 'provide', 'professional', 'mode'],\n",
       " ['bhai'],\n",
       " ['messenger', 'option'],\n",
       " ['facebook', 'post'],\n",
       " ['good'],\n",
       " ['ফেসবুকে', 'আপডেট', 'খেলা'],\n",
       " ['hate',\n",
       "  'facebook',\n",
       "  'atleast',\n",
       "  'normal',\n",
       "  'one',\n",
       "  'rather',\n",
       "  'download',\n",
       "  'facebook',\n",
       "  'lite😝😝😝'],\n",
       " ['good'],\n",
       " ['ok'],\n",
       " ['life', 'long', 'app'],\n",
       " ['f😃😃'],\n",
       " ['لو',\n",
       "  'سمحت',\n",
       "  'انا',\n",
       "  'كل',\n",
       "  'ما',\n",
       "  'كتب',\n",
       "  'الاميل',\n",
       "  'بتاعي',\n",
       "  'بيقول',\n",
       "  'حدث',\n",
       "  'خطأ',\n",
       "  'ما',\n",
       "  'شوفلي',\n",
       "  'حل'],\n",
       " ['facebookapp', 'good', 'favorite', 'app', 'thats', 'like', 'app'],\n",
       " ['smbfoydlyfuo'],\n",
       " ['oola', 'app'],\n",
       " ['faced',\n",
       "  'login',\n",
       "  'issue',\n",
       "  'working',\n",
       "  'trying',\n",
       "  'different',\n",
       "  'method',\n",
       "  'please',\n",
       "  'fixed',\n",
       "  'it'],\n",
       " ['nice', 'product', 'great', 'creation', '👍👍👍👍👍'],\n",
       " ['solve', 'buffing', 'issue', 'soon', 'possible'],\n",
       " ['good'],\n",
       " ['facebook', 'best', 'social', 'side'],\n",
       " ['oo'],\n",
       " ['vary', 'nice'],\n",
       " ['নাইস', 'অ্যাপ'],\n",
       " ['mast'],\n",
       " ['keep', 'freezing', 'moto', 'g', 'update', 'horrible'],\n",
       " ['nice', '😊😂😊😊'],\n",
       " ['💕nice', 'app'],\n",
       " ['good'],\n",
       " ['মাহমুদ'],\n",
       " ['good'],\n",
       " ['mast'],\n",
       " ['acnng'],\n",
       " ['nice'],\n",
       " ['altabail'],\n",
       " ['nhi', 'hai', 'aqwryo', 'mn', 'csglx'],\n",
       " ['good'],\n",
       " ['2pm', 'awa3s', 'arteet', '9a4m'],\n",
       " ['always', 'say', 'season', 'expired', 'log', 'account', 'even', 'anything'],\n",
       " ['inn', 'mn', 'juyh'],\n",
       " ['love', 'video😆😆😆😆😆'],\n",
       " ['good'],\n",
       " ['useful', 'app', 'waste', 'time', 'time', 'study', 'me'],\n",
       " ['😊'],\n",
       " ['satisfied'],\n",
       " ['ipp'],\n",
       " ['like'],\n",
       " ['good', 'app'],\n",
       " ['vcbovo'],\n",
       " ['previous', 'account', 'difficult', 'login'],\n",
       " ['nice'],\n",
       " ['❤️❤️❤️🌹🌹🌹'],\n",
       " ['good'],\n",
       " ['galte', 'see', 'ho', 'gya'],\n",
       " ['ok', 'oi'],\n",
       " ['good',\n",
       "  'morning',\n",
       "  'everyone',\n",
       "  'happy',\n",
       "  'new',\n",
       "  'year',\n",
       "  'wish',\n",
       "  'everybody',\n",
       "  'good',\n",
       "  'year👍💪💯'],\n",
       " ['showing', 'lot', 'porn', 'sexual', 'ad', 'battery', 'hungry', 'app'],\n",
       " ['super'],\n",
       " ['gajab'],\n",
       " ['supper'],\n",
       " ['nice', 'app'],\n",
       " ['zpmomlagos'],\n",
       " ['facebook', 'misbehaving', '😭'],\n",
       " ['hi', 'u'],\n",
       " ['👦', 'z8', 'view', '7cjuc', 'wa', 'u', 'dc', 'v', 'ur', 'not', 'im'],\n",
       " ['bahut',\n",
       "  'acha',\n",
       "  'aap',\n",
       "  'hai',\n",
       "  'bot',\n",
       "  'sari',\n",
       "  'information',\n",
       "  'mil',\n",
       "  'jati',\n",
       "  'hai',\n",
       "  'ki',\n",
       "  'aas',\n",
       "  'pasa',\n",
       "  'kya',\n",
       "  'ho',\n",
       "  'rha',\n",
       "  'hai'],\n",
       " ['good'],\n",
       " ['account', 'login', 'problem'],\n",
       " ['good'],\n",
       " ['ok', 'perfect', 'alright', 'good'],\n",
       " ['good'],\n",
       " ['op'],\n",
       " ['real'],\n",
       " ['thank', 'much', 'fesbook'],\n",
       " ['great', 'easy', 'connect', 'easy', 'use'],\n",
       " ['nice', 'app'],\n",
       " ['nice'],\n",
       " ['good', 'app'],\n",
       " [],\n",
       " ['facebook',\n",
       "  'great',\n",
       "  'concept',\n",
       "  'able',\n",
       "  'keep',\n",
       "  'touch',\n",
       "  'family',\n",
       "  'friend',\n",
       "  'touch',\n",
       "  'button',\n",
       "  'brilliant',\n",
       "  'scroll',\n",
       "  '20',\n",
       "  'advert',\n",
       "  'get',\n",
       "  'someone',\n",
       "  'know',\n",
       "  'bloody',\n",
       "  'annoying',\n",
       "  'reason',\n",
       "  'taken',\n",
       "  'facebook',\n",
       "  'phone'],\n",
       " ['ok'],\n",
       " ['good'],\n",
       " ['nice'],\n",
       " ['thank'],\n",
       " ['unsafe',\n",
       "  'app',\n",
       "  'someone',\n",
       "  'hack',\n",
       "  'account',\n",
       "  'remove',\n",
       "  'number',\n",
       "  'emaileverything',\n",
       "  'registered',\n",
       "  'email',\n",
       "  'changed',\n",
       "  'password',\n",
       "  'try',\n",
       "  'login',\n",
       "  'demand',\n",
       "  'code',\n",
       "  'generator',\n",
       "  'acces',\n",
       "  'cannot',\n",
       "  'anything',\n",
       "  'facebook',\n",
       "  'reply'],\n",
       " ['never',\n",
       "  'update',\n",
       "  'properly',\n",
       "  'always',\n",
       "  'glitching',\n",
       "  'somewaydoes',\n",
       "  'bring',\n",
       "  'notification',\n",
       "  'time'],\n",
       " ['may', 'id', 'back', 'tanb'],\n",
       " ['😡'],\n",
       " ['g', 'dv'],\n",
       " ['abheeraj', 'bos'],\n",
       " ['please', 'remove', 'ad', 'video🎥', 'tension', 'ad', '🤬'],\n",
       " ['54', 'hjhjhh'],\n",
       " ['plac'],\n",
       " ['facebook',\n",
       "  'ke',\n",
       "  'liye',\n",
       "  'mere',\n",
       "  'pas',\n",
       "  'apps',\n",
       "  'nahin',\n",
       "  'tha',\n",
       "  'isliye',\n",
       "  'mera',\n",
       "  'kachra',\n",
       "  'ban',\n",
       "  'chuka',\n",
       "  'hai',\n",
       "  'please',\n",
       "  'doston',\n",
       "  'isko',\n",
       "  'append',\n",
       "  'karvayen'],\n",
       " ['side', 'interesting', '😂'],\n",
       " ['excellent'],\n",
       " ['👍👍'],\n",
       " ['app', 'ganun'],\n",
       " ['updated',\n",
       "  'asked',\n",
       "  'facebook',\n",
       "  'dating',\n",
       "  'app',\n",
       "  'app',\n",
       "  'still',\n",
       "  'ask',\n",
       "  'update',\n",
       "  'facebook',\n",
       "  'fustrating',\n",
       "  'best'],\n",
       " ['good'],\n",
       " ['ok'],\n",
       " ['frustratingcant', 'login', 'even'],\n",
       " ['pop', 'ok', 'ill', 'see', 'happens', 'like', 'l', 'loo', 'lool', 'pml'],\n",
       " ['shanali'],\n",
       " ['best', 'aap'],\n",
       " ['kundankumbhatar'],\n",
       " ['ok'],\n",
       " ['best'],\n",
       " ['sihasihb'],\n",
       " ['mera',\n",
       "  'id',\n",
       "  'log',\n",
       "  'nhi',\n",
       "  'ho',\n",
       "  'raha',\n",
       "  'please',\n",
       "  'help',\n",
       "  'duniya',\n",
       "  'hilum',\n",
       "  'dunga',\n",
       "  'happy',\n",
       "  'new',\n",
       "  'yearand',\n",
       "  'holi'],\n",
       " ['facebook', 'good', 'aaplication'],\n",
       " ['nice'],\n",
       " ['nice', 'app'],\n",
       " ['دون', 'ففقل', 'في', 'ل', 'زلز', 'وتوا', 'اغ', 'ا', 'أو'],\n",
       " ['manohar', 'takuor'],\n",
       " ['nice', 'app'],\n",
       " ['good'],\n",
       " ['real', 'app'],\n",
       " ['arian'],\n",
       " ['good'],\n",
       " ['facebook',\n",
       "  'snow',\n",
       "  'flake',\n",
       "  'u',\n",
       "  'literally',\n",
       "  'get',\n",
       "  'fb',\n",
       "  'jailed',\n",
       "  'reposting',\n",
       "  'stuff',\n",
       "  'u',\n",
       "  'found',\n",
       "  'snowflake',\n",
       "  'site'],\n",
       " ['nice'],\n",
       " ['rahul'],\n",
       " ['super', '👌'],\n",
       " ['nice'],\n",
       " [],\n",
       " ['want',\n",
       "  'change',\n",
       "  'facebook',\n",
       "  'profile',\n",
       "  'page',\n",
       "  'many',\n",
       "  'time',\n",
       "  'try',\n",
       "  'contact',\n",
       "  'facebook',\n",
       "  'team',\n",
       "  'also',\n",
       "  'still',\n",
       "  'facebook',\n",
       "  'profile',\n",
       "  'change',\n",
       "  'page',\n",
       "  'review',\n",
       "  'team',\n",
       "  'see',\n",
       "  'message',\n",
       "  'please',\n",
       "  'help',\n",
       "  'change',\n",
       "  'profile',\n",
       "  'page',\n",
       "  'thank'],\n",
       " ['poor',\n",
       "  'bad',\n",
       "  'experience',\n",
       "  'hanlde',\n",
       "  'meta',\n",
       "  'meta',\n",
       "  'know',\n",
       "  'manege',\n",
       "  'please',\n",
       "  'leave',\n",
       "  'post',\n",
       "  'give',\n",
       "  'back',\n",
       "  'handle',\n",
       "  'well',\n",
       "  'like',\n",
       "  'mature',\n",
       "  'meta',\n",
       "  'look',\n",
       "  'like',\n",
       "  'child',\n",
       "  'handle',\n",
       "  'evryday',\n",
       "  'make',\n",
       "  'mind',\n",
       "  '🤬',\n",
       "  'sometimes',\n",
       "  'send',\n",
       "  'msg',\n",
       "  'something',\n",
       "  'facebook',\n",
       "  'sesson',\n",
       "  'experience',\n",
       "  'logout',\n",
       "  'fu',\n",
       "  'ha',\n",
       "  '🤬🤬🤬🤬'],\n",
       " ['arjun', 'kumar', 'gfgk'],\n",
       " ['nice'],\n",
       " ['nice', 'app', '👌'],\n",
       " ['osm'],\n",
       " ['video', 'play', 'randomly', 'video', '2', 'audio', 'mixed', 'together'],\n",
       " ['mmfv✅️✅️✅️गगक'],\n",
       " ['unpublished',\n",
       "  'page',\n",
       "  'even',\n",
       "  'though',\n",
       "  'proof',\n",
       "  'go',\n",
       "  'community',\n",
       "  'standard',\n",
       "  'give',\n",
       "  'warning',\n",
       "  'first',\n",
       "  'explain',\n",
       "  'main',\n",
       "  'reason',\n",
       "  'vague',\n",
       "  'broad',\n",
       "  'reason',\n",
       "  'page',\n",
       "  'church',\n",
       "  'think',\n",
       "  'post',\n",
       "  'community',\n",
       "  'standard',\n",
       "  'better',\n",
       "  'next',\n",
       "  'time'],\n",
       " ['अबडैट'],\n",
       " ['whynis',\n",
       "  'account',\n",
       "  'restricted',\n",
       "  'second',\n",
       "  'time😭😭',\n",
       "  'idek',\n",
       "  'suddenly',\n",
       "  'im',\n",
       "  'restricted',\n",
       "  '48',\n",
       "  'hour',\n",
       "  'cant',\n",
       "  'even'],\n",
       " ['good'],\n",
       " ['nice'],\n",
       " ['good', 'term', 'communication'],\n",
       " ['good', 'apps'],\n",
       " ['fh'],\n",
       " ['imran', 'malik'],\n",
       " ['efficient'],\n",
       " ['lot', 'advertising', 'app'],\n",
       " ['great'],\n",
       " ['dd'],\n",
       " ['😉'],\n",
       " ['love'],\n",
       " ['good'],\n",
       " ['star'],\n",
       " ['lovu'],\n",
       " ['jai', 'mata', 'di'],\n",
       " ['good', 'app'],\n",
       " ['updated'],\n",
       " ['good', 'connection', 'everyone'],\n",
       " ['like', '💗💓💞💕💕'],\n",
       " ['beutifull', 'app', 'world', '😍🔥'],\n",
       " ['good'],\n",
       " ['mobile',\n",
       "  'data',\n",
       "  'video',\n",
       "  'auto',\n",
       "  'play',\n",
       "  'setting',\n",
       "  'data',\n",
       "  'mode',\n",
       "  'wifi'],\n",
       " ['android',\n",
       "  'phone',\n",
       "  'update',\n",
       "  'facebook',\n",
       "  'disappeared',\n",
       "  'tried',\n",
       "  'reinstalling',\n",
       "  'get',\n",
       "  'message',\n",
       "  'cannot',\n",
       "  'followed',\n",
       "  'instruction',\n",
       "  'check',\n",
       "  'everything',\n",
       "  'still',\n",
       "  'cannot',\n",
       "  'reinstall',\n",
       "  'regular',\n",
       "  'facebook',\n",
       "  'facebook',\n",
       "  'lite',\n",
       "  'installs',\n",
       "  'problem',\n",
       "  'going',\n",
       "  'on'],\n",
       " ['glad',\n",
       "  'yall',\n",
       "  'use',\n",
       "  'odk',\n",
       "  'cantt',\n",
       "  'jjst',\n",
       "  'one',\n",
       "  'everyone',\n",
       "  'need',\n",
       "  'share'],\n",
       " ['great'],\n",
       " ['im', 'good'],\n",
       " ['update', 'app', 'option'],\n",
       " ['nice', 'apps'],\n",
       " ['ល្អ'],\n",
       " ['nice'],\n",
       " ['amazing'],\n",
       " ['good'],\n",
       " ['facebook', 'good', 'app'],\n",
       " ['wow'],\n",
       " ['tzmssurl'],\n",
       " ['good'],\n",
       " ['nice', 'app'],\n",
       " ['great'],\n",
       " ['faltu'],\n",
       " ['mohima', 'sure'],\n",
       " ['££¥'],\n",
       " ['vali'],\n",
       " ['tell', 'u'],\n",
       " ['❤️❤️❤️'],\n",
       " ['someone',\n",
       "  'hacked',\n",
       "  'account',\n",
       "  'changed',\n",
       "  'password',\n",
       "  'email',\n",
       "  'fixing',\n",
       "  'problem',\n",
       "  'ive',\n",
       "  'spent',\n",
       "  'two',\n",
       "  'day',\n",
       "  'try',\n",
       "  'take',\n",
       "  'back',\n",
       "  'ive',\n",
       "  'tried',\n",
       "  'everything',\n",
       "  'possible',\n",
       "  'nothing',\n",
       "  'happened',\n",
       "  'support',\n",
       "  'actually',\n",
       "  'chat',\n",
       "  'someone',\n",
       "  'big',\n",
       "  'surprise',\n",
       "  'ive',\n",
       "  'similar',\n",
       "  'situation',\n",
       "  'fast',\n",
       "  'easy',\n",
       "  'solution',\n",
       "  'thing',\n",
       "  'im',\n",
       "  'using',\n",
       "  'phone',\n",
       "  'number',\n",
       "  'profile',\n",
       "  'option',\n",
       "  'recieve',\n",
       "  'message',\n",
       "  'code',\n",
       "  'absolutely',\n",
       "  'redicolous'],\n",
       " ['best'],\n",
       " ['im', 'qasem', 'soleimani'],\n",
       " ['great'],\n",
       " ['facebook', 'support', 'terrorism', 'ambaniadani', 'r', 'bjp'],\n",
       " ['xxxl8movie'],\n",
       " ['kunal'],\n",
       " ['ei', 'apps', 'amr', 'life', 'noster', 'mul', 'karon', '😢'],\n",
       " ['govinda', 'kumar', 'madhepur', 'banto', 'wale'],\n",
       " ['fav', 'app'],\n",
       " ['vht'],\n",
       " [],\n",
       " ['u', 'uaghs'],\n",
       " ['really', 'good', 'using', 'facebook', 'app', 'social', 'verry', 'active'],\n",
       " ['mehedi'],\n",
       " ['message',\n",
       "  'sent',\n",
       "  'don’t',\n",
       "  'known',\n",
       "  'l',\n",
       "  'could',\n",
       "  'sent',\n",
       "  'message',\n",
       "  'anybody',\n",
       "  'please',\n",
       "  'solve',\n",
       "  'problem',\n",
       "  'soon',\n",
       "  'possible'],\n",
       " ['good'],\n",
       " ['dheerendra', 'kumar'],\n",
       " ['दख'],\n",
       " ['novr'],\n",
       " ['r'],\n",
       " ['good'],\n",
       " ['messager'],\n",
       " ['please', 'bring', 'back', 'post', 'layout', 'photo', 'would', 'better'],\n",
       " ['good', 'bother'],\n",
       " ['good', 'application'],\n",
       " ['awesome', '👍'],\n",
       " ['please',\n",
       "  'turn',\n",
       "  'voice',\n",
       "  'option',\n",
       "  'comment',\n",
       "  'post',\n",
       "  'thought',\n",
       "  'cannot',\n",
       "  'expressed',\n",
       "  'well',\n",
       "  'writing'],\n",
       " ['पवन', 'मीणा', 'रावण'],\n",
       " ['okay', 'say', 'say', 'old', 'version', 'even', 'recently', 'downloaded'],\n",
       " ['reel', 'volume'],\n",
       " ['awesome', '🥰'],\n",
       " ['nice', 'app', 'love', 'facebook'],\n",
       " ['good', 'app'],\n",
       " ['ok'],\n",
       " ['good'],\n",
       " ['good'],\n",
       " ['try',\n",
       "  'use',\n",
       "  'dating',\n",
       "  'app',\n",
       "  'said',\n",
       "  'needed',\n",
       "  'update',\n",
       "  'facebook',\n",
       "  'still',\n",
       "  'let',\n",
       "  'use',\n",
       "  'dating',\n",
       "  'app'],\n",
       " ['best', 'facebook'],\n",
       " ['bintang', '5', 'dulu'],\n",
       " ['mousumi', 'roy'],\n",
       " ['facebook', 'lock', 'next', 'kaise', 'karen', 'lock', 'lag', 'gaya', 'hai'],\n",
       " ['reel', 'option', 'missing', 'short', 'video', 'available'],\n",
       " ['nice', 'like', 'trash'],\n",
       " ['md', 'rabbi'],\n",
       " ['adib', 'jaan'],\n",
       " ['good'],\n",
       " ['omselama'],\n",
       " ['good'],\n",
       " ['real', 'good', 'useful'],\n",
       " ['sha', 'viiiggyio'],\n",
       " ['good', 'apps'],\n",
       " ['mesenger', 'chating', 'facebook', 'id', 'plz'],\n",
       " ['facebook', 'ok', 'appsbut', 'sometime', 'ok', 'working', 'service'],\n",
       " ['osm'],\n",
       " ['facebook',\n",
       "  'account',\n",
       "  'getting',\n",
       "  'suspended',\n",
       "  'even',\n",
       "  'though',\n",
       "  'anything',\n",
       "  'ive',\n",
       "  'created',\n",
       "  'many',\n",
       "  'account',\n",
       "  'keep',\n",
       "  'suspended',\n",
       "  'pls',\n",
       "  'fix',\n",
       "  'this',\n",
       "  'facebook',\n",
       "  'lot',\n",
       "  'important',\n",
       "  'thing',\n",
       "  'gosh'],\n",
       " ['cool'],\n",
       " ['c', 'vxc', 'esrecvv', 'sd'],\n",
       " ['nice'],\n",
       " ['nc'],\n",
       " ['gaming', 'experience', 'good', 'marketing', 'fabulous'],\n",
       " ['excellent', 'excellent'],\n",
       " ['nice'],\n",
       " ['sk', 'gaming'],\n",
       " [],\n",
       " ['whatsapp', 'download'],\n",
       " ['plllmmnnñ',\n",
       "  'tv',\n",
       "  'yyuioooihh',\n",
       "  'bhi',\n",
       "  'knbbnnv',\n",
       "  'ch',\n",
       "  'hu',\n",
       "  'jb',\n",
       "  'gy',\n",
       "  'yt',\n",
       "  'gv',\n",
       "  'ct',\n",
       "  'ex',\n",
       "  'c',\n",
       "  'ft',\n",
       "  'second',\n",
       "  '🥈',\n",
       "  'outtgvv',\n",
       "  'hurrddddsdty'],\n",
       " ['app',\n",
       "  'really',\n",
       "  'useful',\n",
       "  'allows',\n",
       "  'unblock',\n",
       "  'people',\n",
       "  'block',\n",
       "  'people',\n",
       "  'fact',\n",
       "  'even',\n",
       "  'talk',\n",
       "  'friend',\n",
       "  'since',\n",
       "  'connected',\n",
       "  'messenger'],\n",
       " ['qpp'],\n",
       " ['cant', 'open', 'facebook'],\n",
       " ['nice'],\n",
       " ['good', 'app', 'dream', '🖤🖤'],\n",
       " ['like'],\n",
       " ['good'],\n",
       " ['ဘဘလလ'],\n",
       " ['best', 'app'],\n",
       " ['nice'],\n",
       " ['ive',\n",
       "  'updated',\n",
       "  'app',\n",
       "  'every',\n",
       "  'time',\n",
       "  'go',\n",
       "  'facebook',\n",
       "  'dating',\n",
       "  'tell',\n",
       "  'need',\n",
       "  'update',\n",
       "  'im',\n",
       "  'sure'],\n",
       " ['best', 'app', 'ever'],\n",
       " ['wow', 'nice'],\n",
       " ['im',\n",
       "  'using',\n",
       "  'facebook',\n",
       "  'z',\n",
       "  'flip',\n",
       "  '4',\n",
       "  'got',\n",
       "  'ton',\n",
       "  'problem',\n",
       "  'browsing',\n",
       "  'page',\n",
       "  'cant',\n",
       "  'speed',\n",
       "  'scroll',\n",
       "  'post',\n",
       "  'browse',\n",
       "  'page',\n",
       "  'photo',\n",
       "  'matter',\n",
       "  'photo',\n",
       "  'click',\n",
       "  'always',\n",
       "  'open',\n",
       "  'first',\n",
       "  'photo'],\n",
       " ['good', 'perform'],\n",
       " ['great'],\n",
       " ['good', 'communication'],\n",
       " ['nice', 'like'],\n",
       " ['love', 'facebook'],\n",
       " ['pp'],\n",
       " ['misbehaving'],\n",
       " ['nice', 'facebook'],\n",
       " ['cant',\n",
       "  'use',\n",
       "  'dating',\n",
       "  'without',\n",
       "  'approving',\n",
       "  'use',\n",
       "  'gender',\n",
       "  'religious',\n",
       "  'preference',\n",
       "  'ad',\n",
       "  'i',\n",
       "  'accept',\n",
       "  'greyed',\n",
       "  'matter',\n",
       "  'able',\n",
       "  'use',\n",
       "  'dating',\n",
       "  'closed',\n",
       "  'reopened',\n",
       "  'app',\n",
       "  'fix',\n",
       "  'restarted',\n",
       "  'phone',\n",
       "  'fix',\n",
       "  'uninstalled',\n",
       "  'reinstalled',\n",
       "  'app',\n",
       "  'say',\n",
       "  'update',\n",
       "  'app',\n",
       "  'recent',\n",
       "  'version',\n",
       "  'play',\n",
       "  'store',\n",
       "  'use',\n",
       "  'dating',\n",
       "  'update'],\n",
       " ['meman'],\n",
       " ['good'],\n",
       " ['awesome', '🙂'],\n",
       " ['time', 'pass👍'],\n",
       " ['harsh'],\n",
       " ['updated',\n",
       "  'certain',\n",
       "  'thing',\n",
       "  'work',\n",
       "  'registered',\n",
       "  'updated',\n",
       "  'it',\n",
       "  'really',\n",
       "  'control',\n",
       "  'lately'],\n",
       " ['dhananjay', 'vishwakarma'],\n",
       " ['excellent'],\n",
       " ['😠😠😠😠😡😡😡😡😡😡😡👎👎👎👎👎👎👎👎😒😒😒😒😞😞😞😞😞😞😞😞'],\n",
       " ['love', 'facebook'],\n",
       " ['নাইস'],\n",
       " ['👍👍'],\n",
       " ['really', 'nice'],\n",
       " ['professional', 'opinion'],\n",
       " ['shafqatali'],\n",
       " ['excellent'],\n",
       " ['icount', 'lock', 'open', 'icount', 'help', 'plz'],\n",
       " ['good'],\n",
       " ['nice', '😊'],\n",
       " ['cursed', 'app', 'ngl'],\n",
       " ['wow', 'nice', 'wow', 'nice', 'pic', '👍👍👍👍👍👍👍👍👍👍', '👍👍👍👍👍👍👍👍👍'],\n",
       " ['good'],\n",
       " ['apps', 'installation', 'take', 'long', 'time'],\n",
       " ['country', 'cant', 'make', 'money', 'facebook'],\n",
       " ['great', 'waybto', 'connect', 'family', 'friend', 'near', 'far'],\n",
       " ['fantastic', '😊😊'],\n",
       " ['😍😍😍😍'],\n",
       " ['okk'],\n",
       " ['awesome'],\n",
       " ...]"
      ]
     },
     "execution_count": 84,
     "metadata": {},
     "output_type": "execute_result"
    }
   ],
   "source": [
    "# Text preprocessing\n",
    "stop = set(stopwords.words('english'))\n",
    "exclude = set(string.punctuation)\n",
    "lemma = WordNetLemmatizer()\n",
    "\n",
    "def clean(doc):\n",
    "    stop_free = \" \".join([i for i in doc.lower().split() if i not in stop])\n",
    "    punc_free = ''.join(ch for ch in stop_free if ch not in exclude)\n",
    "    normalized = \" \".join(lemma.lemmatize(word) for word in punc_free.split())\n",
    "    return normalized\n",
    "\n",
    "doc_clean = [clean(doc).split() for doc in df['review_text']]\n",
    "doc_clean"
   ]
  },
  {
   "cell_type": "code",
   "execution_count": 85,
   "metadata": {},
   "outputs": [],
   "source": [
    "# Vectorization\n",
    "vectorizer = CountVectorizer(stop_words='english', max_features=5000)\n",
    "data_vectorized = vectorizer.fit_transform(df['review_text'])\n"
   ]
  },
  {
   "cell_type": "code",
   "execution_count": 86,
   "metadata": {},
   "outputs": [],
   "source": [
    "# LDA Model\n",
    "lda_model = LatentDirichletAllocation(n_components=10, random_state=0)\n",
    "lda_model.fit(data_vectorized)\n",
    "\n",
    "# Visualization\n",
    "pyLDAvis.enable_notebook()\n",
    "panel = pyLDAvis.sklearn.prepare(lda_model, data_vectorized, vectorizer, mds='tsne')\n",
    "panel"
   ]
  }
 ],
 "metadata": {
  "kernelspec": {
   "display_name": "environment_2",
   "language": "python",
   "name": "python3"
  },
  "language_info": {
   "codemirror_mode": {
    "name": "ipython",
    "version": 3
   },
   "file_extension": ".py",
   "mimetype": "text/x-python",
   "name": "python",
   "nbconvert_exporter": "python",
   "pygments_lexer": "ipython3",
   "version": "3.11.5"
  }
 },
 "nbformat": 4,
 "nbformat_minor": 2
}
