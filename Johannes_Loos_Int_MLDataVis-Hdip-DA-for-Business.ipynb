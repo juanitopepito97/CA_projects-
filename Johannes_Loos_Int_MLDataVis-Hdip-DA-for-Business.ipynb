{
 "cells": [
  {
   "cell_type": "markdown",
   "metadata": {},
   "source": [
    "# Integrated CA ML for Business and Data Visualisation"
   ]
  },
  {
   "cell_type": "code",
   "execution_count": 184,
   "metadata": {},
   "outputs": [],
   "source": [
    "#!pip install jupyter_dash\n",
    "#!pip install dash"
   ]
  },
  {
   "cell_type": "code",
   "execution_count": 185,
   "metadata": {},
   "outputs": [],
   "source": [
    "#General\n",
    "import warnings\n",
    "warnings.filterwarnings('ignore')\n",
    "import pandas as pd\n",
    "import numpy as np\n",
    "from sklearn.model_selection import train_test_split\n",
    "\n",
    "# Visualization\n",
    "import matplotlib.pyplot as plt\n",
    "import seaborn as sns\n",
    "import plotly.express as px\n",
    "import plotly.figure_factory as ff\n",
    "import plotly.graph_objects as go\n",
    "from jupyter_dash import JupyterDash\n",
    "import dash_core_components as dcc\n",
    "import dash_html_components as html\n",
    "from dash.dependencies import Input, Output\n",
    "\n",
    "\n",
    "# Time Series\n",
    "from statsmodels.graphics.tsaplots import plot_acf, plot_pacf\n",
    "from statsmodels.tsa.stattools import adfuller\n",
    "import statsmodels.tsa.api as sm\n",
    "from statsmodels.tsa.statespace.sarimax import SARIMAX\n",
    "from sklearn.metrics import mean_absolute_error, mean_squared_error, r2_score\n",
    "from math import sqrt\n",
    "\n",
    "\n",
    "# Text Analytics\n",
    "import sklearn.feature_extraction.text as sk_txt\n",
    "from sklearn.naive_bayes import MultinomialNB\n",
    "from sklearn.metrics import classification_report"
   ]
  },
  {
   "cell_type": "code",
   "execution_count": 186,
   "metadata": {},
   "outputs": [],
   "source": [
    "df = pd.read_csv('FACEBOOK_REVIEWS.csv')"
   ]
  },
  {
   "cell_type": "markdown",
   "metadata": {},
   "source": [
    "# Data Pre-Processing"
   ]
  },
  {
   "cell_type": "code",
   "execution_count": 187,
   "metadata": {},
   "outputs": [
    {
     "data": {
      "text/html": [
       "<div>\n",
       "<style scoped>\n",
       "    .dataframe tbody tr th:only-of-type {\n",
       "        vertical-align: middle;\n",
       "    }\n",
       "\n",
       "    .dataframe tbody tr th {\n",
       "        vertical-align: top;\n",
       "    }\n",
       "\n",
       "    .dataframe thead th {\n",
       "        text-align: right;\n",
       "    }\n",
       "</style>\n",
       "<table border=\"1\" class=\"dataframe\">\n",
       "  <thead>\n",
       "    <tr style=\"text-align: right;\">\n",
       "      <th></th>\n",
       "      <th>Unnamed: 0</th>\n",
       "      <th>review_id</th>\n",
       "      <th>pseudo_author_id</th>\n",
       "      <th>author_name</th>\n",
       "      <th>review_text</th>\n",
       "      <th>review_rating</th>\n",
       "      <th>review_likes</th>\n",
       "      <th>author_app_version</th>\n",
       "      <th>review_timestamp</th>\n",
       "    </tr>\n",
       "  </thead>\n",
       "  <tbody>\n",
       "    <tr>\n",
       "      <th>0</th>\n",
       "      <td>0</td>\n",
       "      <td>baecdfaa-fdcf-4ec2-8795-f9e1d0885c3a</td>\n",
       "      <td>167801889669597203549</td>\n",
       "      <td>Om******hy</td>\n",
       "      <td>bad app</td>\n",
       "      <td>1</td>\n",
       "      <td>0</td>\n",
       "      <td>318.0.0.39.154</td>\n",
       "      <td>2021-05-19 20:00:27</td>\n",
       "    </tr>\n",
       "    <tr>\n",
       "      <th>1</th>\n",
       "      <td>1</td>\n",
       "      <td>12e913d6-105e-4f0c-bb22-4f6a0561cb18</td>\n",
       "      <td>318460545610239421517</td>\n",
       "      <td>Sa****************ol</td>\n",
       "      <td>Really really annoying app ... like if its not...</td>\n",
       "      <td>1</td>\n",
       "      <td>0</td>\n",
       "      <td>317.0.0.51.119</td>\n",
       "      <td>2021-05-19 20:00:29</td>\n",
       "    </tr>\n",
       "    <tr>\n",
       "      <th>2</th>\n",
       "      <td>2</td>\n",
       "      <td>7db12237-0f42-4ef7-873b-99495d575331</td>\n",
       "      <td>530587565711923101092</td>\n",
       "      <td>Ca*********04</td>\n",
       "      <td>Cunsurinimo</td>\n",
       "      <td>1</td>\n",
       "      <td>0</td>\n",
       "      <td>293.0.0.43.120</td>\n",
       "      <td>2021-05-19 20:00:29</td>\n",
       "    </tr>\n",
       "    <tr>\n",
       "      <th>3</th>\n",
       "      <td>3</td>\n",
       "      <td>6d48f3e8-54c4-417a-83c9-6b198ef7c516</td>\n",
       "      <td>413352731163292273792</td>\n",
       "      <td>Ar**************07</td>\n",
       "      <td>Bad experience</td>\n",
       "      <td>1</td>\n",
       "      <td>0</td>\n",
       "      <td>318.0.0.39.154</td>\n",
       "      <td>2021-05-19 20:00:30</td>\n",
       "    </tr>\n",
       "    <tr>\n",
       "      <th>4</th>\n",
       "      <td>4</td>\n",
       "      <td>c4430a84-d74b-4e24-8ed6-1e28110a355b</td>\n",
       "      <td>972610065867074567951</td>\n",
       "      <td>Ab***********kh</td>\n",
       "      <td>Totally pathetic experience too many ads and b...</td>\n",
       "      <td>1</td>\n",
       "      <td>0</td>\n",
       "      <td>308.0.0.42.118</td>\n",
       "      <td>2021-05-19 20:00:30</td>\n",
       "    </tr>\n",
       "  </tbody>\n",
       "</table>\n",
       "</div>"
      ],
      "text/plain": [
       "   Unnamed: 0                             review_id       pseudo_author_id  \\\n",
       "0           0  baecdfaa-fdcf-4ec2-8795-f9e1d0885c3a  167801889669597203549   \n",
       "1           1  12e913d6-105e-4f0c-bb22-4f6a0561cb18  318460545610239421517   \n",
       "2           2  7db12237-0f42-4ef7-873b-99495d575331  530587565711923101092   \n",
       "3           3  6d48f3e8-54c4-417a-83c9-6b198ef7c516  413352731163292273792   \n",
       "4           4  c4430a84-d74b-4e24-8ed6-1e28110a355b  972610065867074567951   \n",
       "\n",
       "            author_name                                        review_text  \\\n",
       "0            Om******hy                                            bad app   \n",
       "1  Sa****************ol  Really really annoying app ... like if its not...   \n",
       "2         Ca*********04                                        Cunsurinimo   \n",
       "3    Ar**************07                                     Bad experience   \n",
       "4       Ab***********kh  Totally pathetic experience too many ads and b...   \n",
       "\n",
       "   review_rating  review_likes author_app_version     review_timestamp  \n",
       "0              1             0     318.0.0.39.154  2021-05-19 20:00:27  \n",
       "1              1             0     317.0.0.51.119  2021-05-19 20:00:29  \n",
       "2              1             0     293.0.0.43.120  2021-05-19 20:00:29  \n",
       "3              1             0     318.0.0.39.154  2021-05-19 20:00:30  \n",
       "4              1             0     308.0.0.42.118  2021-05-19 20:00:30  "
      ]
     },
     "execution_count": 187,
     "metadata": {},
     "output_type": "execute_result"
    }
   ],
   "source": [
    "df.head()"
   ]
  },
  {
   "cell_type": "code",
   "execution_count": 188,
   "metadata": {},
   "outputs": [
    {
     "name": "stdout",
     "output_type": "stream",
     "text": [
      "<class 'pandas.core.frame.DataFrame'>\n",
      "RangeIndex: 2994736 entries, 0 to 2994735\n",
      "Data columns (total 9 columns):\n",
      " #   Column              Dtype \n",
      "---  ------              ----- \n",
      " 0   Unnamed: 0          int64 \n",
      " 1   review_id           object\n",
      " 2   pseudo_author_id    object\n",
      " 3   author_name         object\n",
      " 4   review_text         object\n",
      " 5   review_rating       int64 \n",
      " 6   review_likes        int64 \n",
      " 7   author_app_version  object\n",
      " 8   review_timestamp    object\n",
      "dtypes: int64(3), object(6)\n",
      "memory usage: 205.6+ MB\n"
     ]
    }
   ],
   "source": [
    "df.info()"
   ]
  },
  {
   "cell_type": "code",
   "execution_count": 189,
   "metadata": {},
   "outputs": [
    {
     "data": {
      "text/plain": [
       "Index(['Unnamed: 0', 'review_id', 'pseudo_author_id', 'author_name',\n",
       "       'review_text', 'review_rating', 'review_likes', 'author_app_version',\n",
       "       'review_timestamp'],\n",
       "      dtype='object')"
      ]
     },
     "execution_count": 189,
     "metadata": {},
     "output_type": "execute_result"
    }
   ],
   "source": [
    "df.columns"
   ]
  },
  {
   "cell_type": "code",
   "execution_count": 190,
   "metadata": {},
   "outputs": [],
   "source": [
    "df.drop(['Unnamed: 0'], axis=1, inplace=True)"
   ]
  },
  {
   "cell_type": "code",
   "execution_count": 191,
   "metadata": {},
   "outputs": [],
   "source": [
    "df['review_timestamp'] = pd.to_datetime(df['review_timestamp'])"
   ]
  },
  {
   "cell_type": "code",
   "execution_count": 192,
   "metadata": {},
   "outputs": [
    {
     "data": {
      "text/plain": [
       "(Timestamp('2021-05-19 20:00:27'), Timestamp('2023-11-13 23:23:21'))"
      ]
     },
     "execution_count": 192,
     "metadata": {},
     "output_type": "execute_result"
    }
   ],
   "source": [
    "df['review_timestamp'].min(), df['review_timestamp'].max()"
   ]
  },
  {
   "cell_type": "code",
   "execution_count": 193,
   "metadata": {},
   "outputs": [
    {
     "data": {
      "text/plain": [
       "review_id                  0\n",
       "pseudo_author_id           0\n",
       "author_name                0\n",
       "review_text              450\n",
       "review_rating              0\n",
       "review_likes               0\n",
       "author_app_version    652863\n",
       "review_timestamp           0\n",
       "dtype: int64"
      ]
     },
     "execution_count": 193,
     "metadata": {},
     "output_type": "execute_result"
    }
   ],
   "source": [
    "df.isna().sum()"
   ]
  },
  {
   "cell_type": "code",
   "execution_count": 194,
   "metadata": {},
   "outputs": [
    {
     "data": {
      "text/plain": [
       "review_id             0\n",
       "pseudo_author_id      0\n",
       "author_name           0\n",
       "review_text           0\n",
       "review_rating         0\n",
       "review_likes          0\n",
       "author_app_version    0\n",
       "review_timestamp      0\n",
       "dtype: int64"
      ]
     },
     "execution_count": 194,
     "metadata": {},
     "output_type": "execute_result"
    }
   ],
   "source": [
    "df.dropna(inplace=True)\n",
    "df.isna().sum()"
   ]
  },
  {
   "cell_type": "code",
   "execution_count": 195,
   "metadata": {},
   "outputs": [
    {
     "name": "stdout",
     "output_type": "stream",
     "text": [
      "<class 'pandas.core.frame.DataFrame'>\n",
      "Index: 2341493 entries, 0 to 2994735\n",
      "Data columns (total 8 columns):\n",
      " #   Column              Dtype         \n",
      "---  ------              -----         \n",
      " 0   review_id           object        \n",
      " 1   pseudo_author_id    object        \n",
      " 2   author_name         object        \n",
      " 3   review_text         object        \n",
      " 4   review_rating       int64         \n",
      " 5   review_likes        int64         \n",
      " 6   author_app_version  object        \n",
      " 7   review_timestamp    datetime64[ns]\n",
      "dtypes: datetime64[ns](1), int64(2), object(5)\n",
      "memory usage: 160.8+ MB\n"
     ]
    }
   ],
   "source": [
    "df.info()"
   ]
  },
  {
   "cell_type": "markdown",
   "metadata": {},
   "source": [
    "## Data Visualisation Part 1"
   ]
  },
  {
   "cell_type": "code",
   "execution_count": 196,
   "metadata": {},
   "outputs": [
    {
     "data": {
      "text/html": [
       "<div>\n",
       "<style scoped>\n",
       "    .dataframe tbody tr th:only-of-type {\n",
       "        vertical-align: middle;\n",
       "    }\n",
       "\n",
       "    .dataframe tbody tr th {\n",
       "        vertical-align: top;\n",
       "    }\n",
       "\n",
       "    .dataframe thead th {\n",
       "        text-align: right;\n",
       "    }\n",
       "</style>\n",
       "<table border=\"1\" class=\"dataframe\">\n",
       "  <thead>\n",
       "    <tr style=\"text-align: right;\">\n",
       "      <th></th>\n",
       "      <th>review_rating</th>\n",
       "      <th>review_likes</th>\n",
       "      <th>review_timestamp</th>\n",
       "    </tr>\n",
       "  </thead>\n",
       "  <tbody>\n",
       "    <tr>\n",
       "      <th>count</th>\n",
       "      <td>2.341493e+06</td>\n",
       "      <td>2.341493e+06</td>\n",
       "      <td>2341493</td>\n",
       "    </tr>\n",
       "    <tr>\n",
       "      <th>mean</th>\n",
       "      <td>2.937783e+00</td>\n",
       "      <td>3.510604e+00</td>\n",
       "      <td>2022-04-28 22:59:44.241313536</td>\n",
       "    </tr>\n",
       "    <tr>\n",
       "      <th>min</th>\n",
       "      <td>1.000000e+00</td>\n",
       "      <td>0.000000e+00</td>\n",
       "      <td>2021-05-19 20:00:27</td>\n",
       "    </tr>\n",
       "    <tr>\n",
       "      <th>25%</th>\n",
       "      <td>1.000000e+00</td>\n",
       "      <td>0.000000e+00</td>\n",
       "      <td>2021-07-16 10:22:16</td>\n",
       "    </tr>\n",
       "    <tr>\n",
       "      <th>50%</th>\n",
       "      <td>3.000000e+00</td>\n",
       "      <td>0.000000e+00</td>\n",
       "      <td>2022-02-25 19:34:50</td>\n",
       "    </tr>\n",
       "    <tr>\n",
       "      <th>75%</th>\n",
       "      <td>5.000000e+00</td>\n",
       "      <td>0.000000e+00</td>\n",
       "      <td>2022-12-23 00:22:33</td>\n",
       "    </tr>\n",
       "    <tr>\n",
       "      <th>max</th>\n",
       "      <td>5.000000e+00</td>\n",
       "      <td>8.418000e+04</td>\n",
       "      <td>2023-11-13 23:23:21</td>\n",
       "    </tr>\n",
       "    <tr>\n",
       "      <th>std</th>\n",
       "      <td>1.882540e+00</td>\n",
       "      <td>2.209054e+02</td>\n",
       "      <td>NaN</td>\n",
       "    </tr>\n",
       "  </tbody>\n",
       "</table>\n",
       "</div>"
      ],
      "text/plain": [
       "       review_rating  review_likes               review_timestamp\n",
       "count   2.341493e+06  2.341493e+06                        2341493\n",
       "mean    2.937783e+00  3.510604e+00  2022-04-28 22:59:44.241313536\n",
       "min     1.000000e+00  0.000000e+00            2021-05-19 20:00:27\n",
       "25%     1.000000e+00  0.000000e+00            2021-07-16 10:22:16\n",
       "50%     3.000000e+00  0.000000e+00            2022-02-25 19:34:50\n",
       "75%     5.000000e+00  0.000000e+00            2022-12-23 00:22:33\n",
       "max     5.000000e+00  8.418000e+04            2023-11-13 23:23:21\n",
       "std     1.882540e+00  2.209054e+02                            NaN"
      ]
     },
     "execution_count": 196,
     "metadata": {},
     "output_type": "execute_result"
    }
   ],
   "source": [
    "df.describe()"
   ]
  },
  {
   "cell_type": "markdown",
   "metadata": {},
   "source": [
    "#### Histplot with the count of review ratings "
   ]
  },
  {
   "cell_type": "code",
   "execution_count": 197,
   "metadata": {},
   "outputs": [
    {
     "data": {
      "image/png": "[encoded data removed]",
      "text/plain": [
       "<Figure size 640x480 with 1 Axes>"
      ]
     },
     "metadata": {},
     "output_type": "display_data"
    }
   ],
   "source": [
    "sns.set_style(\"white\") \n",
    "sns.set_palette('deep') \n",
    "bins = list(set(df['review_rating'].unique()))\n",
    "ax = sns.histplot(df['review_rating'], bins=5, kde=False)\n",
    "plt.ticklabel_format(style='plain', axis='y')\n",
    "ax.set_xticks(bins)\n",
    "plt.show()"
   ]
  },
  {
   "cell_type": "markdown",
   "metadata": {},
   "source": [
    "#### Bar Chart with count of review ratings per year"
   ]
  },
  {
   "cell_type": "code",
   "execution_count": 198,
   "metadata": {},
   "outputs": [],
   "source": [
    "df['Year'] = df['review_timestamp'].dt.year\n",
    "year = df.groupby(['Year','review_rating']).review_rating.value_counts().reset_index()"
   ]
  },
  {
   "cell_type": "code",
   "execution_count": 199,
   "metadata": {},
   "outputs": [
    {
     "data": {
      "application/vnd.plotly.v1+json": {
       "config": {
        "plotlyServerURL": "https://plot.ly"
       },
       "data": [
        {
         "alignmentgroup": "True",
         "hovertemplate": "Year=%{x}<br>count=%{y:,.0f}<br>review_rating=%{marker.color}<extra></extra>",
         "legendgroup": "",
         "marker": {
          "color": [
           1,
           2,
           3,
           4,
           5,
           1,
           2,
           3,
           4,
           5,
           1,
           2,
           3,
           4,
           5
          ],
          "coloraxis": "coloraxis",
          "pattern": {
           "shape": ""
          }
         },
         "name": "",
         "offsetgroup": "",
         "orientation": "v",
         "showlegend": false,
         "textposition": "auto",
         "type": "bar",
         "x": [
          2021,
          2021,
          2021,
          2021,
          2021,
          2022,
          2022,
          2022,
          2022,
          2022,
          2023,
          2023,
          2023,
          2023,
          2023
         ],
         "xaxis": "x",
         "y": [
          586641,
          28351,
          33330,
          44449,
          350315,
          193654,
          36009,
          41331,
          52117,
          400859,
          277126,
          24852,
          26796,
          31866,
          213797
         ],
         "yaxis": "y"
        }
       ],
       "layout": {
        "barmode": "relative",
        "coloraxis": {
         "colorbar": {
          "title": {
           "text": "review_rating"
          }
         },
         "colorscale": [
          [
           0,
           "#0d0887"
          ],
          [
           0.1111111111111111,
           "#46039f"
          ],
          [
           0.2222222222222222,
           "#7201a8"
          ],
          [
           0.3333333333333333,
           "#9c179e"
          ],
          [
           0.4444444444444444,
           "#bd3786"
          ],
          [
           0.5555555555555556,
           "#d8576b"
          ],
          [
           0.6666666666666666,
           "#ed7953"
          ],
          [
           0.7777777777777778,
           "#fb9f3a"
          ],
          [
           0.8888888888888888,
           "#fdca26"
          ],
          [
           1,
           "#f0f921"
          ]
         ]
        },
        "legend": {
         "tracegroupgap": 0
        },
        "margin": {
         "t": 60
        },
        "template": {
         "data": {
          "bar": [
           {
            "error_x": {
             "color": "#2a3f5f"
            },
            "error_y": {
             "color": "#2a3f5f"
            },
            "marker": {
             "line": {
              "color": "#E5ECF6",
              "width": 0.5
             },
             "pattern": {
              "fillmode": "overlay",
              "size": 10,
              "solidity": 0.2
             }
            },
            "type": "bar"
           }
          ],
          "barpolar": [
           {
            "marker": {
             "line": {
              "color": "#E5ECF6",
              "width": 0.5
             },
             "pattern": {
              "fillmode": "overlay",
              "size": 10,
              "solidity": 0.2
             }
            },
            "type": "barpolar"
           }
          ],
          "carpet": [
           {
            "aaxis": {
             "endlinecolor": "#2a3f5f",
             "gridcolor": "white",
             "linecolor": "white",
             "minorgridcolor": "white",
             "startlinecolor": "#2a3f5f"
            },
            "baxis": {
             "endlinecolor": "#2a3f5f",
             "gridcolor": "white",
             "linecolor": "white",
             "minorgridcolor": "white",
             "startlinecolor": "#2a3f5f"
            },
            "type": "carpet"
           }
          ],
          "choropleth": [
           {
            "colorbar": {
             "outlinewidth": 0,
             "ticks": ""
            },
            "type": "choropleth"
           }
          ],
          "contour": [
           {
            "colorbar": {
             "outlinewidth": 0,
             "ticks": ""
            },
            "colorscale": [
             [
              0,
              "#0d0887"
             ],
             [
              0.1111111111111111,
              "#46039f"
             ],
             [
              0.2222222222222222,
              "#7201a8"
             ],
             [
              0.3333333333333333,
              "#9c179e"
             ],
             [
              0.4444444444444444,
              "#bd3786"
             ],
             [
              0.5555555555555556,
              "#d8576b"
             ],
             [
              0.6666666666666666,
              "#ed7953"
             ],
             [
              0.7777777777777778,
              "#fb9f3a"
             ],
             [
              0.8888888888888888,
              "#fdca26"
             ],
             [
              1,
              "#f0f921"
             ]
            ],
            "type": "contour"
           }
          ],
          "contourcarpet": [
           {
            "colorbar": {
             "outlinewidth": 0,
             "ticks": ""
            },
            "type": "contourcarpet"
           }
          ],
          "heatmap": [
           {
            "colorbar": {
             "outlinewidth": 0,
             "ticks": ""
            },
            "colorscale": [
             [
              0,
              "#0d0887"
             ],
             [
              0.1111111111111111,
              "#46039f"
             ],
             [
              0.2222222222222222,
              "#7201a8"
             ],
             [
              0.3333333333333333,
              "#9c179e"
             ],
             [
              0.4444444444444444,
              "#bd3786"
             ],
             [
              0.5555555555555556,
              "#d8576b"
             ],
             [
              0.6666666666666666,
              "#ed7953"
             ],
             [
              0.7777777777777778,
              "#fb9f3a"
             ],
             [
              0.8888888888888888,
              "#fdca26"
             ],
             [
              1,
              "#f0f921"
             ]
            ],
            "type": "heatmap"
           }
          ],
          "heatmapgl": [
           {
            "colorbar": {
             "outlinewidth": 0,
             "ticks": ""
            },
            "colorscale": [
             [
              0,
              "#0d0887"
             ],
             [
              0.1111111111111111,
              "#46039f"
             ],
             [
              0.2222222222222222,
              "#7201a8"
             ],
             [
              0.3333333333333333,
              "#9c179e"
             ],
             [
              0.4444444444444444,
              "#bd3786"
             ],
             [
              0.5555555555555556,
              "#d8576b"
             ],
             [
              0.6666666666666666,
              "#ed7953"
             ],
             [
              0.7777777777777778,
              "#fb9f3a"
             ],
             [
              0.8888888888888888,
              "#fdca26"
             ],
             [
              1,
              "#f0f921"
             ]
            ],
            "type": "heatmapgl"
           }
          ],
          "histogram": [
           {
            "marker": {
             "pattern": {
              "fillmode": "overlay",
              "size": 10,
              "solidity": 0.2
             }
            },
            "type": "histogram"
           }
          ],
          "histogram2d": [
           {
            "colorbar": {
             "outlinewidth": 0,
             "ticks": ""
            },
            "colorscale": [
             [
              0,
              "#0d0887"
             ],
             [
              0.1111111111111111,
              "#46039f"
             ],
             [
              0.2222222222222222,
              "#7201a8"
             ],
             [
              0.3333333333333333,
              "#9c179e"
             ],
             [
              0.4444444444444444,
              "#bd3786"
             ],
             [
              0.5555555555555556,
              "#d8576b"
             ],
             [
              0.6666666666666666,
              "#ed7953"
             ],
             [
              0.7777777777777778,
              "#fb9f3a"
             ],
             [
              0.8888888888888888,
              "#fdca26"
             ],
             [
              1,
              "#f0f921"
             ]
            ],
            "type": "histogram2d"
           }
          ],
          "histogram2dcontour": [
           {
            "colorbar": {
             "outlinewidth": 0,
             "ticks": ""
            },
            "colorscale": [
             [
              0,
              "#0d0887"
             ],
             [
              0.1111111111111111,
              "#46039f"
             ],
             [
              0.2222222222222222,
              "#7201a8"
             ],
             [
              0.3333333333333333,
              "#9c179e"
             ],
             [
              0.4444444444444444,
              "#bd3786"
             ],
             [
              0.5555555555555556,
              "#d8576b"
             ],
             [
              0.6666666666666666,
              "#ed7953"
             ],
             [
              0.7777777777777778,
              "#fb9f3a"
             ],
             [
              0.8888888888888888,
              "#fdca26"
             ],
             [
              1,
              "#f0f921"
             ]
            ],
            "type": "histogram2dcontour"
           }
          ],
          "mesh3d": [
           {
            "colorbar": {
             "outlinewidth": 0,
             "ticks": ""
            },
            "type": "mesh3d"
           }
          ],
          "parcoords": [
           {
            "line": {
             "colorbar": {
              "outlinewidth": 0,
              "ticks": ""
             }
            },
            "type": "parcoords"
           }
          ],
          "pie": [
           {
            "automargin": true,
            "type": "pie"
           }
          ],
          "scatter": [
           {
            "fillpattern": {
             "fillmode": "overlay",
             "size": 10,
             "solidity": 0.2
            },
            "type": "scatter"
           }
          ],
          "scatter3d": [
           {
            "line": {
             "colorbar": {
              "outlinewidth": 0,
              "ticks": ""
             }
            },
            "marker": {
             "colorbar": {
              "outlinewidth": 0,
              "ticks": ""
             }
            },
            "type": "scatter3d"
           }
          ],
          "scattercarpet": [
           {
            "marker": {
             "colorbar": {
              "outlinewidth": 0,
              "ticks": ""
             }
            },
            "type": "scattercarpet"
           }
          ],
          "scattergeo": [
           {
            "marker": {
             "colorbar": {
              "outlinewidth": 0,
              "ticks": ""
             }
            },
            "type": "scattergeo"
           }
          ],
          "scattergl": [
           {
            "marker": {
             "colorbar": {
              "outlinewidth": 0,
              "ticks": ""
             }
            },
            "type": "scattergl"
           }
          ],
          "scattermapbox": [
           {
            "marker": {
             "colorbar": {
              "outlinewidth": 0,
              "ticks": ""
             }
            },
            "type": "scattermapbox"
           }
          ],
          "scatterpolar": [
           {
            "marker": {
             "colorbar": {
              "outlinewidth": 0,
              "ticks": ""
             }
            },
            "type": "scatterpolar"
           }
          ],
          "scatterpolargl": [
           {
            "marker": {
             "colorbar": {
              "outlinewidth": 0,
              "ticks": ""
             }
            },
            "type": "scatterpolargl"
           }
          ],
          "scatterternary": [
           {
            "marker": {
             "colorbar": {
              "outlinewidth": 0,
              "ticks": ""
             }
            },
            "type": "scatterternary"
           }
          ],
          "surface": [
           {
            "colorbar": {
             "outlinewidth": 0,
             "ticks": ""
            },
            "colorscale": [
             [
              0,
              "#0d0887"
             ],
             [
              0.1111111111111111,
              "#46039f"
             ],
             [
              0.2222222222222222,
              "#7201a8"
             ],
             [
              0.3333333333333333,
              "#9c179e"
             ],
             [
              0.4444444444444444,
              "#bd3786"
             ],
             [
              0.5555555555555556,
              "#d8576b"
             ],
             [
              0.6666666666666666,
              "#ed7953"
             ],
             [
              0.7777777777777778,
              "#fb9f3a"
             ],
             [
              0.8888888888888888,
              "#fdca26"
             ],
             [
              1,
              "#f0f921"
             ]
            ],
            "type": "surface"
           }
          ],
          "table": [
           {
            "cells": {
             "fill": {
              "color": "#EBF0F8"
             },
             "line": {
              "color": "white"
             }
            },
            "header": {
             "fill": {
              "color": "#C8D4E3"
             },
             "line": {
              "color": "white"
             }
            },
            "type": "table"
           }
          ]
         },
         "layout": {
          "annotationdefaults": {
           "arrowcolor": "#2a3f5f",
           "arrowhead": 0,
           "arrowwidth": 1
          },
          "autotypenumbers": "strict",
          "coloraxis": {
           "colorbar": {
            "outlinewidth": 0,
            "ticks": ""
           }
          },
          "colorscale": {
           "diverging": [
            [
             0,
             "#8e0152"
            ],
            [
             0.1,
             "#c51b7d"
            ],
            [
             0.2,
             "#de77ae"
            ],
            [
             0.3,
             "#f1b6da"
            ],
            [
             0.4,
             "#fde0ef"
            ],
            [
             0.5,
             "#f7f7f7"
            ],
            [
             0.6,
             "#e6f5d0"
            ],
            [
             0.7,
             "#b8e186"
            ],
            [
             0.8,
             "#7fbc41"
            ],
            [
             0.9,
             "#4d9221"
            ],
            [
             1,
             "#276419"
            ]
           ],
           "sequential": [
            [
             0,
             "#0d0887"
            ],
            [
             0.1111111111111111,
             "#46039f"
            ],
            [
             0.2222222222222222,
             "#7201a8"
            ],
            [
             0.3333333333333333,
             "#9c179e"
            ],
            [
             0.4444444444444444,
             "#bd3786"
            ],
            [
             0.5555555555555556,
             "#d8576b"
            ],
            [
             0.6666666666666666,
             "#ed7953"
            ],
            [
             0.7777777777777778,
             "#fb9f3a"
            ],
            [
             0.8888888888888888,
             "#fdca26"
            ],
            [
             1,
             "#f0f921"
            ]
           ],
           "sequentialminus": [
            [
             0,
             "#0d0887"
            ],
            [
             0.1111111111111111,
             "#46039f"
            ],
            [
             0.2222222222222222,
             "#7201a8"
            ],
            [
             0.3333333333333333,
             "#9c179e"
            ],
            [
             0.4444444444444444,
             "#bd3786"
            ],
            [
             0.5555555555555556,
             "#d8576b"
            ],
            [
             0.6666666666666666,
             "#ed7953"
            ],
            [
             0.7777777777777778,
             "#fb9f3a"
            ],
            [
             0.8888888888888888,
             "#fdca26"
            ],
            [
             1,
             "#f0f921"
            ]
           ]
          },
          "colorway": [
           "#636efa",
           "#EF553B",
           "#00cc96",
           "#ab63fa",
           "#FFA15A",
           "#19d3f3",
           "#FF6692",
           "#B6E880",
           "#FF97FF",
           "#FECB52"
          ],
          "font": {
           "color": "#2a3f5f"
          },
          "geo": {
           "bgcolor": "white",
           "lakecolor": "white",
           "landcolor": "#E5ECF6",
           "showlakes": true,
           "showland": true,
           "subunitcolor": "white"
          },
          "hoverlabel": {
           "align": "left"
          },
          "hovermode": "closest",
          "mapbox": {
           "style": "light"
          },
          "paper_bgcolor": "white",
          "plot_bgcolor": "#E5ECF6",
          "polar": {
           "angularaxis": {
            "gridcolor": "white",
            "linecolor": "white",
            "ticks": ""
           },
           "bgcolor": "#E5ECF6",
           "radialaxis": {
            "gridcolor": "white",
            "linecolor": "white",
            "ticks": ""
           }
          },
          "scene": {
           "xaxis": {
            "backgroundcolor": "#E5ECF6",
            "gridcolor": "white",
            "gridwidth": 2,
            "linecolor": "white",
            "showbackground": true,
            "ticks": "",
            "zerolinecolor": "white"
           },
           "yaxis": {
            "backgroundcolor": "#E5ECF6",
            "gridcolor": "white",
            "gridwidth": 2,
            "linecolor": "white",
            "showbackground": true,
            "ticks": "",
            "zerolinecolor": "white"
           },
           "zaxis": {
            "backgroundcolor": "#E5ECF6",
            "gridcolor": "white",
            "gridwidth": 2,
            "linecolor": "white",
            "showbackground": true,
            "ticks": "",
            "zerolinecolor": "white"
           }
          },
          "shapedefaults": {
           "line": {
            "color": "#2a3f5f"
           }
          },
          "ternary": {
           "aaxis": {
            "gridcolor": "white",
            "linecolor": "white",
            "ticks": ""
           },
           "baxis": {
            "gridcolor": "white",
            "linecolor": "white",
            "ticks": ""
           },
           "bgcolor": "#E5ECF6",
           "caxis": {
            "gridcolor": "white",
            "linecolor": "white",
            "ticks": ""
           }
          },
          "title": {
           "x": 0.05
          },
          "xaxis": {
           "automargin": true,
           "gridcolor": "white",
           "linecolor": "white",
           "ticks": "",
           "title": {
            "standoff": 15
           },
           "zerolinecolor": "white",
           "zerolinewidth": 2
          },
          "yaxis": {
           "automargin": true,
           "gridcolor": "white",
           "linecolor": "white",
           "ticks": "",
           "title": {
            "standoff": 15
           },
           "zerolinecolor": "white",
           "zerolinewidth": 2
          }
         }
        },
        "xaxis": {
         "anchor": "y",
         "domain": [
          0,
          1
         ],
         "title": {
          "text": "Year"
         }
        },
        "yaxis": {
         "anchor": "x",
         "domain": [
          0,
          1
         ],
         "title": {
          "text": "count"
         }
        }
       }
      }
     },
     "metadata": {},
     "output_type": "display_data"
    }
   ],
   "source": [
    "fig = px.bar(year,\n",
    "            x= 'Year',\n",
    "            y= 'count',\n",
    "            color = 'review_rating',\n",
    "            hover_data = {\n",
    "                'count': ':,.0f'\n",
    "            })\n",
    "fig.show()"
   ]
  },
  {
   "cell_type": "markdown",
   "metadata": {},
   "source": [
    "#### Scatterplot and Trendline with count of review likes by review rating"
   ]
  },
  {
   "cell_type": "code",
   "execution_count": 200,
   "metadata": {},
   "outputs": [],
   "source": [
    "likes = df.groupby('review_rating')['review_likes'].sum().reset_index()"
   ]
  },
  {
   "cell_type": "code",
   "execution_count": 201,
   "metadata": {},
   "outputs": [
    {
     "data": {
      "application/vnd.plotly.v1+json": {
       "config": {
        "plotlyServerURL": "https://plot.ly"
       },
       "data": [
        {
         "hovertemplate": "Rating=%{x:,.f}<br>review_likes=%{y}<extra></extra>",
         "legendgroup": "",
         "marker": {
          "color": "#636efa",
          "symbol": "circle"
         },
         "mode": "markers",
         "name": "",
         "orientation": "v",
         "showlegend": false,
         "type": "scatter",
         "x": [
          1,
          2,
          3,
          4,
          5
         ],
         "xaxis": "x",
         "y": [
          4960030,
          1254542,
          917024,
          560277,
          528181
         ],
         "yaxis": "y"
        },
        {
         "hovertemplate": "<b>OLS trendline</b><br>review_likes = -955796 * review_rating + 4.5114e+06<br>R<sup>2</sup>=0.648101<br><br>Rating=%{x:,.f}<br>review_likes=%{y} <b>(trend)</b><extra></extra>",
         "legendgroup": "",
         "marker": {
          "color": "#636efa",
          "symbol": "circle"
         },
         "mode": "lines",
         "name": "",
         "showlegend": false,
         "type": "scatter",
         "x": [
          1,
          2,
          3,
          4,
          5
         ],
         "xaxis": "x",
         "y": [
          3555603.3999999976,
          2599807.0999999978,
          1644010.799999998,
          688214.4999999981,
          -267581.8000000017
         ],
         "yaxis": "y"
        }
       ],
       "layout": {
        "legend": {
         "tracegroupgap": 0
        },
        "margin": {
         "t": 60
        },
        "template": {
         "data": {
          "bar": [
           {
            "error_x": {
             "color": "#2a3f5f"
            },
            "error_y": {
             "color": "#2a3f5f"
            },
            "marker": {
             "line": {
              "color": "#E5ECF6",
              "width": 0.5
             },
             "pattern": {
              "fillmode": "overlay",
              "size": 10,
              "solidity": 0.2
             }
            },
            "type": "bar"
           }
          ],
          "barpolar": [
           {
            "marker": {
             "line": {
              "color": "#E5ECF6",
              "width": 0.5
             },
             "pattern": {
              "fillmode": "overlay",
              "size": 10,
              "solidity": 0.2
             }
            },
            "type": "barpolar"
           }
          ],
          "carpet": [
           {
            "aaxis": {
             "endlinecolor": "#2a3f5f",
             "gridcolor": "white",
             "linecolor": "white",
             "minorgridcolor": "white",
             "startlinecolor": "#2a3f5f"
            },
            "baxis": {
             "endlinecolor": "#2a3f5f",
             "gridcolor": "white",
             "linecolor": "white",
             "minorgridcolor": "white",
             "startlinecolor": "#2a3f5f"
            },
            "type": "carpet"
           }
          ],
          "choropleth": [
           {
            "colorbar": {
             "outlinewidth": 0,
             "ticks": ""
            },
            "type": "choropleth"
           }
          ],
          "contour": [
           {
            "colorbar": {
             "outlinewidth": 0,
             "ticks": ""
            },
            "colorscale": [
             [
              0,
              "#0d0887"
             ],
             [
              0.1111111111111111,
              "#46039f"
             ],
             [
              0.2222222222222222,
              "#7201a8"
             ],
             [
              0.3333333333333333,
              "#9c179e"
             ],
             [
              0.4444444444444444,
              "#bd3786"
             ],
             [
              0.5555555555555556,
              "#d8576b"
             ],
             [
              0.6666666666666666,
              "#ed7953"
             ],
             [
              0.7777777777777778,
              "#fb9f3a"
             ],
             [
              0.8888888888888888,
              "#fdca26"
             ],
             [
              1,
              "#f0f921"
             ]
            ],
            "type": "contour"
           }
          ],
          "contourcarpet": [
           {
            "colorbar": {
             "outlinewidth": 0,
             "ticks": ""
            },
            "type": "contourcarpet"
           }
          ],
          "heatmap": [
           {
            "colorbar": {
             "outlinewidth": 0,
             "ticks": ""
            },
            "colorscale": [
             [
              0,
              "#0d0887"
             ],
             [
              0.1111111111111111,
              "#46039f"
             ],
             [
              0.2222222222222222,
              "#7201a8"
             ],
             [
              0.3333333333333333,
              "#9c179e"
             ],
             [
              0.4444444444444444,
              "#bd3786"
             ],
             [
              0.5555555555555556,
              "#d8576b"
             ],
             [
              0.6666666666666666,
              "#ed7953"
             ],
             [
              0.7777777777777778,
              "#fb9f3a"
             ],
             [
              0.8888888888888888,
              "#fdca26"
             ],
             [
              1,
              "#f0f921"
             ]
            ],
            "type": "heatmap"
           }
          ],
          "heatmapgl": [
           {
            "colorbar": {
             "outlinewidth": 0,
             "ticks": ""
            },
            "colorscale": [
             [
              0,
              "#0d0887"
             ],
             [
              0.1111111111111111,
              "#46039f"
             ],
             [
              0.2222222222222222,
              "#7201a8"
             ],
             [
              0.3333333333333333,
              "#9c179e"
             ],
             [
              0.4444444444444444,
              "#bd3786"
             ],
             [
              0.5555555555555556,
              "#d8576b"
             ],
             [
              0.6666666666666666,
              "#ed7953"
             ],
             [
              0.7777777777777778,
              "#fb9f3a"
             ],
             [
              0.8888888888888888,
              "#fdca26"
             ],
             [
              1,
              "#f0f921"
             ]
            ],
            "type": "heatmapgl"
           }
          ],
          "histogram": [
           {
            "marker": {
             "pattern": {
              "fillmode": "overlay",
              "size": 10,
              "solidity": 0.2
             }
            },
            "type": "histogram"
           }
          ],
          "histogram2d": [
           {
            "colorbar": {
             "outlinewidth": 0,
             "ticks": ""
            },
            "colorscale": [
             [
              0,
              "#0d0887"
             ],
             [
              0.1111111111111111,
              "#46039f"
             ],
             [
              0.2222222222222222,
              "#7201a8"
             ],
             [
              0.3333333333333333,
              "#9c179e"
             ],
             [
              0.4444444444444444,
              "#bd3786"
             ],
             [
              0.5555555555555556,
              "#d8576b"
             ],
             [
              0.6666666666666666,
              "#ed7953"
             ],
             [
              0.7777777777777778,
              "#fb9f3a"
             ],
             [
              0.8888888888888888,
              "#fdca26"
             ],
             [
              1,
              "#f0f921"
             ]
            ],
            "type": "histogram2d"
           }
          ],
          "histogram2dcontour": [
           {
            "colorbar": {
             "outlinewidth": 0,
             "ticks": ""
            },
            "colorscale": [
             [
              0,
              "#0d0887"
             ],
             [
              0.1111111111111111,
              "#46039f"
             ],
             [
              0.2222222222222222,
              "#7201a8"
             ],
             [
              0.3333333333333333,
              "#9c179e"
             ],
             [
              0.4444444444444444,
              "#bd3786"
             ],
             [
              0.5555555555555556,
              "#d8576b"
             ],
             [
              0.6666666666666666,
              "#ed7953"
             ],
             [
              0.7777777777777778,
              "#fb9f3a"
             ],
             [
              0.8888888888888888,
              "#fdca26"
             ],
             [
              1,
              "#f0f921"
             ]
            ],
            "type": "histogram2dcontour"
           }
          ],
          "mesh3d": [
           {
            "colorbar": {
             "outlinewidth": 0,
             "ticks": ""
            },
            "type": "mesh3d"
           }
          ],
          "parcoords": [
           {
            "line": {
             "colorbar": {
              "outlinewidth": 0,
              "ticks": ""
             }
            },
            "type": "parcoords"
           }
          ],
          "pie": [
           {
            "automargin": true,
            "type": "pie"
           }
          ],
          "scatter": [
           {
            "fillpattern": {
             "fillmode": "overlay",
             "size": 10,
             "solidity": 0.2
            },
            "type": "scatter"
           }
          ],
          "scatter3d": [
           {
            "line": {
             "colorbar": {
              "outlinewidth": 0,
              "ticks": ""
             }
            },
            "marker": {
             "colorbar": {
              "outlinewidth": 0,
              "ticks": ""
             }
            },
            "type": "scatter3d"
           }
          ],
          "scattercarpet": [
           {
            "marker": {
             "colorbar": {
              "outlinewidth": 0,
              "ticks": ""
             }
            },
            "type": "scattercarpet"
           }
          ],
          "scattergeo": [
           {
            "marker": {
             "colorbar": {
              "outlinewidth": 0,
              "ticks": ""
             }
            },
            "type": "scattergeo"
           }
          ],
          "scattergl": [
           {
            "marker": {
             "colorbar": {
              "outlinewidth": 0,
              "ticks": ""
             }
            },
            "type": "scattergl"
           }
          ],
          "scattermapbox": [
           {
            "marker": {
             "colorbar": {
              "outlinewidth": 0,
              "ticks": ""
             }
            },
            "type": "scattermapbox"
           }
          ],
          "scatterpolar": [
           {
            "marker": {
             "colorbar": {
              "outlinewidth": 0,
              "ticks": ""
             }
            },
            "type": "scatterpolar"
           }
          ],
          "scatterpolargl": [
           {
            "marker": {
             "colorbar": {
              "outlinewidth": 0,
              "ticks": ""
             }
            },
            "type": "scatterpolargl"
           }
          ],
          "scatterternary": [
           {
            "marker": {
             "colorbar": {
              "outlinewidth": 0,
              "ticks": ""
             }
            },
            "type": "scatterternary"
           }
          ],
          "surface": [
           {
            "colorbar": {
             "outlinewidth": 0,
             "ticks": ""
            },
            "colorscale": [
             [
              0,
              "#0d0887"
             ],
             [
              0.1111111111111111,
              "#46039f"
             ],
             [
              0.2222222222222222,
              "#7201a8"
             ],
             [
              0.3333333333333333,
              "#9c179e"
             ],
             [
              0.4444444444444444,
              "#bd3786"
             ],
             [
              0.5555555555555556,
              "#d8576b"
             ],
             [
              0.6666666666666666,
              "#ed7953"
             ],
             [
              0.7777777777777778,
              "#fb9f3a"
             ],
             [
              0.8888888888888888,
              "#fdca26"
             ],
             [
              1,
              "#f0f921"
             ]
            ],
            "type": "surface"
           }
          ],
          "table": [
           {
            "cells": {
             "fill": {
              "color": "#EBF0F8"
             },
             "line": {
              "color": "white"
             }
            },
            "header": {
             "fill": {
              "color": "#C8D4E3"
             },
             "line": {
              "color": "white"
             }
            },
            "type": "table"
           }
          ]
         },
         "layout": {
          "annotationdefaults": {
           "arrowcolor": "#2a3f5f",
           "arrowhead": 0,
           "arrowwidth": 1
          },
          "autotypenumbers": "strict",
          "coloraxis": {
           "colorbar": {
            "outlinewidth": 0,
            "ticks": ""
           }
          },
          "colorscale": {
           "diverging": [
            [
             0,
             "#8e0152"
            ],
            [
             0.1,
             "#c51b7d"
            ],
            [
             0.2,
             "#de77ae"
            ],
            [
             0.3,
             "#f1b6da"
            ],
            [
             0.4,
             "#fde0ef"
            ],
            [
             0.5,
             "#f7f7f7"
            ],
            [
             0.6,
             "#e6f5d0"
            ],
            [
             0.7,
             "#b8e186"
            ],
            [
             0.8,
             "#7fbc41"
            ],
            [
             0.9,
             "#4d9221"
            ],
            [
             1,
             "#276419"
            ]
           ],
           "sequential": [
            [
             0,
             "#0d0887"
            ],
            [
             0.1111111111111111,
             "#46039f"
            ],
            [
             0.2222222222222222,
             "#7201a8"
            ],
            [
             0.3333333333333333,
             "#9c179e"
            ],
            [
             0.4444444444444444,
             "#bd3786"
            ],
            [
             0.5555555555555556,
             "#d8576b"
            ],
            [
             0.6666666666666666,
             "#ed7953"
            ],
            [
             0.7777777777777778,
             "#fb9f3a"
            ],
            [
             0.8888888888888888,
             "#fdca26"
            ],
            [
             1,
             "#f0f921"
            ]
           ],
           "sequentialminus": [
            [
             0,
             "#0d0887"
            ],
            [
             0.1111111111111111,
             "#46039f"
            ],
            [
             0.2222222222222222,
             "#7201a8"
            ],
            [
             0.3333333333333333,
             "#9c179e"
            ],
            [
             0.4444444444444444,
             "#bd3786"
            ],
            [
             0.5555555555555556,
             "#d8576b"
            ],
            [
             0.6666666666666666,
             "#ed7953"
            ],
            [
             0.7777777777777778,
             "#fb9f3a"
            ],
            [
             0.8888888888888888,
             "#fdca26"
            ],
            [
             1,
             "#f0f921"
            ]
           ]
          },
          "colorway": [
           "#636efa",
           "#EF553B",
           "#00cc96",
           "#ab63fa",
           "#FFA15A",
           "#19d3f3",
           "#FF6692",
           "#B6E880",
           "#FF97FF",
           "#FECB52"
          ],
          "font": {
           "color": "#2a3f5f"
          },
          "geo": {
           "bgcolor": "white",
           "lakecolor": "white",
           "landcolor": "#E5ECF6",
           "showlakes": true,
           "showland": true,
           "subunitcolor": "white"
          },
          "hoverlabel": {
           "align": "left"
          },
          "hovermode": "closest",
          "mapbox": {
           "style": "light"
          },
          "paper_bgcolor": "white",
          "plot_bgcolor": "#E5ECF6",
          "polar": {
           "angularaxis": {
            "gridcolor": "white",
            "linecolor": "white",
            "ticks": ""
           },
           "bgcolor": "#E5ECF6",
           "radialaxis": {
            "gridcolor": "white",
            "linecolor": "white",
            "ticks": ""
           }
          },
          "scene": {
           "xaxis": {
            "backgroundcolor": "#E5ECF6",
            "gridcolor": "white",
            "gridwidth": 2,
            "linecolor": "white",
            "showbackground": true,
            "ticks": "",
            "zerolinecolor": "white"
           },
           "yaxis": {
            "backgroundcolor": "#E5ECF6",
            "gridcolor": "white",
            "gridwidth": 2,
            "linecolor": "white",
            "showbackground": true,
            "ticks": "",
            "zerolinecolor": "white"
           },
           "zaxis": {
            "backgroundcolor": "#E5ECF6",
            "gridcolor": "white",
            "gridwidth": 2,
            "linecolor": "white",
            "showbackground": true,
            "ticks": "",
            "zerolinecolor": "white"
           }
          },
          "shapedefaults": {
           "line": {
            "color": "#2a3f5f"
           }
          },
          "ternary": {
           "aaxis": {
            "gridcolor": "white",
            "linecolor": "white",
            "ticks": ""
           },
           "baxis": {
            "gridcolor": "white",
            "linecolor": "white",
            "ticks": ""
           },
           "bgcolor": "#E5ECF6",
           "caxis": {
            "gridcolor": "white",
            "linecolor": "white",
            "ticks": ""
           }
          },
          "title": {
           "x": 0.05
          },
          "xaxis": {
           "automargin": true,
           "gridcolor": "white",
           "linecolor": "white",
           "ticks": "",
           "title": {
            "standoff": 15
           },
           "zerolinecolor": "white",
           "zerolinewidth": 2
          },
          "yaxis": {
           "automargin": true,
           "gridcolor": "white",
           "linecolor": "white",
           "ticks": "",
           "title": {
            "standoff": 15
           },
           "zerolinecolor": "white",
           "zerolinewidth": 2
          }
         }
        },
        "xaxis": {
         "anchor": "y",
         "domain": [
          0,
          1
         ],
         "title": {
          "text": "Rating"
         }
        },
        "yaxis": {
         "anchor": "x",
         "domain": [
          0,
          1
         ],
         "title": {
          "text": "review_likes"
         }
        }
       }
      }
     },
     "metadata": {},
     "output_type": "display_data"
    }
   ],
   "source": [
    "fig = px.scatter(likes,\n",
    "         x='review_rating',\n",
    "         y='review_likes',\n",
    "         hover_data={\n",
    "            'review_rating': ':,.f'\n",
    "         },\n",
    "         labels={\n",
    "            'review_rating': 'Rating'\n",
    "         },\n",
    "         trendline='ols')\n",
    "fig.show()"
   ]
  },
  {
   "cell_type": "markdown",
   "metadata": {},
   "source": [
    "## Time Series Analysis"
   ]
  },
  {
   "cell_type": "markdown",
   "metadata": {},
   "source": [
    "### Data Preprocessing for Time Series Analysis"
   ]
  },
  {
   "cell_type": "code",
   "execution_count": 202,
   "metadata": {},
   "outputs": [],
   "source": [
    "df['year'] = df['review_timestamp'].dt.year\n",
    "df_2022_23 = df[(df['year'] == 2022) | (df['year'] == 2023)]\n",
    "df_2022_23['date']= df_2022_23['review_timestamp'].dt.date\n",
    "df_2022_23['date'] = pd.to_datetime(df_2022_23['date'])\n",
    "df_2022_23['date'] \n"
   ]
  },
  {
   "cell_type": "markdown",
   "metadata": {},
   "source": [
    "Feature creation \"unique_reviews_per_day\" that will be used for the time series."
   ]
  },
  {
   "cell_type": "code",
   "execution_count": 205,
   "metadata": {},
   "outputs": [
    {
     "data": {
      "text/html": [
       "<div>\n",
       "<style scoped>\n",
       "    .dataframe tbody tr th:only-of-type {\n",
       "        vertical-align: middle;\n",
       "    }\n",
       "\n",
       "    .dataframe tbody tr th {\n",
       "        vertical-align: top;\n",
       "    }\n",
       "\n",
       "    .dataframe thead th {\n",
       "        text-align: right;\n",
       "    }\n",
       "</style>\n",
       "<table border=\"1\" class=\"dataframe\">\n",
       "  <thead>\n",
       "    <tr style=\"text-align: right;\">\n",
       "      <th></th>\n",
       "      <th>date</th>\n",
       "      <th>unique_reviews</th>\n",
       "    </tr>\n",
       "  </thead>\n",
       "  <tbody>\n",
       "    <tr>\n",
       "      <th>0</th>\n",
       "      <td>2022-01-01</td>\n",
       "      <td>2029</td>\n",
       "    </tr>\n",
       "    <tr>\n",
       "      <th>1</th>\n",
       "      <td>2022-01-02</td>\n",
       "      <td>2208</td>\n",
       "    </tr>\n",
       "    <tr>\n",
       "      <th>2</th>\n",
       "      <td>2022-01-03</td>\n",
       "      <td>2013</td>\n",
       "    </tr>\n",
       "    <tr>\n",
       "      <th>3</th>\n",
       "      <td>2022-01-04</td>\n",
       "      <td>2081</td>\n",
       "    </tr>\n",
       "    <tr>\n",
       "      <th>4</th>\n",
       "      <td>2022-01-05</td>\n",
       "      <td>2234</td>\n",
       "    </tr>\n",
       "    <tr>\n",
       "      <th>...</th>\n",
       "      <td>...</td>\n",
       "      <td>...</td>\n",
       "    </tr>\n",
       "    <tr>\n",
       "      <th>677</th>\n",
       "      <td>2023-11-09</td>\n",
       "      <td>3204</td>\n",
       "    </tr>\n",
       "    <tr>\n",
       "      <th>678</th>\n",
       "      <td>2023-11-10</td>\n",
       "      <td>2501</td>\n",
       "    </tr>\n",
       "    <tr>\n",
       "      <th>679</th>\n",
       "      <td>2023-11-11</td>\n",
       "      <td>2146</td>\n",
       "    </tr>\n",
       "    <tr>\n",
       "      <th>680</th>\n",
       "      <td>2023-11-12</td>\n",
       "      <td>2207</td>\n",
       "    </tr>\n",
       "    <tr>\n",
       "      <th>681</th>\n",
       "      <td>2023-11-13</td>\n",
       "      <td>3834</td>\n",
       "    </tr>\n",
       "  </tbody>\n",
       "</table>\n",
       "<p>682 rows × 2 columns</p>\n",
       "</div>"
      ],
      "text/plain": [
       "          date  unique_reviews\n",
       "0   2022-01-01            2029\n",
       "1   2022-01-02            2208\n",
       "2   2022-01-03            2013\n",
       "3   2022-01-04            2081\n",
       "4   2022-01-05            2234\n",
       "..         ...             ...\n",
       "677 2023-11-09            3204\n",
       "678 2023-11-10            2501\n",
       "679 2023-11-11            2146\n",
       "680 2023-11-12            2207\n",
       "681 2023-11-13            3834\n",
       "\n",
       "[682 rows x 2 columns]"
      ]
     },
     "execution_count": 205,
     "metadata": {},
     "output_type": "execute_result"
    }
   ],
   "source": [
    "unique_reviews_per_day = df_2022_23.groupby(['date'])['review_id'].nunique().reset_index(name='unique_reviews')\n",
    "unique_reviews_per_day"
   ]
  },
  {
   "cell_type": "markdown",
   "metadata": {},
   "source": [
    "plotting the feature 'unique_reviews_per_day' over time"
   ]
  },
  {
   "cell_type": "code",
   "execution_count": 206,
   "metadata": {},
   "outputs": [
    {
     "data": {
      "text/plain": [
       "<Axes: xlabel='date'>"
      ]
     },
     "execution_count": 206,
     "metadata": {},
     "output_type": "execute_result"
    },
    {
     "data": {
      "image/png": "[encoded data removed]",
      "text/plain": [
       "<Figure size 640x480 with 1 Axes>"
      ]
     },
     "metadata": {},
     "output_type": "display_data"
    }
   ],
   "source": [
    "unique_reviews_per_day.plot(x=\"date\", y=\"unique_reviews\")"
   ]
  },
  {
   "cell_type": "markdown",
   "metadata": {},
   "source": [
    "#### Augmented Dickey-Fuller Test"
   ]
  },
  {
   "cell_type": "markdown",
   "metadata": {},
   "source": [
    "The null hypothesis of the test is that the time series can be represented by a unit root, that it is not stationary (has some time-dependent structure). The alternate hypothesis (rejecting the null hypothesis) is that the time series is stationary."
   ]
  },
  {
   "cell_type": "code",
   "execution_count": 295,
   "metadata": {},
   "outputs": [
    {
     "data": {
      "text/plain": [
       "(-4.557999606374601,\n",
       " 0.0001542613892178854,\n",
       " 12,\n",
       " 669,\n",
       " {'1%': -3.4401625092086467,\n",
       "  '5%': -2.865869922737958,\n",
       "  '10%': -2.5690758278089465},\n",
       " 10148.473746315094)"
      ]
     },
     "execution_count": 295,
     "metadata": {},
     "output_type": "execute_result"
    }
   ],
   "source": [
    "adfuller(unique_reviews_per_day['unique_reviews'])\n",
    "# p-value < 0.05, so we can reject the null hypothesis that the time series is non-stationary"
   ]
  },
  {
   "cell_type": "markdown",
   "metadata": {},
   "source": [
    "#### Finding the optimal Parameters\n",
    "\n",
    "The ACF plot helps to identify the MA order (q), and the PACF plot helps to identify the AR order (p)"
   ]
  },
  {
   "cell_type": "code",
   "execution_count": 208,
   "metadata": {},
   "outputs": [
    {
     "data": {
      "image/png": "[encoded data removed]",
      "text/plain": [
       "<Figure size 640x480 with 1 Axes>"
      ]
     },
     "execution_count": 208,
     "metadata": {},
     "output_type": "execute_result"
    },
    {
     "data": {
      "image/png": "[encoded data removed]",
      "text/plain": [
       "<Figure size 640x480 with 1 Axes>"
      ]
     },
     "metadata": {},
     "output_type": "display_data"
    }
   ],
   "source": [
    "plot_acf(unique_reviews_per_day[\"unique_reviews\"].dropna(),lags=20)\n",
    "# q = has a significant coefficient until lag 10"
   ]
  },
  {
   "cell_type": "code",
   "execution_count": 209,
   "metadata": {},
   "outputs": [
    {
     "data": {
      "image/png": "[encoded data removed]",
      "text/plain": [
       "<Figure size 640x480 with 1 Axes>"
      ]
     },
     "execution_count": 209,
     "metadata": {},
     "output_type": "execute_result"
    },
    {
     "data": {
      "image/png": "[encoded data removed]",
      "text/plain": [
       "<Figure size 640x480 with 1 Axes>"
      ]
     },
     "metadata": {},
     "output_type": "display_data"
    }
   ],
   "source": [
    "plot_pacf(unique_reviews_per_day[\"unique_reviews\"].dropna(),lags=10)\n",
    "# p = 1 has a significant correlation with the previous value"
   ]
  },
  {
   "cell_type": "markdown",
   "metadata": {},
   "source": [
    "This code is performing a grid search to find the optimal parameters (p, d, q) for an ARIMA model based on the Akaike Information Criterion (AIC).\n",
    "\n",
    "The ACF and PACF plots applied before are used to get an initial idea of what values of p and q to try. However, this grid search approach is a more systematic way to find the best parameters, as it tries out multiple combinations and selects the one with the lowest AIC."
   ]
  },
  {
   "cell_type": "code",
   "execution_count": 210,
   "metadata": {},
   "outputs": [
    {
     "name": "stdout",
     "output_type": "stream",
     "text": [
      "1 0 1\n",
      "1 0 2\n",
      "1 0 3\n",
      "1 0 4\n",
      "1 1 1\n",
      "1 1 2\n",
      "1 1 3\n",
      "1 1 4\n",
      "1 2 1\n",
      "1 2 2\n",
      "1 2 3\n",
      "1 2 4\n",
      "1 3 1\n",
      "1 3 2\n",
      "1 3 3\n",
      "1 3 4\n",
      "1 4 1\n",
      "1 4 2\n",
      "1 4 3\n",
      "1 4 4\n"
     ]
    }
   ],
   "source": [
    "from statsmodels.tsa.arima.model import ARIMA\n",
    "aicVals = []\n",
    "for p in range(0,1):\n",
    "    p = 1\n",
    "    for d in range(5):\n",
    "        for q in range(1,5):\n",
    "            print(p, d, q)\n",
    "            \n",
    "            try:\n",
    "                aic = ARIMA(unique_reviews_per_day[\"unique_reviews\"], order=(p, d, q)).fit().aic\n",
    "                aicVals.append([aic, p, d, q])\n",
    "            except np.linalg.LinAlgError:\n",
    "                print(f\"Unable to fit model for order=({p}, {d}, {q})\")"
   ]
  },
  {
   "cell_type": "markdown",
   "metadata": {},
   "source": [
    "## Initiate the ARIMA Model"
   ]
  },
  {
   "cell_type": "code",
   "execution_count": 262,
   "metadata": {},
   "outputs": [],
   "source": [
    "model = ARIMA(unique_reviews_per_day[\"unique_reviews\"], order=(1, 0, 2)).fit()"
   ]
  },
  {
   "cell_type": "code",
   "execution_count": 214,
   "metadata": {},
   "outputs": [
    {
     "data": {
      "text/html": [
       "<table class=\"simpletable\">\n",
       "<caption>SARIMAX Results</caption>\n",
       "<tr>\n",
       "  <th>Dep. Variable:</th>    <td>unique_reviews</td>  <th>  No. Observations:  </th>    <td>682</td>   \n",
       "</tr>\n",
       "<tr>\n",
       "  <th>Model:</th>            <td>ARIMA(1, 0, 2)</td>  <th>  Log Likelihood     </th> <td>-5248.061</td>\n",
       "</tr>\n",
       "<tr>\n",
       "  <th>Date:</th>            <td>Sun, 26 Nov 2023</td> <th>  AIC                </th> <td>10506.122</td>\n",
       "</tr>\n",
       "<tr>\n",
       "  <th>Time:</th>                <td>13:51:51</td>     <th>  BIC                </th> <td>10528.747</td>\n",
       "</tr>\n",
       "<tr>\n",
       "  <th>Sample:</th>                  <td>0</td>        <th>  HQIC               </th> <td>10514.878</td>\n",
       "</tr>\n",
       "<tr>\n",
       "  <th></th>                      <td> - 682</td>      <th>                     </th>     <td> </td>    \n",
       "</tr>\n",
       "<tr>\n",
       "  <th>Covariance Type:</th>        <td>opg</td>       <th>                     </th>     <td> </td>    \n",
       "</tr>\n",
       "</table>\n",
       "<table class=\"simpletable\">\n",
       "<tr>\n",
       "     <td></td>       <th>coef</th>     <th>std err</th>      <th>z</th>      <th>P>|z|</th>  <th>[0.025</th>    <th>0.975]</th>  \n",
       "</tr>\n",
       "<tr>\n",
       "  <th>const</th>  <td> 1903.8227</td> <td>  469.494</td> <td>    4.055</td> <td> 0.000</td> <td>  983.632</td> <td> 2824.013</td>\n",
       "</tr>\n",
       "<tr>\n",
       "  <th>ar.L1</th>  <td>    0.9218</td> <td>    0.010</td> <td>   89.634</td> <td> 0.000</td> <td>    0.902</td> <td>    0.942</td>\n",
       "</tr>\n",
       "<tr>\n",
       "  <th>ma.L1</th>  <td>    0.0774</td> <td>    0.023</td> <td>    3.386</td> <td> 0.001</td> <td>    0.033</td> <td>    0.122</td>\n",
       "</tr>\n",
       "<tr>\n",
       "  <th>ma.L2</th>  <td>   -0.0635</td> <td>    0.018</td> <td>   -3.607</td> <td> 0.000</td> <td>   -0.098</td> <td>   -0.029</td>\n",
       "</tr>\n",
       "<tr>\n",
       "  <th>sigma2</th> <td> 2.853e+05</td> <td> 3424.831</td> <td>   83.295</td> <td> 0.000</td> <td> 2.79e+05</td> <td> 2.92e+05</td>\n",
       "</tr>\n",
       "</table>\n",
       "<table class=\"simpletable\">\n",
       "<tr>\n",
       "  <th>Ljung-Box (L1) (Q):</th>     <td>0.01</td>  <th>  Jarque-Bera (JB):  </th> <td>546961.68</td>\n",
       "</tr>\n",
       "<tr>\n",
       "  <th>Prob(Q):</th>                <td>0.92</td>  <th>  Prob(JB):          </th>   <td>0.00</td>   \n",
       "</tr>\n",
       "<tr>\n",
       "  <th>Heteroskedasticity (H):</th> <td>12.41</td> <th>  Skew:              </th>   <td>8.03</td>   \n",
       "</tr>\n",
       "<tr>\n",
       "  <th>Prob(H) (two-sided):</th>    <td>0.00</td>  <th>  Kurtosis:          </th>  <td>140.80</td>  \n",
       "</tr>\n",
       "</table><br/><br/>Warnings:<br/>[1] Covariance matrix calculated using the outer product of gradients (complex-step)."
      ],
      "text/latex": [
       "\\begin{center}\n",
       "\\begin{tabular}{lclc}\n",
       "\\toprule\n",
       "\\textbf{Dep. Variable:}          & unique\\_reviews  & \\textbf{  No. Observations:  } &    682      \\\\\n",
       "\\textbf{Model:}                  &  ARIMA(1, 0, 2)  & \\textbf{  Log Likelihood     } & -5248.061   \\\\\n",
       "\\textbf{Date:}                   & Sun, 26 Nov 2023 & \\textbf{  AIC                } & 10506.122   \\\\\n",
       "\\textbf{Time:}                   &     13:51:51     & \\textbf{  BIC                } & 10528.747   \\\\\n",
       "\\textbf{Sample:}                 &        0         & \\textbf{  HQIC               } & 10514.878   \\\\\n",
       "\\textbf{}                        &       - 682      & \\textbf{                     } &             \\\\\n",
       "\\textbf{Covariance Type:}        &       opg        & \\textbf{                     } &             \\\\\n",
       "\\bottomrule\n",
       "\\end{tabular}\n",
       "\\begin{tabular}{lcccccc}\n",
       "                & \\textbf{coef} & \\textbf{std err} & \\textbf{z} & \\textbf{P$> |$z$|$} & \\textbf{[0.025} & \\textbf{0.975]}  \\\\\n",
       "\\midrule\n",
       "\\textbf{const}  &    1903.8227  &      469.494     &     4.055  &         0.000        &      983.632    &     2824.013     \\\\\n",
       "\\textbf{ar.L1}  &       0.9218  &        0.010     &    89.634  &         0.000        &        0.902    &        0.942     \\\\\n",
       "\\textbf{ma.L1}  &       0.0774  &        0.023     &     3.386  &         0.001        &        0.033    &        0.122     \\\\\n",
       "\\textbf{ma.L2}  &      -0.0635  &        0.018     &    -3.607  &         0.000        &       -0.098    &       -0.029     \\\\\n",
       "\\textbf{sigma2} &    2.853e+05  &     3424.831     &    83.295  &         0.000        &     2.79e+05    &     2.92e+05     \\\\\n",
       "\\bottomrule\n",
       "\\end{tabular}\n",
       "\\begin{tabular}{lclc}\n",
       "\\textbf{Ljung-Box (L1) (Q):}     &  0.01 & \\textbf{  Jarque-Bera (JB):  } & 546961.68  \\\\\n",
       "\\textbf{Prob(Q):}                &  0.92 & \\textbf{  Prob(JB):          } &    0.00    \\\\\n",
       "\\textbf{Heteroskedasticity (H):} & 12.41 & \\textbf{  Skew:              } &    8.03    \\\\\n",
       "\\textbf{Prob(H) (two-sided):}    &  0.00 & \\textbf{  Kurtosis:          } &   140.80   \\\\\n",
       "\\bottomrule\n",
       "\\end{tabular}\n",
       "%\\caption{SARIMAX Results}\n",
       "\\end{center}\n",
       "\n",
       "Warnings: \\newline\n",
       " [1] Covariance matrix calculated using the outer product of gradients (complex-step)."
      ],
      "text/plain": [
       "<class 'statsmodels.iolib.summary.Summary'>\n",
       "\"\"\"\n",
       "                               SARIMAX Results                                \n",
       "==============================================================================\n",
       "Dep. Variable:         unique_reviews   No. Observations:                  682\n",
       "Model:                 ARIMA(1, 0, 2)   Log Likelihood               -5248.061\n",
       "Date:                Sun, 26 Nov 2023   AIC                          10506.122\n",
       "Time:                        13:51:51   BIC                          10528.747\n",
       "Sample:                             0   HQIC                         10514.878\n",
       "                                - 682                                         \n",
       "Covariance Type:                  opg                                         \n",
       "==============================================================================\n",
       "                 coef    std err          z      P>|z|      [0.025      0.975]\n",
       "------------------------------------------------------------------------------\n",
       "const       1903.8227    469.494      4.055      0.000     983.632    2824.013\n",
       "ar.L1          0.9218      0.010     89.634      0.000       0.902       0.942\n",
       "ma.L1          0.0774      0.023      3.386      0.001       0.033       0.122\n",
       "ma.L2         -0.0635      0.018     -3.607      0.000      -0.098      -0.029\n",
       "sigma2      2.853e+05   3424.831     83.295      0.000    2.79e+05    2.92e+05\n",
       "===================================================================================\n",
       "Ljung-Box (L1) (Q):                   0.01   Jarque-Bera (JB):            546961.68\n",
       "Prob(Q):                              0.92   Prob(JB):                         0.00\n",
       "Heteroskedasticity (H):              12.41   Skew:                             8.03\n",
       "Prob(H) (two-sided):                  0.00   Kurtosis:                       140.80\n",
       "===================================================================================\n",
       "\n",
       "Warnings:\n",
       "[1] Covariance matrix calculated using the outer product of gradients (complex-step).\n",
       "\"\"\""
      ]
     },
     "execution_count": 214,
     "metadata": {},
     "output_type": "execute_result"
    }
   ],
   "source": [
    "model.summary()"
   ]
  },
  {
   "cell_type": "markdown",
   "metadata": {},
   "source": [
    "### Make Predictions"
   ]
  },
  {
   "cell_type": "code",
   "execution_count": 215,
   "metadata": {},
   "outputs": [],
   "source": [
    "pred_time = 1 # predict 1 time step into the future\n",
    "result = model.predict(start=unique_reviews_per_day[\"unique_reviews\"].shape[0]-10, end=unique_reviews_per_day[\"unique_reviews\"].shape[0] + pred_time).reset_index(drop=True)"
   ]
  },
  {
   "cell_type": "code",
   "execution_count": 263,
   "metadata": {},
   "outputs": [],
   "source": [
    "result_plot = model.predict(start=unique_reviews_per_day[\"unique_reviews\"].shape[0]-500, end=unique_reviews_per_day[\"unique_reviews\"].shape[0]).reset_index(drop=True)"
   ]
  },
  {
   "cell_type": "code",
   "execution_count": 264,
   "metadata": {},
   "outputs": [
    {
     "data": {
      "text/plain": [
       "0      2055.084990\n",
       "1      2517.149107\n",
       "2      2352.157221\n",
       "3      2069.696883\n",
       "4      2194.019570\n",
       "          ...     \n",
       "496    3074.562394\n",
       "497    2417.527763\n",
       "498    2142.499449\n",
       "499    2205.541698\n",
       "500    3805.022702\n",
       "Name: predicted_mean, Length: 501, dtype: float64"
      ]
     },
     "execution_count": 264,
     "metadata": {},
     "output_type": "execute_result"
    }
   ],
   "source": [
    "result_plot"
   ]
  },
  {
   "cell_type": "code",
   "execution_count": 217,
   "metadata": {},
   "outputs": [
    {
     "data": {
      "text/plain": [
       "0     3057.995561\n",
       "1     2476.073400\n",
       "2     2293.961294\n",
       "3     2388.092856\n",
       "4     3184.235493\n",
       "5     3323.214417\n",
       "6     3074.562394\n",
       "7     2417.527763\n",
       "8     2142.499449\n",
       "9     2205.541698\n",
       "10    3805.022702\n",
       "11    3552.989405\n",
       "Name: predicted_mean, dtype: float64"
      ]
     },
     "execution_count": 217,
     "metadata": {},
     "output_type": "execute_result"
    }
   ],
   "source": [
    "result"
   ]
  },
  {
   "cell_type": "code",
   "execution_count": 299,
   "metadata": {},
   "outputs": [],
   "source": [
    "predictions = result.iloc[:-1]"
   ]
  },
  {
   "cell_type": "code",
   "execution_count": 316,
   "metadata": {},
   "outputs": [],
   "source": [
    "actual_last10 = unique_reviews_per_day.tail(11).reset_index(drop=True)\n",
    "actual_last500 = unique_reviews_per_day.tail(501).reset_index(drop=True)"
   ]
  },
  {
   "cell_type": "markdown",
   "metadata": {},
   "source": [
    "#### Determine the forecast errors on seen data"
   ]
  },
  {
   "cell_type": "code",
   "execution_count": 300,
   "metadata": {},
   "outputs": [
    {
     "name": "stdout",
     "output_type": "stream",
     "text": [
      "Test RMSE: 77.063\n",
      "Test R^2: 0.980\n"
     ]
    }
   ],
   "source": [
    "rmse = sqrt(mean_squared_error(actual_last10['unique_reviews'], predictions))\n",
    "r2 = r2_score(actual_last10['unique_reviews'], predictions)\n",
    "print('Test RMSE: %.3f' % rmse)\n",
    "print('Test R^2: %.3f' % r2)"
   ]
  },
  {
   "cell_type": "markdown",
   "metadata": {},
   "source": [
    "Creating new combined dataframes for table and plot in Dashboard (Data Visualisation Part 2)"
   ]
  },
  {
   "cell_type": "code",
   "execution_count": 298,
   "metadata": {},
   "outputs": [],
   "source": [
    "# Combine result and actual_last10 into one DataFrame based on the index\n",
    "combined_df_plot = pd.concat([result_plot, actual_last500], axis=1)\n",
    "combined_df_plot = combined_df_plot[['date', 'unique_reviews', 'predicted_mean']]"
   ]
  },
  {
   "cell_type": "code",
   "execution_count": 220,
   "metadata": {},
   "outputs": [
    {
     "data": {
      "text/html": [
       "<div>\n",
       "<style scoped>\n",
       "    .dataframe tbody tr th:only-of-type {\n",
       "        vertical-align: middle;\n",
       "    }\n",
       "\n",
       "    .dataframe tbody tr th {\n",
       "        vertical-align: top;\n",
       "    }\n",
       "\n",
       "    .dataframe thead th {\n",
       "        text-align: right;\n",
       "    }\n",
       "</style>\n",
       "<table border=\"1\" class=\"dataframe\">\n",
       "  <thead>\n",
       "    <tr style=\"text-align: right;\">\n",
       "      <th></th>\n",
       "      <th>date</th>\n",
       "      <th>unique_reviews</th>\n",
       "      <th>predicted_mean</th>\n",
       "    </tr>\n",
       "  </thead>\n",
       "  <tbody>\n",
       "    <tr>\n",
       "      <th>0</th>\n",
       "      <td>2023-11-03</td>\n",
       "      <td>3123.0</td>\n",
       "      <td>3058.0</td>\n",
       "    </tr>\n",
       "    <tr>\n",
       "      <th>1</th>\n",
       "      <td>2023-11-04</td>\n",
       "      <td>2577.0</td>\n",
       "      <td>2476.0</td>\n",
       "    </tr>\n",
       "    <tr>\n",
       "      <th>2</th>\n",
       "      <td>2023-11-05</td>\n",
       "      <td>2308.0</td>\n",
       "      <td>2294.0</td>\n",
       "    </tr>\n",
       "    <tr>\n",
       "      <th>3</th>\n",
       "      <td>2023-11-06</td>\n",
       "      <td>2408.0</td>\n",
       "      <td>2388.0</td>\n",
       "    </tr>\n",
       "    <tr>\n",
       "      <th>4</th>\n",
       "      <td>2023-11-07</td>\n",
       "      <td>3230.0</td>\n",
       "      <td>3184.0</td>\n",
       "    </tr>\n",
       "    <tr>\n",
       "      <th>5</th>\n",
       "      <td>2023-11-08</td>\n",
       "      <td>3477.0</td>\n",
       "      <td>3323.0</td>\n",
       "    </tr>\n",
       "    <tr>\n",
       "      <th>6</th>\n",
       "      <td>2023-11-09</td>\n",
       "      <td>3204.0</td>\n",
       "      <td>3075.0</td>\n",
       "    </tr>\n",
       "    <tr>\n",
       "      <th>7</th>\n",
       "      <td>2023-11-10</td>\n",
       "      <td>2501.0</td>\n",
       "      <td>2418.0</td>\n",
       "    </tr>\n",
       "    <tr>\n",
       "      <th>8</th>\n",
       "      <td>2023-11-11</td>\n",
       "      <td>2146.0</td>\n",
       "      <td>2142.0</td>\n",
       "    </tr>\n",
       "    <tr>\n",
       "      <th>9</th>\n",
       "      <td>2023-11-12</td>\n",
       "      <td>2207.0</td>\n",
       "      <td>2206.0</td>\n",
       "    </tr>\n",
       "    <tr>\n",
       "      <th>10</th>\n",
       "      <td>2023-11-13</td>\n",
       "      <td>3834.0</td>\n",
       "      <td>3805.0</td>\n",
       "    </tr>\n",
       "    <tr>\n",
       "      <th>11</th>\n",
       "      <td>2023-11-14</td>\n",
       "      <td>NaN</td>\n",
       "      <td>3553.0</td>\n",
       "    </tr>\n",
       "  </tbody>\n",
       "</table>\n",
       "</div>"
      ],
      "text/plain": [
       "         date  unique_reviews  predicted_mean\n",
       "0  2023-11-03          3123.0          3058.0\n",
       "1  2023-11-04          2577.0          2476.0\n",
       "2  2023-11-05          2308.0          2294.0\n",
       "3  2023-11-06          2408.0          2388.0\n",
       "4  2023-11-07          3230.0          3184.0\n",
       "5  2023-11-08          3477.0          3323.0\n",
       "6  2023-11-09          3204.0          3075.0\n",
       "7  2023-11-10          2501.0          2418.0\n",
       "8  2023-11-11          2146.0          2142.0\n",
       "9  2023-11-12          2207.0          2206.0\n",
       "10 2023-11-13          3834.0          3805.0\n",
       "11 2023-11-14             NaN          3553.0"
      ]
     },
     "execution_count": 220,
     "metadata": {},
     "output_type": "execute_result"
    }
   ],
   "source": [
    "# Combine result and actual_last10 into one DataFrame based on the index\n",
    "combined_df = pd.concat([result, actual_last10], axis=1)\n",
    "combined_df = combined_df[['date', 'unique_reviews', 'predicted_mean']]\n",
    "\n",
    "# Round the values to the nearest integer\n",
    "combined_df = combined_df.round(0)\n",
    "\n",
    "# Replace the NaT value at index 11 with a specific date\n",
    "combined_df.at[11, 'date'] = pd.to_datetime('2023-11-14')\n",
    "combined_df"
   ]
  },
  {
   "cell_type": "markdown",
   "metadata": {},
   "source": [
    "#### Determine the forecast errors on unseen data"
   ]
  },
  {
   "cell_type": "code",
   "execution_count": 302,
   "metadata": {},
   "outputs": [],
   "source": [
    "# Split into train and test sets\n",
    "size = int(len(unique_reviews_per_day[\"unique_reviews\"]) * 0.7)\n",
    "train, test = unique_reviews_per_day[\"unique_reviews\"][0:size], unique_reviews_per_day[\"unique_reviews\"][size:len(unique_reviews_per_day)]"
   ]
  },
  {
   "cell_type": "code",
   "execution_count": 303,
   "metadata": {},
   "outputs": [
    {
     "data": {
      "text/plain": [
       "((477,), (205,))"
      ]
     },
     "execution_count": 303,
     "metadata": {},
     "output_type": "execute_result"
    }
   ],
   "source": [
    "train.shape, test.shape"
   ]
  },
  {
   "cell_type": "code",
   "execution_count": 304,
   "metadata": {},
   "outputs": [],
   "source": [
    "model = ARIMA(train, order=(1, 0, 2)).fit()"
   ]
  },
  {
   "cell_type": "code",
   "execution_count": 305,
   "metadata": {},
   "outputs": [
    {
     "name": "stdout",
     "output_type": "stream",
     "text": [
      "Test RMSE: 2394.323\n",
      "Test R^2: -0.001\n"
     ]
    }
   ],
   "source": [
    "# Make predictions\n",
    "predict = model.predict(start=len(train), end=len(train)+len(test)-1, dynamic=False)\n",
    "# test predictions\n",
    "rmse = sqrt(mean_squared_error(test, predict))\n",
    "r2 = r2_score(test, predict)\n",
    "\n",
    "print('Test RMSE: %.3f' % rmse)\n",
    "print('Test R^2: %.3f' % r2)"
   ]
  },
  {
   "cell_type": "markdown",
   "metadata": {},
   "source": [
    "The model has produced unsatisfactory results on unseen data. Another data manipulation step is required to solve this problem.\n",
    "\n",
    "#### Removing Outliers\n",
    "\n",
    "Data points outside Q1 and Q3 times 1.5 the IQR were disregarded."
   ]
  },
  {
   "cell_type": "code",
   "execution_count": 228,
   "metadata": {},
   "outputs": [
    {
     "data": {
      "text/html": [
       "<div>\n",
       "<style scoped>\n",
       "    .dataframe tbody tr th:only-of-type {\n",
       "        vertical-align: middle;\n",
       "    }\n",
       "\n",
       "    .dataframe tbody tr th {\n",
       "        vertical-align: top;\n",
       "    }\n",
       "\n",
       "    .dataframe thead th {\n",
       "        text-align: right;\n",
       "    }\n",
       "</style>\n",
       "<table border=\"1\" class=\"dataframe\">\n",
       "  <thead>\n",
       "    <tr style=\"text-align: right;\">\n",
       "      <th></th>\n",
       "      <th>date</th>\n",
       "      <th>unique_reviews</th>\n",
       "    </tr>\n",
       "  </thead>\n",
       "  <tbody>\n",
       "    <tr>\n",
       "      <th>0</th>\n",
       "      <td>2022-01-01</td>\n",
       "      <td>2029</td>\n",
       "    </tr>\n",
       "    <tr>\n",
       "      <th>1</th>\n",
       "      <td>2022-01-02</td>\n",
       "      <td>2208</td>\n",
       "    </tr>\n",
       "    <tr>\n",
       "      <th>2</th>\n",
       "      <td>2022-01-03</td>\n",
       "      <td>2013</td>\n",
       "    </tr>\n",
       "    <tr>\n",
       "      <th>3</th>\n",
       "      <td>2022-01-04</td>\n",
       "      <td>2081</td>\n",
       "    </tr>\n",
       "    <tr>\n",
       "      <th>4</th>\n",
       "      <td>2022-01-05</td>\n",
       "      <td>2234</td>\n",
       "    </tr>\n",
       "    <tr>\n",
       "      <th>...</th>\n",
       "      <td>...</td>\n",
       "      <td>...</td>\n",
       "    </tr>\n",
       "    <tr>\n",
       "      <th>676</th>\n",
       "      <td>2023-11-08</td>\n",
       "      <td>3477</td>\n",
       "    </tr>\n",
       "    <tr>\n",
       "      <th>677</th>\n",
       "      <td>2023-11-09</td>\n",
       "      <td>3204</td>\n",
       "    </tr>\n",
       "    <tr>\n",
       "      <th>678</th>\n",
       "      <td>2023-11-10</td>\n",
       "      <td>2501</td>\n",
       "    </tr>\n",
       "    <tr>\n",
       "      <th>679</th>\n",
       "      <td>2023-11-11</td>\n",
       "      <td>2146</td>\n",
       "    </tr>\n",
       "    <tr>\n",
       "      <th>680</th>\n",
       "      <td>2023-11-12</td>\n",
       "      <td>2207</td>\n",
       "    </tr>\n",
       "  </tbody>\n",
       "</table>\n",
       "<p>659 rows × 2 columns</p>\n",
       "</div>"
      ],
      "text/plain": [
       "          date  unique_reviews\n",
       "0   2022-01-01            2029\n",
       "1   2022-01-02            2208\n",
       "2   2022-01-03            2013\n",
       "3   2022-01-04            2081\n",
       "4   2022-01-05            2234\n",
       "..         ...             ...\n",
       "676 2023-11-08            3477\n",
       "677 2023-11-09            3204\n",
       "678 2023-11-10            2501\n",
       "679 2023-11-11            2146\n",
       "680 2023-11-12            2207\n",
       "\n",
       "[659 rows x 2 columns]"
      ]
     },
     "execution_count": 228,
     "metadata": {},
     "output_type": "execute_result"
    }
   ],
   "source": [
    "Q1 = unique_reviews_per_day['unique_reviews'].quantile(0.25)\n",
    "Q3 = unique_reviews_per_day['unique_reviews'].quantile(0.75)\n",
    "IQR = Q3 - Q1\n",
    "\n",
    "# Create a new DataFrame excluding outliers\n",
    "df_clean = unique_reviews_per_day[~((unique_reviews_per_day['unique_reviews'] < (Q1 - 1.5 * IQR)) |(unique_reviews_per_day['unique_reviews'] > (Q3 + 1.5 * IQR)))]\n",
    "df_clean"
   ]
  },
  {
   "cell_type": "markdown",
   "metadata": {},
   "source": [
    "#### Plotting the treated target variable"
   ]
  },
  {
   "cell_type": "code",
   "execution_count": 229,
   "metadata": {},
   "outputs": [
    {
     "data": {
      "text/plain": [
       "<Axes: xlabel='date'>"
      ]
     },
     "execution_count": 229,
     "metadata": {},
     "output_type": "execute_result"
    },
    {
     "data": {
      "image/png": "[encoded data removed]",
      "text/plain": [
       "<Figure size 640x480 with 1 Axes>"
      ]
     },
     "metadata": {},
     "output_type": "display_data"
    }
   ],
   "source": [
    "df_clean.plot(x=\"date\", y=\"unique_reviews\")"
   ]
  },
  {
   "cell_type": "code",
   "execution_count": 230,
   "metadata": {},
   "outputs": [
    {
     "data": {
      "text/plain": [
       "(-2.9924609451006674,\n",
       " 0.03560447657612157,\n",
       " 5,\n",
       " 653,\n",
       " {'1%': -3.4404038931945276,\n",
       "  '5%': -2.865976260062519,\n",
       "  '10%': -2.5691324834372633},\n",
       " 8674.567330975071)"
      ]
     },
     "execution_count": 230,
     "metadata": {},
     "output_type": "execute_result"
    }
   ],
   "source": [
    "adfuller(df_clean['unique_reviews'])\n",
    "# p-value < 0.05, so we can reject the null hypothesis that the data is not stationary"
   ]
  },
  {
   "cell_type": "code",
   "execution_count": 231,
   "metadata": {},
   "outputs": [],
   "source": [
    "# Split into train and test sets\n",
    "train_size = int(len(df_clean[\"unique_reviews\"]) * 0.7)\n",
    "train, test = df_clean[\"unique_reviews\"][0:train_size], df_clean[\"unique_reviews\"][train_size:len(df_clean)]"
   ]
  },
  {
   "cell_type": "code",
   "execution_count": 232,
   "metadata": {},
   "outputs": [
    {
     "data": {
      "text/plain": [
       "((461,), (198,))"
      ]
     },
     "execution_count": 232,
     "metadata": {},
     "output_type": "execute_result"
    }
   ],
   "source": [
    "train.shape, test.shape"
   ]
  },
  {
   "cell_type": "markdown",
   "metadata": {},
   "source": [
    "### Fit the Processed Data to the Model"
   ]
  },
  {
   "cell_type": "code",
   "execution_count": 233,
   "metadata": {},
   "outputs": [
    {
     "data": {
      "text/html": [
       "<table class=\"simpletable\">\n",
       "<caption>SARIMAX Results</caption>\n",
       "<tr>\n",
       "  <th>Dep. Variable:</th>    <td>unique_reviews</td>  <th>  No. Observations:  </th>    <td>461</td>   \n",
       "</tr>\n",
       "<tr>\n",
       "  <th>Model:</th>            <td>ARIMA(2, 1, 1)</td>  <th>  Log Likelihood     </th> <td>-3129.534</td>\n",
       "</tr>\n",
       "<tr>\n",
       "  <th>Date:</th>            <td>Sun, 26 Nov 2023</td> <th>  AIC                </th> <td>6267.068</td> \n",
       "</tr>\n",
       "<tr>\n",
       "  <th>Time:</th>                <td>13:52:07</td>     <th>  BIC                </th> <td>6283.592</td> \n",
       "</tr>\n",
       "<tr>\n",
       "  <th>Sample:</th>                  <td>0</td>        <th>  HQIC               </th> <td>6273.575</td> \n",
       "</tr>\n",
       "<tr>\n",
       "  <th></th>                      <td> - 461</td>      <th>                     </th>     <td> </td>    \n",
       "</tr>\n",
       "<tr>\n",
       "  <th>Covariance Type:</th>        <td>opg</td>       <th>                     </th>     <td> </td>    \n",
       "</tr>\n",
       "</table>\n",
       "<table class=\"simpletable\">\n",
       "<tr>\n",
       "     <td></td>       <th>coef</th>     <th>std err</th>      <th>z</th>      <th>P>|z|</th>  <th>[0.025</th>    <th>0.975]</th>  \n",
       "</tr>\n",
       "<tr>\n",
       "  <th>ar.L1</th>  <td>    0.5928</td> <td>    0.030</td> <td>   19.853</td> <td> 0.000</td> <td>    0.534</td> <td>    0.651</td>\n",
       "</tr>\n",
       "<tr>\n",
       "  <th>ar.L2</th>  <td>    0.1172</td> <td>    0.026</td> <td>    4.518</td> <td> 0.000</td> <td>    0.066</td> <td>    0.168</td>\n",
       "</tr>\n",
       "<tr>\n",
       "  <th>ma.L1</th>  <td>   -0.9553</td> <td>    0.021</td> <td>  -44.567</td> <td> 0.000</td> <td>   -0.997</td> <td>   -0.913</td>\n",
       "</tr>\n",
       "<tr>\n",
       "  <th>sigma2</th> <td>  4.74e+04</td> <td> 1370.824</td> <td>   34.576</td> <td> 0.000</td> <td> 4.47e+04</td> <td> 5.01e+04</td>\n",
       "</tr>\n",
       "</table>\n",
       "<table class=\"simpletable\">\n",
       "<tr>\n",
       "  <th>Ljung-Box (L1) (Q):</th>     <td>0.09</td> <th>  Jarque-Bera (JB):  </th> <td>2900.51</td>\n",
       "</tr>\n",
       "<tr>\n",
       "  <th>Prob(Q):</th>                <td>0.77</td> <th>  Prob(JB):          </th>  <td>0.00</td>  \n",
       "</tr>\n",
       "<tr>\n",
       "  <th>Heteroskedasticity (H):</th> <td>0.98</td> <th>  Skew:              </th>  <td>2.00</td>  \n",
       "</tr>\n",
       "<tr>\n",
       "  <th>Prob(H) (two-sided):</th>    <td>0.89</td> <th>  Kurtosis:          </th>  <td>14.63</td> \n",
       "</tr>\n",
       "</table><br/><br/>Warnings:<br/>[1] Covariance matrix calculated using the outer product of gradients (complex-step)."
      ],
      "text/latex": [
       "\\begin{center}\n",
       "\\begin{tabular}{lclc}\n",
       "\\toprule\n",
       "\\textbf{Dep. Variable:}          & unique\\_reviews  & \\textbf{  No. Observations:  } &    461      \\\\\n",
       "\\textbf{Model:}                  &  ARIMA(2, 1, 1)  & \\textbf{  Log Likelihood     } & -3129.534   \\\\\n",
       "\\textbf{Date:}                   & Sun, 26 Nov 2023 & \\textbf{  AIC                } &  6267.068   \\\\\n",
       "\\textbf{Time:}                   &     13:52:07     & \\textbf{  BIC                } &  6283.592   \\\\\n",
       "\\textbf{Sample:}                 &        0         & \\textbf{  HQIC               } &  6273.575   \\\\\n",
       "\\textbf{}                        &       - 461      & \\textbf{                     } &             \\\\\n",
       "\\textbf{Covariance Type:}        &       opg        & \\textbf{                     } &             \\\\\n",
       "\\bottomrule\n",
       "\\end{tabular}\n",
       "\\begin{tabular}{lcccccc}\n",
       "                & \\textbf{coef} & \\textbf{std err} & \\textbf{z} & \\textbf{P$> |$z$|$} & \\textbf{[0.025} & \\textbf{0.975]}  \\\\\n",
       "\\midrule\n",
       "\\textbf{ar.L1}  &       0.5928  &        0.030     &    19.853  &         0.000        &        0.534    &        0.651     \\\\\n",
       "\\textbf{ar.L2}  &       0.1172  &        0.026     &     4.518  &         0.000        &        0.066    &        0.168     \\\\\n",
       "\\textbf{ma.L1}  &      -0.9553  &        0.021     &   -44.567  &         0.000        &       -0.997    &       -0.913     \\\\\n",
       "\\textbf{sigma2} &     4.74e+04  &     1370.824     &    34.576  &         0.000        &     4.47e+04    &     5.01e+04     \\\\\n",
       "\\bottomrule\n",
       "\\end{tabular}\n",
       "\\begin{tabular}{lclc}\n",
       "\\textbf{Ljung-Box (L1) (Q):}     & 0.09 & \\textbf{  Jarque-Bera (JB):  } & 2900.51  \\\\\n",
       "\\textbf{Prob(Q):}                & 0.77 & \\textbf{  Prob(JB):          } &   0.00   \\\\\n",
       "\\textbf{Heteroskedasticity (H):} & 0.98 & \\textbf{  Skew:              } &   2.00   \\\\\n",
       "\\textbf{Prob(H) (two-sided):}    & 0.89 & \\textbf{  Kurtosis:          } &  14.63   \\\\\n",
       "\\bottomrule\n",
       "\\end{tabular}\n",
       "%\\caption{SARIMAX Results}\n",
       "\\end{center}\n",
       "\n",
       "Warnings: \\newline\n",
       " [1] Covariance matrix calculated using the outer product of gradients (complex-step)."
      ],
      "text/plain": [
       "<class 'statsmodels.iolib.summary.Summary'>\n",
       "\"\"\"\n",
       "                               SARIMAX Results                                \n",
       "==============================================================================\n",
       "Dep. Variable:         unique_reviews   No. Observations:                  461\n",
       "Model:                 ARIMA(2, 1, 1)   Log Likelihood               -3129.534\n",
       "Date:                Sun, 26 Nov 2023   AIC                           6267.068\n",
       "Time:                        13:52:07   BIC                           6283.592\n",
       "Sample:                             0   HQIC                          6273.575\n",
       "                                - 461                                         \n",
       "Covariance Type:                  opg                                         \n",
       "==============================================================================\n",
       "                 coef    std err          z      P>|z|      [0.025      0.975]\n",
       "------------------------------------------------------------------------------\n",
       "ar.L1          0.5928      0.030     19.853      0.000       0.534       0.651\n",
       "ar.L2          0.1172      0.026      4.518      0.000       0.066       0.168\n",
       "ma.L1         -0.9553      0.021    -44.567      0.000      -0.997      -0.913\n",
       "sigma2       4.74e+04   1370.824     34.576      0.000    4.47e+04    5.01e+04\n",
       "===================================================================================\n",
       "Ljung-Box (L1) (Q):                   0.09   Jarque-Bera (JB):              2900.51\n",
       "Prob(Q):                              0.77   Prob(JB):                         0.00\n",
       "Heteroskedasticity (H):               0.98   Skew:                             2.00\n",
       "Prob(H) (two-sided):                  0.89   Kurtosis:                        14.63\n",
       "===================================================================================\n",
       "\n",
       "Warnings:\n",
       "[1] Covariance matrix calculated using the outer product of gradients (complex-step).\n",
       "\"\"\""
      ]
     },
     "execution_count": 233,
     "metadata": {},
     "output_type": "execute_result"
    }
   ],
   "source": [
    "# Fit the model\n",
    "model = ARIMA(train, order=(2, 1, 1)).fit()\n",
    "model.summary()"
   ]
  },
  {
   "cell_type": "markdown",
   "metadata": {},
   "source": [
    "### Model Evaluation"
   ]
  },
  {
   "cell_type": "code",
   "execution_count": 234,
   "metadata": {},
   "outputs": [
    {
     "name": "stdout",
     "output_type": "stream",
     "text": [
      "Test MAE: 254.83\n",
      "Test RMSE: 422.032\n"
     ]
    }
   ],
   "source": [
    "predictions = model.predict(start=len(train), end=len(train)+len(test)-1, dynamic=False)\n",
    "\n",
    "mae = mean_absolute_error(test, predictions)\n",
    "print('Test MAE: %.2f'% mae)\n",
    "\n",
    "rmse = sqrt(mean_squared_error(test, predictions))\n",
    "print('Test RMSE: %.3f' % rmse)"
   ]
  },
  {
   "cell_type": "code",
   "execution_count": 235,
   "metadata": {},
   "outputs": [
    {
     "name": "stdout",
     "output_type": "stream",
     "text": [
      "Test MAPE: 16.46\n"
     ]
    }
   ],
   "source": [
    "def mean_absolute_percentage_error(y_true, y_pred): \n",
    "    y_true, y_pred = np.array(y_true), np.array(y_pred)\n",
    "    return np.mean(np.abs((y_true - y_pred) / y_true)) * 100\n",
    "\n",
    "mape = mean_absolute_percentage_error(test, predictions)\n",
    "print('Test MAPE: %.2f' % mape)"
   ]
  },
  {
   "cell_type": "markdown",
   "metadata": {},
   "source": [
    "## Text Analytics"
   ]
  },
  {
   "cell_type": "code",
   "execution_count": 236,
   "metadata": {},
   "outputs": [
    {
     "data": {
      "text/html": [
       "<div>\n",
       "<style scoped>\n",
       "    .dataframe tbody tr th:only-of-type {\n",
       "        vertical-align: middle;\n",
       "    }\n",
       "\n",
       "    .dataframe tbody tr th {\n",
       "        vertical-align: top;\n",
       "    }\n",
       "\n",
       "    .dataframe thead th {\n",
       "        text-align: right;\n",
       "    }\n",
       "</style>\n",
       "<table border=\"1\" class=\"dataframe\">\n",
       "  <thead>\n",
       "    <tr style=\"text-align: right;\">\n",
       "      <th></th>\n",
       "      <th>review_id</th>\n",
       "      <th>pseudo_author_id</th>\n",
       "      <th>author_name</th>\n",
       "      <th>review_text</th>\n",
       "      <th>review_rating</th>\n",
       "      <th>review_likes</th>\n",
       "      <th>author_app_version</th>\n",
       "      <th>review_timestamp</th>\n",
       "      <th>Year</th>\n",
       "      <th>year</th>\n",
       "    </tr>\n",
       "  </thead>\n",
       "  <tbody>\n",
       "    <tr>\n",
       "      <th>0</th>\n",
       "      <td>baecdfaa-fdcf-4ec2-8795-f9e1d0885c3a</td>\n",
       "      <td>167801889669597203549</td>\n",
       "      <td>Om******hy</td>\n",
       "      <td>bad app</td>\n",
       "      <td>1</td>\n",
       "      <td>0</td>\n",
       "      <td>318.0.0.39.154</td>\n",
       "      <td>2021-05-19 20:00:27</td>\n",
       "      <td>2021</td>\n",
       "      <td>2021</td>\n",
       "    </tr>\n",
       "    <tr>\n",
       "      <th>1</th>\n",
       "      <td>12e913d6-105e-4f0c-bb22-4f6a0561cb18</td>\n",
       "      <td>318460545610239421517</td>\n",
       "      <td>Sa****************ol</td>\n",
       "      <td>Really really annoying app ... like if its not...</td>\n",
       "      <td>1</td>\n",
       "      <td>0</td>\n",
       "      <td>317.0.0.51.119</td>\n",
       "      <td>2021-05-19 20:00:29</td>\n",
       "      <td>2021</td>\n",
       "      <td>2021</td>\n",
       "    </tr>\n",
       "    <tr>\n",
       "      <th>2</th>\n",
       "      <td>7db12237-0f42-4ef7-873b-99495d575331</td>\n",
       "      <td>530587565711923101092</td>\n",
       "      <td>Ca*********04</td>\n",
       "      <td>Cunsurinimo</td>\n",
       "      <td>1</td>\n",
       "      <td>0</td>\n",
       "      <td>293.0.0.43.120</td>\n",
       "      <td>2021-05-19 20:00:29</td>\n",
       "      <td>2021</td>\n",
       "      <td>2021</td>\n",
       "    </tr>\n",
       "    <tr>\n",
       "      <th>3</th>\n",
       "      <td>6d48f3e8-54c4-417a-83c9-6b198ef7c516</td>\n",
       "      <td>413352731163292273792</td>\n",
       "      <td>Ar**************07</td>\n",
       "      <td>Bad experience</td>\n",
       "      <td>1</td>\n",
       "      <td>0</td>\n",
       "      <td>318.0.0.39.154</td>\n",
       "      <td>2021-05-19 20:00:30</td>\n",
       "      <td>2021</td>\n",
       "      <td>2021</td>\n",
       "    </tr>\n",
       "    <tr>\n",
       "      <th>4</th>\n",
       "      <td>c4430a84-d74b-4e24-8ed6-1e28110a355b</td>\n",
       "      <td>972610065867074567951</td>\n",
       "      <td>Ab***********kh</td>\n",
       "      <td>Totally pathetic experience too many ads and b...</td>\n",
       "      <td>1</td>\n",
       "      <td>0</td>\n",
       "      <td>308.0.0.42.118</td>\n",
       "      <td>2021-05-19 20:00:30</td>\n",
       "      <td>2021</td>\n",
       "      <td>2021</td>\n",
       "    </tr>\n",
       "    <tr>\n",
       "      <th>...</th>\n",
       "      <td>...</td>\n",
       "      <td>...</td>\n",
       "      <td>...</td>\n",
       "      <td>...</td>\n",
       "      <td>...</td>\n",
       "      <td>...</td>\n",
       "      <td>...</td>\n",
       "      <td>...</td>\n",
       "      <td>...</td>\n",
       "      <td>...</td>\n",
       "    </tr>\n",
       "    <tr>\n",
       "      <th>2994731</th>\n",
       "      <td>f01698fa-5056-4199-b88f-d294050062cb</td>\n",
       "      <td>272225995443346295413</td>\n",
       "      <td>Ji**********ur</td>\n",
       "      <td>eed Red; Red raCCC !duxiixiuz En do</td>\n",
       "      <td>1</td>\n",
       "      <td>0</td>\n",
       "      <td>440.0.0.31.105</td>\n",
       "      <td>2023-11-13 23:20:59</td>\n",
       "      <td>2023</td>\n",
       "      <td>2023</td>\n",
       "    </tr>\n",
       "    <tr>\n",
       "      <th>2994732</th>\n",
       "      <td>796fa280-6530-49dc-bc7d-f93ae086b31d</td>\n",
       "      <td>147368069644520083993</td>\n",
       "      <td>A Google user</td>\n",
       "      <td>Not been working all day and no update availab...</td>\n",
       "      <td>1</td>\n",
       "      <td>0</td>\n",
       "      <td>440.0.0.31.105</td>\n",
       "      <td>2023-11-13 23:21:20</td>\n",
       "      <td>2023</td>\n",
       "      <td>2023</td>\n",
       "    </tr>\n",
       "    <tr>\n",
       "      <th>2994733</th>\n",
       "      <td>b31e8e70-4e3b-419b-aa2f-a8a3f5a0bd05</td>\n",
       "      <td>257906640422320735099</td>\n",
       "      <td>Wa***********em</td>\n",
       "      <td>Absolute bias towards Israel</td>\n",
       "      <td>1</td>\n",
       "      <td>0</td>\n",
       "      <td>436.0.0.35.101</td>\n",
       "      <td>2023-11-13 23:21:26</td>\n",
       "      <td>2023</td>\n",
       "      <td>2023</td>\n",
       "    </tr>\n",
       "    <tr>\n",
       "      <th>2994734</th>\n",
       "      <td>a229e971-5a99-47c7-bf07-48ca9c8ed491</td>\n",
       "      <td>180604354313420497079</td>\n",
       "      <td>Na********ed</td>\n",
       "      <td>لا حريه ف التعبر</td>\n",
       "      <td>1</td>\n",
       "      <td>0</td>\n",
       "      <td>438.0.0.33.118</td>\n",
       "      <td>2023-11-13 23:21:31</td>\n",
       "      <td>2023</td>\n",
       "      <td>2023</td>\n",
       "    </tr>\n",
       "    <tr>\n",
       "      <th>2994735</th>\n",
       "      <td>503f5763-d4cb-451d-8c14-74000e7db755</td>\n",
       "      <td>283630924020317250235</td>\n",
       "      <td>Sh********ud</td>\n",
       "      <td>Absolute bias towards Israel</td>\n",
       "      <td>1</td>\n",
       "      <td>0</td>\n",
       "      <td>440.0.0.31.105</td>\n",
       "      <td>2023-11-13 23:23:21</td>\n",
       "      <td>2023</td>\n",
       "      <td>2023</td>\n",
       "    </tr>\n",
       "  </tbody>\n",
       "</table>\n",
       "<p>2341493 rows × 10 columns</p>\n",
       "</div>"
      ],
      "text/plain": [
       "                                    review_id       pseudo_author_id  \\\n",
       "0        baecdfaa-fdcf-4ec2-8795-f9e1d0885c3a  167801889669597203549   \n",
       "1        12e913d6-105e-4f0c-bb22-4f6a0561cb18  318460545610239421517   \n",
       "2        7db12237-0f42-4ef7-873b-99495d575331  530587565711923101092   \n",
       "3        6d48f3e8-54c4-417a-83c9-6b198ef7c516  413352731163292273792   \n",
       "4        c4430a84-d74b-4e24-8ed6-1e28110a355b  972610065867074567951   \n",
       "...                                       ...                    ...   \n",
       "2994731  f01698fa-5056-4199-b88f-d294050062cb  272225995443346295413   \n",
       "2994732  796fa280-6530-49dc-bc7d-f93ae086b31d  147368069644520083993   \n",
       "2994733  b31e8e70-4e3b-419b-aa2f-a8a3f5a0bd05  257906640422320735099   \n",
       "2994734  a229e971-5a99-47c7-bf07-48ca9c8ed491  180604354313420497079   \n",
       "2994735  503f5763-d4cb-451d-8c14-74000e7db755  283630924020317250235   \n",
       "\n",
       "                  author_name  \\\n",
       "0                  Om******hy   \n",
       "1        Sa****************ol   \n",
       "2               Ca*********04   \n",
       "3          Ar**************07   \n",
       "4             Ab***********kh   \n",
       "...                       ...   \n",
       "2994731        Ji**********ur   \n",
       "2994732         A Google user   \n",
       "2994733       Wa***********em   \n",
       "2994734          Na********ed   \n",
       "2994735          Sh********ud   \n",
       "\n",
       "                                               review_text  review_rating  \\\n",
       "0                                                  bad app              1   \n",
       "1        Really really annoying app ... like if its not...              1   \n",
       "2                                              Cunsurinimo              1   \n",
       "3                                           Bad experience              1   \n",
       "4        Totally pathetic experience too many ads and b...              1   \n",
       "...                                                    ...            ...   \n",
       "2994731                eed Red; Red raCCC !duxiixiuz En do              1   \n",
       "2994732  Not been working all day and no update availab...              1   \n",
       "2994733                       Absolute bias towards Israel              1   \n",
       "2994734                                   لا حريه ف التعبر              1   \n",
       "2994735                       Absolute bias towards Israel              1   \n",
       "\n",
       "         review_likes author_app_version    review_timestamp  Year  year  \n",
       "0                   0     318.0.0.39.154 2021-05-19 20:00:27  2021  2021  \n",
       "1                   0     317.0.0.51.119 2021-05-19 20:00:29  2021  2021  \n",
       "2                   0     293.0.0.43.120 2021-05-19 20:00:29  2021  2021  \n",
       "3                   0     318.0.0.39.154 2021-05-19 20:00:30  2021  2021  \n",
       "4                   0     308.0.0.42.118 2021-05-19 20:00:30  2021  2021  \n",
       "...               ...                ...                 ...   ...   ...  \n",
       "2994731             0     440.0.0.31.105 2023-11-13 23:20:59  2023  2023  \n",
       "2994732             0     440.0.0.31.105 2023-11-13 23:21:20  2023  2023  \n",
       "2994733             0     436.0.0.35.101 2023-11-13 23:21:26  2023  2023  \n",
       "2994734             0     438.0.0.33.118 2023-11-13 23:21:31  2023  2023  \n",
       "2994735             0     440.0.0.31.105 2023-11-13 23:23:21  2023  2023  \n",
       "\n",
       "[2341493 rows x 10 columns]"
      ]
     },
     "execution_count": 236,
     "metadata": {},
     "output_type": "execute_result"
    }
   ],
   "source": [
    "df"
   ]
  },
  {
   "cell_type": "code",
   "execution_count": 237,
   "metadata": {},
   "outputs": [],
   "source": [
    "#pip install langdetect\n",
    "#pip install nltk"
   ]
  },
  {
   "cell_type": "markdown",
   "metadata": {},
   "source": [
    "#### Clean Data and Create smaller Sample to save computational cost "
   ]
  },
  {
   "cell_type": "code",
   "execution_count": 238,
   "metadata": {},
   "outputs": [],
   "source": [
    "df = df[df['year'] == 2023]\n",
    "df['review_text'] = df['review_text'].dropna()\n",
    "df['review_text'] = df['review_text'].astype(str)"
   ]
  },
  {
   "cell_type": "code",
   "execution_count": 276,
   "metadata": {},
   "outputs": [],
   "source": [
    "# Set the sample size and select a random sample of reviews\n",
    "sample_size = 50000\n",
    "\n",
    "df_sample = df.sample(n=sample_size, random_state=1)"
   ]
  },
  {
   "cell_type": "code",
   "execution_count": 279,
   "metadata": {},
   "outputs": [
    {
     "data": {
      "text/plain": [
       "2546349                      Nabil Haider 5k follower please\n",
       "2931659    Very unfair to Palestinian n posting about pal...\n",
       "2890682                                           👎🏻👎🏻👎🏻👎🏻👎🏻\n",
       "2361762    Can't even open reels, I keep taping and tapin...\n",
       "2543365                                                 Good\n",
       "                                 ...                        \n",
       "2564902                                           Nice app 👌\n",
       "2825708    تطبيق لايحترم حرية التعبير ولايحترم خصوصيات ال...\n",
       "2858266                          من أجل المسجد الأقصى الأسير\n",
       "2700672                                         Rakeshkumar.\n",
       "2286913                          Tyybh hi ht it uuuiu7yo. Ll\n",
       "Name: review_text, Length: 50000, dtype: object"
      ]
     },
     "execution_count": 279,
     "metadata": {},
     "output_type": "execute_result"
    }
   ],
   "source": [
    "df_sample['review_text']"
   ]
  },
  {
   "cell_type": "markdown",
   "metadata": {},
   "source": [
    "#### Download packages"
   ]
  },
  {
   "cell_type": "code",
   "execution_count": 244,
   "metadata": {},
   "outputs": [
    {
     "name": "stderr",
     "output_type": "stream",
     "text": [
      "[nltk_data] Downloading package stopwords to\n",
      "[nltk_data]     /Users/johannes/nltk_data...\n",
      "[nltk_data]   Package stopwords is already up-to-date!\n",
      "[nltk_data] Downloading package wordnet to\n",
      "[nltk_data]     /Users/johannes/nltk_data...\n",
      "[nltk_data]   Package wordnet is already up-to-date!\n"
     ]
    }
   ],
   "source": [
    "from langdetect import detect\n",
    "from sklearn.feature_extraction.text import CountVectorizer\n",
    "from sklearn.decomposition import LatentDirichletAllocation\n",
    "\n",
    "import nltk\n",
    "from nltk.corpus import stopwords\n",
    "nltk.download('stopwords')\n",
    "nltk.download('wordnet')\n",
    "\n",
    "from nltk.stem.wordnet import WordNetLemmatizer\n",
    "import string\n",
    "\n"
   ]
  },
  {
   "cell_type": "markdown",
   "metadata": {},
   "source": [
    "### Text preprocessing"
   ]
  },
  {
   "cell_type": "code",
   "execution_count": 280,
   "metadata": {},
   "outputs": [
    {
     "data": {
      "text/plain": [
       "[['nabil', 'haider', '5k', 'follower', 'please'],\n",
       " ['unfair',\n",
       "  'palestinian',\n",
       "  'n',\n",
       "  'posting',\n",
       "  'palestine',\n",
       "  'always',\n",
       "  'vanish',\n",
       "  'please',\n",
       "  'neutral'],\n",
       " ['👎🏻👎🏻👎🏻👎🏻👎🏻'],\n",
       " ['cant', 'even', 'open', 'reel', 'keep', 'taping', 'taping', 'open'],\n",
       " ['good'],\n",
       " ['updating', 'application', 'slowly', 'mobile', 'lag', 'login'],\n",
       " ['good'],\n",
       " ['biased', 'palestinian', 'muslim', 'disappointing'],\n",
       " ['nice'],\n",
       " ['excellent'],\n",
       " ['thank'],\n",
       " ['পমনো'],\n",
       " ['good', 'application', 'recommend', 'anyone'],\n",
       " ['nice', 'app'],\n",
       " ['👎'],\n",
       " ['unfair', 'whats', 'happening', 'gaza'],\n",
       " ['ok'],\n",
       " ['auto',\n",
       "  'friend',\n",
       "  'request',\n",
       "  'keep',\n",
       "  'bothering',\n",
       "  'me',\n",
       "  'lately',\n",
       "  'facebook',\n",
       "  'keep',\n",
       "  'crashing',\n",
       "  'cant',\n",
       "  'even',\n",
       "  'comment',\n",
       "  'watch',\n",
       "  'something',\n",
       "  'without',\n",
       "  'facebook',\n",
       "  'crashing',\n",
       "  '247',\n",
       "  'even',\n",
       "  'touchedclicked',\n",
       "  'facebook',\n",
       "  'profile',\n",
       "  'auto',\n",
       "  'request',\n",
       "  'someone',\n",
       "  'cant',\n",
       "  'reccomend',\n",
       "  'bug',\n",
       "  'like',\n",
       "  'now',\n",
       "  'come',\n",
       "  'back'],\n",
       " ['precise', 'tuner'],\n",
       " ['panget', 'ni', 'ramram'],\n",
       " ['one',\n",
       "  'always',\n",
       "  'account',\n",
       "  'phone',\n",
       "  'number',\n",
       "  'give',\n",
       "  'one',\n",
       "  'even',\n",
       "  'know'],\n",
       " ['bad', 'experience', 'freedom', 'expression', 'bad', 'partner', 'il', '👎'],\n",
       " ['poor', 'quality', 'upload', 'hd', 'photo', 'upload', 'look', 'medium'],\n",
       " ['j',\n",
       "  'ok',\n",
       "  'ol',\n",
       "  'llkeoekkka',\n",
       "  'quo',\n",
       "  'p',\n",
       "  'gbnnnjjjj',\n",
       "  'p',\n",
       "  'tk',\n",
       "  'union',\n",
       "  'n',\n",
       "  'un',\n",
       "  'l',\n",
       "  'ap',\n",
       "  'unknown',\n",
       "  'gun',\n",
       "  'wench',\n",
       "  'unita',\n",
       "  'ub',\n",
       "  'ghhhhjiiop0pppppppppoooo',\n",
       "  'w',\n",
       "  'qaaaaa',\n",
       "  'wwwaa🤣wn2thm',\n",
       "  'q1'],\n",
       " ['freedom', 'express', 'opinion', 'hahaha'],\n",
       " ['bad'],\n",
       " ['bad', 'app'],\n",
       " ['good', 'لا', 'يدعم', 'الحريات'],\n",
       " ['nice', 'app'],\n",
       " ['cant', 'update', 'app', 'launch', 'well'],\n",
       " ['pro',\n",
       "  'israel',\n",
       "  'app',\n",
       "  'space',\n",
       "  'freedom',\n",
       "  'speech',\n",
       "  'disgusting',\n",
       "  'agenda',\n",
       "  'palestine'],\n",
       " ['absolutely', 'bias', 'towards', 'israel'],\n",
       " ['mz'],\n",
       " ['cool'],\n",
       " ['dgvdh', 'vl', 'u'],\n",
       " [],\n",
       " ['suraj', 'kumar', '😎👍🆒'],\n",
       " ['double', 'standard', 'human', 'wright', 'cannot', 'speak', 'freely', '😡😡😡'],\n",
       " ['freedom', 'speech', 'app'],\n",
       " ['👍', 'need', 'free', 'gift'],\n",
       " ['wwwaqraat'],\n",
       " ['market', 'place', 'option'],\n",
       " ['cant', 'drop', 'people', 'spam', 'message'],\n",
       " ['hello', 'facebook', 'plea', 'profesonal', 'mod', 'ples'],\n",
       " ['lousy',\n",
       "  'app',\n",
       "  'applying',\n",
       "  'community',\n",
       "  'standard',\n",
       "  'without',\n",
       "  'giving',\n",
       "  'clear',\n",
       "  'guide',\n",
       "  'line',\n",
       "  'understanding',\n",
       "  'user',\n",
       "  'criterion',\n",
       "  'enforcing',\n",
       "  'called',\n",
       "  'community',\n",
       "  'standard',\n",
       "  'also',\n",
       "  'want',\n",
       "  'anything',\n",
       "  'ghost',\n",
       "  'account',\n",
       "  'fake',\n",
       "  'identity',\n",
       "  'identity',\n",
       "  'theft'],\n",
       " ['since', 'make', 'rule', 'facebook', 'cant', 'make', 'page'],\n",
       " ['ضد', 'الحريات'],\n",
       " ['hypocrisy',\n",
       "  'trying',\n",
       "  'ban',\n",
       "  'competitor',\n",
       "  'selling',\n",
       "  'data',\n",
       "  'exact',\n",
       "  'thing',\n",
       "  'also',\n",
       "  'get',\n",
       "  'good',\n",
       "  'worried',\n",
       "  'user',\n",
       "  'leaving'],\n",
       " ['pro', 'zionist', 'occupation', 'racist', 'apps'],\n",
       " ['cant',\n",
       "  'say',\n",
       "  'anything',\n",
       "  'creator',\n",
       "  'elite',\n",
       "  'narrative',\n",
       "  'else',\n",
       "  'get',\n",
       "  'banned',\n",
       "  'silenced',\n",
       "  'talk',\n",
       "  'nazi'],\n",
       " ['dob', 'incorrect', 'fb'],\n",
       " ['weaponized', 'government', 'controlled', 'suckes', 'evil'],\n",
       " ['rrotesting', 'facebooks', 'bias', 'zionist'],\n",
       " ['fb', 'account', 'reel', 'show'],\n",
       " ['horrible', 'app'],\n",
       " ['war', 'criminal'],\n",
       " ['nice'],\n",
       " ['good'],\n",
       " ['wlçபசி', 'பக்கத்தில்', 'p0ou', '0', 'gநடத்தை', 'தேqwqwq', 'l'],\n",
       " ['nice'],\n",
       " ['kojsy'],\n",
       " ['ليس', 'هناك', 'كرية', 'تعبير', 'تطبيق', 'فاشل'],\n",
       " ['good'],\n",
       " ['rderref2eet4'],\n",
       " ['save', 'profile', 'must', 'log', 'complete', 'email', 'password'],\n",
       " ['awful', 'delusional', 'misleading', 'credible'],\n",
       " ['absolute', 'bias', 'towards', 'israel'],\n",
       " ['e', 'l'],\n",
       " ['spich', 'freedom'],\n",
       " ['shaikmushahiok'],\n",
       " ['bad', 'bad', 'bad'],\n",
       " ['absolute', 'bias', 'towards', 'israel'],\n",
       " ['going',\n",
       "  'cant',\n",
       "  'even',\n",
       "  'watch',\n",
       "  'video',\n",
       "  'without',\n",
       "  'lagging',\n",
       "  'fix',\n",
       "  'im',\n",
       "  'serious',\n",
       "  '🖕'],\n",
       " ['booring'],\n",
       " ['dyfgg8fgcghgģfffffffffffffffffffffffffffffffffffffffffffffffffffffffffffffffffffffffffggyyf'],\n",
       " ['fabulous'],\n",
       " ['absolute', 'bias', 'towards', 'israel'],\n",
       " ['poor', 'security', '😡'],\n",
       " ['jio'],\n",
       " ['like', 'business'],\n",
       " ['nice', 'app', 'easy', 'use'],\n",
       " ['منحاز',\n",
       "  'لدولة',\n",
       "  'الاحتلال',\n",
       "  'الصهيوني',\n",
       "  'المجرم',\n",
       "  'قاتل',\n",
       "  'الاطفال',\n",
       "  'والنساء',\n",
       "  'والعزل',\n",
       "  'ومساكنهم'],\n",
       " ['feeling'],\n",
       " ['nice'],\n",
       " ['qa', 'agyx'],\n",
       " ['please',\n",
       "  'make',\n",
       "  'world',\n",
       "  'save',\n",
       "  'everyone',\n",
       "  'please',\n",
       "  'let',\n",
       "  'u',\n",
       "  'spread',\n",
       "  'love',\n",
       "  'world',\n",
       "  'please',\n",
       "  'stop',\n",
       "  'war'],\n",
       " ['animal'],\n",
       " ['let', 'human', 'right', 'opinion', 'bad', 'application'],\n",
       " ['facebook', 'masih', 'oke', 'banget', 'lah', 'pokoknya'],\n",
       " ['ليس', 'هناك', 'حرية', 'تعبير'],\n",
       " ['sure',\n",
       "  'thought',\n",
       "  'doing',\n",
       "  'take',\n",
       "  'screenshot',\n",
       "  'meme',\n",
       "  'auto',\n",
       "  'pop',\n",
       "  'share',\n",
       "  'it',\n",
       "  'quality',\n",
       "  'life',\n",
       "  'improvement',\n",
       "  'instead',\n",
       "  'annoying',\n",
       "  'hassle',\n",
       "  'get',\n",
       "  'rid',\n",
       "  'it'],\n",
       " ['good'],\n",
       " ['good'],\n",
       " ['fair'],\n",
       " ['free', 'speeking'],\n",
       " ['absolute', 'abias', 'towards', 'israel'],\n",
       " ['si', 'ogxzx'],\n",
       " ['ok'],\n",
       " ['privacy', 'wost', 'app', 'socialize'],\n",
       " ['ok'],\n",
       " ['good', 'experience'],\n",
       " ['l', 'mm', 'l', 'mm', 'lo', 'l', 'l'],\n",
       " ['dated', 'impractical', 'targeted', 'ad', 'creepy'],\n",
       " ['q', 'ki', 'hmm', 'l', 'kk', 'í'],\n",
       " ['hiio'],\n",
       " ['yut6722'],\n",
       " ['recent',\n",
       "  'update',\n",
       "  'cant',\n",
       "  'find',\n",
       "  'hindi',\n",
       "  'song',\n",
       "  'story',\n",
       "  'timeline',\n",
       "  'update',\n",
       "  'bad',\n",
       "  'work',\n",
       "  '👎👎👎🤮🤮🤮'],\n",
       " ['szdxz', 'x', 'redcx', '9rrx', 'vc', 'u', 'set', 'cv4z', 'remove', '8'],\n",
       " ['free', 'palestin🇵🇸'],\n",
       " ['😤😤😤😤😤😤😤😤'],\n",
       " ['load',\n",
       "  'correctly',\n",
       "  'checking',\n",
       "  'comment',\n",
       "  'tagged',\n",
       "  'post',\n",
       "  'checked',\n",
       "  'update',\n",
       "  'one',\n",
       "  'fixed',\n",
       "  'little',\n",
       "  'bit',\n",
       "  'next',\n",
       "  'day',\n",
       "  'issue',\n",
       "  'again',\n",
       "  'even',\n",
       "  'reinstalled',\n",
       "  'app',\n",
       "  'avail'],\n",
       " ['cool'],\n",
       " ['الانحياز', 'لإسرائيل', 'ضدالقضيه', 'الفلسطنه'],\n",
       " ['condemn', 'bias', 'facebook', 'towards', 'palastine'],\n",
       " ['usually', 'dont', 'play', 'video', 'unable', 'download', 'video', 'photo'],\n",
       " ['vav'],\n",
       " ['سئ'],\n",
       " ['facebook', 'best', 'apps'],\n",
       " ['great', 'mentor'],\n",
       " ['nice', 'apps'],\n",
       " ['almost', 'good', 'cant', 'digital', 'creator', 'account', 'main'],\n",
       " ['great', '👍'],\n",
       " ['scroll',\n",
       "  'watch',\n",
       "  'reel',\n",
       "  'random',\n",
       "  'square',\n",
       "  'photo',\n",
       "  'covering',\n",
       "  'video',\n",
       "  'try',\n",
       "  'tapping',\n",
       "  'remove',\n",
       "  'always',\n",
       "  'pop',\n",
       "  'nowhere'],\n",
       " ['language', 'facebook', 'english', 'that'],\n",
       " ['grow', 'account', 'please', '🥺🙏'],\n",
       " ['like', 'this'],\n",
       " ['taik', 'palat', 'ko', 'mark'],\n",
       " ['waah', 'kya', 'seen', 'h', '👌'],\n",
       " ['good'],\n",
       " ['😔'],\n",
       " ['facebook',\n",
       "  'part',\n",
       "  'life',\n",
       "  'everyday',\n",
       "  'stress',\n",
       "  'reliever',\n",
       "  'satisfied',\n",
       "  'facebook'],\n",
       " ['facebook', 'suck'],\n",
       " ['verygoid'],\n",
       " ['bore', 'meet', 'people'],\n",
       " ['worst', 'app'],\n",
       " ['free', 'speech'],\n",
       " ['oo'],\n",
       " ['good', 'fd'],\n",
       " ['ليس', 'هنالك', 'حرية', 'تعبير🇵🇸🇵🇸'],\n",
       " ['yahre9', 'hetchoune', 'yemmak'],\n",
       " ['jimcale'],\n",
       " ['good', 'app'],\n",
       " ['support',\n",
       "  'israeli',\n",
       "  'terrorist',\n",
       "  'state',\n",
       "  'genocide',\n",
       "  'occupation',\n",
       "  'palestine',\n",
       "  'biased',\n",
       "  'information',\n",
       "  'restricts',\n",
       "  'freedom',\n",
       "  'speech'],\n",
       " ['j', 'k', 'डीजे'],\n",
       " ['account',\n",
       "  'keep',\n",
       "  'getting',\n",
       "  'compromised',\n",
       "  'impossible',\n",
       "  'actually',\n",
       "  'recover',\n",
       "  'them',\n",
       "  'reporting',\n",
       "  'useless',\n",
       "  'need',\n",
       "  'legislation',\n",
       "  'passed',\n",
       "  'make',\n",
       "  'gaining',\n",
       "  'developer',\n",
       "  'credential',\n",
       "  'difficult',\n",
       "  'meta',\n",
       "  'need',\n",
       "  'make',\n",
       "  'sure',\n",
       "  'there',\n",
       "  '247',\n",
       "  'technical',\n",
       "  'support',\n",
       "  'facebook',\n",
       "  'victim',\n",
       "  'cyberstalking',\n",
       "  'realizing',\n",
       "  'lack',\n",
       "  'protection',\n",
       "  'stalked',\n",
       "  'monitored',\n",
       "  'spied',\n",
       "  'cyberly',\n",
       "  'well',\n",
       "  'easily',\n",
       "  'developer',\n",
       "  'tool',\n",
       "  'utilized',\n",
       "  'nefarious',\n",
       "  'reason',\n",
       "  'appauling'],\n",
       " ['hello', 'face', 'book'],\n",
       " ['absolute', 'bias', 'towards', 'israel'],\n",
       " ['👍'],\n",
       " ['like'],\n",
       " ['stupid', 'app'],\n",
       " ['गीत',\n",
       "  'एफसीजीसीयू6जीटी6',\n",
       "  'टीटी',\n",
       "  'फ्रीटीटी55रोज',\n",
       "  'इज',\n",
       "  'खोलीजब',\n",
       "  'लोकiforजीसी',\n",
       "  'एक्स',\n",
       "  'सीसीआरएल4v'],\n",
       " ['ajaz'],\n",
       " ['لا', 'يسمح', 'بحريه', 'التعبير'],\n",
       " ['stop',\n",
       "  'islamophobia',\n",
       "  'community',\n",
       "  'guideline',\n",
       "  'khadim',\n",
       "  'hussain',\n",
       "  'rizvi',\n",
       "  'mumtaze',\n",
       "  'hussain',\n",
       "  'qadri'],\n",
       " ['facebook',\n",
       "  'lost',\n",
       "  'credibility',\n",
       "  'fake',\n",
       "  'biased',\n",
       "  'news',\n",
       "  'favousim',\n",
       "  'political',\n",
       "  'bias',\n",
       "  'greed',\n",
       "  'extreme',\n",
       "  'unprofeinalism',\n",
       "  'sharing',\n",
       "  'experat',\n",
       "  'level'],\n",
       " ['bad', 'experience'],\n",
       " ['a÷÷÷sw',\n",
       "  'dm22and',\n",
       "  'waaaaaaa2×22sw',\n",
       "  'wwz22aw2z•s32awa•zwaa•••sazwa3aawaaaazaaz2×☆aw×22waaway',\n",
       "  'za2××zzz',\n",
       "  '2w3w2sszzz☆×a÷waaaa•422°☆2'],\n",
       " ['privacy'],\n",
       " ['it’s', 'facebook’s', 'bias', 'zionist'],\n",
       " ['nice'],\n",
       " ['allow',\n",
       "  'freedom',\n",
       "  'speech',\n",
       "  'give',\n",
       "  'israel',\n",
       "  'upper',\n",
       "  'hand',\n",
       "  'monitor',\n",
       "  'content',\n",
       "  'organisation',\n",
       "  'think',\n",
       "  'facebook',\n",
       "  'far',\n",
       "  'israeli',\n",
       "  'product',\n",
       "  'count',\n",
       "  'time',\n",
       "  'soon',\n",
       "  'get',\n",
       "  'upper',\n",
       "  'hand',\n",
       "  'social',\n",
       "  'battle'],\n",
       " ['j'],\n",
       " ['game', 'making', 'money', 'owner', 'fixed'],\n",
       " ['facebook', 'support', 'freedom', 'speech'],\n",
       " ['good', 'app'],\n",
       " ['absolute', 'bias', 'towards', 'israel'],\n",
       " ['dear',\n",
       "  'facebook',\n",
       "  'team',\n",
       "  'english',\n",
       "  'song',\n",
       "  'coming',\n",
       "  'facebook',\n",
       "  'story',\n",
       "  'please',\n",
       "  'enable',\n",
       "  'hindi',\n",
       "  'song',\n",
       "  'asapthank'],\n",
       " ['لا', 'توجد', 'حرية', 'التعبير', '🇵🇸🇵🇸🇵🇸🇵🇸🇵🇸'],\n",
       " ['ليس', 'هناك', 'حرية', 'تعبير'],\n",
       " ['amazing', 'public', 'medium'],\n",
       " ['told',\n",
       "  'someone',\n",
       "  'tried',\n",
       "  'hack',\n",
       "  'account',\n",
       "  'atlanta',\n",
       "  'ga',\n",
       "  'im',\n",
       "  'florida',\n",
       "  'btw',\n",
       "  'changed',\n",
       "  'pas',\n",
       "  'word',\n",
       "  'able',\n",
       "  'access',\n",
       "  'facebook',\n",
       "  'chrome',\n",
       "  'well',\n",
       "  'messenger',\n",
       "  'reason',\n",
       "  'facebook',\n",
       "  'app',\n",
       "  'logging',\n",
       "  'new',\n",
       "  'password',\n",
       "  'made',\n",
       "  'im',\n",
       "  'trying',\n",
       "  'avoid',\n",
       "  'going',\n",
       "  'chrome',\n",
       "  'manually',\n",
       "  'searching',\n",
       "  'facebook',\n",
       "  'everytime',\n",
       "  'check',\n",
       "  'feed',\n",
       "  'ughhh'],\n",
       " ['ये।', 'aszslxr5', 'letagawoi', 'hi', 'please'],\n",
       " ['bad'],\n",
       " ['fesebook', 'best', 'aap'],\n",
       " ['good'],\n",
       " ['dark', 'mode', 'gone', 'mi', 'pad', '5'],\n",
       " ['ok'],\n",
       " ['good', '👍'],\n",
       " ['extraordinariness'],\n",
       " ['heart'],\n",
       " ['🤞♥️'],\n",
       " ['hello',\n",
       "  'facebook',\n",
       "  'team',\n",
       "  'user',\n",
       "  'facebook',\n",
       "  'using',\n",
       "  'facebook',\n",
       "  'account',\n",
       "  'past',\n",
       "  '10',\n",
       "  'yearsi',\n",
       "  'follow',\n",
       "  'facebook',\n",
       "  'community',\n",
       "  'guideline',\n",
       "  'rulesmy',\n",
       "  'facebook',\n",
       "  'account',\n",
       "  'permanently',\n",
       "  'restricted',\n",
       "  'cant',\n",
       "  'post',\n",
       "  'comment',\n",
       "  'postmy',\n",
       "  'facebook',\n",
       "  'account',\n",
       "  'confirmed',\n",
       "  'restricted',\n",
       "  'mistakei',\n",
       "  'request',\n",
       "  'please',\n",
       "  'review',\n",
       "  'facebook',\n",
       "  'account',\n",
       "  'timeline',\n",
       "  'check',\n",
       "  'iti',\n",
       "  'request',\n",
       "  'please',\n",
       "  'un',\n",
       "  'restricted',\n",
       "  'facebook',\n",
       "  'account',\n",
       "  'thanks',\n",
       "  'facebook',\n",
       "  'team'],\n",
       " ['good'],\n",
       " ['absolute', 'bias', 'towards', 'israel'],\n",
       " ['lovely', 'friend'],\n",
       " ['ليس', 'هناك', 'حرية', 'تعبير'],\n",
       " ['best'],\n",
       " ['good'],\n",
       " ['lovely'],\n",
       " ['cant',\n",
       "  'scroll',\n",
       "  'app',\n",
       "  'become',\n",
       "  'garbage',\n",
       "  'guess',\n",
       "  'make',\n",
       "  'easier',\n",
       "  'uninstall',\n",
       "  'it'],\n",
       " ['samiya'],\n",
       " ['terrorist'],\n",
       " ['tapastartorate'],\n",
       " ['despise', 'it'],\n",
       " ['unethical'],\n",
       " ['app',\n",
       "  'got',\n",
       "  'removed',\n",
       "  'phone',\n",
       "  'unauthorized',\n",
       "  'upon',\n",
       "  'till',\n",
       "  'cant',\n",
       "  'installed',\n",
       "  'phone',\n",
       "  'know',\n",
       "  'reason'],\n",
       " ['nice', 'job'],\n",
       " ['super'],\n",
       " ['good'],\n",
       " ['op'],\n",
       " ['bcz',\n",
       "  'meri',\n",
       "  'ek',\n",
       "  'chez',\n",
       "  'hai',\n",
       "  'ki',\n",
       "  'gayi',\n",
       "  'meri',\n",
       "  'family',\n",
       "  'photo',\n",
       "  'video',\n",
       "  'hai',\n",
       "  'mera',\n",
       "  'phone',\n",
       "  'mai',\n",
       "  'isi',\n",
       "  'liaya',\n",
       "  'sab',\n",
       "  'kuch',\n",
       "  'delete',\n",
       "  'karna',\n",
       "  'pera',\n",
       "  'jab',\n",
       "  'ek',\n",
       "  'insan',\n",
       "  'ko',\n",
       "  'pyer',\n",
       "  'karo',\n",
       "  'dusara',\n",
       "  'insan',\n",
       "  'galt',\n",
       "  'rasta',\n",
       "  'pakar',\n",
       "  'ly',\n",
       "  'u',\n",
       "  'ko',\n",
       "  'mana',\n",
       "  'karna',\n",
       "  'galt',\n",
       "  'hai',\n",
       "  'batay',\n",
       "  'moja',\n",
       "  'galt',\n",
       "  'hai',\n",
       "  'pher',\n",
       "  'muhbat',\n",
       "  'karna',\n",
       "  'bi',\n",
       "  'galt',\n",
       "  'hai',\n",
       "  'duniya',\n",
       "  'mai'],\n",
       " ['account', 'lock', 'ho', 'gya', 'h'],\n",
       " ['racist',\n",
       "  'app',\n",
       "  'forbid',\n",
       "  'say',\n",
       "  'defend',\n",
       "  'opinion',\n",
       "  'nether',\n",
       "  'principal'],\n",
       " ['excellent', 'everything', 'good', 'easy', 'use'],\n",
       " ['veqxb'],\n",
       " ['like', 'facebook', 'app', 'come', 'now'],\n",
       " ['faltu', 'aap', 'hai'],\n",
       " ['excellent'],\n",
       " ['bfajeshaigof', 'bfajesht'],\n",
       " ['absolute', 'bias', 'towards', 'israel'],\n",
       " ['like'],\n",
       " ['okkk',\n",
       "  'wooooo',\n",
       "  'hi',\n",
       "  'omooooo',\n",
       "  'wwkok',\n",
       "  'ooooo',\n",
       "  'kkokoosookokooooooo',\n",
       "  'hai',\n",
       "  'wwwo',\n",
       "  'k',\n",
       "  'w'],\n",
       " ['supporting',\n",
       "  'israel',\n",
       "  'palestine',\n",
       "  'allowing',\n",
       "  'anyone',\n",
       "  'show',\n",
       "  'atrocity',\n",
       "  'committed',\n",
       "  'israel'],\n",
       " ['unfair',\n",
       "  'policy',\n",
       "  'high',\n",
       "  'level',\n",
       "  'racism',\n",
       "  'directed',\n",
       "  'certain',\n",
       "  'politics',\n",
       "  'freedom',\n",
       "  'word',\n",
       "  'opinion',\n",
       "  'allowed'],\n",
       " ['cause'],\n",
       " ['share', 'political', 'view', 'facebook', 'like', 'censor', 'voice'],\n",
       " ['following', 'propaganda'],\n",
       " ['nice', 'app'],\n",
       " ['uzt'],\n",
       " ['connects', 'home', 'wifi', 'fridge', 'aint', 'working', 'right'],\n",
       " ['good'],\n",
       " ['ليس', 'هناك', 'حريه', 'تعبير'],\n",
       " ['application',\n",
       "  'login',\n",
       "  'automatically',\n",
       "  'using',\n",
       "  'app',\n",
       "  '20',\n",
       "  'minute',\n",
       "  'minimum',\n",
       "  '4',\n",
       "  '5',\n",
       "  'time',\n",
       "  'app',\n",
       "  'logout'],\n",
       " ['facebook', 'best'],\n",
       " ['since',\n",
       "  'new',\n",
       "  'beta',\n",
       "  'update',\n",
       "  'every',\n",
       "  'time',\n",
       "  'load',\n",
       "  'notification',\n",
       "  'menu',\n",
       "  'app',\n",
       "  'crash'],\n",
       " ['maa', 'e'],\n",
       " ['interesting'],\n",
       " ['nice'],\n",
       " ['muy', 'buno'],\n",
       " ['please',\n",
       "  'login',\n",
       "  'facebook',\n",
       "  'account',\n",
       "  'akram',\n",
       "  'raheel',\n",
       "  'problem',\n",
       "  'account',\n",
       "  'please',\n",
       "  'solve',\n",
       "  'account',\n",
       "  'problem',\n",
       "  'help',\n",
       "  '🥺',\n",
       "  'thank',\n",
       "  '😌'],\n",
       " ['good'],\n",
       " ['bad', 'support', '👎👎👎👎👎'],\n",
       " ['th'],\n",
       " ['absolute', 'bias', 'towards', 'israel'],\n",
       " ['nice'],\n",
       " ['fix',\n",
       "  'marketplace',\n",
       "  'love',\n",
       "  'god',\n",
       "  'many',\n",
       "  'people',\n",
       "  'issue',\n",
       "  'including',\n",
       "  'me',\n",
       "  'hard',\n",
       "  'look',\n",
       "  'complaint'],\n",
       " ['poor', 'service', 'today'],\n",
       " ['good', '👍'],\n",
       " ['absolute', 'bias', 'towards', 'israel'],\n",
       " ['fancstion', 'socail', 'meda'],\n",
       " ['لا', 'يعطي', 'حرية', 'التعبير'],\n",
       " ['s', 'abdul'],\n",
       " ['nice'],\n",
       " ['op'],\n",
       " ['لا', 'توجد', 'به', 'حرية', 'التعبير♥️🇵🇸'],\n",
       " ['racist'],\n",
       " ['able', 'open', 'external', 'content', 'facebook'],\n",
       " ['love', 'yo'],\n",
       " ['ليس', 'هناك', 'حرية', 'تعبير'],\n",
       " ['absolute', 'bias', 'towards', 'israel'],\n",
       " ['facebook',\n",
       "  'awesome',\n",
       "  'keep',\n",
       "  'touch',\n",
       "  'family',\n",
       "  'like',\n",
       "  'able',\n",
       "  'video',\n",
       "  'chat',\n",
       "  'them',\n",
       "  'enjoy',\n",
       "  'group',\n",
       "  'alsoespecially',\n",
       "  'canning',\n",
       "  'preserving',\n",
       "  'group'],\n",
       " ['good'],\n",
       " ['like'],\n",
       " ['good', 'app'],\n",
       " ['nice', 'app'],\n",
       " ['تطبيق', 'يمنع', 'حرية', 'التعبير'],\n",
       " ['bad', 'app', 'terrible'],\n",
       " ['nice', 'ji'],\n",
       " ['fb', 'working'],\n",
       " ['excited'],\n",
       " ['facebook', 'technical', 'issue', 'set'],\n",
       " ['ليس', 'هناك', 'حرية', 'التعبير'],\n",
       " ['दीपू'],\n",
       " ['bat',\n",
       "  'mo',\n",
       "  'ako',\n",
       "  'ni',\n",
       "  'restrict',\n",
       "  'be',\n",
       "  'inaano',\n",
       "  'ka',\n",
       "  'ba',\n",
       "  'hindi',\n",
       "  'nga',\n",
       "  'ako',\n",
       "  'nag',\n",
       "  'fefacebook',\n",
       "  'tapos',\n",
       "  'ganyan',\n",
       "  'ka',\n",
       "  'magsara',\n",
       "  'ka',\n",
       "  'na'],\n",
       " ['ججصعیجتب', 'خزخصرجہد'],\n",
       " ['lovely', 'app'],\n",
       " ['ليس', 'هناك', 'حرية', 'تعبير'],\n",
       " ['much', 'ererting'],\n",
       " ['ليسا', 'هنالك', 'حرية', 'تعبير', 'يامارك', 'سوبربيغ'],\n",
       " ['good'],\n",
       " ['bhaut', 'bhuat', 'dhaiyavad'],\n",
       " ['westage', 'time', 'efficiency'],\n",
       " ['fri', 'fri', 'falstin'],\n",
       " ['help', 'hiding', 'truth'],\n",
       " ['nazakat'],\n",
       " ['14₹₹4'],\n",
       " ['sad', 'reel', 'gone', 'facebook'],\n",
       " ['harassment', 'violence'],\n",
       " ['facebook',\n",
       "  'continuously',\n",
       "  'voliating',\n",
       "  'right',\n",
       "  'freedom',\n",
       "  'expression',\n",
       "  'whereas',\n",
       "  'discrimination',\n",
       "  'policy',\n",
       "  'name',\n",
       "  'called',\n",
       "  'community',\n",
       "  'standard',\n",
       "  'biased',\n",
       "  'worst'],\n",
       " ['love', 'app', '❤️❤️💓🤩'],\n",
       " ['good'],\n",
       " ['zeeezzezx'],\n",
       " ['acha', 'ha'],\n",
       " ['best', 'right', 'yes'],\n",
       " ['interestedd', 'buuuuuuuuuuu'],\n",
       " ['first', 'class', 'app'],\n",
       " ['عدم', 'وجود', 'حريه', 'التعبير'],\n",
       " ['freedom'],\n",
       " ['good'],\n",
       " ['beautiful'],\n",
       " ['pancham', 'raikwar'],\n",
       " ['التفييد', 'على', 'حرية', 'الرأي', 'والانحياز', 'لاسرائيل'],\n",
       " ['facebook',\n",
       "  'big',\n",
       "  'company',\n",
       "  'produce',\n",
       "  'app',\n",
       "  'cant',\n",
       "  'even',\n",
       "  'notification',\n",
       "  'working',\n",
       "  'go',\n",
       "  'sort',\n",
       "  'out',\n",
       "  'wonder',\n",
       "  'meta',\n",
       "  'going',\n",
       "  'down'],\n",
       " ['q', 'quite', 'enjoyable'],\n",
       " ['install', 'face', 'book', 'easily', 'hacklow', 'maintenance', 'security'],\n",
       " ['aaqq'],\n",
       " ['condeming', 'objecting', 'facebooks', 'bias', 'towards', 'zionist'],\n",
       " ['bias', 'towards', 'israel'],\n",
       " ['update', 'plz'],\n",
       " ['ok'],\n",
       " ['please',\n",
       "  'refresh',\n",
       "  'proble',\n",
       "  'find',\n",
       "  'account',\n",
       "  'new',\n",
       "  'update',\n",
       "  'please',\n",
       "  'check',\n",
       "  'kro'],\n",
       " ['🇯🇴🇰🇼🇰🇼🇰🇼🇰🇼🇰🇼🇰🇼🇰🇼🇰🇼🇰🇼🇰🇼🇰🇼🇰🇼'],\n",
       " ['ليس', 'هناك', 'حريه', 'تعبير'],\n",
       " ['bad', 'experience'],\n",
       " ['good'],\n",
       " ['nic'],\n",
       " ['ase'],\n",
       " ['𝐛𝐡𝐮𝐦𝐢', '𝐭𝐡𝐚𝐤𝐨𝐫'],\n",
       " ['انحياز', 'كامل', 'للجانب', 'الصهيوني', 'المستبد', 'الارهابي'],\n",
       " ['নাঔস'],\n",
       " ['good', 'app'],\n",
       " ['beautiful'],\n",
       " ['huh', '8'],\n",
       " ['mr', 'king'],\n",
       " ['lack', 'freedom', 'expression'],\n",
       " ['radhesh', 'paswan'],\n",
       " ['good'],\n",
       " ['متحيز', 'للصهاينه'],\n",
       " ['good'],\n",
       " ['lot', 'ad', 'video', 'anf', 'obligatory', 'see', 'pffff'],\n",
       " ['❤️❤️'],\n",
       " ['facebook', 'updating', '98'],\n",
       " ['freedom',\n",
       "  'expression',\n",
       "  'facebook',\n",
       "  'stand',\n",
       "  'oneside',\n",
       "  'discrimination',\n",
       "  'supporting',\n",
       "  'israel',\n",
       "  'way',\n",
       "  'palastinin',\n",
       "  'big',\n",
       "  'shame'],\n",
       " ['excilent'],\n",
       " ['50present', 'good', '50persent', 'good'],\n",
       " ['nice', 'ang', 'enjoyable'],\n",
       " ['خراااا'],\n",
       " ['ليس', 'هناك', 'حريه', 'تعبير'],\n",
       " ['absolute', 'bias', 'towards', 'israel'],\n",
       " ['one',\n",
       "  'star',\n",
       "  'rating',\n",
       "  'biasness',\n",
       "  'towards',\n",
       "  'zionist',\n",
       "  'wrong',\n",
       "  'palestine',\n",
       "  'ethnic',\n",
       "  'cleansing',\n",
       "  'palestine',\n",
       "  'humanity',\n",
       "  'shame'],\n",
       " ['great', 'application', 'jock'],\n",
       " ['easy', 'hacked'],\n",
       " ['double', 'standard', 'distorting', 'fact', 'spreading', 'lie'],\n",
       " ['nice', 'app'],\n",
       " ['لا', 'يوجد', 'حرية', 'تعبير'],\n",
       " ['use', 'app', 'nice', 'app'],\n",
       " ['discriminative'],\n",
       " ['want',\n",
       "  'give',\n",
       "  'rating',\n",
       "  'gave',\n",
       "  'report',\n",
       "  'open',\n",
       "  'facebook',\n",
       "  'page',\n",
       "  'always',\n",
       "  'give',\n",
       "  'problem',\n",
       "  'see',\n",
       "  'thing'],\n",
       " ['good'],\n",
       " ['absolute', 'bias', 'toward', 'israel'],\n",
       " ['💖❤️'],\n",
       " ['allow', 'free', 'speech'],\n",
       " ['bias',\n",
       "  'app',\n",
       "  'especially',\n",
       "  'concerning',\n",
       "  'specific',\n",
       "  'human',\n",
       "  'right',\n",
       "  'religion',\n",
       "  'concern'],\n",
       " ['still', 'problem', 'log', 'facebook', 'account'],\n",
       " ['free',\n",
       "  'express',\n",
       "  'idea',\n",
       "  'freely',\n",
       "  'post',\n",
       "  'deleted',\n",
       "  'blocked',\n",
       "  'usa',\n",
       "  'facebook'],\n",
       " ['really', 'good'],\n",
       " ['afia', 'siddique', 'freeafiasiddique'],\n",
       " ['nice',\n",
       "  'app',\n",
       "  'super',\n",
       "  'nice',\n",
       "  'beautiful',\n",
       "  'sweet',\n",
       "  'dream',\n",
       "  'take',\n",
       "  'care'],\n",
       " ['awesome'],\n",
       " ['👶'],\n",
       " ['freedom', 'opinion'],\n",
       " ['plz', 'install', 'facebook'],\n",
       " ['मुझको',\n",
       "  'फेसबुक',\n",
       "  'बहुत',\n",
       "  'अच्छा',\n",
       "  'लगता',\n",
       "  'है',\n",
       "  'पर',\n",
       "  'मेरे',\n",
       "  'फेसबुक',\n",
       "  'अकाउंट',\n",
       "  'पर',\n",
       "  'रील्स',\n",
       "  'मोनेटईजेशन',\n",
       "  'का',\n",
       "  'ऑप्शन',\n",
       "  'नही',\n",
       "  'मीला',\n",
       "  'है',\n",
       "  'मेरे',\n",
       "  'रिल्स',\n",
       "  'पर',\n",
       "  '४',\n",
       "  'lakh',\n",
       "  'से',\n",
       "  'भी',\n",
       "  'ज्यादा',\n",
       "  'व्यूज',\n",
       "  'आया',\n",
       "  'है',\n",
       "  'प्लीज़',\n",
       "  'हेल्प'],\n",
       " ['وی', 'good'],\n",
       " ['use', 'good'],\n",
       " ['exclusive'],\n",
       " ['cant',\n",
       "  'complain',\n",
       "  'using',\n",
       "  'free',\n",
       "  'charge',\n",
       "  'calling',\n",
       "  'family',\n",
       "  'free',\n",
       "  'connecting',\n",
       "  'world',\n",
       "  '🌎',\n",
       "  '🌍🌍',\n",
       "  'without',\n",
       "  'paying',\n",
       "  'cent',\n",
       "  'god',\n",
       "  'bless',\n",
       "  'team',\n",
       "  'facebook',\n",
       "  'mark',\n",
       "  'zuckerberg',\n",
       "  'hope',\n",
       "  'go',\n",
       "  'heaven',\n",
       "  'repaint',\n",
       "  'allah',\n",
       "  'superior',\n",
       "  'everything',\n",
       "  'great',\n",
       "  'full',\n",
       "  'give',\n",
       "  'more'],\n",
       " ['fair', 'double', 'standard', 'towards', 'palestine'],\n",
       " ['bad', 'application', '👎'],\n",
       " ['jesus', 'mind'],\n",
       " ['make', 'frog', 'gay'],\n",
       " ['love', 'it❤'],\n",
       " ['look', 'like', 'jail', 'social', 'application'],\n",
       " ['عدم', 'حرية', 'الرأي'],\n",
       " ['facebook', 'unfair', 'river', 'sea', 'palestine', 'free', '🇵🇸'],\n",
       " ['good'],\n",
       " ['great', 'democrat', 'definitely', 'one', 'sided', 'platform', 'suck'],\n",
       " ['without',\n",
       "  'reason',\n",
       "  'able',\n",
       "  'upload',\n",
       "  'video',\n",
       "  'facebook',\n",
       "  'page',\n",
       "  'touched',\n",
       "  'violation',\n",
       "  'video'],\n",
       " ['super'],\n",
       " ['take', 'alot', 'space', 'installed'],\n",
       " ['🙂'],\n",
       " ['horrible',\n",
       "  'user',\n",
       "  'support',\n",
       "  'marketplace',\n",
       "  'plagued',\n",
       "  'bit',\n",
       "  'trying',\n",
       "  'scam',\n",
       "  'people',\n",
       "  'one',\n",
       "  'care',\n",
       "  'protect',\n",
       "  'user',\n",
       "  'company',\n",
       "  'care',\n",
       "  'collecting',\n",
       "  'selling',\n",
       "  'data'],\n",
       " ['mo', 'yooog', 'deta', '234”₹'],\n",
       " ['absolute', 'bias', 'toward', 'israel'],\n",
       " ['nice'],\n",
       " ['free', 'speech', 'ended', 'platform'],\n",
       " ['facebook', 'suck', 'ashamed'],\n",
       " ['nice'],\n",
       " ['back', 'button', 'close', 'app', 'basic', 'functionality', 'work'],\n",
       " ['many',\n",
       "  'damn',\n",
       "  'ad',\n",
       "  'adding',\n",
       "  'friend',\n",
       "  'list',\n",
       "  'add',\n",
       "  'im',\n",
       "  'finished',\n",
       "  'trash'],\n",
       " ['🤬😡🤬😡'],\n",
       " ['beutifull'],\n",
       " ['connected', 'wifi', 'downloaded', 'information'],\n",
       " ['good'],\n",
       " ['good'],\n",
       " ['thats'],\n",
       " ['good'],\n",
       " ['good'],\n",
       " ['king', 'social', 'medium', 'facebook'],\n",
       " ['absolute', 'bias', 'towards', 'israel'],\n",
       " ['bias'],\n",
       " ['super', 'app'],\n",
       " ['rohit', 'ali'],\n",
       " ['good', 'app'],\n",
       " ['excellent'],\n",
       " ['app', 'become', 'useless', 'running', 'phone'],\n",
       " ['cant', 'express', 'opinion', 'freely'],\n",
       " ['good'],\n",
       " ['ុសញ្ញាិល'],\n",
       " ['maganda', 'gamitin'],\n",
       " ['latest',\n",
       "  'update',\n",
       "  'worst',\n",
       "  'cant',\n",
       "  'go',\n",
       "  'back',\n",
       "  'get',\n",
       "  'post',\n",
       "  'using',\n",
       "  'phone',\n",
       "  'backwprd',\n",
       "  'putton',\n",
       "  'press',\n",
       "  'backword',\n",
       "  'button',\n",
       "  'top',\n",
       "  'left',\n",
       "  'corner',\n",
       "  'why',\n",
       "  'uneasy',\n",
       "  'use',\n",
       "  'please',\n",
       "  'change',\n",
       "  'back',\n",
       "  'way'],\n",
       " ['account', 'ban', 'ban', 'please', 'name', 'rdx', 'rutik'],\n",
       " ['shame',\n",
       "  'meta',\n",
       "  'doublestandard',\n",
       "  'app',\n",
       "  'isreal',\n",
       "  'bombing',\n",
       "  'gaza',\n",
       "  'still',\n",
       "  'support',\n",
       "  'it',\n",
       "  'limiting',\n",
       "  'reach',\n",
       "  'content',\n",
       "  'showing',\n",
       "  'truth',\n",
       "  'crime',\n",
       "  'shame',\n",
       "  'you',\n",
       "  'even',\n",
       "  'deserve',\n",
       "  'one',\n",
       "  'star'],\n",
       " ['video',\n",
       "  'going',\n",
       "  'dark',\n",
       "  'playback',\n",
       "  'started',\n",
       "  'recently',\n",
       "  'within',\n",
       "  'last',\n",
       "  'week'],\n",
       " ['عنصري'],\n",
       " ['4qya'],\n",
       " ['good'],\n",
       " ['good',\n",
       "  'morning',\n",
       "  'friend',\n",
       "  'social',\n",
       "  'world',\n",
       "  'hows',\n",
       "  'every',\n",
       "  'individual',\n",
       "  'lyf',\n",
       "  'today',\n",
       "  'may',\n",
       "  'thing',\n",
       "  'keeping',\n",
       "  'u',\n",
       "  'always',\n",
       "  'manny',\n",
       "  'way',\n",
       "  'itno',\n",
       "  'matter',\n",
       "  'way',\n",
       "  'good',\n",
       "  'day',\n",
       "  'n',\n",
       "  'always',\n",
       "  'put',\n",
       "  'god',\n",
       "  'way',\n",
       "  'amen'],\n",
       " ['😍❤'],\n",
       " ['nice'],\n",
       " ['لا', 'يوجد', 'حرية', 'تعبير', 'للأسف', 'غير', 'محايد'],\n",
       " ['bad'],\n",
       " ['laxmi',\n",
       "  'biswas',\n",
       "  'id',\n",
       "  'automatic',\n",
       "  'hack',\n",
       "  'think',\n",
       "  'please',\n",
       "  'halp',\n",
       "  'recovery',\n",
       "  'id',\n",
       "  'please',\n",
       "  'facebook'],\n",
       " ['freedom', 'speech'],\n",
       " ['dattebayo'],\n",
       " ['interesting'],\n",
       " ['hate', 'facebook'],\n",
       " ['remove', 'gross', 'asmr'],\n",
       " ['يمنع', 'حريه', 'الرأي', 'ويدعم', 'الإرهاب'],\n",
       " ['good'],\n",
       " ['تطبيق', 'عنصري', 'ضد', 'المسلمين،', 'والأفضل', 'حذفه'],\n",
       " ['bad'],\n",
       " ['thanksgiving'],\n",
       " ['us', 'wifi'],\n",
       " ['great'],\n",
       " ['bad'],\n",
       " ['موقع', 'عنصري', 'ليس', 'هناك', 'حريه', 'تعبير'],\n",
       " ['nice', 'app'],\n",
       " ['qg'],\n",
       " ['censorship', 'finest'],\n",
       " ['متحيز', 'وعنصري'],\n",
       " ['absolute', 'bias', 'towards'],\n",
       " ['ppooiiuy',\n",
       "  'tea',\n",
       "  'oz',\n",
       "  'hz',\n",
       "  'jc',\n",
       "  'go',\n",
       "  'liz',\n",
       "  'oz',\n",
       "  'la',\n",
       "  'gp',\n",
       "  'paz',\n",
       "  'payslip',\n",
       "  'isopropanol',\n",
       "  'coalfish',\n",
       "  'lock',\n",
       "  'zoo'],\n",
       " ['helpful', 'app'],\n",
       " ['connects', 'wifi'],\n",
       " ['loaded',\n",
       "  'disturbing',\n",
       "  'inappropriate',\n",
       "  'post',\n",
       "  'keep',\n",
       "  'showing',\n",
       "  'feed',\n",
       "  'suggestion',\n",
       "  'despite',\n",
       "  'repeatedly',\n",
       "  'blocking',\n",
       "  'related',\n",
       "  'content'],\n",
       " ['∧🎀∧', '⁽˶', '᎑', '˶', '⁾⁾ﾟ', '〇☕〇'],\n",
       " ['bad'],\n",
       " ['bad', 'app'],\n",
       " ['nice'],\n",
       " ['update', 'good', 'comment', 'browsing'],\n",
       " ['absolute', 'bias', 'towards', 'israel'],\n",
       " ['good'],\n",
       " ['support', 'genocid'],\n",
       " ['facebook', 'update99stop'],\n",
       " ['good'],\n",
       " ['awesome', 'apps'],\n",
       " ['everythings',\n",
       "  'found',\n",
       "  'okay',\n",
       "  'colour',\n",
       "  'effectively',\n",
       "  'working',\n",
       "  'please',\n",
       "  'help',\n",
       "  'this',\n",
       "  'thanks'],\n",
       " ['844', 'mm'],\n",
       " ['nice'],\n",
       " ['used',\n",
       "  'enjoy',\n",
       "  'facebook',\n",
       "  'lately',\n",
       "  'want',\n",
       "  'logout',\n",
       "  'logout',\n",
       "  'box',\n",
       "  'click',\n",
       "  'go',\n",
       "  'profile',\n",
       "  'go',\n",
       "  'activity',\n",
       "  'logins',\n",
       "  'go',\n",
       "  'latest',\n",
       "  'login',\n",
       "  'device',\n",
       "  'logout',\n",
       "  'there',\n",
       "  'icon',\n",
       "  'click',\n",
       "  'on',\n",
       "  'like',\n",
       "  'left',\n",
       "  'like',\n",
       "  'comment',\n",
       "  'group',\n",
       "  'bottom',\n",
       "  'screen',\n",
       "  'instead',\n",
       "  'top',\n",
       "  'work',\n",
       "  'right',\n",
       "  'today',\n",
       "  'sound',\n",
       "  'ive',\n",
       "  'tried',\n",
       "  'force',\n",
       "  'stop',\n",
       "  'uninstall',\n",
       "  'reinstall',\n",
       "  'nothing',\n",
       "  'help',\n",
       "  'shame',\n",
       "  'fb'],\n",
       " ['useful'],\n",
       " ['together', 'people', 'around', 'world'],\n",
       " ['many', 'ad'],\n",
       " ['think', 'rather', 'neat'],\n",
       " ['keep', 'logged', 'device', 'keep', 'getting', 'booted', 'out'],\n",
       " ['wayyy',\n",
       "  'many',\n",
       "  'ad',\n",
       "  'anything',\n",
       "  'reported',\n",
       "  'violent',\n",
       "  'content',\n",
       "  'continues',\n",
       "  'force',\n",
       "  'unwanted',\n",
       "  'ad',\n",
       "  'feed',\n",
       "  'myspace',\n",
       "  'ripoff',\n",
       "  'good',\n",
       "  'start',\n",
       "  'with',\n",
       "  'soon',\n",
       "  'data',\n",
       "  'deleting',\n",
       "  'everything',\n",
       "  'meta',\n",
       "  'every',\n",
       "  'profile',\n",
       "  'data',\n",
       "  'yeah',\n",
       "  'know',\n",
       "  'exactly',\n",
       "  'talking',\n",
       "  'about'],\n",
       " ['good'],\n",
       " ['facebook',\n",
       "  'reel',\n",
       "  'bad',\n",
       "  'sexual',\n",
       "  'content',\n",
       "  'people',\n",
       "  'posting',\n",
       "  'facebook',\n",
       "  'taking',\n",
       "  'action',\n",
       "  'people',\n",
       "  'posting',\n",
       "  'sexual',\n",
       "  'short',\n",
       "  'video',\n",
       "  'facebook',\n",
       "  'nothingnow',\n",
       "  'cant',\n",
       "  'give',\n",
       "  'child',\n",
       "  'use',\n",
       "  'app'],\n",
       " ['mbrios'],\n",
       " ['user', 'friendly'],\n",
       " ['facebook',\n",
       "  'many',\n",
       "  'people',\n",
       "  'hacking',\n",
       "  'stealing',\n",
       "  'profile',\n",
       "  'accept',\n",
       "  'friend',\n",
       "  'request',\n",
       "  'message',\n",
       "  'anyone',\n",
       "  'met',\n",
       "  'person',\n",
       "  'thier',\n",
       "  'help',\n",
       "  'desk',\n",
       "  'useless',\n",
       "  'tom',\n",
       "  'myspace',\n",
       "  'better',\n",
       "  'security',\n",
       "  'measure'],\n",
       " ['problem', 'login', 'account'],\n",
       " ['thats', 'beatifull'],\n",
       " ['aiman'],\n",
       " ['best'],\n",
       " ['ईईडेसर्व', 'व'],\n",
       " ['give',\n",
       "  'misleading',\n",
       "  'information',\n",
       "  'palestinian',\n",
       "  'issue',\n",
       "  'support',\n",
       "  'israeli',\n",
       "  'massacre',\n",
       "  'gaza',\n",
       "  'palestine',\n",
       "  'general',\n",
       "  'help',\n",
       "  'spreading',\n",
       "  'truth',\n",
       "  'killing',\n",
       "  'internationally',\n",
       "  'prohibited',\n",
       "  'weapon',\n",
       "  'depriving',\n",
       "  'life',\n",
       "  'resource',\n",
       "  'firefighter',\n",
       "  'woman',\n",
       "  'men',\n",
       "  'electricity',\n",
       "  'water',\n",
       "  'food',\n",
       "  'first',\n",
       "  'aid',\n",
       "  'stand',\n",
       "  'palestine',\n",
       "  '🇵🇸🇵🇸🇵🇸🇵🇸'],\n",
       " ['ليش', 'هناك', 'حرية', 'تعبير'],\n",
       " ['berar', 'sebelah'],\n",
       " ['absolute', 'bias', 'towards', 'israel'],\n",
       " ['freedom'],\n",
       " ['left',\n",
       "  'beta',\n",
       "  'program',\n",
       "  'uninstalled',\n",
       "  'beta',\n",
       "  'app',\n",
       "  'cleared',\n",
       "  'cache',\n",
       "  'partition',\n",
       "  'restarted',\n",
       "  'phone',\n",
       "  'still',\n",
       "  'seeing',\n",
       "  'warning',\n",
       "  'beta',\n",
       "  'version',\n",
       "  'installed',\n",
       "  'trying',\n",
       "  'install',\n",
       "  'nonbeta',\n",
       "  'version'],\n",
       " ['space',\n",
       "  'freedom',\n",
       "  'speech',\n",
       "  'هنالك',\n",
       "  'اضطهاد',\n",
       "  'للدفاع',\n",
       "  'عن',\n",
       "  'الفلسطنين'],\n",
       " ['good'],\n",
       " ['awesome'],\n",
       " ['খুবেই',\n",
       "  'ভাল',\n",
       "  'লাগিছে।',\n",
       "  'সুন্দৰ',\n",
       "  'প্ৰাকৃতিক',\n",
       "  'পৰিবেশৰ',\n",
       "  'মাজত',\n",
       "  'অৱস্থিত।',\n",
       "  'আকৌ',\n",
       "  'এবাৰ',\n",
       "  'যাবলৈ',\n",
       "  'আন্তৰিকতা',\n",
       "  'থাকিল।'],\n",
       " ['great',\n",
       "  'creator',\n",
       "  'make',\n",
       "  'something',\n",
       "  'better',\n",
       "  'u',\n",
       "  'may',\n",
       "  'go',\n",
       "  'far',\n",
       "  'it',\n",
       "  'thank'],\n",
       " ['nice', 'application'],\n",
       " ['absolute', 'bias', 'towards', 'israel'],\n",
       " ['free', 'phalastine'],\n",
       " ['telling', 'truth'],\n",
       " ['update', 'mad', 'everything', 'worse', '😒', '😤'],\n",
       " ['ok', 'love❤'],\n",
       " ['لا', 'توجد', 'حرية', 'تعبير'],\n",
       " ['amising'],\n",
       " ['need', 'thanks'],\n",
       " ['pagal', 'chora', 'rajesh', '😋😋'],\n",
       " ['هناك',\n",
       "  'تحيز',\n",
       "  'واضح',\n",
       "  'وغير',\n",
       "  'مبرر',\n",
       "  'لدعم',\n",
       "  'القتلة',\n",
       "  'والسفاحين',\n",
       "  'وهذا',\n",
       "  'غير',\n",
       "  'مفهوم',\n",
       "  'وغير',\n",
       "  'مقبول',\n",
       "  'absolute',\n",
       "  'bias',\n",
       "  'towards',\n",
       "  'israelالقضيةالفلسطينيةالعربية'],\n",
       " ['monopoly'],\n",
       " ['free'],\n",
       " ['worst', 'hacker', 'facebook', 'one', 'safe', 'facebook'],\n",
       " ['useful', 'app', 'talk', 'see', 'new', 'thing'],\n",
       " ['s'],\n",
       " ['a', 'h', 'aw'],\n",
       " ['problem', 'me', '🤬🤬🤬🤬'],\n",
       " ['لا', 'يوجد', 'حريه', 'تعبير'],\n",
       " ['hillo'],\n",
       " ['help',\n",
       "  'people',\n",
       "  'remove',\n",
       "  'email',\n",
       "  'phone',\n",
       "  'number',\n",
       "  'terrible',\n",
       "  'service'],\n",
       " ['thank', 'you'],\n",
       " ['love', '😊😊😊😊😊😊😊😊'],\n",
       " ['good', 'cant', 'expect', 'this'],\n",
       " ['abh89in'],\n",
       " ['leaked', 'data'],\n",
       " ['there',\n",
       "  'freedom',\n",
       "  'expression',\n",
       "  'app',\n",
       "  'support',\n",
       "  'terrorism',\n",
       "  'colonisation'],\n",
       " ['zo', 'ancona', 'abnormality', 'z', 'pinned', 'bing', 'think', 'hajj'],\n",
       " ['facebook',\n",
       "  'mga',\n",
       "  'fact',\n",
       "  'checker',\n",
       "  'mo',\n",
       "  'mga',\n",
       "  'bias',\n",
       "  'fake',\n",
       "  'news',\n",
       "  'also',\n",
       "  'mga',\n",
       "  'lier',\n",
       "  'im',\n",
       "  'philippine'],\n",
       " ['better'],\n",
       " ['disappointed', '☹️'],\n",
       " ['nice', '👍🙂🙂🙂'],\n",
       " ['hide', 'truth', 'support', 'injustice'],\n",
       " ['biased', 'oppression', 'arrogance', 'usurping', 'entity', 'israel😡😡'],\n",
       " ['لا', 'يسمح', 'بحرية', 'الرأي'],\n",
       " ['lts', 'bad', 'lm', 'heat'],\n",
       " ['probably'],\n",
       " ['ii'],\n",
       " ['wish',\n",
       "  'could',\n",
       "  'delete',\n",
       "  'extremely',\n",
       "  'useful',\n",
       "  'app',\n",
       "  'zero',\n",
       "  'use',\n",
       "  'my',\n",
       "  'phone'],\n",
       " ['wer'],\n",
       " ['good'],\n",
       " ['queuesihavetotellmehowmuchyoucareandhowmuchyouwantmetodoandwhatyouwanttoknowwhenigettoworkandthengobacktosleepforawhilereadingamovieaboutittogetyoutokillyouandyoucouldhaveagreatfitinyourmouthtoworkforyourneedsandthebestofyourabilityandhowyoufeelandhowtodothatyouwillnotbeagoodfriendofyoursandiwillbehappywithyourbaby',\n",
       "  'cuntx'],\n",
       " ['নাইচ', 'app'],\n",
       " ['🇮🇶🇱🇾🇸🇾'],\n",
       " ['good'],\n",
       " ['video',\n",
       "  'keep',\n",
       "  'skipping',\n",
       "  'around',\n",
       "  'pausing',\n",
       "  'own',\n",
       "  'ive',\n",
       "  'updated',\n",
       "  'uninstalled',\n",
       "  'reinstalled',\n",
       "  'app',\n",
       "  'nothing',\n",
       "  'fixing',\n",
       "  'it',\n",
       "  'cant',\n",
       "  'report',\n",
       "  'problem',\n",
       "  'pull',\n",
       "  'anything',\n",
       "  'up',\n",
       "  'that',\n",
       "  'great'],\n",
       " ['juwel', 'via'],\n",
       " ['neutral'],\n",
       " ['scam'],\n",
       " ['facebook',\n",
       "  'guarantee',\n",
       "  'freedom',\n",
       "  'expression',\n",
       "  'user',\n",
       "  'facebook',\n",
       "  'must',\n",
       "  'know',\n",
       "  'interfere',\n",
       "  'opinion',\n",
       "  'user',\n",
       "  'must',\n",
       "  'respect',\n",
       "  'them',\n",
       "  'whatever',\n",
       "  'opinion',\n",
       "  'may',\n",
       "  'be',\n",
       "  'must',\n",
       "  'remain',\n",
       "  'neutral',\n",
       "  'international',\n",
       "  'political',\n",
       "  'matter'],\n",
       " ['many',\n",
       "  'ad',\n",
       "  'suitable',\n",
       "  'marketing',\n",
       "  'business',\n",
       "  'thiss',\n",
       "  'app',\n",
       "  'function',\n",
       "  'marketplace',\n",
       "  'excitement'],\n",
       " ['new',\n",
       "  'android',\n",
       "  'facebook',\n",
       "  'lacking',\n",
       "  'auto',\n",
       "  'restarting',\n",
       "  'app',\n",
       "  'kindly',\n",
       "  'solve',\n",
       "  'app',\n",
       "  'issue',\n",
       "  'bug',\n",
       "  'android',\n",
       "  '13',\n",
       "  'version'],\n",
       " ['🇦🇪🇦🇪🇦🇪🇦🇪🇦🇪🇦🇪🇦🇪🇦🇪🇦🇪'],\n",
       " ['furaha', 'manyoni'],\n",
       " ['free', 'facebook'],\n",
       " ['nice'],\n",
       " ['absolute', 'bias', 'towards', 'israel'],\n",
       " ['exilent'],\n",
       " ['absolute', 'bias', 'towards', 'israel'],\n",
       " ['love', 'it🥰❤️'],\n",
       " ['single', 'worst', 'social', 'medium', 'is'],\n",
       " ['world', 'wide', 'friend', 'meet', 'app'],\n",
       " ['absolute', 'bias', 'towards', 'israel'],\n",
       " ['happy', 'loved', 'learn'],\n",
       " ['muhmmad', 'shafqat', 'hasani', 'g', 'meil', 'dot', 'coh'],\n",
       " ['انحياز', 'الى', 'الجانب', 'الظالم', 'واذدواج', 'المعايير'],\n",
       " ['ok'],\n",
       " ['8gew'],\n",
       " [],\n",
       " ['nice'],\n",
       " ['التحيز', 'المطلق', 'لاسرائيل'],\n",
       " ['rate', 'ko', '2', 'star', 'kasi', 'ambantut'],\n",
       " ['absolutely', 'bise', 'toward', 'isariel'],\n",
       " ['bad', 'experience'],\n",
       " ['nice', '👍'],\n",
       " ['koa', 'hao', 'sab'],\n",
       " ['غير', 'داعم', 'للحقيقه'],\n",
       " ['really'],\n",
       " ['specifically',\n",
       "  'set',\n",
       "  'apps',\n",
       "  'auto',\n",
       "  'update',\n",
       "  'play',\n",
       "  'store',\n",
       "  'app',\n",
       "  'app',\n",
       "  'manages',\n",
       "  'bypass',\n",
       "  'update',\n",
       "  'without',\n",
       "  'knowledge',\n",
       "  'answer',\n",
       "  'this'],\n",
       " ['nice'],\n",
       " ['awful', 'experience', 'run', 'awful', 'people'],\n",
       " ['every',\n",
       "  'single',\n",
       "  'time',\n",
       "  'watch',\n",
       "  'video',\n",
       "  'facebook',\n",
       "  'stop',\n",
       "  '09',\n",
       "  'loading',\n",
       "  'loading',\n",
       "  'please',\n",
       "  'emprove',\n",
       "  'app'],\n",
       " ['good'],\n",
       " ['nice'],\n",
       " ['biased', 'freedom', 'speech'],\n",
       " ['02ssszz',\n",
       "  'sssz',\n",
       "  'z',\n",
       "  'z',\n",
       "  'sss',\n",
       "  'z2',\n",
       "  'xwqx',\n",
       "  'zv',\n",
       "  'x',\n",
       "  'z',\n",
       "  '2',\n",
       "  's',\n",
       "  'z',\n",
       "  's',\n",
       "  'sa',\n",
       "  'r',\n",
       "  'sa',\n",
       "  'za',\n",
       "  'ss',\n",
       "  'z',\n",
       "  'sss',\n",
       "  'sa'],\n",
       " ['reading'],\n",
       " ['app',\n",
       "  'keep',\n",
       "  'crashing',\n",
       "  'load',\n",
       "  'show',\n",
       "  'black',\n",
       "  'screen',\n",
       "  'samsung',\n",
       "  'galaxy',\n",
       "  's21',\n",
       "  'ultra',\n",
       "  '512gb'],\n",
       " ['شچائی', 'دبانے', 'پر'],\n",
       " ['9caaccaaac', 'caal', '🍀🍅🍀🍅9ccc'],\n",
       " ['love'],\n",
       " ['best', 'way', 'contact'],\n",
       " ['bad', 'video', 'show', 'sexual', 'contact', 'please', 'remove'],\n",
       " ['irfan', 'khan'],\n",
       " ['ok'],\n",
       " ['तुम्हारी', 'प्रचार', 'ने', 'chod', 'rakkhi', 'hay', 'bah'],\n",
       " ['censorde',\n",
       "  'unqualified',\n",
       "  'reading',\n",
       "  'facebooks',\n",
       "  'administration',\n",
       "  'censor',\n",
       "  'unprofessional',\n",
       "  'and',\n",
       "  'illegal',\n",
       "  'medium',\n",
       "  'fake',\n",
       "  'reporting',\n",
       "  'illlegal',\n",
       "  'censoring'],\n",
       " ['great'],\n",
       " ['good', '👍'],\n",
       " ['nice'],\n",
       " ['aat'],\n",
       " ['yu',\n",
       "  'rr',\n",
       "  'xfd',\n",
       "  'vz',\n",
       "  'acc',\n",
       "  'c',\n",
       "  'f',\n",
       "  'see',\n",
       "  '7ûvhbii',\n",
       "  'go',\n",
       "  'wcccx',\n",
       "  'cc',\n",
       "  'ccç',\n",
       "  'acc',\n",
       "  'xxcxxx',\n",
       "  'xxxxx',\n",
       "  'xx',\n",
       "  'xxxx',\n",
       "  'cc',\n",
       "  'cççxçcs',\n",
       "  'eeshosep',\n",
       "  'h',\n",
       "  'hi',\n",
       "  'nahi'],\n",
       " ['sukumarsi'],\n",
       " ['ليس', 'هناك', 'حرية', 'التعبير'],\n",
       " ['nice'],\n",
       " ['good'],\n",
       " ['fully',\n",
       "  'biased',\n",
       "  'app',\n",
       "  'support',\n",
       "  'zionist',\n",
       "  'movement',\n",
       "  'show',\n",
       "  'sympathy',\n",
       "  'human',\n",
       "  'life',\n",
       "  'elsewhere'],\n",
       " ['like'],\n",
       " ['nic', 'apps'],\n",
       " ['best', 'app'],\n",
       " ['pa', 'de', 'libertie', 'dexpression'],\n",
       " ['repeated',\n",
       "  'post',\n",
       "  'even',\n",
       "  'c',\n",
       "  'post',\n",
       "  'ten',\n",
       "  'time',\n",
       "  'keep',\n",
       "  'coming',\n",
       "  'up',\n",
       "  'boring'],\n",
       " ['prevents',\n",
       "  'freedom',\n",
       "  'expression',\n",
       "  '￼',\n",
       "  'prevents',\n",
       "  'freedom',\n",
       "  'expression',\n",
       "  '￼'],\n",
       " ['good', 'app'],\n",
       " ['favourite', 'apps', 'thank', 'good'],\n",
       " ['खीईग', 'हो'],\n",
       " ['keep',\n",
       "  'logging',\n",
       "  'out',\n",
       "  'keep',\n",
       "  'uninstalling',\n",
       "  'installing',\n",
       "  'again',\n",
       "  'ridiculous'],\n",
       " ['facebook',\n",
       "  'reliable',\n",
       "  'app',\n",
       "  'keep',\n",
       "  'id',\n",
       "  'itself',\n",
       "  'allow',\n",
       "  'u',\n",
       "  'delete',\n",
       "  'old',\n",
       "  'id',\n",
       "  'also',\n",
       "  'allow',\n",
       "  'u',\n",
       "  'remove',\n",
       "  'it',\n",
       "  'keep',\n",
       "  'history',\n",
       "  'itself',\n",
       "  'facebook',\n",
       "  'trusted'],\n",
       " ['arfan'],\n",
       " ['lower',\n",
       "  'app',\n",
       "  'download',\n",
       "  'app',\n",
       "  'chat',\n",
       "  'support',\n",
       "  'forgot',\n",
       "  'password',\n",
       "  'send',\n",
       "  'otp',\n",
       "  'mobile',\n",
       "  'number'],\n",
       " ['good', 'aap', 'add', 'good'],\n",
       " ['bad', 'racism', 'muslim'],\n",
       " ['🇵🇸',\n",
       "  'gaza',\n",
       "  'attack',\n",
       "  'racial',\n",
       "  'unfair',\n",
       "  'support',\n",
       "  'child',\n",
       "  'killer',\n",
       "  '2023',\n",
       "  '👎👎'],\n",
       " ['bad'],\n",
       " ['nice', 'app', 'responding', 'mobile', 'nowadays'],\n",
       " ['im', 'condemned', 'giving', 'right', 'plastine', 'tourism'],\n",
       " ['good'],\n",
       " ['make', 'helpful'],\n",
       " ['good', 'cool', 'app'],\n",
       " ['ok'],\n",
       " ['aftab', 'ansari', '🥰'],\n",
       " ['website',\n",
       "  'hold',\n",
       "  'specific',\n",
       "  'agenda',\n",
       "  'suppresses',\n",
       "  'opposite',\n",
       "  'opinion',\n",
       "  'stand',\n",
       "  'way',\n",
       "  'free',\n",
       "  'open',\n",
       "  'world',\n",
       "  'opposed',\n",
       "  'claim'],\n",
       " ['sadanandkumar'],\n",
       " ['why', 'know', '😜'],\n",
       " ['since',\n",
       "  'notification',\n",
       "  'longer',\n",
       "  'work',\n",
       "  'properly',\n",
       "  'they',\n",
       "  'hang',\n",
       "  'load',\n",
       "  'in',\n",
       "  'along',\n",
       "  'fact',\n",
       "  'longer',\n",
       "  'see',\n",
       "  'share',\n",
       "  'news',\n",
       "  'facebook',\n",
       "  'crapp',\n",
       "  'completely',\n",
       "  'useless'],\n",
       " ['good'],\n",
       " ['បុប្ផា', 'ជាយដែន'],\n",
       " ['kk',\n",
       "  'lo',\n",
       "  'n',\n",
       "  'ko',\n",
       "  'n',\n",
       "  'pl',\n",
       "  'l',\n",
       "  'ko',\n",
       "  'lok',\n",
       "  'kb',\n",
       "  'le',\n",
       "  'ppl',\n",
       "  'id',\n",
       "  'w',\n",
       "  'b',\n",
       "  'b',\n",
       "  'pp',\n",
       "  'l',\n",
       "  'nlo',\n",
       "  'p',\n",
       "  'kk',\n",
       "  'u',\n",
       "  'lemm',\n",
       "  'l',\n",
       "  'k',\n",
       "  'mm',\n",
       "  'mm',\n",
       "  'mm',\n",
       "  'km',\n",
       "  'km',\n",
       "  'k',\n",
       "  'mm',\n",
       "  'inn',\n",
       "  'm',\n",
       "  'mkkmkkllm',\n",
       "  'ko',\n",
       "  'o',\n",
       "  'mmm'],\n",
       " ['best'],\n",
       " ['terrible',\n",
       "  'app',\n",
       "  'moral',\n",
       "  'using',\n",
       "  'money',\n",
       "  'get',\n",
       "  'rid',\n",
       "  'competing',\n",
       "  'site'],\n",
       " ['vip'],\n",
       " ['poor', 'performance', 'glitchy', 'annoying', 'notification'],\n",
       " ['happy', '😁'],\n",
       " ['good', '👍'],\n",
       " ['free', 'palestine', 'الفيسبوك', 'عنصري', 'و', 'متحيز', 'للخنازير'],\n",
       " ['trash'],\n",
       " ['nice', 'recommended'],\n",
       " ['bad', 'application'],\n",
       " ['ball', 'ar', 'app'],\n",
       " ['sonugurjar'],\n",
       " ['user',\n",
       "  'since',\n",
       "  '2005',\n",
       "  'year',\n",
       "  'ive',\n",
       "  'watched',\n",
       "  'decline',\n",
       "  'app',\n",
       "  'found',\n",
       "  'way',\n",
       "  'suppress',\n",
       "  'people',\n",
       "  'creator',\n",
       "  'care',\n",
       "  'favor',\n",
       "  'ad',\n",
       "  'suggested',\n",
       "  'content',\n",
       "  'post',\n",
       "  'go',\n",
       "  'unseen',\n",
       "  'friend',\n",
       "  'family',\n",
       "  'meta',\n",
       "  'attempting',\n",
       "  'legislate',\n",
       "  'competition',\n",
       "  'existence',\n",
       "  'ive',\n",
       "  'enough'],\n",
       " ['nausadaii'],\n",
       " ['keep',\n",
       "  'crashing',\n",
       "  'basic',\n",
       "  'function',\n",
       "  'workthe',\n",
       "  'back',\n",
       "  'button',\n",
       "  'specifically'],\n",
       " ['facebook', 'good', 'aap'],\n",
       " ['really', 'good'],\n",
       " ['many',\n",
       "  'time',\n",
       "  'saw',\n",
       "  'fake',\n",
       "  'video',\n",
       "  'calling',\n",
       "  'apps',\n",
       "  'advertising',\n",
       "  'u',\n",
       "  'nude',\n",
       "  'marketplace',\n",
       "  'section',\n",
       "  'say',\n",
       "  'facebook',\n",
       "  'anything😡😡😡',\n",
       "  'last',\n",
       "  'chance',\n",
       "  'facebook',\n",
       "  'anotherwise',\n",
       "  'uninstall',\n",
       "  'it'],\n",
       " ['great', 'game'],\n",
       " ['biased'],\n",
       " ['facebook', 'fair', 'palestine'],\n",
       " ['anik'],\n",
       " ['absolute', 'bias', 'towards', 'israel'],\n",
       " ['edd9⅙4'],\n",
       " ['waste', 'time'],\n",
       " ['good'],\n",
       " ['adjust', 'account', 'cant', 'login'],\n",
       " ['criminal'],\n",
       " ['بيدعم', 'الكيان', 'المحتل'],\n",
       " ['oooo', 'bhai', 'n', 'b'],\n",
       " ['good'],\n",
       " ['xasan'],\n",
       " ['life'],\n",
       " ['absolute', 'bias', 'towards', 'israel'],\n",
       " ['connects', 'wifi', 'network', '010'],\n",
       " ['thank'],\n",
       " ['😄'],\n",
       " ['ok'],\n",
       " ['hi',\n",
       "  'facebook',\n",
       "  'account',\n",
       "  'hack',\n",
       "  'anedeee',\n",
       "  'please',\n",
       "  'recovery',\n",
       "  'account',\n",
       "  '🙏🙏'],\n",
       " ['beautiful', 'app', 'pretty'],\n",
       " ['good', 'app'],\n",
       " ['pradeeprajbhar'],\n",
       " ['unfair'],\n",
       " ['absolute', 'bias', 'towards', 'israel'],\n",
       " ['ليس', 'هناك', 'حريه', 'تعبير'],\n",
       " ['vnarsamma'],\n",
       " ['freedom', 'opinion'],\n",
       " ['favebook'],\n",
       " ['nice', 'app'],\n",
       " ['give', 'u', 'free', 'opinion'],\n",
       " ['nice', 'apps'],\n",
       " ['nice'],\n",
       " ['politically', 'biased'],\n",
       " ['people',\n",
       "  'sending',\n",
       "  'money',\n",
       "  'meta',\n",
       "  'ive',\n",
       "  'never',\n",
       "  'uploaded',\n",
       "  'information',\n",
       "  'thanks',\n",
       "  'going',\n",
       "  'dispute',\n",
       "  'bank'],\n",
       " ['simply', 'update', 'facebook', 'allow', 'use', 'app', 'unless', 'updated'],\n",
       " ['good'],\n",
       " ['mark', 'u', 'deserve', '1', 'star', 'that', 'give', 'u', 'lesser', 'can'],\n",
       " ['wwwwwwqqwwwwwwww', 'right'],\n",
       " ['app', 'good👍👍'],\n",
       " ['best', 'spyware', 'ive', 'seen', 'yet', 'stealing', 'personal', 'info'],\n",
       " ['awful',\n",
       "  'platform',\n",
       "  'small',\n",
       "  'business',\n",
       "  'setting',\n",
       "  'place',\n",
       "  'messenger',\n",
       "  'displaying',\n",
       "  'correctly',\n",
       "  'appointment',\n",
       "  'time',\n",
       "  'customer',\n",
       "  'service',\n",
       "  'found',\n",
       "  'submitted',\n",
       "  'complaint',\n",
       "  '2',\n",
       "  '3',\n",
       "  'time',\n",
       "  'last',\n",
       "  '2',\n",
       "  'month',\n",
       "  'response',\n",
       "  'whatsoever',\n",
       "  'worst',\n",
       "  'part',\n",
       "  'rely',\n",
       "  'garbage',\n",
       "  'reach',\n",
       "  'community'],\n",
       " ['absolute',\n",
       "  'bias',\n",
       "  'towards',\n",
       "  'israel',\n",
       "  'unfair',\n",
       "  'disgusting',\n",
       "  'crime',\n",
       "  'humanity'],\n",
       " ['facebook',\n",
       "  'working',\n",
       "  'amnot',\n",
       "  'found',\n",
       "  'new',\n",
       "  'video',\n",
       "  'networking',\n",
       "  'working'],\n",
       " ['nice'],\n",
       " ['nice', 'app'],\n",
       " ['hi',\n",
       "  'facebook',\n",
       "  'team',\n",
       "  'using',\n",
       "  'app',\n",
       "  'like',\n",
       "  '7',\n",
       "  'year',\n",
       "  'today',\n",
       "  'suddenly',\n",
       "  'comment',\n",
       "  'showing',\n",
       "  'post',\n",
       "  'showing',\n",
       "  'internet',\n",
       "  'connection',\n",
       "  'check',\n",
       "  'modem',\n",
       "  'bla',\n",
       "  'bla',\n",
       "  'like',\n",
       "  'that',\n",
       "  'changed',\n",
       "  'everytime',\n",
       "  'connection',\n",
       "  'switch',\n",
       "  'mobile',\n",
       "  'data',\n",
       "  'switch',\n",
       "  'wifi',\n",
       "  'problem',\n",
       "  'happened',\n",
       "  '😔😔😔'],\n",
       " ['sf'],\n",
       " ['pretty', 'app'],\n",
       " ['freedom',\n",
       "  'opinion',\n",
       "  'expression',\n",
       "  'everything',\n",
       "  'racist',\n",
       "  'useless',\n",
       "  'content',\n",
       "  'user',\n",
       "  'privacy'],\n",
       " ['op'],\n",
       " ['good', 'nice'],\n",
       " ['absolute', 'bias', 'towards', 'israel'],\n",
       " ['0004⅗1110'],\n",
       " ['spying', 'tool'],\n",
       " ['nice'],\n",
       " ['facebook',\n",
       "  'deleting',\n",
       "  'post',\n",
       "  'show',\n",
       "  'actually',\n",
       "  'happening',\n",
       "  'palestine'],\n",
       " ['garbage',\n",
       "  'company',\n",
       "  'weak',\n",
       "  'backbone',\n",
       "  'ethic',\n",
       "  'also',\n",
       "  'low',\n",
       "  'move',\n",
       "  'dropping',\n",
       "  'lite',\n",
       "  'version',\n",
       "  'messenger',\n",
       "  'app',\n",
       "  'fit',\n",
       "  'really',\n",
       "  'well',\n",
       "  'general',\n",
       "  'state',\n",
       "  'world',\n",
       "  '❤️'],\n",
       " ['bad', 'performance'],\n",
       " ['التحيز', 'لاسرائيل'],\n",
       " ['absolute', 'bias', 'towards', 'isreal'],\n",
       " ['new', 'nice', '🙂'],\n",
       " ['worth',\n",
       "  'time',\n",
       "  'filled',\n",
       "  'boomer',\n",
       "  'spam',\n",
       "  'ad',\n",
       "  'idiot',\n",
       "  'actually',\n",
       "  'sell',\n",
       "  'info',\n",
       "  'downwithmeta'],\n",
       " ['thank'],\n",
       " ['chimavak'],\n",
       " ['op'],\n",
       " ['good'],\n",
       " ['nice'],\n",
       " ['🤢🤢🤢🤢🤢🤢'],\n",
       " ['good'],\n",
       " ['الواحد',\n",
       "  'بيبلغ',\n",
       "  'عن',\n",
       "  'المنشور',\n",
       "  'المخالف',\n",
       "  'والمشرفين',\n",
       "  'غير',\n",
       "  'موجودين'],\n",
       " ['ok'],\n",
       " ['advertisement'],\n",
       " ['التطبيق',\n",
       "  'سي',\n",
       "  'جدا',\n",
       "  'جدا',\n",
       "  'جدا',\n",
       "  'جدا',\n",
       "  'بسبب',\n",
       "  'عدم',\n",
       "  'اتاحه',\n",
       "  'التعبير',\n",
       "  'عن',\n",
       "  'الراي',\n",
       "  'والانحياز',\n",
       "  'لفئه',\n",
       "  'دون',\n",
       "  'اخرى',\n",
       "  'بدون',\n",
       "  'وجه',\n",
       "  'حق',\n",
       "  'مما',\n",
       "  'يجعلنا',\n",
       "  'بالغاء',\n",
       "  'التقريب',\n",
       "  'قريبا'],\n",
       " ['good'],\n",
       " ['working'],\n",
       " ['😍😍'],\n",
       " ['facebook',\n",
       "  'bias',\n",
       "  'supporting',\n",
       "  'israel',\n",
       "  'apartheid',\n",
       "  'genocide',\n",
       "  'towards',\n",
       "  'palestinian',\n",
       "  'people'],\n",
       " ['good'],\n",
       " ['biased', 'israel'],\n",
       " ['word', 'explain'],\n",
       " ['super', 'apps'],\n",
       " ['ခဏခဏupadeတင်နေရတယ်ကွာတောက်😡😡😡🤜🤜🤜'],\n",
       " ['useless', '😞', 'time', 'khoti', 'karne', 'h', 'facebook'],\n",
       " ['good'],\n",
       " ['news'],\n",
       " ['yawa'],\n",
       " ['make', 'ad', 'short', 'disturbing', '❗'],\n",
       " ['evil',\n",
       "  'facebook',\n",
       "  'nothing',\n",
       "  'stress',\n",
       "  'out',\n",
       "  'sell',\n",
       "  'data',\n",
       "  'give',\n",
       "  'future',\n",
       "  'employer',\n",
       "  'lanleeches',\n",
       "  'way',\n",
       "  'control',\n",
       "  'you'],\n",
       " ['love'],\n",
       " ['bias'],\n",
       " ['good'],\n",
       " ['app', 'irritating'],\n",
       " ['hi', 'facebook'],\n",
       " ['ليس', 'هناك', 'حريه', 'للتعبير'],\n",
       " ['mk'],\n",
       " ['cant', 'see', 'people', 'unfollow', 'news', 'preference', 'follow'],\n",
       " ['totally',\n",
       "  'ba',\n",
       "  'cont',\n",
       "  'say',\n",
       "  'thought',\n",
       "  'owner',\n",
       "  'app',\n",
       "  'controlling',\n",
       "  'u',\n",
       "  'every',\n",
       "  'thing',\n",
       "  'cant',\n",
       "  'say',\n",
       "  'opinion'],\n",
       " ['love', 'fan', 'friend', 'thank'],\n",
       " ['good',\n",
       "  'sylhoti',\n",
       "  'language',\n",
       "  'ꠍꠤꠟꠐꠤ',\n",
       "  'ꠜꠣꠡꠣ',\n",
       "  'supported',\n",
       "  'cannot',\n",
       "  'translated',\n",
       "  'sylhet',\n",
       "  'language',\n",
       "  'here',\n",
       "  'please',\n",
       "  'add',\n",
       "  'sylhoti',\n",
       "  'language',\n",
       "  'here'],\n",
       " ['সেরা'],\n",
       " ['vary', 'gd'],\n",
       " ['much', 'glitch'],\n",
       " ['ver', 'poor', 'working', 'really', 'disapointed🙄🙄'],\n",
       " ['p', 'kj'],\n",
       " ['😘😘😘'],\n",
       " ['🤑🤑🤑🤑'],\n",
       " ['need',\n",
       "  'better',\n",
       "  'way',\n",
       "  'control',\n",
       "  'people',\n",
       "  'run',\n",
       "  'scam',\n",
       "  'take',\n",
       "  'want',\n",
       "  'personally',\n",
       "  'lost',\n",
       "  'lot',\n",
       "  'trusting',\n",
       "  'advertiser',\n",
       "  'ordering',\n",
       "  'thing'],\n",
       " ['facebook', 'ad', 'sexuality'],\n",
       " ['balaji', 'balaji'],\n",
       " ['يعارض',\n",
       "  'حرية',\n",
       "  'الرأى',\n",
       "  'بالإضافة',\n",
       "  'إلى',\n",
       "  'أن',\n",
       "  'لائحة',\n",
       "  'الحظر',\n",
       "  'مائعة',\n",
       "  'كما',\n",
       "  'أنها',\n",
       "  'منصة',\n",
       "  'منحازة',\n",
       "  'عقديا',\n",
       "  'لدولة',\n",
       "  'الأحتلال'],\n",
       " ['satisfaction'],\n",
       " ['pro', 'israel', 'god', 'damn', 'fair', 'mark'],\n",
       " ['kuldeepkumar'],\n",
       " ['faltu',\n",
       "  'sale',\n",
       "  'any',\n",
       "  'one',\n",
       "  'want',\n",
       "  'facebook',\n",
       "  'hacked',\n",
       "  'easy',\n",
       "  'hackerno',\n",
       "  'security',\n",
       "  'development',\n",
       "  'good',\n",
       "  'servicechal',\n",
       "  'laude'],\n",
       " ['nice'],\n",
       " ['updated', 'app', 'cant', 'access', 'facebook', 'market'],\n",
       " ['racist', 'app'],\n",
       " ['p00'],\n",
       " ['marketing', 'place', 'error', 'showing', 'problem'],\n",
       " ['wow'],\n",
       " ['bad'],\n",
       " ['sangat', 'mudah', 'digunakan', 'appikasi', 'ini'],\n",
       " ['great',\n",
       "  'family',\n",
       "  'experience',\n",
       "  'misinterpret',\n",
       "  'socalled',\n",
       "  'hate',\n",
       "  'speech',\n",
       "  'opinion'],\n",
       " ['equal'],\n",
       " ['wrong',\n",
       "  'policy',\n",
       "  'palestinian',\n",
       "  'related',\n",
       "  'post',\n",
       "  'defense',\n",
       "  'isreal',\n",
       "  'carry',\n",
       "  'oppression',\n",
       "  'innocent',\n",
       "  'people',\n",
       "  'palestine'],\n",
       " ['beautiful'],\n",
       " ['absolute', 'bias', 'oppression', 'israel'],\n",
       " ['😇😇😇'],\n",
       " ['gugalnetvark'],\n",
       " ['f', 'c'],\n",
       " ['absolute', 'bias', 'towards', 'israel'],\n",
       " ['absolute', 'bias', 'towards', 'israel'],\n",
       " ['nice'],\n",
       " ['and',\n",
       "  'yeah',\n",
       "  'lol',\n",
       "  'r3',\n",
       "  'u',\n",
       "  'aand',\n",
       "  '98r64',\n",
       "  '3rd',\n",
       "  '4th',\n",
       "  'rtt',\n",
       "  'r4r'],\n",
       " ['op', 'app'],\n",
       " ['خرا'],\n",
       " ['application',\n",
       "  'biased',\n",
       "  'towards',\n",
       "  'zionist',\n",
       "  'entity',\n",
       "  'deletes',\n",
       "  'everything',\n",
       "  'related',\n",
       "  'freedom',\n",
       "  'opinion',\n",
       "  'palestine',\n",
       "  'completely',\n",
       "  'unfair'],\n",
       " ['good', 'app', 'recomended'],\n",
       " ['good'],\n",
       " ['best'],\n",
       " ['bad', 'app'],\n",
       " ['ugh', 'cmkojb', 'g', '6t', 'loop', 'olin', 'ok'],\n",
       " ['really', 'cool', 'app'],\n",
       " ['double', 'standard'],\n",
       " ['good', 'app'],\n",
       " ['there', 'free', 'speech', '😔💬'],\n",
       " ['morning',\n",
       "  'lol',\n",
       "  'imivmall7m6myxooooxc',\n",
       "  'o',\n",
       "  'o',\n",
       "  's',\n",
       "  'soku',\n",
       "  '7',\n",
       "  'l',\n",
       "  '6ml',\n",
       "  'l',\n",
       "  'fokjyvyvv7u7y7',\n",
       "  'cr',\n",
       "  'inii'],\n",
       " ['nice'],\n",
       " ['th𝕚𝕤', '𝕒𝕡𝕡', '𝕚𝕤', '𝕧𝕚𝕣𝕚', '𝕘𝕠𝕠𝕕', '𝕒𝕡𝕡'],\n",
       " ['ghh'],\n",
       " ['pretty', 'good', 'app'],\n",
       " ['good'],\n",
       " ['noceapp'],\n",
       " ['good', '👍'],\n",
       " ['want', 'grow', 'account'],\n",
       " ['okay',\n",
       "  'think',\n",
       "  'developer',\n",
       "  'need',\n",
       "  'fix',\n",
       "  'since',\n",
       "  'tried',\n",
       "  'logging',\n",
       "  'let',\n",
       "  'me',\n",
       "  'cant',\n",
       "  'even',\n",
       "  'switch',\n",
       "  'account',\n",
       "  'please',\n",
       "  'fix',\n",
       "  'it'],\n",
       " ['app', 'load'],\n",
       " ['vary', '👍'],\n",
       " ['good', 'app'],\n",
       " ['application',\n",
       "  'dirty',\n",
       "  'give',\n",
       "  'freedom',\n",
       "  'express',\n",
       "  'innocent',\n",
       "  'people',\n",
       "  'application',\n",
       "  'contributes',\n",
       "  'terrorism'],\n",
       " ['कमलेश'],\n",
       " ['easy', 'use', 'simple'],\n",
       " ['great'],\n",
       " ['fooc'],\n",
       " ['ok'],\n",
       " ['good👍'],\n",
       " ['good'],\n",
       " ['wow'],\n",
       " ['booring', '🧰'],\n",
       " ['good'],\n",
       " ['restricted', 'lagi', 'parang', 'tanga'],\n",
       " ['10k', 'wivers'],\n",
       " ['ليس', 'هناك', 'حرية', 'التعبير'],\n",
       " ['nice', 'app'],\n",
       " ['nay'],\n",
       " ['account', 'hacked', 'please', 'give', 'back', 'account', 'please', '🥺'],\n",
       " ['good'],\n",
       " ['ýتبصرے', 'ح4جو8ی6جڑ5یگگ'],\n",
       " ['trash', 'app', 'sell', 'data', 'china', 'foreign', 'country'],\n",
       " ['way', 'much', 'ad'],\n",
       " ['نیساد'],\n",
       " ['facebook', 'berat', 'sebelah', 'kepada', 'israil'],\n",
       " ['best',\n",
       "  'aa',\n",
       "  'facebook',\n",
       "  'ke',\n",
       "  'market',\n",
       "  'place',\n",
       "  'ke',\n",
       "  'problem',\n",
       "  'ko',\n",
       "  'sahi',\n",
       "  'kar',\n",
       "  'marketplace',\n",
       "  'dal',\n",
       "  'nahin',\n",
       "  'rahi'],\n",
       " ['good'],\n",
       " ['mu',\n",
       "  'bug',\n",
       "  '😘',\n",
       "  'sppg',\n",
       "  'z',\n",
       "  'im🎂🎂l🎂ppgmz',\n",
       "  'ap7÷™℅😘π😍',\n",
       "  '7',\n",
       "  '7',\n",
       "  'ug',\n",
       "  '××8',\n",
       "  'pujujml',\n",
       "  'gakm'],\n",
       " ['good'],\n",
       " ['restrictive', 'freedom'],\n",
       " ['ly'],\n",
       " ['best', 'app'],\n",
       " ['ليس', 'هناك', 'حرية', 'تعبير'],\n",
       " ['تدعيم', 'الإرهاب'],\n",
       " ['lond'],\n",
       " ['nice'],\n",
       " ['لا', 'وجود', 'لحرية', 'التعبير'],\n",
       " ['good'],\n",
       " ['gazaunderattack',\n",
       "  'palestineunderattak',\n",
       "  'absolute',\n",
       "  'bias',\n",
       "  'towards',\n",
       "  'israel'],\n",
       " ['algorithm', 'supporting', 'crime', 'humanity'],\n",
       " ['waste', 'time', 'here', 'censor', 'stuff', 'spoon', 'feed', 'agenda'],\n",
       " ['facebook',\n",
       "  'getting',\n",
       "  'worst',\n",
       "  'latest',\n",
       "  'update',\n",
       "  'separate',\n",
       "  'reel',\n",
       "  'v',\n",
       "  'video'],\n",
       " ['encourage', 'racism', 'blocking', 'correct', 'news', 'coming', 'gaza'],\n",
       " ['vare', 'nich', '🥰🥰'],\n",
       " ['👍'],\n",
       " ['baaad'],\n",
       " ['problem',\n",
       "  'always',\n",
       "  'shift',\n",
       "  'portrait',\n",
       "  'mode',\n",
       "  'posting',\n",
       "  'using',\n",
       "  'mi',\n",
       "  'pad',\n",
       "  '5'],\n",
       " ['faltu'],\n",
       " ['limited'],\n",
       " ['facebook',\n",
       "  'want',\n",
       "  'sell',\n",
       "  'stuff',\n",
       "  'ad',\n",
       "  'day',\n",
       "  'never',\n",
       "  'know',\n",
       "  'friend',\n",
       "  'actually',\n",
       "  'anymore',\n",
       "  'see',\n",
       "  'ad',\n",
       "  'consistently',\n",
       "  'friend',\n",
       "  'post',\n",
       "  'plus',\n",
       "  'appreciate',\n",
       "  'meta',\n",
       "  'trying',\n",
       "  'ban',\n",
       "  'apps',\n",
       "  'obbying',\n",
       "  'politician'],\n",
       " ['favourite'],\n",
       " ['im',\n",
       "  'real',\n",
       "  'life',\n",
       "  'tu',\n",
       "  'mind',\n",
       "  'beautiful',\n",
       "  'bless',\n",
       "  'face',\n",
       "  'book',\n",
       "  'video',\n",
       "  'open',\n",
       "  'mind',\n",
       "  'video',\n",
       "  'eye',\n",
       "  'tu',\n",
       "  'lol',\n",
       "  'tu',\n",
       "  'power',\n",
       "  'mind',\n",
       "  'god',\n",
       "  'bless',\n",
       "  'eupora',\n",
       "  'mississippi',\n",
       "  'llc',\n",
       "  'make',\n",
       "  'comment',\n",
       "  'home',\n",
       "  'mississippi',\n",
       "  'cattleman',\n",
       "  'llc',\n",
       "  'make',\n",
       "  'tyrone',\n",
       "  'gunn'],\n",
       " ['free',\n",
       "  'palestine',\n",
       "  'freedom',\n",
       "  'expression',\n",
       "  'opinion',\n",
       "  'new',\n",
       "  'fb',\n",
       "  'update'],\n",
       " ['biased',\n",
       "  'towards',\n",
       "  'israel',\n",
       "  'account',\n",
       "  'got',\n",
       "  'limited',\n",
       "  'simply',\n",
       "  'sharing',\n",
       "  'viral',\n",
       "  'post',\n",
       "  'injustice',\n",
       "  'committed',\n",
       "  'palestinian',\n",
       "  'digital',\n",
       "  'marketing',\n",
       "  'professional',\n",
       "  'cant',\n",
       "  'run',\n",
       "  'ad',\n",
       "  'facebook',\n",
       "  'talk',\n",
       "  'freedom',\n",
       "  'speech',\n",
       "  '💬'],\n",
       " ['nice'],\n",
       " ['buggy',\n",
       "  'mess',\n",
       "  'basic',\n",
       "  'feature',\n",
       "  'opening',\n",
       "  'link',\n",
       "  'post',\n",
       "  'work',\n",
       "  'keep',\n",
       "  'suggesting',\n",
       "  'content',\n",
       "  'even',\n",
       "  'explicitly',\n",
       "  'tell'],\n",
       " ['massive', 'data', 'leak', 'issue'],\n",
       " ['ifit'],\n",
       " ['amazing', 'app', '❤👍'],\n",
       " ['يمنع', 'حرية', 'التعبير'],\n",
       " ['big',\n",
       "  'problem',\n",
       "  'facebook',\n",
       "  'user',\n",
       "  'account',\n",
       "  'restricted',\n",
       "  '2',\n",
       "  'day',\n",
       "  'account',\n",
       "  'activity',\n",
       "  'follow',\n",
       "  'community',\n",
       "  'standard',\n",
       "  'cant',\n",
       "  'one',\n",
       "  'thing',\n",
       "  'usually',\n",
       "  'do',\n",
       "  'please',\n",
       "  'solve',\n",
       "  'problem',\n",
       "  'soon',\n",
       "  'possible'],\n",
       " ['nice'],\n",
       " ['keep', 'crashing'],\n",
       " ['excellent'],\n",
       " ['nice', 'apk'],\n",
       " ['college', 'hai', '7'],\n",
       " ['nice'],\n",
       " ['bad',\n",
       "  'face',\n",
       "  'book',\n",
       "  'rassist',\n",
       "  'islamophobiac',\n",
       "  'tool',\n",
       "  'spreading',\n",
       "  'sex',\n",
       "  'illegal',\n",
       "  'activity'],\n",
       " ['ينصر', 'الطغاة', 'ويكمم', 'أفواه', 'الحق'],\n",
       " ['good', 'app'],\n",
       " ['cant', 'install', 'facebook', 'app'],\n",
       " ['good'],\n",
       " ['edit', 'button', 'showing', 'post'],\n",
       " ['gudd'],\n",
       " ['useless',\n",
       "  'app',\n",
       "  'year',\n",
       "  'hell',\n",
       "  'suspending',\n",
       "  'account',\n",
       "  'again',\n",
       "  '🖐️🖐️🖐️🖐️🖐️🖐️🖐️🖐️🖐️🖐️'],\n",
       " ['free', 'pelastain'],\n",
       " ['absolute', 'bias', 'towards', 'israel'],\n",
       " ['6mc', '2', '33', 'w'],\n",
       " ['love',\n",
       "  '💕',\n",
       "  'app',\n",
       "  'please',\n",
       "  'gharoth',\n",
       "  'account',\n",
       "  'facebook',\n",
       "  'tem',\n",
       "  'thanku'],\n",
       " ['nice'],\n",
       " ['app',\n",
       "  'cant',\n",
       "  'express',\n",
       "  'opinion',\n",
       "  'shadow',\n",
       "  'ban',\n",
       "  'certain',\n",
       "  'content',\n",
       "  'suit',\n",
       "  'belief',\n",
       "  'shame'],\n",
       " ['good'],\n",
       " ['absolute', 'bias', 'towards', 'israel'],\n",
       " ['भ', 'ढ', 'द', 'धधोरोंऔऔऔ'],\n",
       " ['beautiful', 'software'],\n",
       " ['nice', '👍'],\n",
       " ['05823',\n",
       "  'permission',\n",
       "  'still',\n",
       "  'turned',\n",
       "  'applicationi',\n",
       "  'allow',\n",
       "  'update',\n",
       "  'itself',\n",
       "  'still',\n",
       "  'update',\n",
       "  'itself',\n",
       "  'show',\n",
       "  'updated',\n",
       "  '2',\n",
       "  'day',\n",
       "  'ago',\n",
       "  'another',\n",
       "  'update',\n",
       "  'it',\n",
       "  'update',\n",
       "  'app',\n",
       "  'force',\n",
       "  'control',\n",
       "  'phone',\n",
       "  '5192023',\n",
       "  'forced',\n",
       "  'update',\n",
       "  'whole',\n",
       "  'new',\n",
       "  'update',\n",
       "  'hour',\n",
       "  'later',\n",
       "  'litterly',\n",
       "  'said',\n",
       "  'updated',\n",
       "  'hour',\n",
       "  'ago',\n",
       "  'another',\n",
       "  '929',\n",
       "  'updated',\n",
       "  '2',\n",
       "  'day',\n",
       "  'ago',\n",
       "  'another',\n",
       "  'update',\n",
       "  'waiting',\n",
       "  'again'],\n",
       " ['mamudu', 'ganiyu'],\n",
       " ['good'],\n",
       " ['uyi', 'l'],\n",
       " ['تبن', 'لكم'],\n",
       " ['billal', 'billall'],\n",
       " ['neutral',\n",
       "  'all',\n",
       "  'supporting',\n",
       "  'specific',\n",
       "  'politic',\n",
       "  'religious',\n",
       "  'agenda',\n",
       "  'restricting',\n",
       "  'right',\n",
       "  'user',\n",
       "  'opinion'],\n",
       " ['enjoyable', 'many', 'ad', 'watching', 'video'],\n",
       " ['good'],\n",
       " ['video',\n",
       "  'freez',\n",
       "  'notifacation',\n",
       "  'wont',\n",
       "  'open',\n",
       "  'site',\n",
       "  'follow',\n",
       "  'get',\n",
       "  'not',\n",
       "  'responding',\n",
       "  'go',\n",
       "  'blank',\n",
       "  'reopen',\n",
       "  'worth',\n",
       "  'trouble'],\n",
       " ['🚫', 'gud'],\n",
       " ['ok'],\n",
       " ['facebook',\n",
       "  'bias',\n",
       "  'come',\n",
       "  'israel',\n",
       "  'palestine',\n",
       "  'issue',\n",
       "  'isreal',\n",
       "  'country',\n",
       "  'never',\n",
       "  'be',\n",
       "  'free',\n",
       "  'palestine'],\n",
       " ['good'],\n",
       " ['لا', 'توجد', 'حرية', 'تعبير', 'هنا'],\n",
       " ['good', 'apps'],\n",
       " ['love'],\n",
       " ['im',\n",
       "  'trying',\n",
       "  'make',\n",
       "  'page',\n",
       "  'business',\n",
       "  'facebook',\n",
       "  'restricted',\n",
       "  'me',\n",
       "  'like',\n",
       "  'ano',\n",
       "  'yon',\n",
       "  'beh',\n",
       "  'wala',\n",
       "  'akong',\n",
       "  'ginagawa',\n",
       "  'na',\n",
       "  'masama',\n",
       "  'ta',\n",
       "  'gaganunin',\n",
       "  'nyo',\n",
       "  'ko',\n",
       "  'thats',\n",
       "  'unacceptable',\n",
       "  'gais',\n",
       "  'jokjok',\n",
       "  'nagtatampo',\n",
       "  'ako',\n",
       "  'facebook',\n",
       "  'suyuin',\n",
       "  'nyo',\n",
       "  'ko'],\n",
       " ['nice', 'app'],\n",
       " ['ok'],\n",
       " ['terrorist'],\n",
       " ['vt5v'],\n",
       " ['good'],\n",
       " ['absolute',\n",
       "  'bias',\n",
       "  'isreal',\n",
       "  'regardless',\n",
       "  'killing',\n",
       "  'thousand',\n",
       "  'civilian',\n",
       "  'palastin'],\n",
       " ['freedom', 'speech'],\n",
       " ['fine',\n",
       "  'fourthirty',\n",
       "  'morning',\n",
       "  'im',\n",
       "  'going',\n",
       "  'take',\n",
       "  'medicine',\n",
       "  'go',\n",
       "  'bed',\n",
       "  'god',\n",
       "  'bless',\n",
       "  'careful',\n",
       "  '🙂'],\n",
       " ['ive', 'found', 'friend', 'friend', 'bacc', 'day'],\n",
       " ['good', 'nice'],\n",
       " ['free', 'palestine'],\n",
       " ['facebook', 'restricting', 'freedom', 'speech'],\n",
       " ['റ്റ്ൿ4ർറ്റ്ൿറ്റ്യ്ൿഗ്റ്റ്ഗ്കട്ട്🤬ർക്ഷ്ഗ്ഗ്🤬ക്ഷ്ക്ഷ്റ്റ്റ്🤬ഉ🤬🤬🤬ക്ഷ്ർൿ🤣ർറ്റ്ക്യ്ഫ്ഫ്🤬🤣റ്റ്ൿക്ഷ്റ്റ്🤣ർ🤣🤣ക്ഷ്ഗ്🤬ൿഗ്ക്ഷ്ക്ഷ്റ്റ്ൿ🤣🤣🤬ക്ഷ്ക്ഷ്🤬ക്ഷ്ക്ഷ്ക്ഷ്റ്റ്ക്ഷ്🤣റ്റ്🤣യ്🤣ർഫ്യ്ക്ഷ്ർക്ഷ്ഫ്ക്ഷ്റ്റ്65യ്ർവ്6ട്ട്ഗ്ഗ്5ക്ഷ്ദ്ർറ്റ്ക്യ്റ്റ്ഫ്യ്5റ്റ്ഫ്ക്ഷ്ൿ55റ്റ്ക്ഷ്5യ്ക്ഷ്5റ്റ്ഫ്റ്റ്യ്റ്റ്65ക്ഷ്റ്റ്ക്ഷ്ൿ55ക്ഷ്ൿ5ക്ഷ്ക്ഷ്6യ്റ്റ്ക്യ്ക്ഷ്ഗ്ദ്ക്ഷ്ഫ്ർ❤️ർറ്റ്ക്ക്ക്ഷ്5ഗ്റ്റ്ൿക്ഷ്യ്ശ്ർ555രുറ്റ്ക്ഷ്5റ്റ്ക്ഷ്ക്ഷ്റ്റ്ക്യ്റ്റ്ക്ഷ്ഗ്ക്ഷ്യ്റ്റ്ക്ഷ്7ൿക്ഷ്ഗ്ക്ഷ്റ്റ്ക്ഷ്ൿറ്റ്ൿട്ട്ക്ഷ്ക്ഷ്ക്ഷ്റ്5ഉറ്റ്ർക്ഷ്57'],\n",
       " ['nice'],\n",
       " ['rmjan'],\n",
       " ['lot',\n",
       "  'friend',\n",
       "  'banned',\n",
       "  'posting',\n",
       "  'funny',\n",
       "  'pic',\n",
       "  'page',\n",
       "  'also',\n",
       "  'seen',\n",
       "  'lot',\n",
       "  'hate',\n",
       "  'speech',\n",
       "  'allowed',\n",
       "  'fb'],\n",
       " ['good'],\n",
       " ['good', 'next', 'update'],\n",
       " ['lùçký', 'akteŕ'],\n",
       " ['absolute', 'bias', 'towards', 'israel'],\n",
       " ['facebook', '😡😡😡😡'],\n",
       " ['nice', 'recommended'],\n",
       " ['تطبيق', 'سيء', 'ليست', 'به', 'حرية', 'رأي'],\n",
       " ['good'],\n",
       " ['give', 'right', 'express', 'taughts'],\n",
       " ['social',\n",
       "  'medium',\n",
       "  'apps',\n",
       "  'good',\n",
       "  'choice',\n",
       "  'choose',\n",
       "  'cause',\n",
       "  'get',\n",
       "  'follower',\n",
       "  'easy',\n",
       "  'promote',\n",
       "  'product'],\n",
       " ['sudgwie'],\n",
       " ['use',\n",
       "  'king',\n",
       "  'social',\n",
       "  'medium',\n",
       "  'full',\n",
       "  'false',\n",
       "  'information',\n",
       "  'content',\n",
       "  'designed',\n",
       "  'trigger',\n",
       "  'anger',\n",
       "  'response'],\n",
       " ['🖤🥀'],\n",
       " ['current',\n",
       "  'version',\n",
       "  'video',\n",
       "  'player',\n",
       "  'confuses',\n",
       "  'me',\n",
       "  'x',\n",
       "  'mark',\n",
       "  'thought',\n",
       "  'hide',\n",
       "  'caption',\n",
       "  'apparently',\n",
       "  'hide',\n",
       "  'whole',\n",
       "  'video',\n",
       "  'there',\n",
       "  'full',\n",
       "  'screen',\n",
       "  'option',\n",
       "  'preview',\n",
       "  'often',\n",
       "  'utilize',\n",
       "  'liking'],\n",
       " ['انتهت',\n",
       "  'حرية',\n",
       "  'التعبير',\n",
       "  'لديكم',\n",
       "  'بانتهاك',\n",
       "  'اسرائيل',\n",
       "  'لحقوق',\n",
       "  'المدنيين',\n",
       "  '،',\n",
       "  'بئست',\n",
       "  'المنصة',\n",
       "  'التي',\n",
       "  'تدعم',\n",
       "  'قتل',\n",
       "  'المدنيين',\n",
       "  'العزّل'],\n",
       " ['sahahlm'],\n",
       " ['90000zesஏ௺இஔొొ్5'],\n",
       " ['amount',\n",
       "  'ad',\n",
       "  'popups',\n",
       "  'gotten',\n",
       "  'control',\n",
       "  'im',\n",
       "  'sayin',\n",
       "  'app',\n",
       "  'always',\n",
       "  'sucked',\n",
       "  'buti',\n",
       "  'mean',\n",
       "  'barely',\n",
       "  'use',\n",
       "  'app',\n",
       "  'anymore'],\n",
       " ['ليس', 'هناك', 'حرية', 'التعبير'],\n",
       " ['awesome'],\n",
       " ['nice'],\n",
       " ['يساعد',\n",
       "  'علي',\n",
       "  'التعتيم',\n",
       "  'الإعلامي',\n",
       "  'و',\n",
       "  'يساعد',\n",
       "  'قتلة',\n",
       "  'الأطفال',\n",
       "  'و',\n",
       "  'يساند',\n",
       "  'الاحتلال',\n",
       "  'الصهيوني'],\n",
       " ['6', 'year'],\n",
       " ['التطبيق', 'لا', 'يسمح', 'بحريه', 'التعبير', 'عن', 'الرأي'],\n",
       " ['🤮'],\n",
       " ['like'],\n",
       " ['biased', 'towards', 'israel', 'atrocity', 'palestinian'],\n",
       " ['facebook', 'bad', 'controlling', 'user', 'sell', 'information', 'dictator'],\n",
       " ['good'],\n",
       " ['poor'],\n",
       " ['mmmlmllnñmnlllnmlnmlnmmlmlnh', 'qawaaq33aaaà5155'],\n",
       " ['nice', 'facebook'],\n",
       " ['improvement',\n",
       "  'look',\n",
       "  'fake',\n",
       "  'almost',\n",
       "  'everything',\n",
       "  'bottom',\n",
       "  'top',\n",
       "  'screen',\n",
       "  'use',\n",
       "  'fb',\n",
       "  'back',\n",
       "  'button',\n",
       "  'phone',\n",
       "  'suck'],\n",
       " ['opp', 'app'],\n",
       " ['op'],\n",
       " ['madarxud'],\n",
       " ['fantastic', 'social', 'medium', 'provide', 'app', '😊😊😊'],\n",
       " ['love', 'face', 'book'],\n",
       " ['ibijn।'],\n",
       " ['cdd', 'mihys3s', 'tvjih4s', 'jacale'],\n",
       " ['wow'],\n",
       " ['fix',\n",
       "  'system',\n",
       "  'bug',\n",
       "  'way',\n",
       "  'guy',\n",
       "  'ban',\n",
       "  'something',\n",
       "  'andor',\n",
       "  'suspending',\n",
       "  'account',\n",
       "  'also',\n",
       "  'one',\n",
       "  'star',\n",
       "  'keep',\n",
       "  'logging',\n",
       "  'ny',\n",
       "  'account',\n",
       "  'out',\n",
       "  'automatically',\n",
       "  'updated',\n",
       "  'comment',\n",
       "  'hate',\n",
       "  'dumb',\n",
       "  'app',\n",
       "  'restricting',\n",
       "  'people',\n",
       "  'nothing'],\n",
       " [],\n",
       " ['لا', 'يوجد', 'حرية', 'الراى'],\n",
       " ['nyc'],\n",
       " ['terqw2fewkʕ•ﻌ•ʔ≧∇≦qtnrwq2hhthnahaa2htagta｡’▽’｡♡●´з♡´ε｀', '♡♥'],\n",
       " ['ritz',\n",
       "  'az',\n",
       "  'rx',\n",
       "  'vgr',\n",
       "  'dz',\n",
       "  'c',\n",
       "  'red',\n",
       "  'cristian',\n",
       "  '😎😄👍👍zag',\n",
       "  'rtyps3👍👍😊'],\n",
       " ['bad', 'service'],\n",
       " ['ilyiio'],\n",
       " ['kanchanyadav'],\n",
       " ['ফেজবুক', 'ভালো', 'একটা', 'এপ', 'নাম্বা', '১'],\n",
       " ['deban', 'bora'],\n",
       " ['pinaka', 'magandang', 'aps'],\n",
       " ['still', 'best'],\n",
       " ['there',\n",
       "  'star',\n",
       "  'becuse',\n",
       "  'facebook',\n",
       "  'right',\n",
       "  'badest',\n",
       "  'app',\n",
       "  'see',\n",
       "  'thres',\n",
       "  'dark',\n",
       "  'mode',\n",
       "  'video',\n",
       "  'shiiiittttttt'],\n",
       " ['broken', 'app'],\n",
       " ['nv', 'uh', 'j', 'go'],\n",
       " ['always', 'censoring', 'truth'],\n",
       " ['good'],\n",
       " ['absolute', 'bias', 'towards', 'israel'],\n",
       " ['nice'],\n",
       " ['aftar'],\n",
       " ['r', 'hi'],\n",
       " ['ليس', 'هناك', 'حرية', 'تعبير'],\n",
       " ['مصداقيته', 'ضعيفة', 'تعامل', 'بتمييز', 'بين', 'المستخدمين'],\n",
       " ['ubhi', 'vo', 'meri', '🇬🇧hoo'],\n",
       " ['biased', 'israel'],\n",
       " ['many', 'ad'],\n",
       " ['garbage',\n",
       "  'bloatware',\n",
       "  'app',\n",
       "  'always',\n",
       "  'listening',\n",
       "  'always',\n",
       "  'watching',\n",
       "  'website',\n",
       "  'apps',\n",
       "  'visituse',\n",
       "  'always',\n",
       "  'draining',\n",
       "  'battery',\n",
       "  'also',\n",
       "  'actively',\n",
       "  'remove',\n",
       "  'sleep',\n",
       "  'deep',\n",
       "  'sleep',\n",
       "  'apps',\n",
       "  'list',\n",
       "  'always',\n",
       "  'keep',\n",
       "  'running',\n",
       "  'background',\n",
       "  'even',\n",
       "  'permission',\n",
       "  'change',\n",
       "  'system',\n",
       "  'setting',\n",
       "  'revoked',\n",
       "  'make',\n",
       "  'malware',\n",
       "  'also',\n",
       "  'engage',\n",
       "  'highly',\n",
       "  'unamerican',\n",
       "  'censorship',\n",
       "  'different',\n",
       "  'political',\n",
       "  'group',\n",
       "  'across',\n",
       "  'spectrum',\n",
       "  'allowing',\n",
       "  'groomers',\n",
       "  'welcome',\n",
       "  'access',\n",
       "  'minor'],\n",
       " ['facebook', 'useless', 'app', 'also', 'ganja', 'also', 'biri', '😍'],\n",
       " ['nice'],\n",
       " ['add'],\n",
       " ['absolutely',\n",
       "  'freedom',\n",
       "  'speech',\n",
       "  'say',\n",
       "  'allow',\n",
       "  'ban',\n",
       "  'shadow',\n",
       "  'ban',\n",
       "  'restriction',\n",
       "  'kind',\n",
       "  'freedom',\n",
       "  'control',\n",
       "  'worst',\n",
       "  'availabe',\n",
       "  'social',\n",
       "  'medium',\n",
       "  'platform',\n",
       "  'market'],\n",
       " ['condemn', 'object', 'facebooks', 'support', 'zionist'],\n",
       " ['good', 'see'],\n",
       " ['cannot', 'play', 'reel'],\n",
       " ['app', 'give', 'headache😒'],\n",
       " ['beacause', 'bias', 'israel'],\n",
       " ['enough', 'update', '😤😤'],\n",
       " ['meta', 'lobbying', 'government', 'destroy', 'free', 'speech'],\n",
       " ['four', 'star'],\n",
       " ['pari'],\n",
       " ['كده'],\n",
       " ['missed', 'professional', 'mode', 'missing'],\n",
       " ['app', 'really', 'nice', '👍'],\n",
       " ['😔☺️☺️'],\n",
       " ['follow', 'facebook'],\n",
       " ...]"
      ]
     },
     "execution_count": 280,
     "metadata": {},
     "output_type": "execute_result"
    }
   ],
   "source": [
    "stop = set(stopwords.words('english'))\n",
    "exclude = set(string.punctuation)\n",
    "lemma = WordNetLemmatizer()\n",
    "\n",
    "def clean(doc):\n",
    "    stop_free = \" \".join([i for i in doc.lower().split() if i not in stop])\n",
    "    punc_free = ''.join(ch for ch in stop_free if ch not in exclude)\n",
    "    normalized = \" \".join(lemma.lemmatize(word) for word in punc_free.split())\n",
    "    return normalized\n",
    "\n",
    "doc_clean = [clean(doc).split() for doc in df_sample['review_text']]\n",
    "doc_clean"
   ]
  },
  {
   "cell_type": "markdown",
   "metadata": {},
   "source": [
    "#### Vectorize text data and assign Topics"
   ]
  },
  {
   "cell_type": "code",
   "execution_count": 288,
   "metadata": {},
   "outputs": [
    {
     "data": {
      "text/plain": [
       "0        0\n",
       "1        1\n",
       "2        0\n",
       "3        0\n",
       "4        3\n",
       "        ..\n",
       "49995    2\n",
       "49996    2\n",
       "49997    2\n",
       "49998    0\n",
       "49999    1\n",
       "Name: Topic, Length: 50000, dtype: int64"
      ]
     },
     "execution_count": 288,
     "metadata": {},
     "output_type": "execute_result"
    }
   ],
   "source": [
    "# Vectorization\n",
    "vectorizer = CountVectorizer(max_df=0.95, min_df=5)\n",
    "X = vectorizer.fit_transform([' '.join(doc) for doc in doc_clean])\n",
    "\n",
    "# LDA Model Training\n",
    "lda_model = LatentDirichletAllocation(n_components=4, random_state=0)\n",
    "lda_model.fit(X)\n",
    "\n",
    "# Assigning Topics\n",
    "topic_results = lda_model.transform(X)\n",
    "df_sample['Topic'] = topic_results.argmax(axis=1)\n",
    "df_sample['Topic']"
   ]
  },
  {
   "cell_type": "code",
   "execution_count": 289,
   "metadata": {},
   "outputs": [
    {
     "name": "stdout",
     "output_type": "stream",
     "text": [
      "0                 Nabil Haider 5k follower please\n",
      "2                                   Excillent App\n",
      "3        face book don't let me share my opinions\n",
      "5                              8u zxc3,reuyh y, N\n",
      "10                 Gone to poop. Tictoc is better\n",
      "                           ...                   \n",
      "49987                                    Nice app\n",
      "49988                          Entertainment Savy\n",
      "49990                                   Muito bom\n",
      "49994                                        Good\n",
      "49998                                        Good\n",
      "Name: review_text, Length: 21733, dtype: object\n"
     ]
    }
   ],
   "source": [
    "print(df_sample[df_sample['Topic'] == 0]['review_text'])"
   ]
  },
  {
   "cell_type": "markdown",
   "metadata": {},
   "source": [
    "#### Split into Test and Training Set"
   ]
  },
  {
   "cell_type": "code",
   "execution_count": 290,
   "metadata": {},
   "outputs": [
    {
     "data": {
      "text/plain": [
       "((40000, 3680), (10000, 3680), (40000,), (10000,))"
      ]
     },
     "execution_count": 290,
     "metadata": {},
     "output_type": "execute_result"
    }
   ],
   "source": [
    "y = df_sample['Topic']\n",
    "\n",
    "# Train/Test Split\n",
    "X_train, X_test, y_train, y_test = train_test_split(X, y, test_size=0.2, random_state=42)\n",
    "\n",
    "X_train.shape, X_test.shape, y_train.shape, y_test.shape"
   ]
  },
  {
   "cell_type": "markdown",
   "metadata": {},
   "source": [
    "### Model Evaluation"
   ]
  },
  {
   "cell_type": "code",
   "execution_count": 291,
   "metadata": {},
   "outputs": [
    {
     "name": "stdout",
     "output_type": "stream",
     "text": [
      "              precision    recall  f1-score   support\n",
      "\n",
      "           0       0.94      0.97      0.95      4370\n",
      "           1       0.94      0.89      0.91      1666\n",
      "           2       0.98      0.96      0.97      1805\n",
      "           3       0.94      0.92      0.93      2159\n",
      "\n",
      "    accuracy                           0.94     10000\n",
      "   macro avg       0.95      0.93      0.94     10000\n",
      "weighted avg       0.94      0.94      0.94     10000\n",
      "\n"
     ]
    }
   ],
   "source": [
    "model = MultinomialNB()\n",
    "model.fit(X_train, y_train)\n",
    "\n",
    "y_pred = model.predict(X_test)\n",
    "print(classification_report(y_test, y_pred))"
   ]
  },
  {
   "cell_type": "markdown",
   "metadata": {},
   "source": [
    "## Data Visualisation Part 2\n",
    "\n",
    "Create date feature for df_sample data frame"
   ]
  },
  {
   "cell_type": "code",
   "execution_count": 285,
   "metadata": {},
   "outputs": [
    {
     "data": {
      "text/html": [
       "<div>\n",
       "<style scoped>\n",
       "    .dataframe tbody tr th:only-of-type {\n",
       "        vertical-align: middle;\n",
       "    }\n",
       "\n",
       "    .dataframe tbody tr th {\n",
       "        vertical-align: top;\n",
       "    }\n",
       "\n",
       "    .dataframe thead th {\n",
       "        text-align: right;\n",
       "    }\n",
       "</style>\n",
       "<table border=\"1\" class=\"dataframe\">\n",
       "  <thead>\n",
       "    <tr style=\"text-align: right;\">\n",
       "      <th></th>\n",
       "      <th>review_id</th>\n",
       "      <th>pseudo_author_id</th>\n",
       "      <th>author_name</th>\n",
       "      <th>review_text</th>\n",
       "      <th>review_rating</th>\n",
       "      <th>review_likes</th>\n",
       "      <th>author_app_version</th>\n",
       "      <th>review_timestamp</th>\n",
       "      <th>Year</th>\n",
       "      <th>year</th>\n",
       "      <th>Topic</th>\n",
       "      <th>date</th>\n",
       "    </tr>\n",
       "  </thead>\n",
       "  <tbody>\n",
       "    <tr>\n",
       "      <th>0</th>\n",
       "      <td>5e2133a2-340c-42a3-8233-6c670354e9d1</td>\n",
       "      <td>270161967632645539966</td>\n",
       "      <td>sa******bd</td>\n",
       "      <td>Nabil Haider 5k follower please</td>\n",
       "      <td>5</td>\n",
       "      <td>0</td>\n",
       "      <td>417.0.0.33.65</td>\n",
       "      <td>2023-06-10 23:34:22</td>\n",
       "      <td>2023</td>\n",
       "      <td>2023</td>\n",
       "      <td>0</td>\n",
       "      <td>2023-06-10</td>\n",
       "    </tr>\n",
       "    <tr>\n",
       "      <th>1</th>\n",
       "      <td>7fc087f6-df8a-479f-9da0-f247f41d5a47</td>\n",
       "      <td>177655881469465946041</td>\n",
       "      <td>Sk********ry</td>\n",
       "      <td>It is very important for yourself</td>\n",
       "      <td>5</td>\n",
       "      <td>0</td>\n",
       "      <td>396.1.0.28.104</td>\n",
       "      <td>2023-01-01 22:28:15</td>\n",
       "      <td>2023</td>\n",
       "      <td>2023</td>\n",
       "      <td>0</td>\n",
       "      <td>2023-01-01</td>\n",
       "    </tr>\n",
       "    <tr>\n",
       "      <th>2</th>\n",
       "      <td>86102fb9-e2d7-4817-baf1-3da28e32f00c</td>\n",
       "      <td>286635446193937429108</td>\n",
       "      <td>Ma***********in</td>\n",
       "      <td>Excillent App</td>\n",
       "      <td>5</td>\n",
       "      <td>0</td>\n",
       "      <td>414.0.0.30.113</td>\n",
       "      <td>2023-05-13 05:20:43</td>\n",
       "      <td>2023</td>\n",
       "      <td>2023</td>\n",
       "      <td>0</td>\n",
       "      <td>2023-05-13</td>\n",
       "    </tr>\n",
       "    <tr>\n",
       "      <th>3</th>\n",
       "      <td>2fa601b0-2d7f-45bb-8b84-a878adbe044c</td>\n",
       "      <td>314362603893424499660</td>\n",
       "      <td>As********ri</td>\n",
       "      <td>face book don't let me share my opinions</td>\n",
       "      <td>1</td>\n",
       "      <td>1</td>\n",
       "      <td>436.0.0.35.101</td>\n",
       "      <td>2023-10-30 00:41:31</td>\n",
       "      <td>2023</td>\n",
       "      <td>2023</td>\n",
       "      <td>0</td>\n",
       "      <td>2023-10-30</td>\n",
       "    </tr>\n",
       "    <tr>\n",
       "      <th>4</th>\n",
       "      <td>916864ed-9053-4585-a3fb-4add770fffd9</td>\n",
       "      <td>269815818439516019658</td>\n",
       "      <td>Na******li</td>\n",
       "      <td>NadeemAli</td>\n",
       "      <td>5</td>\n",
       "      <td>0</td>\n",
       "      <td>194.0.0.42.99</td>\n",
       "      <td>2023-02-03 21:38:14</td>\n",
       "      <td>2023</td>\n",
       "      <td>2023</td>\n",
       "      <td>0</td>\n",
       "      <td>2023-02-03</td>\n",
       "    </tr>\n",
       "    <tr>\n",
       "      <th>...</th>\n",
       "      <td>...</td>\n",
       "      <td>...</td>\n",
       "      <td>...</td>\n",
       "      <td>...</td>\n",
       "      <td>...</td>\n",
       "      <td>...</td>\n",
       "      <td>...</td>\n",
       "      <td>...</td>\n",
       "      <td>...</td>\n",
       "      <td>...</td>\n",
       "      <td>...</td>\n",
       "      <td>...</td>\n",
       "    </tr>\n",
       "    <tr>\n",
       "      <th>49995</th>\n",
       "      <td>f8365279-3e07-4d76-b01e-ca885943ee4b</td>\n",
       "      <td>313499606821167085267</td>\n",
       "      <td>Jo*****ck</td>\n",
       "      <td>Very useful</td>\n",
       "      <td>5</td>\n",
       "      <td>0</td>\n",
       "      <td>386.0.0.35.108</td>\n",
       "      <td>2023-01-09 19:13:02</td>\n",
       "      <td>2023</td>\n",
       "      <td>2023</td>\n",
       "      <td>4</td>\n",
       "      <td>2023-01-09</td>\n",
       "    </tr>\n",
       "    <tr>\n",
       "      <th>49996</th>\n",
       "      <td>9109049a-93fc-476c-9f98-69797a7fa8ad</td>\n",
       "      <td>179106145525060996606</td>\n",
       "      <td>Mu***********al</td>\n",
       "      <td>nice app</td>\n",
       "      <td>5</td>\n",
       "      <td>0</td>\n",
       "      <td>398.0.0.21.105</td>\n",
       "      <td>2023-04-04 15:59:23</td>\n",
       "      <td>2023</td>\n",
       "      <td>2023</td>\n",
       "      <td>4</td>\n",
       "      <td>2023-04-04</td>\n",
       "    </tr>\n",
       "    <tr>\n",
       "      <th>49997</th>\n",
       "      <td>3ebd553e-f737-4c24-a970-3ce065b22bed</td>\n",
       "      <td>271184173395480047732</td>\n",
       "      <td>xa**** e</td>\n",
       "      <td>Good</td>\n",
       "      <td>5</td>\n",
       "      <td>0</td>\n",
       "      <td>332.0.0.23.111</td>\n",
       "      <td>2023-04-10 21:29:23</td>\n",
       "      <td>2023</td>\n",
       "      <td>2023</td>\n",
       "      <td>4</td>\n",
       "      <td>2023-04-10</td>\n",
       "    </tr>\n",
       "    <tr>\n",
       "      <th>49998</th>\n",
       "      <td>9fd4488d-98c4-4710-8012-f93fad96b53f</td>\n",
       "      <td>138780667629969574508</td>\n",
       "      <td>সু***াল</td>\n",
       "      <td>Good</td>\n",
       "      <td>5</td>\n",
       "      <td>0</td>\n",
       "      <td>409.0.0.27.106</td>\n",
       "      <td>2023-04-12 02:03:00</td>\n",
       "      <td>2023</td>\n",
       "      <td>2023</td>\n",
       "      <td>4</td>\n",
       "      <td>2023-04-12</td>\n",
       "    </tr>\n",
       "    <tr>\n",
       "      <th>49999</th>\n",
       "      <td>c9db59fc-6518-49fb-a6b2-f5d5c58fdd53</td>\n",
       "      <td>207930882259674620084</td>\n",
       "      <td>Ma******ai</td>\n",
       "      <td>Tyybh hi ht it uuuiu7yo. Ll</td>\n",
       "      <td>2</td>\n",
       "      <td>0</td>\n",
       "      <td>332.0.0.23.111</td>\n",
       "      <td>2023-01-14 13:52:05</td>\n",
       "      <td>2023</td>\n",
       "      <td>2023</td>\n",
       "      <td>4</td>\n",
       "      <td>2023-01-14</td>\n",
       "    </tr>\n",
       "  </tbody>\n",
       "</table>\n",
       "<p>50000 rows × 12 columns</p>\n",
       "</div>"
      ],
      "text/plain": [
       "                                  review_id       pseudo_author_id  \\\n",
       "0      5e2133a2-340c-42a3-8233-6c670354e9d1  270161967632645539966   \n",
       "1      7fc087f6-df8a-479f-9da0-f247f41d5a47  177655881469465946041   \n",
       "2      86102fb9-e2d7-4817-baf1-3da28e32f00c  286635446193937429108   \n",
       "3      2fa601b0-2d7f-45bb-8b84-a878adbe044c  314362603893424499660   \n",
       "4      916864ed-9053-4585-a3fb-4add770fffd9  269815818439516019658   \n",
       "...                                     ...                    ...   \n",
       "49995  f8365279-3e07-4d76-b01e-ca885943ee4b  313499606821167085267   \n",
       "49996  9109049a-93fc-476c-9f98-69797a7fa8ad  179106145525060996606   \n",
       "49997  3ebd553e-f737-4c24-a970-3ce065b22bed  271184173395480047732   \n",
       "49998  9fd4488d-98c4-4710-8012-f93fad96b53f  138780667629969574508   \n",
       "49999  c9db59fc-6518-49fb-a6b2-f5d5c58fdd53  207930882259674620084   \n",
       "\n",
       "           author_name                               review_text  \\\n",
       "0           sa******bd           Nabil Haider 5k follower please   \n",
       "1         Sk********ry         It is very important for yourself   \n",
       "2      Ma***********in                             Excillent App   \n",
       "3         As********ri  face book don't let me share my opinions   \n",
       "4           Na******li                                 NadeemAli   \n",
       "...                ...                                       ...   \n",
       "49995        Jo*****ck                               Very useful   \n",
       "49996  Mu***********al                                  nice app   \n",
       "49997         xa**** e                                      Good   \n",
       "49998          সু***াল                                      Good   \n",
       "49999       Ma******ai               Tyybh hi ht it uuuiu7yo. Ll   \n",
       "\n",
       "       review_rating  review_likes author_app_version    review_timestamp  \\\n",
       "0                  5             0      417.0.0.33.65 2023-06-10 23:34:22   \n",
       "1                  5             0     396.1.0.28.104 2023-01-01 22:28:15   \n",
       "2                  5             0     414.0.0.30.113 2023-05-13 05:20:43   \n",
       "3                  1             1     436.0.0.35.101 2023-10-30 00:41:31   \n",
       "4                  5             0      194.0.0.42.99 2023-02-03 21:38:14   \n",
       "...              ...           ...                ...                 ...   \n",
       "49995              5             0     386.0.0.35.108 2023-01-09 19:13:02   \n",
       "49996              5             0     398.0.0.21.105 2023-04-04 15:59:23   \n",
       "49997              5             0     332.0.0.23.111 2023-04-10 21:29:23   \n",
       "49998              5             0     409.0.0.27.106 2023-04-12 02:03:00   \n",
       "49999              2             0     332.0.0.23.111 2023-01-14 13:52:05   \n",
       "\n",
       "       Year  year  Topic       date  \n",
       "0      2023  2023      0 2023-06-10  \n",
       "1      2023  2023      0 2023-01-01  \n",
       "2      2023  2023      0 2023-05-13  \n",
       "3      2023  2023      0 2023-10-30  \n",
       "4      2023  2023      0 2023-02-03  \n",
       "...     ...   ...    ...        ...  \n",
       "49995  2023  2023      4 2023-01-09  \n",
       "49996  2023  2023      4 2023-04-04  \n",
       "49997  2023  2023      4 2023-04-10  \n",
       "49998  2023  2023      4 2023-04-12  \n",
       "49999  2023  2023      4 2023-01-14  \n",
       "\n",
       "[50000 rows x 12 columns]"
      ]
     },
     "execution_count": 285,
     "metadata": {},
     "output_type": "execute_result"
    }
   ],
   "source": [
    "df_sample = df_sample.sort_values(by='Topic', ascending=True).reset_index(drop=True)\n",
    "df_sample['date']= df_sample['review_timestamp'].dt.date\n",
    "df_sample['date'] = pd.to_datetime(df_sample['date'])\n",
    "df_sample"
   ]
  },
  {
   "cell_type": "markdown",
   "metadata": {},
   "source": [
    "#### Plot count of Documents per Topic"
   ]
  },
  {
   "cell_type": "code",
   "execution_count": 292,
   "metadata": {},
   "outputs": [
    {
     "data": {
      "image/png": "[encoded data removed]",
      "text/plain": [
       "<Figure size 640x480 with 1 Axes>"
      ]
     },
     "metadata": {},
     "output_type": "display_data"
    }
   ],
   "source": [
    "topic_counts = df_sample['Topic'].value_counts()\n",
    "# Create a bar plot\n",
    "topic_counts.plot(kind='bar')\n",
    "\n",
    "# Show the plot\n",
    "plt.show()"
   ]
  },
  {
   "cell_type": "markdown",
   "metadata": {},
   "source": [
    "## Interactive Dashboard"
   ]
  },
  {
   "cell_type": "code",
   "execution_count": 252,
   "metadata": {},
   "outputs": [],
   "source": [
    "#!pip install panel\n",
    "#pip install hvplot\n",
    "#pip install jupyter_bokeh"
   ]
  },
  {
   "cell_type": "code",
   "execution_count": null,
   "metadata": {},
   "outputs": [
    {
     "name": "stdout",
     "output_type": "stream",
     "text": [
      "Launching server at http://localhost:58142\n"
     ]
    },
    {
     "data": {
      "text/plain": [
       "<panel.io.server.Server at 0x1c3fac710>"
      ]
     },
     "execution_count": 315,
     "metadata": {},
     "output_type": "execute_result"
    },
    {
     "name": "stdout",
     "output_type": "stream",
     "text": [
      "2023-11-26 23:28:40,186 ERROR: panel.reactive - Callback failed for object named \"Topic\" changing property {'value': 3} \n",
      "Traceback (most recent call last):\n",
      "  File \"/Users/johannes/opt/anaconda3/envs/new_environment/lib/python3.11/site-packages/panel/viewable.py\", line 596, in _preprocess\n",
      "    hook(self, root, changed, old_models)\n",
      "TypeError: link_axes() takes 2 positional arguments but 4 were given\n",
      "\n",
      "During handling of the above exception, another exception occurred:\n",
      "\n",
      "Traceback (most recent call last):\n",
      "  File \"/Users/johannes/opt/anaconda3/envs/new_environment/lib/python3.11/site-packages/panel/reactive.py\", line 385, in _process_events\n",
      "    self.param.update(**self_events)\n",
      "  File \"/Users/johannes/opt/anaconda3/envs/new_environment/lib/python3.11/site-packages/param/parameterized.py\", line 2282, in update\n",
      "    restore = self_._update(*args, **kwargs)\n",
      "              ^^^^^^^^^^^^^^^^^^^^^^^^^^^^^^\n",
      "  File \"/Users/johannes/opt/anaconda3/envs/new_environment/lib/python3.11/site-packages/param/parameterized.py\", line 2322, in _update\n",
      "    self_._batch_call_watchers()\n",
      "  File \"/Users/johannes/opt/anaconda3/envs/new_environment/lib/python3.11/site-packages/param/parameterized.py\", line 2506, in _batch_call_watchers\n",
      "    self_._execute_watcher(watcher, events)\n",
      "  File \"/Users/johannes/opt/anaconda3/envs/new_environment/lib/python3.11/site-packages/param/parameterized.py\", line 2468, in _execute_watcher\n",
      "    watcher.fn(*args, **kwargs)\n",
      "  File \"/Users/johannes/opt/anaconda3/envs/new_environment/lib/python3.11/site-packages/panel/param.py\", line 880, in _replace_pane\n",
      "    self._update_inner(new_object)\n",
      "  File \"/Users/johannes/opt/anaconda3/envs/new_environment/lib/python3.11/site-packages/panel/pane/base.py\", line 704, in _update_inner\n",
      "    new_pane, internal = self._update_from_object(\n",
      "                         ^^^^^^^^^^^^^^^^^^^^^^^^^\n",
      "  File \"/Users/johannes/opt/anaconda3/envs/new_environment/lib/python3.11/site-packages/panel/pane/base.py\", line 678, in _update_from_object\n",
      "    cls._recursive_update(old, new)\n",
      "  File \"/Users/johannes/opt/anaconda3/envs/new_environment/lib/python3.11/site-packages/panel/pane/base.py\", line 619, in _recursive_update\n",
      "    cls._recursive_update(sub_old, sub_new)\n",
      "  File \"/Users/johannes/opt/anaconda3/envs/new_environment/lib/python3.11/site-packages/panel/pane/base.py\", line 644, in _recursive_update\n",
      "    old.param.update(**new_params)\n",
      "  File \"/Users/johannes/opt/anaconda3/envs/new_environment/lib/python3.11/site-packages/param/parameterized.py\", line 2282, in update\n",
      "    restore = self_._update(*args, **kwargs)\n",
      "              ^^^^^^^^^^^^^^^^^^^^^^^^^^^^^^\n",
      "  File \"/Users/johannes/opt/anaconda3/envs/new_environment/lib/python3.11/site-packages/param/parameterized.py\", line 2322, in _update\n",
      "    self_._batch_call_watchers()\n",
      "  File \"/Users/johannes/opt/anaconda3/envs/new_environment/lib/python3.11/site-packages/param/parameterized.py\", line 2506, in _batch_call_watchers\n",
      "    self_._execute_watcher(watcher, events)\n",
      "  File \"/Users/johannes/opt/anaconda3/envs/new_environment/lib/python3.11/site-packages/param/parameterized.py\", line 2468, in _execute_watcher\n",
      "    watcher.fn(*args, **kwargs)\n",
      "  File \"/Users/johannes/opt/anaconda3/envs/new_environment/lib/python3.11/site-packages/panel/pane/base.py\", line 324, in _update_pane\n",
      "    self._update_object(ref, doc, root, parent, comm)\n",
      "  File \"/Users/johannes/opt/anaconda3/envs/new_environment/lib/python3.11/site-packages/panel/pane/base.py\", line 315, in _update_object\n",
      "    state._views[ref][0]._preprocess(root)\n",
      "  File \"/Users/johannes/opt/anaconda3/envs/new_environment/lib/python3.11/site-packages/panel/viewable.py\", line 598, in _preprocess\n",
      "    hook(self, root)\n",
      "  File \"/Users/johannes/opt/anaconda3/envs/new_environment/lib/python3.11/site-packages/panel/pane/holoviews.py\", line 869, in link_axes\n",
      "    if axis.start > axis.end:\n",
      "       ^^^^^^^^^^^^^^^^^^^^^\n",
      "TypeError: The DType <class 'numpy.dtype[datetime64]'> could not be promoted by <class 'numpy.dtype[float64]'>. This means that no common DType exists for the given inputs. For example they cannot be stored in a single array unless the dtype is `object`. The full list of DTypes is: (<class 'numpy.dtype[datetime64]'>, <class 'numpy.dtype[float64]'>)\n"
     ]
    },
    {
     "name": "stderr",
     "output_type": "stream",
     "text": [
      "ERROR:tornado.application:Exception in callback functools.partial(<bound method IOLoop._discard_future_result of <tornado.platform.asyncio.AsyncIOMainLoop object at 0x10494ec10>>, <Task finished name='Task-391645' coro=<ServerSession.with_document_locked() done, defined at /Users/johannes/opt/anaconda3/envs/new_environment/lib/python3.11/site-packages/bokeh/server/session.py:77> exception=TypeError(\"The DType <class 'numpy.dtype[datetime64]'> could not be promoted by <class 'numpy.dtype[float64]'>. This means that no common DType exists for the given inputs. For example they cannot be stored in a single array unless the dtype is `object`. The full list of DTypes is: (<class 'numpy.dtype[datetime64]'>, <class 'numpy.dtype[float64]'>)\")>)\n",
      "Traceback (most recent call last):\n",
      "  File \"/Users/johannes/opt/anaconda3/envs/new_environment/lib/python3.11/site-packages/panel/viewable.py\", line 596, in _preprocess\n",
      "    hook(self, root, changed, old_models)\n",
      "TypeError: link_axes() takes 2 positional arguments but 4 were given\n",
      "\n",
      "During handling of the above exception, another exception occurred:\n",
      "\n",
      "Traceback (most recent call last):\n",
      "  File \"/Users/johannes/opt/anaconda3/envs/new_environment/lib/python3.11/site-packages/tornado/ioloop.py\", line 738, in _run_callback\n",
      "    ret = callback()\n",
      "          ^^^^^^^^^^\n",
      "  File \"/Users/johannes/opt/anaconda3/envs/new_environment/lib/python3.11/site-packages/tornado/ioloop.py\", line 762, in _discard_future_result\n",
      "    future.result()\n",
      "  File \"/Users/johannes/opt/anaconda3/envs/new_environment/lib/python3.11/site-packages/bokeh/server/session.py\", line 98, in _needs_document_lock_wrapper\n",
      "    result = await result\n",
      "             ^^^^^^^^^^^^\n",
      "  File \"/Users/johannes/opt/anaconda3/envs/new_environment/lib/python3.11/site-packages/panel/reactive.py\", line 431, in _change_coroutine\n",
      "    state._handle_exception(e)\n",
      "  File \"/Users/johannes/opt/anaconda3/envs/new_environment/lib/python3.11/site-packages/panel/io/state.py\", line 440, in _handle_exception\n",
      "    raise exception\n",
      "  File \"/Users/johannes/opt/anaconda3/envs/new_environment/lib/python3.11/site-packages/panel/reactive.py\", line 429, in _change_coroutine\n",
      "    self._change_event(doc)\n",
      "  File \"/Users/johannes/opt/anaconda3/envs/new_environment/lib/python3.11/site-packages/panel/reactive.py\", line 447, in _change_event\n",
      "    self._process_events(events)\n",
      "  File \"/Users/johannes/opt/anaconda3/envs/new_environment/lib/python3.11/site-packages/panel/reactive.py\", line 385, in _process_events\n",
      "    self.param.update(**self_events)\n",
      "  File \"/Users/johannes/opt/anaconda3/envs/new_environment/lib/python3.11/site-packages/param/parameterized.py\", line 2282, in update\n",
      "    restore = self_._update(*args, **kwargs)\n",
      "              ^^^^^^^^^^^^^^^^^^^^^^^^^^^^^^\n",
      "  File \"/Users/johannes/opt/anaconda3/envs/new_environment/lib/python3.11/site-packages/param/parameterized.py\", line 2322, in _update\n",
      "    self_._batch_call_watchers()\n",
      "  File \"/Users/johannes/opt/anaconda3/envs/new_environment/lib/python3.11/site-packages/param/parameterized.py\", line 2506, in _batch_call_watchers\n",
      "    self_._execute_watcher(watcher, events)\n",
      "  File \"/Users/johannes/opt/anaconda3/envs/new_environment/lib/python3.11/site-packages/param/parameterized.py\", line 2468, in _execute_watcher\n",
      "    watcher.fn(*args, **kwargs)\n",
      "  File \"/Users/johannes/opt/anaconda3/envs/new_environment/lib/python3.11/site-packages/panel/param.py\", line 880, in _replace_pane\n",
      "    self._update_inner(new_object)\n",
      "  File \"/Users/johannes/opt/anaconda3/envs/new_environment/lib/python3.11/site-packages/panel/pane/base.py\", line 704, in _update_inner\n",
      "    new_pane, internal = self._update_from_object(\n",
      "                         ^^^^^^^^^^^^^^^^^^^^^^^^^\n",
      "  File \"/Users/johannes/opt/anaconda3/envs/new_environment/lib/python3.11/site-packages/panel/pane/base.py\", line 678, in _update_from_object\n",
      "    cls._recursive_update(old, new)\n",
      "  File \"/Users/johannes/opt/anaconda3/envs/new_environment/lib/python3.11/site-packages/panel/pane/base.py\", line 619, in _recursive_update\n",
      "    cls._recursive_update(sub_old, sub_new)\n",
      "  File \"/Users/johannes/opt/anaconda3/envs/new_environment/lib/python3.11/site-packages/panel/pane/base.py\", line 644, in _recursive_update\n",
      "    old.param.update(**new_params)\n",
      "  File \"/Users/johannes/opt/anaconda3/envs/new_environment/lib/python3.11/site-packages/param/parameterized.py\", line 2282, in update\n",
      "    restore = self_._update(*args, **kwargs)\n",
      "              ^^^^^^^^^^^^^^^^^^^^^^^^^^^^^^\n",
      "  File \"/Users/johannes/opt/anaconda3/envs/new_environment/lib/python3.11/site-packages/param/parameterized.py\", line 2322, in _update\n",
      "    self_._batch_call_watchers()\n",
      "  File \"/Users/johannes/opt/anaconda3/envs/new_environment/lib/python3.11/site-packages/param/parameterized.py\", line 2506, in _batch_call_watchers\n",
      "    self_._execute_watcher(watcher, events)\n",
      "  File \"/Users/johannes/opt/anaconda3/envs/new_environment/lib/python3.11/site-packages/param/parameterized.py\", line 2468, in _execute_watcher\n",
      "    watcher.fn(*args, **kwargs)\n",
      "  File \"/Users/johannes/opt/anaconda3/envs/new_environment/lib/python3.11/site-packages/panel/pane/base.py\", line 324, in _update_pane\n",
      "    self._update_object(ref, doc, root, parent, comm)\n",
      "  File \"/Users/johannes/opt/anaconda3/envs/new_environment/lib/python3.11/site-packages/panel/pane/base.py\", line 315, in _update_object\n",
      "    state._views[ref][0]._preprocess(root)\n",
      "  File \"/Users/johannes/opt/anaconda3/envs/new_environment/lib/python3.11/site-packages/panel/viewable.py\", line 598, in _preprocess\n",
      "    hook(self, root)\n",
      "  File \"/Users/johannes/opt/anaconda3/envs/new_environment/lib/python3.11/site-packages/panel/pane/holoviews.py\", line 869, in link_axes\n",
      "    if axis.start > axis.end:\n",
      "       ^^^^^^^^^^^^^^^^^^^^^\n",
      "TypeError: The DType <class 'numpy.dtype[datetime64]'> could not be promoted by <class 'numpy.dtype[float64]'>. This means that no common DType exists for the given inputs. For example they cannot be stored in a single array unless the dtype is `object`. The full list of DTypes is: (<class 'numpy.dtype[datetime64]'>, <class 'numpy.dtype[float64]'>)\n",
      "ERROR:tornado.application:Exception in callback functools.partial(<bound method IOLoop._discard_future_result of <tornado.platform.asyncio.AsyncIOMainLoop object at 0x10494ec10>>, <Task finished name='Task-391645' coro=<ServerSession.with_document_locked() done, defined at /Users/johannes/opt/anaconda3/envs/new_environment/lib/python3.11/site-packages/bokeh/server/session.py:77> exception=TypeError(\"The DType <class 'numpy.dtype[datetime64]'> could not be promoted by <class 'numpy.dtype[float64]'>. This means that no common DType exists for the given inputs. For example they cannot be stored in a single array unless the dtype is `object`. The full list of DTypes is: (<class 'numpy.dtype[datetime64]'>, <class 'numpy.dtype[float64]'>)\")>)\n",
      "Traceback (most recent call last):\n",
      "  File \"/Users/johannes/opt/anaconda3/envs/new_environment/lib/python3.11/site-packages/panel/viewable.py\", line 596, in _preprocess\n",
      "    hook(self, root, changed, old_models)\n",
      "TypeError: link_axes() takes 2 positional arguments but 4 were given\n",
      "\n",
      "During handling of the above exception, another exception occurred:\n",
      "\n",
      "Traceback (most recent call last):\n",
      "  File \"/Users/johannes/opt/anaconda3/envs/new_environment/lib/python3.11/site-packages/tornado/ioloop.py\", line 738, in _run_callback\n",
      "    ret = callback()\n",
      "          ^^^^^^^^^^\n",
      "  File \"/Users/johannes/opt/anaconda3/envs/new_environment/lib/python3.11/site-packages/tornado/ioloop.py\", line 762, in _discard_future_result\n",
      "    future.result()\n",
      "  File \"/Users/johannes/opt/anaconda3/envs/new_environment/lib/python3.11/site-packages/bokeh/server/session.py\", line 98, in _needs_document_lock_wrapper\n",
      "    result = await result\n",
      "             ^^^^^^^^^^^^\n",
      "  File \"/Users/johannes/opt/anaconda3/envs/new_environment/lib/python3.11/site-packages/panel/reactive.py\", line 431, in _change_coroutine\n",
      "    state._handle_exception(e)\n",
      "  File \"/Users/johannes/opt/anaconda3/envs/new_environment/lib/python3.11/site-packages/panel/io/state.py\", line 440, in _handle_exception\n",
      "    raise exception\n",
      "  File \"/Users/johannes/opt/anaconda3/envs/new_environment/lib/python3.11/site-packages/panel/reactive.py\", line 429, in _change_coroutine\n",
      "    self._change_event(doc)\n",
      "  File \"/Users/johannes/opt/anaconda3/envs/new_environment/lib/python3.11/site-packages/panel/reactive.py\", line 447, in _change_event\n",
      "    self._process_events(events)\n",
      "  File \"/Users/johannes/opt/anaconda3/envs/new_environment/lib/python3.11/site-packages/panel/reactive.py\", line 385, in _process_events\n",
      "    self.param.update(**self_events)\n",
      "  File \"/Users/johannes/opt/anaconda3/envs/new_environment/lib/python3.11/site-packages/param/parameterized.py\", line 2282, in update\n",
      "    restore = self_._update(*args, **kwargs)\n",
      "              ^^^^^^^^^^^^^^^^^^^^^^^^^^^^^^\n",
      "  File \"/Users/johannes/opt/anaconda3/envs/new_environment/lib/python3.11/site-packages/param/parameterized.py\", line 2322, in _update\n",
      "    self_._batch_call_watchers()\n",
      "  File \"/Users/johannes/opt/anaconda3/envs/new_environment/lib/python3.11/site-packages/param/parameterized.py\", line 2506, in _batch_call_watchers\n",
      "    self_._execute_watcher(watcher, events)\n",
      "  File \"/Users/johannes/opt/anaconda3/envs/new_environment/lib/python3.11/site-packages/param/parameterized.py\", line 2468, in _execute_watcher\n",
      "    watcher.fn(*args, **kwargs)\n",
      "  File \"/Users/johannes/opt/anaconda3/envs/new_environment/lib/python3.11/site-packages/panel/param.py\", line 880, in _replace_pane\n",
      "    self._update_inner(new_object)\n",
      "  File \"/Users/johannes/opt/anaconda3/envs/new_environment/lib/python3.11/site-packages/panel/pane/base.py\", line 704, in _update_inner\n",
      "    new_pane, internal = self._update_from_object(\n",
      "                         ^^^^^^^^^^^^^^^^^^^^^^^^^\n",
      "  File \"/Users/johannes/opt/anaconda3/envs/new_environment/lib/python3.11/site-packages/panel/pane/base.py\", line 678, in _update_from_object\n",
      "    cls._recursive_update(old, new)\n",
      "  File \"/Users/johannes/opt/anaconda3/envs/new_environment/lib/python3.11/site-packages/panel/pane/base.py\", line 619, in _recursive_update\n",
      "    cls._recursive_update(sub_old, sub_new)\n",
      "  File \"/Users/johannes/opt/anaconda3/envs/new_environment/lib/python3.11/site-packages/panel/pane/base.py\", line 644, in _recursive_update\n",
      "    old.param.update(**new_params)\n",
      "  File \"/Users/johannes/opt/anaconda3/envs/new_environment/lib/python3.11/site-packages/param/parameterized.py\", line 2282, in update\n",
      "    restore = self_._update(*args, **kwargs)\n",
      "              ^^^^^^^^^^^^^^^^^^^^^^^^^^^^^^\n",
      "  File \"/Users/johannes/opt/anaconda3/envs/new_environment/lib/python3.11/site-packages/param/parameterized.py\", line 2322, in _update\n",
      "    self_._batch_call_watchers()\n",
      "  File \"/Users/johannes/opt/anaconda3/envs/new_environment/lib/python3.11/site-packages/param/parameterized.py\", line 2506, in _batch_call_watchers\n",
      "    self_._execute_watcher(watcher, events)\n",
      "  File \"/Users/johannes/opt/anaconda3/envs/new_environment/lib/python3.11/site-packages/param/parameterized.py\", line 2468, in _execute_watcher\n",
      "    watcher.fn(*args, **kwargs)\n",
      "  File \"/Users/johannes/opt/anaconda3/envs/new_environment/lib/python3.11/site-packages/panel/pane/base.py\", line 324, in _update_pane\n",
      "    self._update_object(ref, doc, root, parent, comm)\n",
      "  File \"/Users/johannes/opt/anaconda3/envs/new_environment/lib/python3.11/site-packages/panel/pane/base.py\", line 315, in _update_object\n",
      "    state._views[ref][0]._preprocess(root)\n",
      "  File \"/Users/johannes/opt/anaconda3/envs/new_environment/lib/python3.11/site-packages/panel/viewable.py\", line 598, in _preprocess\n",
      "    hook(self, root)\n",
      "  File \"/Users/johannes/opt/anaconda3/envs/new_environment/lib/python3.11/site-packages/panel/pane/holoviews.py\", line 869, in link_axes\n",
      "    if axis.start > axis.end:\n",
      "       ^^^^^^^^^^^^^^^^^^^^^\n",
      "TypeError: The DType <class 'numpy.dtype[datetime64]'> could not be promoted by <class 'numpy.dtype[float64]'>. This means that no common DType exists for the given inputs. For example they cannot be stored in a single array unless the dtype is `object`. The full list of DTypes is: (<class 'numpy.dtype[datetime64]'>, <class 'numpy.dtype[float64]'>)\n"
     ]
    }
   ],
   "source": [
    "# Define the interactive components\n",
    "topic_selector = pn.widgets.Select(name='Topic', options=list(df_sample['Topic'].unique()))\n",
    "\n",
    "# Create a function for the table\n",
    "def create_table():\n",
    "    # Create a table from the combined_df DataFrame\n",
    "    table = pn.widgets.DataFrame(combined_df)\n",
    "    return pn.Column(pn.pane.Markdown(\"# Time Series (Table)\"), pn.pane.Markdown(\"The table displays the ARIMA model's predictions for the last 10 observations (including one step into the future) against the last 10 actual observations.\"), table)\n",
    "\n",
    "# Define the plots\n",
    "@pn.depends(topic_selector.param.value)\n",
    "def plot_data(topic):\n",
    "    df_topic = df_sample[df_sample['Topic'] == topic]\n",
    "    \n",
    "    # plots related to Topic (from Text Analytics)\n",
    "    dynamic_plot1 = df_topic.hvplot.bar('review_rating', 'review_likes')\n",
    "    dynamic_plot2 = df_topic.hvplot.line('date','review_likes')\n",
    "    static_plot1 = df_sample.hvplot.box('review_likes', 'Topic') \n",
    "\n",
    "    # plots related to unique_reviews_per_day (from Time Series)\n",
    "    static_plot2 = unique_reviews_per_day.hvplot(x=\"date\", y=\"unique_reviews\")\n",
    "    static_plot3 = combined_df_plot.hvplot(x=\"date\", y=[\"unique_reviews\", \"predicted_mean\"])\n",
    "  \n",
    "    # combining the plots into a layout\n",
    "    text_analytics_plots = pn.Column(pn.pane.Markdown(\"# Text Analytics\"), pn.pane.Markdown(\"Please us the dropdown menu to choose the topic you want to explore\"), topic_selector, pn.pane.Markdown(\"### Bar Chart (review likes by review rating)\"), dynamic_plot1,pn.pane.Markdown(\"The above plot shows the distribution of the frequency of obs between different ratings\"), pn.pane.Markdown(\"### Line Chart (review likes per day)\"), dynamic_plot2,pn.pane.Markdown(\"There is some peaks at certain timestamps depending on the Topic selected\"), pn.pane.Markdown(\"### Boxplot (review likes by topic)\"), static_plot1, pn.pane.Markdown(\"The above plot shows the distribution of the frequency of obs (likes) between different topics. Topic 0 was found to have the highest median likes among all four topics.\"))\n",
    "    time_series_plot = pn.Column(pn.pane.Markdown(\"# Time Series (Plots)\"), pn.pane.Markdown(\"The below are visualisations of the time series data used for this research project.\"),pn.pane.Markdown(\"### Line Chart (actual observations)\"), static_plot2, pn.pane.Markdown(\"### Line Chart (actual obs vs. predicted)\"), static_plot3, pn.pane.Markdown(\"The model is able to accurately predict the trend as well as the seasonality and even the noise of the time series data. Note that the model only performed so well because it was trained on the entire dataset.\"))\n",
    "    return pn.Row(text_analytics_plots, time_series_plot)\n",
    "\n",
    "# Combine the components into a layout\n",
    "dashboard = pn.Row(plot_data, create_table())\n",
    "\n",
    "dashboard.show()"
   ]
  }
 ],
 "metadata": {
  "kernelspec": {
   "display_name": "environment_2",
   "language": "python",
   "name": "python3"
  },
  "language_info": {
   "codemirror_mode": {
    "name": "ipython",
    "version": 3
   },
   "file_extension": ".py",
   "mimetype": "text/x-python",
   "name": "python",
   "nbconvert_exporter": "python",
   "pygments_lexer": "ipython3",
   "version": "3.11.5"
  }
 },
 "nbformat": 4,
 "nbformat_minor": 2
}
